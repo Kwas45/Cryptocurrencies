{
 "cells": [
  {
   "cell_type": "markdown",
   "metadata": {},
   "source": [
    "# Clustering Crypto"
   ]
  },
  {
   "cell_type": "code",
   "execution_count": 3,
   "metadata": {},
   "outputs": [],
   "source": [
    "# Initial imports\n",
    "import pandas as pd\n",
    "import hvplot.pandas\n",
    "from pathlib import Path\n",
    "import plotly.express as px\n",
    "from sklearn.preprocessing import StandardScaler, MinMaxScaler\n",
    "from sklearn.decomposition import PCA\n",
    "from sklearn.cluster import KMeans\n"
   ]
  },
  {
   "cell_type": "markdown",
   "metadata": {},
   "source": [
    "### Deliverable 1: Preprocessing the Data for PCA"
   ]
  },
  {
   "cell_type": "code",
   "execution_count": 17,
   "metadata": {},
   "outputs": [
    {
     "data": {
      "text/html": [
       "<div>\n",
       "<style scoped>\n",
       "    .dataframe tbody tr th:only-of-type {\n",
       "        vertical-align: middle;\n",
       "    }\n",
       "\n",
       "    .dataframe tbody tr th {\n",
       "        vertical-align: top;\n",
       "    }\n",
       "\n",
       "    .dataframe thead th {\n",
       "        text-align: right;\n",
       "    }\n",
       "</style>\n",
       "<table border=\"1\" class=\"dataframe\">\n",
       "  <thead>\n",
       "    <tr style=\"text-align: right;\">\n",
       "      <th></th>\n",
       "      <th>CoinName</th>\n",
       "      <th>Algorithm</th>\n",
       "      <th>IsTrading</th>\n",
       "      <th>ProofType</th>\n",
       "      <th>TotalCoinsMined</th>\n",
       "      <th>TotalCoinSupply</th>\n",
       "    </tr>\n",
       "  </thead>\n",
       "  <tbody>\n",
       "    <tr>\n",
       "      <th>42</th>\n",
       "      <td>42 Coin</td>\n",
       "      <td>Scrypt</td>\n",
       "      <td>True</td>\n",
       "      <td>PoW/PoS</td>\n",
       "      <td>4.199995e+01</td>\n",
       "      <td>42</td>\n",
       "    </tr>\n",
       "    <tr>\n",
       "      <th>365</th>\n",
       "      <td>365Coin</td>\n",
       "      <td>X11</td>\n",
       "      <td>True</td>\n",
       "      <td>PoW/PoS</td>\n",
       "      <td>NaN</td>\n",
       "      <td>2300000000</td>\n",
       "    </tr>\n",
       "    <tr>\n",
       "      <th>404</th>\n",
       "      <td>404Coin</td>\n",
       "      <td>Scrypt</td>\n",
       "      <td>True</td>\n",
       "      <td>PoW/PoS</td>\n",
       "      <td>1.055185e+09</td>\n",
       "      <td>532000000</td>\n",
       "    </tr>\n",
       "    <tr>\n",
       "      <th>611</th>\n",
       "      <td>SixEleven</td>\n",
       "      <td>SHA-256</td>\n",
       "      <td>True</td>\n",
       "      <td>PoW</td>\n",
       "      <td>NaN</td>\n",
       "      <td>611000</td>\n",
       "    </tr>\n",
       "    <tr>\n",
       "      <th>808</th>\n",
       "      <td>808</td>\n",
       "      <td>SHA-256</td>\n",
       "      <td>True</td>\n",
       "      <td>PoW/PoS</td>\n",
       "      <td>0.000000e+00</td>\n",
       "      <td>0</td>\n",
       "    </tr>\n",
       "    <tr>\n",
       "      <th>1337</th>\n",
       "      <td>EliteCoin</td>\n",
       "      <td>X13</td>\n",
       "      <td>True</td>\n",
       "      <td>PoW/PoS</td>\n",
       "      <td>2.927942e+10</td>\n",
       "      <td>314159265359</td>\n",
       "    </tr>\n",
       "    <tr>\n",
       "      <th>2015</th>\n",
       "      <td>2015 coin</td>\n",
       "      <td>X11</td>\n",
       "      <td>True</td>\n",
       "      <td>PoW/PoS</td>\n",
       "      <td>NaN</td>\n",
       "      <td>0</td>\n",
       "    </tr>\n",
       "    <tr>\n",
       "      <th>BTC</th>\n",
       "      <td>Bitcoin</td>\n",
       "      <td>SHA-256</td>\n",
       "      <td>True</td>\n",
       "      <td>PoW</td>\n",
       "      <td>1.792718e+07</td>\n",
       "      <td>21000000</td>\n",
       "    </tr>\n",
       "    <tr>\n",
       "      <th>ETH</th>\n",
       "      <td>Ethereum</td>\n",
       "      <td>Ethash</td>\n",
       "      <td>True</td>\n",
       "      <td>PoW</td>\n",
       "      <td>1.076842e+08</td>\n",
       "      <td>0</td>\n",
       "    </tr>\n",
       "    <tr>\n",
       "      <th>LTC</th>\n",
       "      <td>Litecoin</td>\n",
       "      <td>Scrypt</td>\n",
       "      <td>True</td>\n",
       "      <td>PoW</td>\n",
       "      <td>6.303924e+07</td>\n",
       "      <td>84000000</td>\n",
       "    </tr>\n",
       "  </tbody>\n",
       "</table>\n",
       "</div>"
      ],
      "text/plain": [
       "       CoinName Algorithm  IsTrading ProofType  TotalCoinsMined  \\\n",
       "42      42 Coin    Scrypt       True   PoW/PoS     4.199995e+01   \n",
       "365     365Coin       X11       True   PoW/PoS              NaN   \n",
       "404     404Coin    Scrypt       True   PoW/PoS     1.055185e+09   \n",
       "611   SixEleven   SHA-256       True       PoW              NaN   \n",
       "808         808   SHA-256       True   PoW/PoS     0.000000e+00   \n",
       "1337  EliteCoin       X13       True   PoW/PoS     2.927942e+10   \n",
       "2015  2015 coin       X11       True   PoW/PoS              NaN   \n",
       "BTC     Bitcoin   SHA-256       True       PoW     1.792718e+07   \n",
       "ETH    Ethereum    Ethash       True       PoW     1.076842e+08   \n",
       "LTC    Litecoin    Scrypt       True       PoW     6.303924e+07   \n",
       "\n",
       "     TotalCoinSupply  \n",
       "42                42  \n",
       "365       2300000000  \n",
       "404        532000000  \n",
       "611           611000  \n",
       "808                0  \n",
       "1337    314159265359  \n",
       "2015               0  \n",
       "BTC         21000000  \n",
       "ETH                0  \n",
       "LTC         84000000  "
      ]
     },
     "execution_count": 17,
     "metadata": {},
     "output_type": "execute_result"
    }
   ],
   "source": [
    "# Load the crypto_data.csv dataset.\n",
    "file_path = \"Resources/crypto_data.csv\"\n",
    "crypto_df = pd.read_csv(file_path, index_col=0)\n",
    "crypto_df.head(10)"
   ]
  },
  {
   "cell_type": "code",
   "execution_count": 18,
   "metadata": {},
   "outputs": [
    {
     "data": {
      "text/html": [
       "<div>\n",
       "<style scoped>\n",
       "    .dataframe tbody tr th:only-of-type {\n",
       "        vertical-align: middle;\n",
       "    }\n",
       "\n",
       "    .dataframe tbody tr th {\n",
       "        vertical-align: top;\n",
       "    }\n",
       "\n",
       "    .dataframe thead th {\n",
       "        text-align: right;\n",
       "    }\n",
       "</style>\n",
       "<table border=\"1\" class=\"dataframe\">\n",
       "  <thead>\n",
       "    <tr style=\"text-align: right;\">\n",
       "      <th></th>\n",
       "      <th>CoinName</th>\n",
       "      <th>Algorithm</th>\n",
       "      <th>IsTrading</th>\n",
       "      <th>ProofType</th>\n",
       "      <th>TotalCoinsMined</th>\n",
       "      <th>TotalCoinSupply</th>\n",
       "    </tr>\n",
       "  </thead>\n",
       "  <tbody>\n",
       "    <tr>\n",
       "      <th>42</th>\n",
       "      <td>42 Coin</td>\n",
       "      <td>Scrypt</td>\n",
       "      <td>True</td>\n",
       "      <td>PoW/PoS</td>\n",
       "      <td>4.199995e+01</td>\n",
       "      <td>42</td>\n",
       "    </tr>\n",
       "    <tr>\n",
       "      <th>365</th>\n",
       "      <td>365Coin</td>\n",
       "      <td>X11</td>\n",
       "      <td>True</td>\n",
       "      <td>PoW/PoS</td>\n",
       "      <td>NaN</td>\n",
       "      <td>2300000000</td>\n",
       "    </tr>\n",
       "    <tr>\n",
       "      <th>404</th>\n",
       "      <td>404Coin</td>\n",
       "      <td>Scrypt</td>\n",
       "      <td>True</td>\n",
       "      <td>PoW/PoS</td>\n",
       "      <td>1.055185e+09</td>\n",
       "      <td>532000000</td>\n",
       "    </tr>\n",
       "    <tr>\n",
       "      <th>611</th>\n",
       "      <td>SixEleven</td>\n",
       "      <td>SHA-256</td>\n",
       "      <td>True</td>\n",
       "      <td>PoW</td>\n",
       "      <td>NaN</td>\n",
       "      <td>611000</td>\n",
       "    </tr>\n",
       "    <tr>\n",
       "      <th>808</th>\n",
       "      <td>808</td>\n",
       "      <td>SHA-256</td>\n",
       "      <td>True</td>\n",
       "      <td>PoW/PoS</td>\n",
       "      <td>0.000000e+00</td>\n",
       "      <td>0</td>\n",
       "    </tr>\n",
       "    <tr>\n",
       "      <th>1337</th>\n",
       "      <td>EliteCoin</td>\n",
       "      <td>X13</td>\n",
       "      <td>True</td>\n",
       "      <td>PoW/PoS</td>\n",
       "      <td>2.927942e+10</td>\n",
       "      <td>314159265359</td>\n",
       "    </tr>\n",
       "    <tr>\n",
       "      <th>2015</th>\n",
       "      <td>2015 coin</td>\n",
       "      <td>X11</td>\n",
       "      <td>True</td>\n",
       "      <td>PoW/PoS</td>\n",
       "      <td>NaN</td>\n",
       "      <td>0</td>\n",
       "    </tr>\n",
       "    <tr>\n",
       "      <th>BTC</th>\n",
       "      <td>Bitcoin</td>\n",
       "      <td>SHA-256</td>\n",
       "      <td>True</td>\n",
       "      <td>PoW</td>\n",
       "      <td>1.792718e+07</td>\n",
       "      <td>21000000</td>\n",
       "    </tr>\n",
       "    <tr>\n",
       "      <th>ETH</th>\n",
       "      <td>Ethereum</td>\n",
       "      <td>Ethash</td>\n",
       "      <td>True</td>\n",
       "      <td>PoW</td>\n",
       "      <td>1.076842e+08</td>\n",
       "      <td>0</td>\n",
       "    </tr>\n",
       "    <tr>\n",
       "      <th>LTC</th>\n",
       "      <td>Litecoin</td>\n",
       "      <td>Scrypt</td>\n",
       "      <td>True</td>\n",
       "      <td>PoW</td>\n",
       "      <td>6.303924e+07</td>\n",
       "      <td>84000000</td>\n",
       "    </tr>\n",
       "  </tbody>\n",
       "</table>\n",
       "</div>"
      ],
      "text/plain": [
       "       CoinName Algorithm  IsTrading ProofType  TotalCoinsMined  \\\n",
       "42      42 Coin    Scrypt       True   PoW/PoS     4.199995e+01   \n",
       "365     365Coin       X11       True   PoW/PoS              NaN   \n",
       "404     404Coin    Scrypt       True   PoW/PoS     1.055185e+09   \n",
       "611   SixEleven   SHA-256       True       PoW              NaN   \n",
       "808         808   SHA-256       True   PoW/PoS     0.000000e+00   \n",
       "1337  EliteCoin       X13       True   PoW/PoS     2.927942e+10   \n",
       "2015  2015 coin       X11       True   PoW/PoS              NaN   \n",
       "BTC     Bitcoin   SHA-256       True       PoW     1.792718e+07   \n",
       "ETH    Ethereum    Ethash       True       PoW     1.076842e+08   \n",
       "LTC    Litecoin    Scrypt       True       PoW     6.303924e+07   \n",
       "\n",
       "     TotalCoinSupply  \n",
       "42                42  \n",
       "365       2300000000  \n",
       "404        532000000  \n",
       "611           611000  \n",
       "808                0  \n",
       "1337    314159265359  \n",
       "2015               0  \n",
       "BTC         21000000  \n",
       "ETH                0  \n",
       "LTC         84000000  "
      ]
     },
     "execution_count": 18,
     "metadata": {},
     "output_type": "execute_result"
    }
   ],
   "source": [
    "# Keep all the cryptocurrencies that are being traded.\n",
    "crypto_df = crypto_df[crypto_df['IsTrading'] == True]\n",
    "crypto_df.head(10)"
   ]
  },
  {
   "cell_type": "code",
   "execution_count": 51,
   "metadata": {},
   "outputs": [
    {
     "data": {
      "text/html": [
       "<div>\n",
       "<style scoped>\n",
       "    .dataframe tbody tr th:only-of-type {\n",
       "        vertical-align: middle;\n",
       "    }\n",
       "\n",
       "    .dataframe tbody tr th {\n",
       "        vertical-align: top;\n",
       "    }\n",
       "\n",
       "    .dataframe thead th {\n",
       "        text-align: right;\n",
       "    }\n",
       "</style>\n",
       "<table border=\"1\" class=\"dataframe\">\n",
       "  <thead>\n",
       "    <tr style=\"text-align: right;\">\n",
       "      <th></th>\n",
       "      <th>Algorithm</th>\n",
       "      <th>ProofType</th>\n",
       "      <th>TotalCoinsMined</th>\n",
       "      <th>TotalCoinSupply</th>\n",
       "    </tr>\n",
       "  </thead>\n",
       "  <tbody>\n",
       "    <tr>\n",
       "      <th>42</th>\n",
       "      <td>Scrypt</td>\n",
       "      <td>PoW/PoS</td>\n",
       "      <td>4.199995e+01</td>\n",
       "      <td>42</td>\n",
       "    </tr>\n",
       "    <tr>\n",
       "      <th>404</th>\n",
       "      <td>Scrypt</td>\n",
       "      <td>PoW/PoS</td>\n",
       "      <td>1.055185e+09</td>\n",
       "      <td>532000000</td>\n",
       "    </tr>\n",
       "    <tr>\n",
       "      <th>808</th>\n",
       "      <td>SHA-256</td>\n",
       "      <td>PoW/PoS</td>\n",
       "      <td>0.000000e+00</td>\n",
       "      <td>0</td>\n",
       "    </tr>\n",
       "    <tr>\n",
       "      <th>1337</th>\n",
       "      <td>X13</td>\n",
       "      <td>PoW/PoS</td>\n",
       "      <td>2.927942e+10</td>\n",
       "      <td>314159265359</td>\n",
       "    </tr>\n",
       "    <tr>\n",
       "      <th>BTC</th>\n",
       "      <td>SHA-256</td>\n",
       "      <td>PoW</td>\n",
       "      <td>1.792718e+07</td>\n",
       "      <td>21000000</td>\n",
       "    </tr>\n",
       "    <tr>\n",
       "      <th>ETH</th>\n",
       "      <td>Ethash</td>\n",
       "      <td>PoW</td>\n",
       "      <td>1.076842e+08</td>\n",
       "      <td>0</td>\n",
       "    </tr>\n",
       "    <tr>\n",
       "      <th>LTC</th>\n",
       "      <td>Scrypt</td>\n",
       "      <td>PoW</td>\n",
       "      <td>6.303924e+07</td>\n",
       "      <td>84000000</td>\n",
       "    </tr>\n",
       "    <tr>\n",
       "      <th>DASH</th>\n",
       "      <td>X11</td>\n",
       "      <td>PoW/PoS</td>\n",
       "      <td>9.031294e+06</td>\n",
       "      <td>22000000</td>\n",
       "    </tr>\n",
       "    <tr>\n",
       "      <th>XMR</th>\n",
       "      <td>CryptoNight-V7</td>\n",
       "      <td>PoW</td>\n",
       "      <td>1.720114e+07</td>\n",
       "      <td>0</td>\n",
       "    </tr>\n",
       "    <tr>\n",
       "      <th>ETC</th>\n",
       "      <td>Ethash</td>\n",
       "      <td>PoW</td>\n",
       "      <td>1.133597e+08</td>\n",
       "      <td>210000000</td>\n",
       "    </tr>\n",
       "  </tbody>\n",
       "</table>\n",
       "</div>"
      ],
      "text/plain": [
       "           Algorithm ProofType  TotalCoinsMined TotalCoinSupply\n",
       "42            Scrypt   PoW/PoS     4.199995e+01              42\n",
       "404           Scrypt   PoW/PoS     1.055185e+09       532000000\n",
       "808          SHA-256   PoW/PoS     0.000000e+00               0\n",
       "1337             X13   PoW/PoS     2.927942e+10    314159265359\n",
       "BTC          SHA-256       PoW     1.792718e+07        21000000\n",
       "ETH           Ethash       PoW     1.076842e+08               0\n",
       "LTC           Scrypt       PoW     6.303924e+07        84000000\n",
       "DASH             X11   PoW/PoS     9.031294e+06        22000000\n",
       "XMR   CryptoNight-V7       PoW     1.720114e+07               0\n",
       "ETC           Ethash       PoW     1.133597e+08       210000000"
      ]
     },
     "execution_count": 51,
     "metadata": {},
     "output_type": "execute_result"
    }
   ],
   "source": [
    "# Keep all the cryptocurrencies that have a working algorithm.\n",
    "crypto_df = crypto_df[crypto_df['Algorithm'] != \"N/A\"]\n",
    "crypto_df.head(10)"
   ]
  },
  {
   "cell_type": "code",
   "execution_count": 20,
   "metadata": {},
   "outputs": [
    {
     "data": {
      "text/html": [
       "<div>\n",
       "<style scoped>\n",
       "    .dataframe tbody tr th:only-of-type {\n",
       "        vertical-align: middle;\n",
       "    }\n",
       "\n",
       "    .dataframe tbody tr th {\n",
       "        vertical-align: top;\n",
       "    }\n",
       "\n",
       "    .dataframe thead th {\n",
       "        text-align: right;\n",
       "    }\n",
       "</style>\n",
       "<table border=\"1\" class=\"dataframe\">\n",
       "  <thead>\n",
       "    <tr style=\"text-align: right;\">\n",
       "      <th></th>\n",
       "      <th>CoinName</th>\n",
       "      <th>Algorithm</th>\n",
       "      <th>ProofType</th>\n",
       "      <th>TotalCoinsMined</th>\n",
       "      <th>TotalCoinSupply</th>\n",
       "    </tr>\n",
       "  </thead>\n",
       "  <tbody>\n",
       "    <tr>\n",
       "      <th>42</th>\n",
       "      <td>42 Coin</td>\n",
       "      <td>Scrypt</td>\n",
       "      <td>PoW/PoS</td>\n",
       "      <td>4.199995e+01</td>\n",
       "      <td>42</td>\n",
       "    </tr>\n",
       "    <tr>\n",
       "      <th>365</th>\n",
       "      <td>365Coin</td>\n",
       "      <td>X11</td>\n",
       "      <td>PoW/PoS</td>\n",
       "      <td>NaN</td>\n",
       "      <td>2300000000</td>\n",
       "    </tr>\n",
       "    <tr>\n",
       "      <th>404</th>\n",
       "      <td>404Coin</td>\n",
       "      <td>Scrypt</td>\n",
       "      <td>PoW/PoS</td>\n",
       "      <td>1.055185e+09</td>\n",
       "      <td>532000000</td>\n",
       "    </tr>\n",
       "    <tr>\n",
       "      <th>611</th>\n",
       "      <td>SixEleven</td>\n",
       "      <td>SHA-256</td>\n",
       "      <td>PoW</td>\n",
       "      <td>NaN</td>\n",
       "      <td>611000</td>\n",
       "    </tr>\n",
       "    <tr>\n",
       "      <th>808</th>\n",
       "      <td>808</td>\n",
       "      <td>SHA-256</td>\n",
       "      <td>PoW/PoS</td>\n",
       "      <td>0.000000e+00</td>\n",
       "      <td>0</td>\n",
       "    </tr>\n",
       "    <tr>\n",
       "      <th>1337</th>\n",
       "      <td>EliteCoin</td>\n",
       "      <td>X13</td>\n",
       "      <td>PoW/PoS</td>\n",
       "      <td>2.927942e+10</td>\n",
       "      <td>314159265359</td>\n",
       "    </tr>\n",
       "    <tr>\n",
       "      <th>2015</th>\n",
       "      <td>2015 coin</td>\n",
       "      <td>X11</td>\n",
       "      <td>PoW/PoS</td>\n",
       "      <td>NaN</td>\n",
       "      <td>0</td>\n",
       "    </tr>\n",
       "    <tr>\n",
       "      <th>BTC</th>\n",
       "      <td>Bitcoin</td>\n",
       "      <td>SHA-256</td>\n",
       "      <td>PoW</td>\n",
       "      <td>1.792718e+07</td>\n",
       "      <td>21000000</td>\n",
       "    </tr>\n",
       "    <tr>\n",
       "      <th>ETH</th>\n",
       "      <td>Ethereum</td>\n",
       "      <td>Ethash</td>\n",
       "      <td>PoW</td>\n",
       "      <td>1.076842e+08</td>\n",
       "      <td>0</td>\n",
       "    </tr>\n",
       "    <tr>\n",
       "      <th>LTC</th>\n",
       "      <td>Litecoin</td>\n",
       "      <td>Scrypt</td>\n",
       "      <td>PoW</td>\n",
       "      <td>6.303924e+07</td>\n",
       "      <td>84000000</td>\n",
       "    </tr>\n",
       "  </tbody>\n",
       "</table>\n",
       "</div>"
      ],
      "text/plain": [
       "       CoinName Algorithm ProofType  TotalCoinsMined TotalCoinSupply\n",
       "42      42 Coin    Scrypt   PoW/PoS     4.199995e+01              42\n",
       "365     365Coin       X11   PoW/PoS              NaN      2300000000\n",
       "404     404Coin    Scrypt   PoW/PoS     1.055185e+09       532000000\n",
       "611   SixEleven   SHA-256       PoW              NaN          611000\n",
       "808         808   SHA-256   PoW/PoS     0.000000e+00               0\n",
       "1337  EliteCoin       X13   PoW/PoS     2.927942e+10    314159265359\n",
       "2015  2015 coin       X11   PoW/PoS              NaN               0\n",
       "BTC     Bitcoin   SHA-256       PoW     1.792718e+07        21000000\n",
       "ETH    Ethereum    Ethash       PoW     1.076842e+08               0\n",
       "LTC    Litecoin    Scrypt       PoW     6.303924e+07        84000000"
      ]
     },
     "execution_count": 20,
     "metadata": {},
     "output_type": "execute_result"
    }
   ],
   "source": [
    "# Remove the \"IsTrading\" column. \n",
    "crypto_df = crypto_df.drop([\"IsTrading\"], axis=1)\n",
    "crypto_df.head(10)"
   ]
  },
  {
   "cell_type": "code",
   "execution_count": 21,
   "metadata": {
    "scrolled": true
   },
   "outputs": [
    {
     "data": {
      "text/html": [
       "<div>\n",
       "<style scoped>\n",
       "    .dataframe tbody tr th:only-of-type {\n",
       "        vertical-align: middle;\n",
       "    }\n",
       "\n",
       "    .dataframe tbody tr th {\n",
       "        vertical-align: top;\n",
       "    }\n",
       "\n",
       "    .dataframe thead th {\n",
       "        text-align: right;\n",
       "    }\n",
       "</style>\n",
       "<table border=\"1\" class=\"dataframe\">\n",
       "  <thead>\n",
       "    <tr style=\"text-align: right;\">\n",
       "      <th></th>\n",
       "      <th>CoinName</th>\n",
       "      <th>Algorithm</th>\n",
       "      <th>ProofType</th>\n",
       "      <th>TotalCoinsMined</th>\n",
       "      <th>TotalCoinSupply</th>\n",
       "    </tr>\n",
       "  </thead>\n",
       "  <tbody>\n",
       "    <tr>\n",
       "      <th>42</th>\n",
       "      <td>42 Coin</td>\n",
       "      <td>Scrypt</td>\n",
       "      <td>PoW/PoS</td>\n",
       "      <td>4.199995e+01</td>\n",
       "      <td>42</td>\n",
       "    </tr>\n",
       "    <tr>\n",
       "      <th>404</th>\n",
       "      <td>404Coin</td>\n",
       "      <td>Scrypt</td>\n",
       "      <td>PoW/PoS</td>\n",
       "      <td>1.055185e+09</td>\n",
       "      <td>532000000</td>\n",
       "    </tr>\n",
       "    <tr>\n",
       "      <th>808</th>\n",
       "      <td>808</td>\n",
       "      <td>SHA-256</td>\n",
       "      <td>PoW/PoS</td>\n",
       "      <td>0.000000e+00</td>\n",
       "      <td>0</td>\n",
       "    </tr>\n",
       "    <tr>\n",
       "      <th>1337</th>\n",
       "      <td>EliteCoin</td>\n",
       "      <td>X13</td>\n",
       "      <td>PoW/PoS</td>\n",
       "      <td>2.927942e+10</td>\n",
       "      <td>314159265359</td>\n",
       "    </tr>\n",
       "    <tr>\n",
       "      <th>BTC</th>\n",
       "      <td>Bitcoin</td>\n",
       "      <td>SHA-256</td>\n",
       "      <td>PoW</td>\n",
       "      <td>1.792718e+07</td>\n",
       "      <td>21000000</td>\n",
       "    </tr>\n",
       "    <tr>\n",
       "      <th>ETH</th>\n",
       "      <td>Ethereum</td>\n",
       "      <td>Ethash</td>\n",
       "      <td>PoW</td>\n",
       "      <td>1.076842e+08</td>\n",
       "      <td>0</td>\n",
       "    </tr>\n",
       "    <tr>\n",
       "      <th>LTC</th>\n",
       "      <td>Litecoin</td>\n",
       "      <td>Scrypt</td>\n",
       "      <td>PoW</td>\n",
       "      <td>6.303924e+07</td>\n",
       "      <td>84000000</td>\n",
       "    </tr>\n",
       "    <tr>\n",
       "      <th>DASH</th>\n",
       "      <td>Dash</td>\n",
       "      <td>X11</td>\n",
       "      <td>PoW/PoS</td>\n",
       "      <td>9.031294e+06</td>\n",
       "      <td>22000000</td>\n",
       "    </tr>\n",
       "    <tr>\n",
       "      <th>XMR</th>\n",
       "      <td>Monero</td>\n",
       "      <td>CryptoNight-V7</td>\n",
       "      <td>PoW</td>\n",
       "      <td>1.720114e+07</td>\n",
       "      <td>0</td>\n",
       "    </tr>\n",
       "    <tr>\n",
       "      <th>ETC</th>\n",
       "      <td>Ethereum Classic</td>\n",
       "      <td>Ethash</td>\n",
       "      <td>PoW</td>\n",
       "      <td>1.133597e+08</td>\n",
       "      <td>210000000</td>\n",
       "    </tr>\n",
       "  </tbody>\n",
       "</table>\n",
       "</div>"
      ],
      "text/plain": [
       "              CoinName       Algorithm ProofType  TotalCoinsMined  \\\n",
       "42             42 Coin          Scrypt   PoW/PoS     4.199995e+01   \n",
       "404            404Coin          Scrypt   PoW/PoS     1.055185e+09   \n",
       "808                808         SHA-256   PoW/PoS     0.000000e+00   \n",
       "1337         EliteCoin             X13   PoW/PoS     2.927942e+10   \n",
       "BTC            Bitcoin         SHA-256       PoW     1.792718e+07   \n",
       "ETH           Ethereum          Ethash       PoW     1.076842e+08   \n",
       "LTC           Litecoin          Scrypt       PoW     6.303924e+07   \n",
       "DASH              Dash             X11   PoW/PoS     9.031294e+06   \n",
       "XMR             Monero  CryptoNight-V7       PoW     1.720114e+07   \n",
       "ETC   Ethereum Classic          Ethash       PoW     1.133597e+08   \n",
       "\n",
       "     TotalCoinSupply  \n",
       "42                42  \n",
       "404        532000000  \n",
       "808                0  \n",
       "1337    314159265359  \n",
       "BTC         21000000  \n",
       "ETH                0  \n",
       "LTC         84000000  \n",
       "DASH        22000000  \n",
       "XMR                0  \n",
       "ETC        210000000  "
      ]
     },
     "execution_count": 21,
     "metadata": {},
     "output_type": "execute_result"
    }
   ],
   "source": [
    "# Remove rows that have at least 1 null value.\n",
    "crypto_df = crypto_df.dropna()\n",
    "crypto_df.head(10)"
   ]
  },
  {
   "cell_type": "code",
   "execution_count": 22,
   "metadata": {},
   "outputs": [
    {
     "data": {
      "text/html": [
       "<div>\n",
       "<style scoped>\n",
       "    .dataframe tbody tr th:only-of-type {\n",
       "        vertical-align: middle;\n",
       "    }\n",
       "\n",
       "    .dataframe tbody tr th {\n",
       "        vertical-align: top;\n",
       "    }\n",
       "\n",
       "    .dataframe thead th {\n",
       "        text-align: right;\n",
       "    }\n",
       "</style>\n",
       "<table border=\"1\" class=\"dataframe\">\n",
       "  <thead>\n",
       "    <tr style=\"text-align: right;\">\n",
       "      <th></th>\n",
       "      <th>CoinName</th>\n",
       "      <th>Algorithm</th>\n",
       "      <th>ProofType</th>\n",
       "      <th>TotalCoinsMined</th>\n",
       "      <th>TotalCoinSupply</th>\n",
       "    </tr>\n",
       "  </thead>\n",
       "  <tbody>\n",
       "    <tr>\n",
       "      <th>42</th>\n",
       "      <td>42 Coin</td>\n",
       "      <td>Scrypt</td>\n",
       "      <td>PoW/PoS</td>\n",
       "      <td>4.199995e+01</td>\n",
       "      <td>42</td>\n",
       "    </tr>\n",
       "    <tr>\n",
       "      <th>404</th>\n",
       "      <td>404Coin</td>\n",
       "      <td>Scrypt</td>\n",
       "      <td>PoW/PoS</td>\n",
       "      <td>1.055185e+09</td>\n",
       "      <td>532000000</td>\n",
       "    </tr>\n",
       "    <tr>\n",
       "      <th>808</th>\n",
       "      <td>808</td>\n",
       "      <td>SHA-256</td>\n",
       "      <td>PoW/PoS</td>\n",
       "      <td>0.000000e+00</td>\n",
       "      <td>0</td>\n",
       "    </tr>\n",
       "    <tr>\n",
       "      <th>1337</th>\n",
       "      <td>EliteCoin</td>\n",
       "      <td>X13</td>\n",
       "      <td>PoW/PoS</td>\n",
       "      <td>2.927942e+10</td>\n",
       "      <td>314159265359</td>\n",
       "    </tr>\n",
       "    <tr>\n",
       "      <th>BTC</th>\n",
       "      <td>Bitcoin</td>\n",
       "      <td>SHA-256</td>\n",
       "      <td>PoW</td>\n",
       "      <td>1.792718e+07</td>\n",
       "      <td>21000000</td>\n",
       "    </tr>\n",
       "    <tr>\n",
       "      <th>ETH</th>\n",
       "      <td>Ethereum</td>\n",
       "      <td>Ethash</td>\n",
       "      <td>PoW</td>\n",
       "      <td>1.076842e+08</td>\n",
       "      <td>0</td>\n",
       "    </tr>\n",
       "    <tr>\n",
       "      <th>LTC</th>\n",
       "      <td>Litecoin</td>\n",
       "      <td>Scrypt</td>\n",
       "      <td>PoW</td>\n",
       "      <td>6.303924e+07</td>\n",
       "      <td>84000000</td>\n",
       "    </tr>\n",
       "    <tr>\n",
       "      <th>DASH</th>\n",
       "      <td>Dash</td>\n",
       "      <td>X11</td>\n",
       "      <td>PoW/PoS</td>\n",
       "      <td>9.031294e+06</td>\n",
       "      <td>22000000</td>\n",
       "    </tr>\n",
       "    <tr>\n",
       "      <th>XMR</th>\n",
       "      <td>Monero</td>\n",
       "      <td>CryptoNight-V7</td>\n",
       "      <td>PoW</td>\n",
       "      <td>1.720114e+07</td>\n",
       "      <td>0</td>\n",
       "    </tr>\n",
       "    <tr>\n",
       "      <th>ETC</th>\n",
       "      <td>Ethereum Classic</td>\n",
       "      <td>Ethash</td>\n",
       "      <td>PoW</td>\n",
       "      <td>1.133597e+08</td>\n",
       "      <td>210000000</td>\n",
       "    </tr>\n",
       "  </tbody>\n",
       "</table>\n",
       "</div>"
      ],
      "text/plain": [
       "              CoinName       Algorithm ProofType  TotalCoinsMined  \\\n",
       "42             42 Coin          Scrypt   PoW/PoS     4.199995e+01   \n",
       "404            404Coin          Scrypt   PoW/PoS     1.055185e+09   \n",
       "808                808         SHA-256   PoW/PoS     0.000000e+00   \n",
       "1337         EliteCoin             X13   PoW/PoS     2.927942e+10   \n",
       "BTC            Bitcoin         SHA-256       PoW     1.792718e+07   \n",
       "ETH           Ethereum          Ethash       PoW     1.076842e+08   \n",
       "LTC           Litecoin          Scrypt       PoW     6.303924e+07   \n",
       "DASH              Dash             X11   PoW/PoS     9.031294e+06   \n",
       "XMR             Monero  CryptoNight-V7       PoW     1.720114e+07   \n",
       "ETC   Ethereum Classic          Ethash       PoW     1.133597e+08   \n",
       "\n",
       "     TotalCoinSupply  \n",
       "42                42  \n",
       "404        532000000  \n",
       "808                0  \n",
       "1337    314159265359  \n",
       "BTC         21000000  \n",
       "ETH                0  \n",
       "LTC         84000000  \n",
       "DASH        22000000  \n",
       "XMR                0  \n",
       "ETC        210000000  "
      ]
     },
     "execution_count": 22,
     "metadata": {},
     "output_type": "execute_result"
    }
   ],
   "source": [
    "# Keep the rows where coins are mined.\n",
    "rypto_df = crypto_df[crypto_df['TotalCoinsMined'] > 0]\n",
    "crypto_df.head(10)"
   ]
  },
  {
   "cell_type": "code",
   "execution_count": 31,
   "metadata": {},
   "outputs": [
    {
     "data": {
      "text/html": [
       "<div>\n",
       "<style scoped>\n",
       "    .dataframe tbody tr th:only-of-type {\n",
       "        vertical-align: middle;\n",
       "    }\n",
       "\n",
       "    .dataframe tbody tr th {\n",
       "        vertical-align: top;\n",
       "    }\n",
       "\n",
       "    .dataframe thead th {\n",
       "        text-align: right;\n",
       "    }\n",
       "</style>\n",
       "<table border=\"1\" class=\"dataframe\">\n",
       "  <thead>\n",
       "    <tr style=\"text-align: right;\">\n",
       "      <th></th>\n",
       "      <th>CoinName</th>\n",
       "    </tr>\n",
       "  </thead>\n",
       "  <tbody>\n",
       "    <tr>\n",
       "      <th>42</th>\n",
       "      <td>42 Coin</td>\n",
       "    </tr>\n",
       "    <tr>\n",
       "      <th>404</th>\n",
       "      <td>404Coin</td>\n",
       "    </tr>\n",
       "    <tr>\n",
       "      <th>808</th>\n",
       "      <td>808</td>\n",
       "    </tr>\n",
       "    <tr>\n",
       "      <th>1337</th>\n",
       "      <td>EliteCoin</td>\n",
       "    </tr>\n",
       "    <tr>\n",
       "      <th>BTC</th>\n",
       "      <td>Bitcoin</td>\n",
       "    </tr>\n",
       "    <tr>\n",
       "      <th>ETH</th>\n",
       "      <td>Ethereum</td>\n",
       "    </tr>\n",
       "    <tr>\n",
       "      <th>LTC</th>\n",
       "      <td>Litecoin</td>\n",
       "    </tr>\n",
       "    <tr>\n",
       "      <th>DASH</th>\n",
       "      <td>Dash</td>\n",
       "    </tr>\n",
       "    <tr>\n",
       "      <th>XMR</th>\n",
       "      <td>Monero</td>\n",
       "    </tr>\n",
       "    <tr>\n",
       "      <th>ETC</th>\n",
       "      <td>Ethereum Classic</td>\n",
       "    </tr>\n",
       "  </tbody>\n",
       "</table>\n",
       "</div>"
      ],
      "text/plain": [
       "              CoinName\n",
       "42             42 Coin\n",
       "404            404Coin\n",
       "808                808\n",
       "1337         EliteCoin\n",
       "BTC            Bitcoin\n",
       "ETH           Ethereum\n",
       "LTC           Litecoin\n",
       "DASH              Dash\n",
       "XMR             Monero\n",
       "ETC   Ethereum Classic"
      ]
     },
     "execution_count": 31,
     "metadata": {},
     "output_type": "execute_result"
    }
   ],
   "source": [
    "# Create a new DataFrame that holds only the cryptocurrencies names.\n",
    "crypto_names = crypto_df[[\"CoinName\"]]\n",
    "crypto_names.head(10)"
   ]
  },
  {
   "cell_type": "code",
   "execution_count": 32,
   "metadata": {},
   "outputs": [
    {
     "data": {
      "text/html": [
       "<div>\n",
       "<style scoped>\n",
       "    .dataframe tbody tr th:only-of-type {\n",
       "        vertical-align: middle;\n",
       "    }\n",
       "\n",
       "    .dataframe tbody tr th {\n",
       "        vertical-align: top;\n",
       "    }\n",
       "\n",
       "    .dataframe thead th {\n",
       "        text-align: right;\n",
       "    }\n",
       "</style>\n",
       "<table border=\"1\" class=\"dataframe\">\n",
       "  <thead>\n",
       "    <tr style=\"text-align: right;\">\n",
       "      <th></th>\n",
       "      <th>Algorithm</th>\n",
       "      <th>ProofType</th>\n",
       "      <th>TotalCoinsMined</th>\n",
       "      <th>TotalCoinSupply</th>\n",
       "    </tr>\n",
       "  </thead>\n",
       "  <tbody>\n",
       "    <tr>\n",
       "      <th>42</th>\n",
       "      <td>Scrypt</td>\n",
       "      <td>PoW/PoS</td>\n",
       "      <td>4.199995e+01</td>\n",
       "      <td>42</td>\n",
       "    </tr>\n",
       "    <tr>\n",
       "      <th>404</th>\n",
       "      <td>Scrypt</td>\n",
       "      <td>PoW/PoS</td>\n",
       "      <td>1.055185e+09</td>\n",
       "      <td>532000000</td>\n",
       "    </tr>\n",
       "    <tr>\n",
       "      <th>808</th>\n",
       "      <td>SHA-256</td>\n",
       "      <td>PoW/PoS</td>\n",
       "      <td>0.000000e+00</td>\n",
       "      <td>0</td>\n",
       "    </tr>\n",
       "    <tr>\n",
       "      <th>1337</th>\n",
       "      <td>X13</td>\n",
       "      <td>PoW/PoS</td>\n",
       "      <td>2.927942e+10</td>\n",
       "      <td>314159265359</td>\n",
       "    </tr>\n",
       "    <tr>\n",
       "      <th>BTC</th>\n",
       "      <td>SHA-256</td>\n",
       "      <td>PoW</td>\n",
       "      <td>1.792718e+07</td>\n",
       "      <td>21000000</td>\n",
       "    </tr>\n",
       "    <tr>\n",
       "      <th>ETH</th>\n",
       "      <td>Ethash</td>\n",
       "      <td>PoW</td>\n",
       "      <td>1.076842e+08</td>\n",
       "      <td>0</td>\n",
       "    </tr>\n",
       "    <tr>\n",
       "      <th>LTC</th>\n",
       "      <td>Scrypt</td>\n",
       "      <td>PoW</td>\n",
       "      <td>6.303924e+07</td>\n",
       "      <td>84000000</td>\n",
       "    </tr>\n",
       "    <tr>\n",
       "      <th>DASH</th>\n",
       "      <td>X11</td>\n",
       "      <td>PoW/PoS</td>\n",
       "      <td>9.031294e+06</td>\n",
       "      <td>22000000</td>\n",
       "    </tr>\n",
       "    <tr>\n",
       "      <th>XMR</th>\n",
       "      <td>CryptoNight-V7</td>\n",
       "      <td>PoW</td>\n",
       "      <td>1.720114e+07</td>\n",
       "      <td>0</td>\n",
       "    </tr>\n",
       "    <tr>\n",
       "      <th>ETC</th>\n",
       "      <td>Ethash</td>\n",
       "      <td>PoW</td>\n",
       "      <td>1.133597e+08</td>\n",
       "      <td>210000000</td>\n",
       "    </tr>\n",
       "  </tbody>\n",
       "</table>\n",
       "</div>"
      ],
      "text/plain": [
       "           Algorithm ProofType  TotalCoinsMined TotalCoinSupply\n",
       "42            Scrypt   PoW/PoS     4.199995e+01              42\n",
       "404           Scrypt   PoW/PoS     1.055185e+09       532000000\n",
       "808          SHA-256   PoW/PoS     0.000000e+00               0\n",
       "1337             X13   PoW/PoS     2.927942e+10    314159265359\n",
       "BTC          SHA-256       PoW     1.792718e+07        21000000\n",
       "ETH           Ethash       PoW     1.076842e+08               0\n",
       "LTC           Scrypt       PoW     6.303924e+07        84000000\n",
       "DASH             X11   PoW/PoS     9.031294e+06        22000000\n",
       "XMR   CryptoNight-V7       PoW     1.720114e+07               0\n",
       "ETC           Ethash       PoW     1.133597e+08       210000000"
      ]
     },
     "execution_count": 32,
     "metadata": {},
     "output_type": "execute_result"
    }
   ],
   "source": [
    "# Drop the 'CoinName' column since it's not going to be used on the clustering algorithm.\n",
    "crypto_df = crypto_df.drop([\"CoinName\"], axis=1)\n",
    "crypto_df.head(10)"
   ]
  },
  {
   "cell_type": "code",
   "execution_count": 95,
   "metadata": {},
   "outputs": [
    {
     "data": {
      "text/html": [
       "<div>\n",
       "<style scoped>\n",
       "    .dataframe tbody tr th:only-of-type {\n",
       "        vertical-align: middle;\n",
       "    }\n",
       "\n",
       "    .dataframe tbody tr th {\n",
       "        vertical-align: top;\n",
       "    }\n",
       "\n",
       "    .dataframe thead th {\n",
       "        text-align: right;\n",
       "    }\n",
       "</style>\n",
       "<table border=\"1\" class=\"dataframe\">\n",
       "  <thead>\n",
       "    <tr style=\"text-align: right;\">\n",
       "      <th></th>\n",
       "      <th>Algorithm</th>\n",
       "      <th>ProofType</th>\n",
       "      <th>TotalCoinsMined</th>\n",
       "      <th>TotalCoinSupply</th>\n",
       "    </tr>\n",
       "  </thead>\n",
       "  <tbody>\n",
       "    <tr>\n",
       "      <th>42</th>\n",
       "      <td>Scrypt</td>\n",
       "      <td>PoW/PoS</td>\n",
       "      <td>4.199995e+01</td>\n",
       "      <td>4.200000e+01</td>\n",
       "    </tr>\n",
       "    <tr>\n",
       "      <th>404</th>\n",
       "      <td>Scrypt</td>\n",
       "      <td>PoW/PoS</td>\n",
       "      <td>1.055185e+09</td>\n",
       "      <td>5.320000e+08</td>\n",
       "    </tr>\n",
       "    <tr>\n",
       "      <th>808</th>\n",
       "      <td>SHA-256</td>\n",
       "      <td>PoW/PoS</td>\n",
       "      <td>0.000000e+00</td>\n",
       "      <td>0.000000e+00</td>\n",
       "    </tr>\n",
       "    <tr>\n",
       "      <th>1337</th>\n",
       "      <td>X13</td>\n",
       "      <td>PoW/PoS</td>\n",
       "      <td>2.927942e+10</td>\n",
       "      <td>3.141593e+11</td>\n",
       "    </tr>\n",
       "    <tr>\n",
       "      <th>BTC</th>\n",
       "      <td>SHA-256</td>\n",
       "      <td>PoW</td>\n",
       "      <td>1.792718e+07</td>\n",
       "      <td>2.100000e+07</td>\n",
       "    </tr>\n",
       "    <tr>\n",
       "      <th>ETH</th>\n",
       "      <td>Ethash</td>\n",
       "      <td>PoW</td>\n",
       "      <td>1.076842e+08</td>\n",
       "      <td>0.000000e+00</td>\n",
       "    </tr>\n",
       "    <tr>\n",
       "      <th>LTC</th>\n",
       "      <td>Scrypt</td>\n",
       "      <td>PoW</td>\n",
       "      <td>6.303924e+07</td>\n",
       "      <td>8.400000e+07</td>\n",
       "    </tr>\n",
       "    <tr>\n",
       "      <th>DASH</th>\n",
       "      <td>X11</td>\n",
       "      <td>PoW/PoS</td>\n",
       "      <td>9.031294e+06</td>\n",
       "      <td>2.200000e+07</td>\n",
       "    </tr>\n",
       "    <tr>\n",
       "      <th>XMR</th>\n",
       "      <td>CryptoNight-V7</td>\n",
       "      <td>PoW</td>\n",
       "      <td>1.720114e+07</td>\n",
       "      <td>0.000000e+00</td>\n",
       "    </tr>\n",
       "    <tr>\n",
       "      <th>ETC</th>\n",
       "      <td>Ethash</td>\n",
       "      <td>PoW</td>\n",
       "      <td>1.133597e+08</td>\n",
       "      <td>2.100000e+08</td>\n",
       "    </tr>\n",
       "  </tbody>\n",
       "</table>\n",
       "</div>"
      ],
      "text/plain": [
       "           Algorithm ProofType  TotalCoinsMined  TotalCoinSupply\n",
       "42            Scrypt   PoW/PoS     4.199995e+01     4.200000e+01\n",
       "404           Scrypt   PoW/PoS     1.055185e+09     5.320000e+08\n",
       "808          SHA-256   PoW/PoS     0.000000e+00     0.000000e+00\n",
       "1337             X13   PoW/PoS     2.927942e+10     3.141593e+11\n",
       "BTC          SHA-256       PoW     1.792718e+07     2.100000e+07\n",
       "ETH           Ethash       PoW     1.076842e+08     0.000000e+00\n",
       "LTC           Scrypt       PoW     6.303924e+07     8.400000e+07\n",
       "DASH             X11   PoW/PoS     9.031294e+06     2.200000e+07\n",
       "XMR   CryptoNight-V7       PoW     1.720114e+07     0.000000e+00\n",
       "ETC           Ethash       PoW     1.133597e+08     2.100000e+08"
      ]
     },
     "execution_count": 95,
     "metadata": {},
     "output_type": "execute_result"
    }
   ],
   "source": [
    "crypto_df[\"TotalCoinSupply\"] = crypto_df[\"TotalCoinSupply\"].astype(dtype='float')\n",
    "crypto_df.head(10)"
   ]
  },
  {
   "cell_type": "code",
   "execution_count": 96,
   "metadata": {
    "scrolled": true
   },
   "outputs": [
    {
     "data": {
      "text/html": [
       "<div>\n",
       "<style scoped>\n",
       "    .dataframe tbody tr th:only-of-type {\n",
       "        vertical-align: middle;\n",
       "    }\n",
       "\n",
       "    .dataframe tbody tr th {\n",
       "        vertical-align: top;\n",
       "    }\n",
       "\n",
       "    .dataframe thead th {\n",
       "        text-align: right;\n",
       "    }\n",
       "</style>\n",
       "<table border=\"1\" class=\"dataframe\">\n",
       "  <thead>\n",
       "    <tr style=\"text-align: right;\">\n",
       "      <th></th>\n",
       "      <th>TotalCoinsMined</th>\n",
       "      <th>TotalCoinSupply</th>\n",
       "      <th>Algorithm_1GB AES Pattern Search</th>\n",
       "      <th>Algorithm_536</th>\n",
       "      <th>Algorithm_Argon2</th>\n",
       "      <th>Algorithm_Argon2d</th>\n",
       "      <th>Algorithm_BLAKE256</th>\n",
       "      <th>Algorithm_Blake</th>\n",
       "      <th>Algorithm_Blake2S</th>\n",
       "      <th>Algorithm_Blake2b</th>\n",
       "      <th>...</th>\n",
       "      <th>ProofType_PoW/PoS</th>\n",
       "      <th>ProofType_PoW/PoS</th>\n",
       "      <th>ProofType_PoW/PoW</th>\n",
       "      <th>ProofType_PoW/nPoS</th>\n",
       "      <th>ProofType_Pos</th>\n",
       "      <th>ProofType_Proof of Authority</th>\n",
       "      <th>ProofType_Proof of Trust</th>\n",
       "      <th>ProofType_TPoS</th>\n",
       "      <th>ProofType_Zero-Knowledge Proof</th>\n",
       "      <th>ProofType_dPoW/PoW</th>\n",
       "    </tr>\n",
       "  </thead>\n",
       "  <tbody>\n",
       "    <tr>\n",
       "      <th>42</th>\n",
       "      <td>4.199995e+01</td>\n",
       "      <td>4.200000e+01</td>\n",
       "      <td>0</td>\n",
       "      <td>0</td>\n",
       "      <td>0</td>\n",
       "      <td>0</td>\n",
       "      <td>0</td>\n",
       "      <td>0</td>\n",
       "      <td>0</td>\n",
       "      <td>0</td>\n",
       "      <td>...</td>\n",
       "      <td>1</td>\n",
       "      <td>0</td>\n",
       "      <td>0</td>\n",
       "      <td>0</td>\n",
       "      <td>0</td>\n",
       "      <td>0</td>\n",
       "      <td>0</td>\n",
       "      <td>0</td>\n",
       "      <td>0</td>\n",
       "      <td>0</td>\n",
       "    </tr>\n",
       "    <tr>\n",
       "      <th>404</th>\n",
       "      <td>1.055185e+09</td>\n",
       "      <td>5.320000e+08</td>\n",
       "      <td>0</td>\n",
       "      <td>0</td>\n",
       "      <td>0</td>\n",
       "      <td>0</td>\n",
       "      <td>0</td>\n",
       "      <td>0</td>\n",
       "      <td>0</td>\n",
       "      <td>0</td>\n",
       "      <td>...</td>\n",
       "      <td>1</td>\n",
       "      <td>0</td>\n",
       "      <td>0</td>\n",
       "      <td>0</td>\n",
       "      <td>0</td>\n",
       "      <td>0</td>\n",
       "      <td>0</td>\n",
       "      <td>0</td>\n",
       "      <td>0</td>\n",
       "      <td>0</td>\n",
       "    </tr>\n",
       "    <tr>\n",
       "      <th>808</th>\n",
       "      <td>0.000000e+00</td>\n",
       "      <td>0.000000e+00</td>\n",
       "      <td>0</td>\n",
       "      <td>0</td>\n",
       "      <td>0</td>\n",
       "      <td>0</td>\n",
       "      <td>0</td>\n",
       "      <td>0</td>\n",
       "      <td>0</td>\n",
       "      <td>0</td>\n",
       "      <td>...</td>\n",
       "      <td>1</td>\n",
       "      <td>0</td>\n",
       "      <td>0</td>\n",
       "      <td>0</td>\n",
       "      <td>0</td>\n",
       "      <td>0</td>\n",
       "      <td>0</td>\n",
       "      <td>0</td>\n",
       "      <td>0</td>\n",
       "      <td>0</td>\n",
       "    </tr>\n",
       "    <tr>\n",
       "      <th>1337</th>\n",
       "      <td>2.927942e+10</td>\n",
       "      <td>3.141593e+11</td>\n",
       "      <td>0</td>\n",
       "      <td>0</td>\n",
       "      <td>0</td>\n",
       "      <td>0</td>\n",
       "      <td>0</td>\n",
       "      <td>0</td>\n",
       "      <td>0</td>\n",
       "      <td>0</td>\n",
       "      <td>...</td>\n",
       "      <td>1</td>\n",
       "      <td>0</td>\n",
       "      <td>0</td>\n",
       "      <td>0</td>\n",
       "      <td>0</td>\n",
       "      <td>0</td>\n",
       "      <td>0</td>\n",
       "      <td>0</td>\n",
       "      <td>0</td>\n",
       "      <td>0</td>\n",
       "    </tr>\n",
       "    <tr>\n",
       "      <th>BTC</th>\n",
       "      <td>1.792718e+07</td>\n",
       "      <td>2.100000e+07</td>\n",
       "      <td>0</td>\n",
       "      <td>0</td>\n",
       "      <td>0</td>\n",
       "      <td>0</td>\n",
       "      <td>0</td>\n",
       "      <td>0</td>\n",
       "      <td>0</td>\n",
       "      <td>0</td>\n",
       "      <td>...</td>\n",
       "      <td>0</td>\n",
       "      <td>0</td>\n",
       "      <td>0</td>\n",
       "      <td>0</td>\n",
       "      <td>0</td>\n",
       "      <td>0</td>\n",
       "      <td>0</td>\n",
       "      <td>0</td>\n",
       "      <td>0</td>\n",
       "      <td>0</td>\n",
       "    </tr>\n",
       "    <tr>\n",
       "      <th>ETH</th>\n",
       "      <td>1.076842e+08</td>\n",
       "      <td>0.000000e+00</td>\n",
       "      <td>0</td>\n",
       "      <td>0</td>\n",
       "      <td>0</td>\n",
       "      <td>0</td>\n",
       "      <td>0</td>\n",
       "      <td>0</td>\n",
       "      <td>0</td>\n",
       "      <td>0</td>\n",
       "      <td>...</td>\n",
       "      <td>0</td>\n",
       "      <td>0</td>\n",
       "      <td>0</td>\n",
       "      <td>0</td>\n",
       "      <td>0</td>\n",
       "      <td>0</td>\n",
       "      <td>0</td>\n",
       "      <td>0</td>\n",
       "      <td>0</td>\n",
       "      <td>0</td>\n",
       "    </tr>\n",
       "    <tr>\n",
       "      <th>LTC</th>\n",
       "      <td>6.303924e+07</td>\n",
       "      <td>8.400000e+07</td>\n",
       "      <td>0</td>\n",
       "      <td>0</td>\n",
       "      <td>0</td>\n",
       "      <td>0</td>\n",
       "      <td>0</td>\n",
       "      <td>0</td>\n",
       "      <td>0</td>\n",
       "      <td>0</td>\n",
       "      <td>...</td>\n",
       "      <td>0</td>\n",
       "      <td>0</td>\n",
       "      <td>0</td>\n",
       "      <td>0</td>\n",
       "      <td>0</td>\n",
       "      <td>0</td>\n",
       "      <td>0</td>\n",
       "      <td>0</td>\n",
       "      <td>0</td>\n",
       "      <td>0</td>\n",
       "    </tr>\n",
       "    <tr>\n",
       "      <th>DASH</th>\n",
       "      <td>9.031294e+06</td>\n",
       "      <td>2.200000e+07</td>\n",
       "      <td>0</td>\n",
       "      <td>0</td>\n",
       "      <td>0</td>\n",
       "      <td>0</td>\n",
       "      <td>0</td>\n",
       "      <td>0</td>\n",
       "      <td>0</td>\n",
       "      <td>0</td>\n",
       "      <td>...</td>\n",
       "      <td>1</td>\n",
       "      <td>0</td>\n",
       "      <td>0</td>\n",
       "      <td>0</td>\n",
       "      <td>0</td>\n",
       "      <td>0</td>\n",
       "      <td>0</td>\n",
       "      <td>0</td>\n",
       "      <td>0</td>\n",
       "      <td>0</td>\n",
       "    </tr>\n",
       "    <tr>\n",
       "      <th>XMR</th>\n",
       "      <td>1.720114e+07</td>\n",
       "      <td>0.000000e+00</td>\n",
       "      <td>0</td>\n",
       "      <td>0</td>\n",
       "      <td>0</td>\n",
       "      <td>0</td>\n",
       "      <td>0</td>\n",
       "      <td>0</td>\n",
       "      <td>0</td>\n",
       "      <td>0</td>\n",
       "      <td>...</td>\n",
       "      <td>0</td>\n",
       "      <td>0</td>\n",
       "      <td>0</td>\n",
       "      <td>0</td>\n",
       "      <td>0</td>\n",
       "      <td>0</td>\n",
       "      <td>0</td>\n",
       "      <td>0</td>\n",
       "      <td>0</td>\n",
       "      <td>0</td>\n",
       "    </tr>\n",
       "    <tr>\n",
       "      <th>ETC</th>\n",
       "      <td>1.133597e+08</td>\n",
       "      <td>2.100000e+08</td>\n",
       "      <td>0</td>\n",
       "      <td>0</td>\n",
       "      <td>0</td>\n",
       "      <td>0</td>\n",
       "      <td>0</td>\n",
       "      <td>0</td>\n",
       "      <td>0</td>\n",
       "      <td>0</td>\n",
       "      <td>...</td>\n",
       "      <td>0</td>\n",
       "      <td>0</td>\n",
       "      <td>0</td>\n",
       "      <td>0</td>\n",
       "      <td>0</td>\n",
       "      <td>0</td>\n",
       "      <td>0</td>\n",
       "      <td>0</td>\n",
       "      <td>0</td>\n",
       "      <td>0</td>\n",
       "    </tr>\n",
       "  </tbody>\n",
       "</table>\n",
       "<p>10 rows × 109 columns</p>\n",
       "</div>"
      ],
      "text/plain": [
       "      TotalCoinsMined  TotalCoinSupply  Algorithm_1GB AES Pattern Search  \\\n",
       "42       4.199995e+01     4.200000e+01                                 0   \n",
       "404      1.055185e+09     5.320000e+08                                 0   \n",
       "808      0.000000e+00     0.000000e+00                                 0   \n",
       "1337     2.927942e+10     3.141593e+11                                 0   \n",
       "BTC      1.792718e+07     2.100000e+07                                 0   \n",
       "ETH      1.076842e+08     0.000000e+00                                 0   \n",
       "LTC      6.303924e+07     8.400000e+07                                 0   \n",
       "DASH     9.031294e+06     2.200000e+07                                 0   \n",
       "XMR      1.720114e+07     0.000000e+00                                 0   \n",
       "ETC      1.133597e+08     2.100000e+08                                 0   \n",
       "\n",
       "      Algorithm_536  Algorithm_Argon2  Algorithm_Argon2d  Algorithm_BLAKE256  \\\n",
       "42                0                 0                  0                   0   \n",
       "404               0                 0                  0                   0   \n",
       "808               0                 0                  0                   0   \n",
       "1337              0                 0                  0                   0   \n",
       "BTC               0                 0                  0                   0   \n",
       "ETH               0                 0                  0                   0   \n",
       "LTC               0                 0                  0                   0   \n",
       "DASH              0                 0                  0                   0   \n",
       "XMR               0                 0                  0                   0   \n",
       "ETC               0                 0                  0                   0   \n",
       "\n",
       "      Algorithm_Blake  Algorithm_Blake2S  Algorithm_Blake2b  ...  \\\n",
       "42                  0                  0                  0  ...   \n",
       "404                 0                  0                  0  ...   \n",
       "808                 0                  0                  0  ...   \n",
       "1337                0                  0                  0  ...   \n",
       "BTC                 0                  0                  0  ...   \n",
       "ETH                 0                  0                  0  ...   \n",
       "LTC                 0                  0                  0  ...   \n",
       "DASH                0                  0                  0  ...   \n",
       "XMR                 0                  0                  0  ...   \n",
       "ETC                 0                  0                  0  ...   \n",
       "\n",
       "      ProofType_PoW/PoS  ProofType_PoW/PoS   ProofType_PoW/PoW  \\\n",
       "42                    1                   0                  0   \n",
       "404                   1                   0                  0   \n",
       "808                   1                   0                  0   \n",
       "1337                  1                   0                  0   \n",
       "BTC                   0                   0                  0   \n",
       "ETH                   0                   0                  0   \n",
       "LTC                   0                   0                  0   \n",
       "DASH                  1                   0                  0   \n",
       "XMR                   0                   0                  0   \n",
       "ETC                   0                   0                  0   \n",
       "\n",
       "      ProofType_PoW/nPoS  ProofType_Pos  ProofType_Proof of Authority  \\\n",
       "42                     0              0                             0   \n",
       "404                    0              0                             0   \n",
       "808                    0              0                             0   \n",
       "1337                   0              0                             0   \n",
       "BTC                    0              0                             0   \n",
       "ETH                    0              0                             0   \n",
       "LTC                    0              0                             0   \n",
       "DASH                   0              0                             0   \n",
       "XMR                    0              0                             0   \n",
       "ETC                    0              0                             0   \n",
       "\n",
       "      ProofType_Proof of Trust  ProofType_TPoS  \\\n",
       "42                           0               0   \n",
       "404                          0               0   \n",
       "808                          0               0   \n",
       "1337                         0               0   \n",
       "BTC                          0               0   \n",
       "ETH                          0               0   \n",
       "LTC                          0               0   \n",
       "DASH                         0               0   \n",
       "XMR                          0               0   \n",
       "ETC                          0               0   \n",
       "\n",
       "      ProofType_Zero-Knowledge Proof  ProofType_dPoW/PoW  \n",
       "42                                 0                   0  \n",
       "404                                0                   0  \n",
       "808                                0                   0  \n",
       "1337                               0                   0  \n",
       "BTC                                0                   0  \n",
       "ETH                                0                   0  \n",
       "LTC                                0                   0  \n",
       "DASH                               0                   0  \n",
       "XMR                                0                   0  \n",
       "ETC                                0                   0  \n",
       "\n",
       "[10 rows x 109 columns]"
      ]
     },
     "execution_count": 96,
     "metadata": {},
     "output_type": "execute_result"
    }
   ],
   "source": [
    "# Use get_dummies() to create variables for text features.\n",
    "X = pd.get_dummies(crypto_df, columns=[\"Algorithm\", \"ProofType\"])\n",
    "X.head(10)"
   ]
  },
  {
   "cell_type": "code",
   "execution_count": 97,
   "metadata": {
    "scrolled": true
   },
   "outputs": [
    {
     "name": "stdout",
     "output_type": "stream",
     "text": [
      "[[-0.10282804 -0.03823841 -0.03823596 -0.03823596 -0.03823596 -0.03823596\n",
      "  -0.05411338 -0.07664017 -0.03823596 -0.05411338 -0.05411338 -0.03823596\n",
      "  -0.03823596 -0.18216065 -0.05411338 -0.03823596 -0.03823596 -0.08574929\n",
      "  -0.03823596 -0.10160947 -0.06632365 -0.03823596 -0.03823596 -0.1642757\n",
      "  -0.03823596 -0.03823596 -0.13908716 -0.03823596 -0.03823596 -0.07664017\n",
      "  -0.03823596 -0.03823596 -0.03823596 -0.03823596 -0.06632365 -0.03823596\n",
      "  -0.07664017 -0.08574929 -0.07664017 -0.03823596 -0.03823596 -0.12775161\n",
      "  -0.1335313  -0.13908716 -0.03823596 -0.05411338 -0.03823596 -0.06632365\n",
      "  -0.1689039  -0.03823596 -0.03823596 -0.03823596 -0.07664017 -0.17342199\n",
      "  -0.33468341 -0.03823596 -0.08574929 -0.06632365 -0.05411338 -0.03823596\n",
      "   1.42042992 -0.06632365 -0.03823596 -0.03823596 -0.06632365 -0.06632365\n",
      "  -0.03823596 -0.03823596 -0.03823596 -0.03823596 -0.03823596 -0.03823596\n",
      "  -0.03823596 -0.41586681 -0.03823596 -0.19054822 -0.03823596 -0.10870529\n",
      "  -0.07664017 -0.09400279 -0.03823596 -0.03823596 -0.03823596 -0.03823596\n",
      "  -0.12171612 -0.03823596 -0.03823596 -0.03823596 -0.03823596 -0.03823596\n",
      "  -0.06632365 -0.42308595 -0.03823596 -0.05411338 -0.03823596 -0.03823596\n",
      "  -0.90921211 -0.03823596 -0.03823596  1.38379681 -0.03823596 -0.03823596\n",
      "  -0.03823596 -0.03823596 -0.03823596 -0.03823596 -0.03823596 -0.03823596\n",
      "  -0.03823596]\n",
      " [-0.07661326 -0.03823825 -0.03823596 -0.03823596 -0.03823596 -0.03823596\n",
      "  -0.05411338 -0.07664017 -0.03823596 -0.05411338 -0.05411338 -0.03823596\n",
      "  -0.03823596 -0.18216065 -0.05411338 -0.03823596 -0.03823596 -0.08574929\n",
      "  -0.03823596 -0.10160947 -0.06632365 -0.03823596 -0.03823596 -0.1642757\n",
      "  -0.03823596 -0.03823596 -0.13908716 -0.03823596 -0.03823596 -0.07664017\n",
      "  -0.03823596 -0.03823596 -0.03823596 -0.03823596 -0.06632365 -0.03823596\n",
      "  -0.07664017 -0.08574929 -0.07664017 -0.03823596 -0.03823596 -0.12775161\n",
      "  -0.1335313  -0.13908716 -0.03823596 -0.05411338 -0.03823596 -0.06632365\n",
      "  -0.1689039  -0.03823596 -0.03823596 -0.03823596 -0.07664017 -0.17342199\n",
      "  -0.33468341 -0.03823596 -0.08574929 -0.06632365 -0.05411338 -0.03823596\n",
      "   1.42042992 -0.06632365 -0.03823596 -0.03823596 -0.06632365 -0.06632365\n",
      "  -0.03823596 -0.03823596 -0.03823596 -0.03823596 -0.03823596 -0.03823596\n",
      "  -0.03823596 -0.41586681 -0.03823596 -0.19054822 -0.03823596 -0.10870529\n",
      "  -0.07664017 -0.09400279 -0.03823596 -0.03823596 -0.03823596 -0.03823596\n",
      "  -0.12171612 -0.03823596 -0.03823596 -0.03823596 -0.03823596 -0.03823596\n",
      "  -0.06632365 -0.42308595 -0.03823596 -0.05411338 -0.03823596 -0.03823596\n",
      "  -0.90921211 -0.03823596 -0.03823596  1.38379681 -0.03823596 -0.03823596\n",
      "  -0.03823596 -0.03823596 -0.03823596 -0.03823596 -0.03823596 -0.03823596\n",
      "  -0.03823596]\n",
      " [-0.10282804 -0.03823841 -0.03823596 -0.03823596 -0.03823596 -0.03823596\n",
      "  -0.05411338 -0.07664017 -0.03823596 -0.05411338 -0.05411338 -0.03823596\n",
      "  -0.03823596 -0.18216065 -0.05411338 -0.03823596 -0.03823596 -0.08574929\n",
      "  -0.03823596 -0.10160947 -0.06632365 -0.03823596 -0.03823596 -0.1642757\n",
      "  -0.03823596 -0.03823596 -0.13908716 -0.03823596 -0.03823596 -0.07664017\n",
      "  -0.03823596 -0.03823596 -0.03823596 -0.03823596 -0.06632365 -0.03823596\n",
      "  -0.07664017 -0.08574929 -0.07664017 -0.03823596 -0.03823596 -0.12775161\n",
      "  -0.1335313  -0.13908716 -0.03823596 -0.05411338 -0.03823596 -0.06632365\n",
      "  -0.1689039  -0.03823596 -0.03823596 -0.03823596 -0.07664017 -0.17342199\n",
      "   2.9878983  -0.03823596 -0.08574929 -0.06632365 -0.05411338 -0.03823596\n",
      "  -0.70401221 -0.06632365 -0.03823596 -0.03823596 -0.06632365 -0.06632365\n",
      "  -0.03823596 -0.03823596 -0.03823596 -0.03823596 -0.03823596 -0.03823596\n",
      "  -0.03823596 -0.41586681 -0.03823596 -0.19054822 -0.03823596 -0.10870529\n",
      "  -0.07664017 -0.09400279 -0.03823596 -0.03823596 -0.03823596 -0.03823596\n",
      "  -0.12171612 -0.03823596 -0.03823596 -0.03823596 -0.03823596 -0.03823596\n",
      "  -0.06632365 -0.42308595 -0.03823596 -0.05411338 -0.03823596 -0.03823596\n",
      "  -0.90921211 -0.03823596 -0.03823596  1.38379681 -0.03823596 -0.03823596\n",
      "  -0.03823596 -0.03823596 -0.03823596 -0.03823596 -0.03823596 -0.03823596\n",
      "  -0.03823596]\n",
      " [ 0.62458365 -0.03814919 -0.03823596 -0.03823596 -0.03823596 -0.03823596\n",
      "  -0.05411338 -0.07664017 -0.03823596 -0.05411338 -0.05411338 -0.03823596\n",
      "  -0.03823596 -0.18216065 -0.05411338 -0.03823596 -0.03823596 -0.08574929\n",
      "  -0.03823596 -0.10160947 -0.06632365 -0.03823596 -0.03823596 -0.1642757\n",
      "  -0.03823596 -0.03823596 -0.13908716 -0.03823596 -0.03823596 -0.07664017\n",
      "  -0.03823596 -0.03823596 -0.03823596 -0.03823596 -0.06632365 -0.03823596\n",
      "  -0.07664017 -0.08574929 -0.07664017 -0.03823596 -0.03823596 -0.12775161\n",
      "  -0.1335313  -0.13908716 -0.03823596 -0.05411338 -0.03823596 -0.06632365\n",
      "  -0.1689039  -0.03823596 -0.03823596 -0.03823596 -0.07664017 -0.17342199\n",
      "  -0.33468341 -0.03823596 -0.08574929 -0.06632365 -0.05411338 -0.03823596\n",
      "  -0.70401221 -0.06632365 -0.03823596 -0.03823596 -0.06632365 -0.06632365\n",
      "  -0.03823596 -0.03823596 -0.03823596 -0.03823596 -0.03823596 -0.03823596\n",
      "  -0.03823596 -0.41586681 -0.03823596  5.2480155  -0.03823596 -0.10870529\n",
      "  -0.07664017 -0.09400279 -0.03823596 -0.03823596 -0.03823596 -0.03823596\n",
      "  -0.12171612 -0.03823596 -0.03823596 -0.03823596 -0.03823596 -0.03823596\n",
      "  -0.06632365 -0.42308595 -0.03823596 -0.05411338 -0.03823596 -0.03823596\n",
      "  -0.90921211 -0.03823596 -0.03823596  1.38379681 -0.03823596 -0.03823596\n",
      "  -0.03823596 -0.03823596 -0.03823596 -0.03823596 -0.03823596 -0.03823596\n",
      "  -0.03823596]\n",
      " [-0.10238266 -0.0382384  -0.03823596 -0.03823596 -0.03823596 -0.03823596\n",
      "  -0.05411338 -0.07664017 -0.03823596 -0.05411338 -0.05411338 -0.03823596\n",
      "  -0.03823596 -0.18216065 -0.05411338 -0.03823596 -0.03823596 -0.08574929\n",
      "  -0.03823596 -0.10160947 -0.06632365 -0.03823596 -0.03823596 -0.1642757\n",
      "  -0.03823596 -0.03823596 -0.13908716 -0.03823596 -0.03823596 -0.07664017\n",
      "  -0.03823596 -0.03823596 -0.03823596 -0.03823596 -0.06632365 -0.03823596\n",
      "  -0.07664017 -0.08574929 -0.07664017 -0.03823596 -0.03823596 -0.12775161\n",
      "  -0.1335313  -0.13908716 -0.03823596 -0.05411338 -0.03823596 -0.06632365\n",
      "  -0.1689039  -0.03823596 -0.03823596 -0.03823596 -0.07664017 -0.17342199\n",
      "   2.9878983  -0.03823596 -0.08574929 -0.06632365 -0.05411338 -0.03823596\n",
      "  -0.70401221 -0.06632365 -0.03823596 -0.03823596 -0.06632365 -0.06632365\n",
      "  -0.03823596 -0.03823596 -0.03823596 -0.03823596 -0.03823596 -0.03823596\n",
      "  -0.03823596 -0.41586681 -0.03823596 -0.19054822 -0.03823596 -0.10870529\n",
      "  -0.07664017 -0.09400279 -0.03823596 -0.03823596 -0.03823596 -0.03823596\n",
      "  -0.12171612 -0.03823596 -0.03823596 -0.03823596 -0.03823596 -0.03823596\n",
      "  -0.06632365 -0.42308595 -0.03823596 -0.05411338 -0.03823596 -0.03823596\n",
      "   1.09985336 -0.03823596 -0.03823596 -0.72264945 -0.03823596 -0.03823596\n",
      "  -0.03823596 -0.03823596 -0.03823596 -0.03823596 -0.03823596 -0.03823596\n",
      "  -0.03823596]]\n"
     ]
    }
   ],
   "source": [
    "# Standardize the data with StandardScaler().\n",
    "X_scaled = StandardScaler().fit_transform(X)\n",
    "print(X_scaled[0:5])"
   ]
  },
  {
   "cell_type": "markdown",
   "metadata": {},
   "source": [
    "### Deliverable 2: Reducing Data Dimensions Using PCA"
   ]
  },
  {
   "cell_type": "code",
   "execution_count": 98,
   "metadata": {},
   "outputs": [
    {
     "data": {
      "text/plain": [
       "array([[-0.22902534,  1.24187024, -0.36850059],\n",
       "       [-0.21471174,  1.24043241, -0.36899191],\n",
       "       [-0.1331041 ,  0.82226905, -0.22233175],\n",
       "       ...,\n",
       "       [-0.12678343, -2.30913657,  0.21101995],\n",
       "       [-0.29682956, -2.06676142,  0.23608694],\n",
       "       [-0.06623734,  0.76701676, -0.15255944]])"
      ]
     },
     "execution_count": 98,
     "metadata": {},
     "output_type": "execute_result"
    }
   ],
   "source": [
    "# Using PCA to reduce dimension to three principal components.\n",
    "pca = PCA(n_components=3)\n",
    "crypto_pca = pca.fit_transform(X_scaled)\n",
    "crypto_pca"
   ]
  },
  {
   "cell_type": "code",
   "execution_count": 99,
   "metadata": {},
   "outputs": [
    {
     "data": {
      "text/html": [
       "<div>\n",
       "<style scoped>\n",
       "    .dataframe tbody tr th:only-of-type {\n",
       "        vertical-align: middle;\n",
       "    }\n",
       "\n",
       "    .dataframe tbody tr th {\n",
       "        vertical-align: top;\n",
       "    }\n",
       "\n",
       "    .dataframe thead th {\n",
       "        text-align: right;\n",
       "    }\n",
       "</style>\n",
       "<table border=\"1\" class=\"dataframe\">\n",
       "  <thead>\n",
       "    <tr style=\"text-align: right;\">\n",
       "      <th></th>\n",
       "      <th>PC 1</th>\n",
       "      <th>PC 2</th>\n",
       "      <th>PC 3</th>\n",
       "    </tr>\n",
       "  </thead>\n",
       "  <tbody>\n",
       "    <tr>\n",
       "      <th>42</th>\n",
       "      <td>-0.229025</td>\n",
       "      <td>1.241870</td>\n",
       "      <td>-0.368501</td>\n",
       "    </tr>\n",
       "    <tr>\n",
       "      <th>404</th>\n",
       "      <td>-0.214712</td>\n",
       "      <td>1.240432</td>\n",
       "      <td>-0.368992</td>\n",
       "    </tr>\n",
       "    <tr>\n",
       "      <th>808</th>\n",
       "      <td>-0.133104</td>\n",
       "      <td>0.822269</td>\n",
       "      <td>-0.222332</td>\n",
       "    </tr>\n",
       "    <tr>\n",
       "      <th>1337</th>\n",
       "      <td>0.276687</td>\n",
       "      <td>1.954255</td>\n",
       "      <td>-0.441327</td>\n",
       "    </tr>\n",
       "    <tr>\n",
       "      <th>BTC</th>\n",
       "      <td>-0.180870</td>\n",
       "      <td>-1.470575</td>\n",
       "      <td>0.113556</td>\n",
       "    </tr>\n",
       "    <tr>\n",
       "      <th>ETH</th>\n",
       "      <td>-0.291178</td>\n",
       "      <td>-2.132446</td>\n",
       "      <td>0.188347</td>\n",
       "    </tr>\n",
       "    <tr>\n",
       "      <th>LTC</th>\n",
       "      <td>-0.276180</td>\n",
       "      <td>-1.051035</td>\n",
       "      <td>-0.032634</td>\n",
       "    </tr>\n",
       "    <tr>\n",
       "      <th>DASH</th>\n",
       "      <td>-0.242552</td>\n",
       "      <td>1.458089</td>\n",
       "      <td>-0.360343</td>\n",
       "    </tr>\n",
       "    <tr>\n",
       "      <th>XMR</th>\n",
       "      <td>-0.303340</td>\n",
       "      <td>-2.233091</td>\n",
       "      <td>0.158518</td>\n",
       "    </tr>\n",
       "    <tr>\n",
       "      <th>ETC</th>\n",
       "      <td>-0.291101</td>\n",
       "      <td>-2.132454</td>\n",
       "      <td>0.188344</td>\n",
       "    </tr>\n",
       "  </tbody>\n",
       "</table>\n",
       "</div>"
      ],
      "text/plain": [
       "          PC 1      PC 2      PC 3\n",
       "42   -0.229025  1.241870 -0.368501\n",
       "404  -0.214712  1.240432 -0.368992\n",
       "808  -0.133104  0.822269 -0.222332\n",
       "1337  0.276687  1.954255 -0.441327\n",
       "BTC  -0.180870 -1.470575  0.113556\n",
       "ETH  -0.291178 -2.132446  0.188347\n",
       "LTC  -0.276180 -1.051035 -0.032634\n",
       "DASH -0.242552  1.458089 -0.360343\n",
       "XMR  -0.303340 -2.233091  0.158518\n",
       "ETC  -0.291101 -2.132454  0.188344"
      ]
     },
     "execution_count": 99,
     "metadata": {},
     "output_type": "execute_result"
    }
   ],
   "source": [
    "# Create a DataFrame with the three principal components.\n",
    "pcs_df = pd.DataFrame(\n",
    "    data=crypto_pca, columns=[\"PC 1\", \"PC 2\", \"PC 3\"], index=crypto_df.index\n",
    ")\n",
    "pcs_df.head(10)"
   ]
  },
  {
   "cell_type": "markdown",
   "metadata": {},
   "source": [
    "### Deliverable 3: Clustering Crytocurrencies Using K-Means\n",
    "\n",
    "#### Finding the Best Value for `k` Using the Elbow Curve"
   ]
  },
  {
   "cell_type": "code",
   "execution_count": 100,
   "metadata": {},
   "outputs": [
    {
     "name": "stderr",
     "output_type": "stream",
     "text": [
      "C:\\Users\\sefah\\anaconda3\\envs\\PythonData\\lib\\site-packages\\sklearn\\cluster\\_kmeans.py:1037: UserWarning:\n",
      "\n",
      "KMeans is known to have a memory leak on Windows with MKL, when there are less chunks than available threads. You can avoid it by setting the environment variable OMP_NUM_THREADS=3.\n",
      "\n"
     ]
    },
    {
     "data": {},
     "metadata": {},
     "output_type": "display_data"
    },
    {
     "data": {
      "application/vnd.holoviews_exec.v0+json": "",
      "text/html": [
       "<div id='2027'>\n",
       "  <div class=\"bk-root\" id=\"d5ddc2a4-d9a8-4290-bd34-fa6df073d09a\" data-root-id=\"2027\"></div>\n",
       "</div>\n",
       "<script type=\"application/javascript\">(function(root) {\n",
       "  function embed_document(root) {\n",
       "    var docs_json = {\"b42bb881-ac3c-410d-878c-64aa59a52196\":{\"defs\":[{\"extends\":null,\"module\":null,\"name\":\"ReactiveHTML1\",\"overrides\":[],\"properties\":[]},{\"extends\":null,\"module\":null,\"name\":\"FlexBox1\",\"overrides\":[],\"properties\":[{\"default\":\"flex-start\",\"kind\":null,\"name\":\"align_content\"},{\"default\":\"flex-start\",\"kind\":null,\"name\":\"align_items\"},{\"default\":\"row\",\"kind\":null,\"name\":\"flex_direction\"},{\"default\":\"wrap\",\"kind\":null,\"name\":\"flex_wrap\"},{\"default\":\"flex-start\",\"kind\":null,\"name\":\"justify_content\"}]},{\"extends\":null,\"module\":null,\"name\":\"GridStack1\",\"overrides\":[],\"properties\":[{\"default\":\"warn\",\"kind\":null,\"name\":\"mode\"},{\"default\":null,\"kind\":null,\"name\":\"ncols\"},{\"default\":null,\"kind\":null,\"name\":\"nrows\"},{\"default\":true,\"kind\":null,\"name\":\"allow_resize\"},{\"default\":true,\"kind\":null,\"name\":\"allow_drag\"},{\"default\":[],\"kind\":null,\"name\":\"state\"}]},{\"extends\":null,\"module\":null,\"name\":\"click1\",\"overrides\":[],\"properties\":[{\"default\":\"\",\"kind\":null,\"name\":\"terminal_output\"},{\"default\":\"\",\"kind\":null,\"name\":\"debug_name\"},{\"default\":0,\"kind\":null,\"name\":\"clears\"}]},{\"extends\":null,\"module\":null,\"name\":\"NotificationAreaBase1\",\"overrides\":[],\"properties\":[{\"default\":\"bottom-right\",\"kind\":null,\"name\":\"position\"},{\"default\":0,\"kind\":null,\"name\":\"_clear\"}]},{\"extends\":null,\"module\":null,\"name\":\"NotificationArea1\",\"overrides\":[],\"properties\":[{\"default\":[],\"kind\":null,\"name\":\"notifications\"},{\"default\":\"bottom-right\",\"kind\":null,\"name\":\"position\"},{\"default\":0,\"kind\":null,\"name\":\"_clear\"},{\"default\":[{\"background\":\"#ffc107\",\"icon\":{\"className\":\"fas fa-exclamation-triangle\",\"color\":\"white\",\"tagName\":\"i\"},\"type\":\"warning\"},{\"background\":\"#007bff\",\"icon\":{\"className\":\"fas fa-info-circle\",\"color\":\"white\",\"tagName\":\"i\"},\"type\":\"info\"}],\"kind\":null,\"name\":\"types\"}]},{\"extends\":null,\"module\":null,\"name\":\"Notification\",\"overrides\":[],\"properties\":[{\"default\":null,\"kind\":null,\"name\":\"background\"},{\"default\":3000,\"kind\":null,\"name\":\"duration\"},{\"default\":null,\"kind\":null,\"name\":\"icon\"},{\"default\":\"\",\"kind\":null,\"name\":\"message\"},{\"default\":null,\"kind\":null,\"name\":\"notification_type\"},{\"default\":false,\"kind\":null,\"name\":\"_destroyed\"}]},{\"extends\":null,\"module\":null,\"name\":\"TemplateActions1\",\"overrides\":[],\"properties\":[{\"default\":0,\"kind\":null,\"name\":\"open_modal\"},{\"default\":0,\"kind\":null,\"name\":\"close_modal\"}]},{\"extends\":null,\"module\":null,\"name\":\"MaterialTemplateActions1\",\"overrides\":[],\"properties\":[{\"default\":0,\"kind\":null,\"name\":\"open_modal\"},{\"default\":0,\"kind\":null,\"name\":\"close_modal\"}]}],\"roots\":{\"references\":[{\"attributes\":{\"axis_label\":\"k\",\"coordinates\":null,\"formatter\":{\"id\":\"2073\"},\"group\":null,\"major_label_policy\":{\"id\":\"2074\"},\"ticker\":{\"id\":\"2071\"}},\"id\":\"2041\",\"type\":\"LinearAxis\"},{\"attributes\":{},\"id\":\"2073\",\"type\":\"BasicTickFormatter\"},{\"attributes\":{\"ticks\":[1,2,3,4,5,6,7,8,9,10]},\"id\":\"2071\",\"type\":\"FixedTicker\"},{\"attributes\":{},\"id\":\"2078\",\"type\":\"BasicTickFormatter\"},{\"attributes\":{\"line_color\":\"#30a2da\",\"line_width\":2,\"x\":{\"field\":\"k\"},\"y\":{\"field\":\"inertia\"}},\"id\":\"2070\",\"type\":\"Line\"},{\"attributes\":{},\"id\":\"2079\",\"type\":\"AllLabels\"},{\"attributes\":{\"source\":{\"id\":\"2062\"}},\"id\":\"2069\",\"type\":\"CDSView\"},{\"attributes\":{\"children\":[{\"id\":\"2028\"},{\"id\":\"2032\"},{\"id\":\"2089\"}],\"margin\":[0,0,0,0],\"name\":\"Row02058\",\"tags\":[\"embedded\"]},\"id\":\"2027\",\"type\":\"Row\"},{\"attributes\":{\"data\":{\"inertia\":{\"__ndarray__\":\"AFmAsaDzsEAz5juvofOnQB9pqGIWKJ5ABpy9LH+FjECZTEVWmjh9QMJA3HdPN3ZA+GMCOm/kcEDowPRVaIdrQL7OzCMXX2ZAyRtcFBtTYUA=\",\"dtype\":\"float64\",\"order\":\"little\",\"shape\":[10]},\"k\":[1,2,3,4,5,6,7,8,9,10]},\"selected\":{\"id\":\"2063\"},\"selection_policy\":{\"id\":\"2086\"}},\"id\":\"2062\",\"type\":\"ColumnDataSource\"},{\"attributes\":{\"end\":4759.730773740684,\"reset_end\":4759.730773740684,\"reset_start\":-281.5060096781573,\"start\":-281.5060096781573,\"tags\":[[[\"inertia\",\"inertia\",null]]]},\"id\":\"2030\",\"type\":\"Range1d\"},{\"attributes\":{\"tools\":[{\"id\":\"2031\"},{\"id\":\"2049\"},{\"id\":\"2050\"},{\"id\":\"2051\"},{\"id\":\"2052\"},{\"id\":\"2053\"}]},\"id\":\"2055\",\"type\":\"Toolbar\"},{\"attributes\":{\"line_alpha\":0.1,\"line_color\":\"#30a2da\",\"line_width\":2,\"x\":{\"field\":\"k\"},\"y\":{\"field\":\"inertia\"}},\"id\":\"2066\",\"type\":\"Line\"},{\"attributes\":{\"bottom_units\":\"screen\",\"coordinates\":null,\"fill_alpha\":0.5,\"fill_color\":\"lightgrey\",\"group\":null,\"left_units\":\"screen\",\"level\":\"overlay\",\"line_alpha\":1.0,\"line_color\":\"black\",\"line_dash\":[4,4],\"line_width\":2,\"right_units\":\"screen\",\"syncable\":false,\"top_units\":\"screen\"},\"id\":\"2054\",\"type\":\"BoxAnnotation\"},{\"attributes\":{},\"id\":\"2037\",\"type\":\"LinearScale\"},{\"attributes\":{\"margin\":[5,5,5,5],\"name\":\"HSpacer02063\",\"sizing_mode\":\"stretch_width\"},\"id\":\"2089\",\"type\":\"Spacer\"},{\"attributes\":{\"axis\":{\"id\":\"2045\"},\"coordinates\":null,\"dimension\":1,\"grid_line_color\":null,\"group\":null,\"ticker\":null},\"id\":\"2048\",\"type\":\"Grid\"},{\"attributes\":{},\"id\":\"2046\",\"type\":\"BasicTicker\"},{\"attributes\":{\"coordinates\":null,\"data_source\":{\"id\":\"2062\"},\"glyph\":{\"id\":\"2065\"},\"group\":null,\"hover_glyph\":null,\"muted_glyph\":{\"id\":\"2067\"},\"nonselection_glyph\":{\"id\":\"2066\"},\"selection_glyph\":{\"id\":\"2070\"},\"view\":{\"id\":\"2069\"}},\"id\":\"2068\",\"type\":\"GlyphRenderer\"},{\"attributes\":{},\"id\":\"2049\",\"type\":\"SaveTool\"},{\"attributes\":{},\"id\":\"2050\",\"type\":\"PanTool\"},{\"attributes\":{},\"id\":\"2063\",\"type\":\"Selection\"},{\"attributes\":{\"line_color\":\"#30a2da\",\"line_width\":2,\"x\":{\"field\":\"k\"},\"y\":{\"field\":\"inertia\"}},\"id\":\"2065\",\"type\":\"Line\"},{\"attributes\":{},\"id\":\"2053\",\"type\":\"ResetTool\"},{\"attributes\":{\"margin\":[5,5,5,5],\"name\":\"HSpacer02062\",\"sizing_mode\":\"stretch_width\"},\"id\":\"2028\",\"type\":\"Spacer\"},{\"attributes\":{\"axis\":{\"id\":\"2041\"},\"coordinates\":null,\"grid_line_color\":null,\"group\":null,\"ticker\":null},\"id\":\"2044\",\"type\":\"Grid\"},{\"attributes\":{\"callback\":null,\"renderers\":[{\"id\":\"2068\"}],\"tags\":[\"hv_created\"],\"tooltips\":[[\"k\",\"@{k}\"],[\"inertia\",\"@{inertia}\"]]},\"id\":\"2031\",\"type\":\"HoverTool\"},{\"attributes\":{},\"id\":\"2086\",\"type\":\"UnionRenderers\"},{\"attributes\":{},\"id\":\"2074\",\"type\":\"AllLabels\"},{\"attributes\":{\"coordinates\":null,\"group\":null,\"text\":\"Elbow Curve\",\"text_color\":\"black\",\"text_font_size\":\"12pt\"},\"id\":\"2033\",\"type\":\"Title\"},{\"attributes\":{},\"id\":\"2051\",\"type\":\"WheelZoomTool\"},{\"attributes\":{\"axis_label\":\"inertia\",\"coordinates\":null,\"formatter\":{\"id\":\"2078\"},\"group\":null,\"major_label_policy\":{\"id\":\"2079\"},\"ticker\":{\"id\":\"2046\"}},\"id\":\"2045\",\"type\":\"LinearAxis\"},{\"attributes\":{\"end\":10.0,\"reset_end\":10.0,\"reset_start\":1.0,\"start\":1.0,\"tags\":[[[\"k\",\"k\",null]]]},\"id\":\"2029\",\"type\":\"Range1d\"},{\"attributes\":{\"line_alpha\":0.2,\"line_color\":\"#30a2da\",\"line_width\":2,\"x\":{\"field\":\"k\"},\"y\":{\"field\":\"inertia\"}},\"id\":\"2067\",\"type\":\"Line\"},{\"attributes\":{},\"id\":\"2039\",\"type\":\"LinearScale\"},{\"attributes\":{\"below\":[{\"id\":\"2041\"}],\"center\":[{\"id\":\"2044\"},{\"id\":\"2048\"}],\"height\":300,\"left\":[{\"id\":\"2045\"}],\"margin\":[5,5,5,5],\"min_border_bottom\":10,\"min_border_left\":10,\"min_border_right\":10,\"min_border_top\":10,\"renderers\":[{\"id\":\"2068\"}],\"sizing_mode\":\"fixed\",\"title\":{\"id\":\"2033\"},\"toolbar\":{\"id\":\"2055\"},\"width\":700,\"x_range\":{\"id\":\"2029\"},\"x_scale\":{\"id\":\"2037\"},\"y_range\":{\"id\":\"2030\"},\"y_scale\":{\"id\":\"2039\"}},\"id\":\"2032\",\"subtype\":\"Figure\",\"type\":\"Plot\"},{\"attributes\":{\"overlay\":{\"id\":\"2054\"}},\"id\":\"2052\",\"type\":\"BoxZoomTool\"}],\"root_ids\":[\"2027\"]},\"title\":\"Bokeh Application\",\"version\":\"2.4.3\"}};\n",
       "    var render_items = [{\"docid\":\"b42bb881-ac3c-410d-878c-64aa59a52196\",\"root_ids\":[\"2027\"],\"roots\":{\"2027\":\"d5ddc2a4-d9a8-4290-bd34-fa6df073d09a\"}}];\n",
       "    root.Bokeh.embed.embed_items_notebook(docs_json, render_items);\n",
       "  }\n",
       "  if (root.Bokeh !== undefined && root.Bokeh.Panel !== undefined) {\n",
       "    embed_document(root);\n",
       "  } else {\n",
       "    var attempts = 0;\n",
       "    var timer = setInterval(function(root) {\n",
       "      if (root.Bokeh !== undefined && root.Bokeh.Panel !== undefined) {\n",
       "        clearInterval(timer);\n",
       "        embed_document(root);\n",
       "      } else if (document.readyState == \"complete\") {\n",
       "        attempts++;\n",
       "        if (attempts > 200) {\n",
       "          clearInterval(timer);\n",
       "          console.log(\"Bokeh: ERROR: Unable to run BokehJS code because BokehJS library is missing\");\n",
       "        }\n",
       "      }\n",
       "    }, 25, root)\n",
       "  }\n",
       "})(window);</script>"
      ],
      "text/plain": [
       ":Curve   [k]   (inertia)"
      ]
     },
     "execution_count": 100,
     "metadata": {
      "application/vnd.holoviews_exec.v0+json": {
       "id": "2027"
      }
     },
     "output_type": "execute_result"
    }
   ],
   "source": [
    "# Create an elbow curve to find the best value for K.\n",
    "inertia = []\n",
    "k = list(range(1, 11))\n",
    "for i in k:\n",
    "    km = KMeans(n_clusters=i, random_state=0)\n",
    "    km.fit(pcs_df)\n",
    "    inertia.append(km.inertia_)\n",
    "elbow_data = {\"k\": k, \"inertia\": inertia}\n",
    "df_elbow = pd.DataFrame(elbow_data)\n",
    "df_elbow.hvplot.line(x=\"k\", y=\"inertia\", title=\"Elbow Curve\", xticks=k)\n"
   ]
  },
  {
   "cell_type": "markdown",
   "metadata": {},
   "source": [
    "Running K-Means with `k=4`"
   ]
  },
  {
   "cell_type": "code",
   "execution_count": 101,
   "metadata": {},
   "outputs": [
    {
     "data": {
      "text/plain": [
       "array([0, 0, 0, 0, 2, 2, 2, 0, 2, 2, 2, 0, 2, 0, 0, 0, 2, 0, 2, 2, 0, 0,\n",
       "       0, 2, 0, 2, 0, 2, 2, 2, 2, 2, 0, 2, 2, 2, 2, 0, 2, 0, 2, 0, 2, 0,\n",
       "       0, 2, 0, 0, 0, 2, 0, 2, 2, 2, 2, 2, 2, 2, 0, 2, 0, 0, 2, 0, 2, 2,\n",
       "       2, 2, 2, 0, 0, 0, 2, 0, 2, 0, 2, 0, 0, 2, 2, 2, 2, 0, 0, 2, 2, 0,\n",
       "       2, 0, 0, 0, 2, 2, 2, 2, 0, 0, 0, 0, 0, 2, 2, 2, 0, 0, 2, 2, 2, 0,\n",
       "       0, 2, 0, 2, 0, 0, 2, 2, 2, 2, 2, 0, 0, 0, 2, 2, 0, 2, 2, 0, 0, 0,\n",
       "       2, 0, 0, 0, 2, 2, 0, 0, 2, 0, 2, 0, 0, 2, 0, 2, 0, 2, 0, 2, 0, 0,\n",
       "       0, 0, 2, 0, 2, 2, 0, 2, 2, 0, 2, 0, 0, 2, 2, 2, 2, 2, 2, 2, 2, 0,\n",
       "       0, 2, 0, 2, 0, 2, 2, 0, 2, 0, 0, 0, 2, 2, 0, 2, 0, 0, 2, 0, 0, 0,\n",
       "       2, 2, 0, 2, 2, 2, 0, 0, 2, 2, 0, 0, 2, 0, 0, 0, 0, 2, 2, 0, 2, 2,\n",
       "       2, 2, 2, 0, 2, 2, 0, 2, 0, 0, 0, 0, 2, 2, 0, 0, 0, 0, 0, 2, 0, 0,\n",
       "       0, 0, 0, 0, 0, 2, 0, 0, 0, 0, 0, 2, 0, 2, 0, 0, 0, 2, 0, 2, 0, 0,\n",
       "       2, 0, 2, 0, 0, 2, 0, 2, 0, 0, 0, 2, 0, 2, 2, 2, 0, 0, 2, 0, 0, 0,\n",
       "       2, 2, 2, 0, 0, 0, 2, 2, 2, 0, 0, 0, 0, 0, 0, 0, 2, 0, 0, 0, 0, 0,\n",
       "       0, 0, 0, 2, 0, 0, 0, 0, 0, 0, 2, 2, 0, 2, 0, 0, 0, 0, 0, 0, 2, 0,\n",
       "       2, 0, 2, 2, 0, 0, 2, 2, 0, 2, 2, 0, 2, 2, 2, 2, 0, 2, 0, 0, 0, 2,\n",
       "       0, 0, 0, 2, 0, 0, 0, 0, 0, 2, 0, 0, 2, 2, 0, 2, 0, 0, 0, 0, 0, 2,\n",
       "       0, 2, 0, 2, 2, 2, 2, 0, 2, 0, 0, 2, 0, 2, 0, 2, 2, 0, 2, 0, 2, 2,\n",
       "       2, 0, 2, 0, 2, 0, 2, 0, 0, 2, 0, 2, 2, 2, 2, 2, 2, 0, 0, 2, 0, 0,\n",
       "       0, 2, 0, 2, 0, 2, 0, 2, 0, 0, 0, 0, 2, 0, 0, 2, 0, 0, 0, 0, 0, 0,\n",
       "       2, 2, 2, 2, 2, 2, 0, 0, 0, 0, 0, 2, 0, 2, 2, 2, 0, 0, 2, 2, 2, 0,\n",
       "       0, 2, 0, 0, 2, 2, 0, 2, 0, 2, 2, 0, 0, 0, 2, 2, 2, 0, 0, 0, 2, 0,\n",
       "       2, 2, 0, 2, 2, 2, 2, 2, 2, 0, 3, 0, 2, 2, 2, 2, 2, 2, 0, 0, 0, 0,\n",
       "       0, 0, 2, 2, 2, 2, 2, 2, 0, 2, 0, 0, 2, 2, 0, 2, 0, 0, 0, 0, 0, 0,\n",
       "       0, 2, 0, 0, 2, 0, 0, 2, 2, 0, 2, 0, 2, 2, 2, 2, 0, 0, 2, 0, 2, 0,\n",
       "       0, 0, 0, 0, 0, 2, 2, 2, 0, 0, 0, 0, 0, 0, 0, 2, 0, 2, 2, 0, 2, 2,\n",
       "       0, 0, 0, 0, 2, 0, 2, 0, 0, 0, 2, 0, 0, 0, 2, 3, 0, 2, 0, 2, 2, 2,\n",
       "       2, 2, 0, 2, 0, 2, 0, 2, 0, 2, 2, 2, 2, 2, 2, 2, 0, 2, 0, 2, 0, 0,\n",
       "       2, 0, 0, 2, 0, 0, 0, 2, 2, 2, 2, 0, 0, 0, 0, 2, 2, 0, 2, 0, 0, 2,\n",
       "       0, 0, 0, 0, 2, 2, 0, 0, 0, 2, 0, 2, 2, 0, 0, 2, 0, 0, 0, 2, 2, 0,\n",
       "       0, 0, 0, 0, 2, 0, 0, 0, 2, 0, 2, 0, 2, 0, 2, 0, 3, 0, 1, 0, 0, 0,\n",
       "       2, 2, 0])"
      ]
     },
     "execution_count": 101,
     "metadata": {},
     "output_type": "execute_result"
    }
   ],
   "source": [
    "# Initialize the K-Means Model\n",
    "model = KMeans(n_clusters=4 , random_state=0)\n",
    "    \n",
    "# Fit the model\n",
    "model.fit(pcs_df)\n",
    "    \n",
    "# Predict clusters\n",
    "predictions= model.predict(pcs_df)\n",
    "\n",
    "model.labels_"
   ]
  },
  {
   "cell_type": "code",
   "execution_count": 102,
   "metadata": {
    "scrolled": true
   },
   "outputs": [
    {
     "name": "stdout",
     "output_type": "stream",
     "text": [
      "(685, 9)\n"
     ]
    },
    {
     "data": {
      "text/html": [
       "<div>\n",
       "<style scoped>\n",
       "    .dataframe tbody tr th:only-of-type {\n",
       "        vertical-align: middle;\n",
       "    }\n",
       "\n",
       "    .dataframe tbody tr th {\n",
       "        vertical-align: top;\n",
       "    }\n",
       "\n",
       "    .dataframe thead th {\n",
       "        text-align: right;\n",
       "    }\n",
       "</style>\n",
       "<table border=\"1\" class=\"dataframe\">\n",
       "  <thead>\n",
       "    <tr style=\"text-align: right;\">\n",
       "      <th></th>\n",
       "      <th>Algorithm</th>\n",
       "      <th>ProofType</th>\n",
       "      <th>TotalCoinsMined</th>\n",
       "      <th>TotalCoinSupply</th>\n",
       "      <th>PC 1</th>\n",
       "      <th>PC 2</th>\n",
       "      <th>PC 3</th>\n",
       "      <th>CoinName</th>\n",
       "      <th>Class</th>\n",
       "    </tr>\n",
       "  </thead>\n",
       "  <tbody>\n",
       "    <tr>\n",
       "      <th>42</th>\n",
       "      <td>Scrypt</td>\n",
       "      <td>PoW/PoS</td>\n",
       "      <td>4.199995e+01</td>\n",
       "      <td>4.200000e+01</td>\n",
       "      <td>-0.229025</td>\n",
       "      <td>1.241870</td>\n",
       "      <td>-0.368501</td>\n",
       "      <td>42 Coin</td>\n",
       "      <td>0</td>\n",
       "    </tr>\n",
       "    <tr>\n",
       "      <th>404</th>\n",
       "      <td>Scrypt</td>\n",
       "      <td>PoW/PoS</td>\n",
       "      <td>1.055185e+09</td>\n",
       "      <td>5.320000e+08</td>\n",
       "      <td>-0.214712</td>\n",
       "      <td>1.240432</td>\n",
       "      <td>-0.368992</td>\n",
       "      <td>404Coin</td>\n",
       "      <td>0</td>\n",
       "    </tr>\n",
       "    <tr>\n",
       "      <th>808</th>\n",
       "      <td>SHA-256</td>\n",
       "      <td>PoW/PoS</td>\n",
       "      <td>0.000000e+00</td>\n",
       "      <td>0.000000e+00</td>\n",
       "      <td>-0.133104</td>\n",
       "      <td>0.822269</td>\n",
       "      <td>-0.222332</td>\n",
       "      <td>808</td>\n",
       "      <td>0</td>\n",
       "    </tr>\n",
       "    <tr>\n",
       "      <th>1337</th>\n",
       "      <td>X13</td>\n",
       "      <td>PoW/PoS</td>\n",
       "      <td>2.927942e+10</td>\n",
       "      <td>3.141593e+11</td>\n",
       "      <td>0.276687</td>\n",
       "      <td>1.954255</td>\n",
       "      <td>-0.441327</td>\n",
       "      <td>EliteCoin</td>\n",
       "      <td>0</td>\n",
       "    </tr>\n",
       "    <tr>\n",
       "      <th>BTC</th>\n",
       "      <td>SHA-256</td>\n",
       "      <td>PoW</td>\n",
       "      <td>1.792718e+07</td>\n",
       "      <td>2.100000e+07</td>\n",
       "      <td>-0.180870</td>\n",
       "      <td>-1.470575</td>\n",
       "      <td>0.113556</td>\n",
       "      <td>Bitcoin</td>\n",
       "      <td>2</td>\n",
       "    </tr>\n",
       "    <tr>\n",
       "      <th>ETH</th>\n",
       "      <td>Ethash</td>\n",
       "      <td>PoW</td>\n",
       "      <td>1.076842e+08</td>\n",
       "      <td>0.000000e+00</td>\n",
       "      <td>-0.291178</td>\n",
       "      <td>-2.132446</td>\n",
       "      <td>0.188347</td>\n",
       "      <td>Ethereum</td>\n",
       "      <td>2</td>\n",
       "    </tr>\n",
       "    <tr>\n",
       "      <th>LTC</th>\n",
       "      <td>Scrypt</td>\n",
       "      <td>PoW</td>\n",
       "      <td>6.303924e+07</td>\n",
       "      <td>8.400000e+07</td>\n",
       "      <td>-0.276180</td>\n",
       "      <td>-1.051035</td>\n",
       "      <td>-0.032634</td>\n",
       "      <td>Litecoin</td>\n",
       "      <td>2</td>\n",
       "    </tr>\n",
       "    <tr>\n",
       "      <th>DASH</th>\n",
       "      <td>X11</td>\n",
       "      <td>PoW/PoS</td>\n",
       "      <td>9.031294e+06</td>\n",
       "      <td>2.200000e+07</td>\n",
       "      <td>-0.242552</td>\n",
       "      <td>1.458089</td>\n",
       "      <td>-0.360343</td>\n",
       "      <td>Dash</td>\n",
       "      <td>0</td>\n",
       "    </tr>\n",
       "    <tr>\n",
       "      <th>XMR</th>\n",
       "      <td>CryptoNight-V7</td>\n",
       "      <td>PoW</td>\n",
       "      <td>1.720114e+07</td>\n",
       "      <td>0.000000e+00</td>\n",
       "      <td>-0.303340</td>\n",
       "      <td>-2.233091</td>\n",
       "      <td>0.158518</td>\n",
       "      <td>Monero</td>\n",
       "      <td>2</td>\n",
       "    </tr>\n",
       "    <tr>\n",
       "      <th>ETC</th>\n",
       "      <td>Ethash</td>\n",
       "      <td>PoW</td>\n",
       "      <td>1.133597e+08</td>\n",
       "      <td>2.100000e+08</td>\n",
       "      <td>-0.291101</td>\n",
       "      <td>-2.132454</td>\n",
       "      <td>0.188344</td>\n",
       "      <td>Ethereum Classic</td>\n",
       "      <td>2</td>\n",
       "    </tr>\n",
       "  </tbody>\n",
       "</table>\n",
       "</div>"
      ],
      "text/plain": [
       "           Algorithm ProofType  TotalCoinsMined  TotalCoinSupply      PC 1  \\\n",
       "42            Scrypt   PoW/PoS     4.199995e+01     4.200000e+01 -0.229025   \n",
       "404           Scrypt   PoW/PoS     1.055185e+09     5.320000e+08 -0.214712   \n",
       "808          SHA-256   PoW/PoS     0.000000e+00     0.000000e+00 -0.133104   \n",
       "1337             X13   PoW/PoS     2.927942e+10     3.141593e+11  0.276687   \n",
       "BTC          SHA-256       PoW     1.792718e+07     2.100000e+07 -0.180870   \n",
       "ETH           Ethash       PoW     1.076842e+08     0.000000e+00 -0.291178   \n",
       "LTC           Scrypt       PoW     6.303924e+07     8.400000e+07 -0.276180   \n",
       "DASH             X11   PoW/PoS     9.031294e+06     2.200000e+07 -0.242552   \n",
       "XMR   CryptoNight-V7       PoW     1.720114e+07     0.000000e+00 -0.303340   \n",
       "ETC           Ethash       PoW     1.133597e+08     2.100000e+08 -0.291101   \n",
       "\n",
       "          PC 2      PC 3          CoinName  Class  \n",
       "42    1.241870 -0.368501           42 Coin      0  \n",
       "404   1.240432 -0.368992           404Coin      0  \n",
       "808   0.822269 -0.222332               808      0  \n",
       "1337  1.954255 -0.441327         EliteCoin      0  \n",
       "BTC  -1.470575  0.113556           Bitcoin      2  \n",
       "ETH  -2.132446  0.188347          Ethereum      2  \n",
       "LTC  -1.051035 -0.032634          Litecoin      2  \n",
       "DASH  1.458089 -0.360343              Dash      0  \n",
       "XMR  -2.233091  0.158518            Monero      2  \n",
       "ETC  -2.132454  0.188344  Ethereum Classic      2  "
      ]
     },
     "execution_count": 102,
     "metadata": {},
     "output_type": "execute_result"
    }
   ],
   "source": [
    "# Create a new DataFrame including predicted clusters and cryptocurrencies features.\n",
    "# Concatentate the crypto_df and pcs_df DataFrames on the same columns.\n",
    "clustered_df = pd.concat([crypto_df, pcs_df], axis=1)\n",
    "\n",
    "#  Add a new column, \"CoinName\" to the clustered_df DataFrame that holds the names of the cryptocurrencies. \n",
    "clustered_df[\"CoinName\"] = crypto_names\n",
    "\n",
    "#  Add a new column, \"Class\" to the clustered_df DataFrame that holds the predictions.\n",
    "clustered_df[\"Class\"] = model.labels_\n",
    "\n",
    "# Print the shape of the clustered_df\n",
    "print(clustered_df.shape)\n",
    "clustered_df.head(10)"
   ]
  },
  {
   "cell_type": "markdown",
   "metadata": {},
   "source": [
    "### Deliverable 4: Visualizing Cryptocurrencies Results\n",
    "\n",
    "#### 3D-Scatter with Clusters"
   ]
  },
  {
   "cell_type": "code",
   "execution_count": 103,
   "metadata": {},
   "outputs": [
    {
     "data": {
      "application/vnd.plotly.v1+json": {
       "config": {
        "plotlyServerURL": "https://plot.ly"
       },
       "data": [
        {
         "customdata": [
          [
           "Scrypt"
          ],
          [
           "Scrypt"
          ],
          [
           "SHA-256"
          ],
          [
           "X13"
          ],
          [
           "X11"
          ],
          [
           "SHA-512"
          ],
          [
           "SHA-256"
          ],
          [
           "X11"
          ],
          [
           "SHA-256"
          ],
          [
           "X15"
          ],
          [
           "X13"
          ],
          [
           "X13"
          ],
          [
           "Scrypt"
          ],
          [
           "Scrypt"
          ],
          [
           "Scrypt"
          ],
          [
           "Scrypt"
          ],
          [
           "Scrypt"
          ],
          [
           "Scrypt"
          ],
          [
           "Scrypt"
          ],
          [
           "Multiple"
          ],
          [
           "Scrypt"
          ],
          [
           "Scrypt"
          ],
          [
           "SHA-256"
          ],
          [
           "Groestl"
          ],
          [
           "X11"
          ],
          [
           "PoS"
          ],
          [
           "X11"
          ],
          [
           "NIST5"
          ],
          [
           "Scrypt"
          ],
          [
           "X11"
          ],
          [
           "X15"
          ],
          [
           "Scrypt"
          ],
          [
           "X11"
          ],
          [
           "X11"
          ],
          [
           "X11"
          ],
          [
           "X13"
          ],
          [
           "X11"
          ],
          [
           "SHA3"
          ],
          [
           "Scrypt"
          ],
          [
           "SHA-256"
          ],
          [
           "Scrypt"
          ],
          [
           "X13"
          ],
          [
           "X13"
          ],
          [
           "NeoScrypt"
          ],
          [
           "Scrypt"
          ],
          [
           "Scrypt"
          ],
          [
           "Scrypt"
          ],
          [
           "X15"
          ],
          [
           "Scrypt"
          ],
          [
           "X11"
          ],
          [
           "X11"
          ],
          [
           "Multiple"
          ],
          [
           "PHI1612"
          ],
          [
           "X11"
          ],
          [
           "Scrypt"
          ],
          [
           "Scrypt"
          ],
          [
           "X13"
          ],
          [
           "Scrypt"
          ],
          [
           "Scrypt"
          ],
          [
           "X11"
          ],
          [
           "Multiple"
          ],
          [
           "X13"
          ],
          [
           "Scrypt"
          ],
          [
           "Scrypt"
          ],
          [
           "Shabal256"
          ],
          [
           "Counterparty"
          ],
          [
           "SHA-256"
          ],
          [
           "Scrypt"
          ],
          [
           "Groestl"
          ],
          [
           "Scrypt"
          ],
          [
           "X13"
          ],
          [
           "Scrypt"
          ],
          [
           "SHA-256"
          ],
          [
           "Scrypt"
          ],
          [
           "X13"
          ],
          [
           "X13"
          ],
          [
           "X11"
          ],
          [
           "X11"
          ],
          [
           "X15"
          ],
          [
           "Scrypt"
          ],
          [
           "Scrypt"
          ],
          [
           "Scrypt"
          ],
          [
           "X11"
          ],
          [
           "SHA3"
          ],
          [
           "Scrypt"
          ],
          [
           "QUAIT"
          ],
          [
           "vDPOS"
          ],
          [
           "X11"
          ],
          [
           "X11"
          ],
          [
           "Scrypt"
          ],
          [
           "X11"
          ],
          [
           "X13"
          ],
          [
           "SHA-256"
          ],
          [
           "X13"
          ],
          [
           "X15"
          ],
          [
           "BLAKE256"
          ],
          [
           "SHA-256"
          ],
          [
           "X11"
          ],
          [
           "SHA-256"
          ],
          [
           "Quark"
          ],
          [
           "NIST5"
          ],
          [
           "Blake"
          ],
          [
           "Scrypt"
          ],
          [
           "Scrypt"
          ],
          [
           "Scrypt"
          ],
          [
           "SHA-256"
          ],
          [
           "X11"
          ],
          [
           "Scrypt"
          ],
          [
           "SHA-256"
          ],
          [
           "Scrypt"
          ],
          [
           "PoS"
          ],
          [
           "X11"
          ],
          [
           "X11"
          ],
          [
           "X11"
          ],
          [
           "PoS"
          ],
          [
           "SHA-256"
          ],
          [
           "SHA-256"
          ],
          [
           "NIST5"
          ],
          [
           "X15"
          ],
          [
           "X11"
          ],
          [
           "NIST5"
          ],
          [
           "Scrypt"
          ],
          [
           "Scrypt"
          ],
          [
           "POS 3.0"
          ],
          [
           "Scrypt"
          ],
          [
           "Scrypt"
          ],
          [
           "Scrypt"
          ],
          [
           "X13"
          ],
          [
           "X11"
          ],
          [
           "X11"
          ],
          [
           "X11"
          ],
          [
           "Scrypt"
          ],
          [
           "SHA-256"
          ],
          [
           "X11"
          ],
          [
           "Scrypt"
          ],
          [
           "Scrypt"
          ],
          [
           "X11"
          ],
          [
           "Scrypt"
          ],
          [
           "Scrypt"
          ],
          [
           "SHA-256D"
          ],
          [
           "PoS"
          ],
          [
           "Scrypt"
          ],
          [
           "X11"
          ],
          [
           "PoS"
          ],
          [
           "X13"
          ],
          [
           "X14"
          ],
          [
           "PoS"
          ],
          [
           "SHA-256D"
          ],
          [
           "DPoS"
          ],
          [
           "X11"
          ],
          [
           "Scrypt"
          ],
          [
           "X13"
          ],
          [
           "X11"
          ],
          [
           "PoS"
          ],
          [
           "SHA-256D"
          ],
          [
           "Scrypt"
          ],
          [
           "Scrypt"
          ],
          [
           "Scrypt"
          ],
          [
           "PoS"
          ],
          [
           "X11"
          ],
          [
           "SHA-256"
          ],
          [
           "Scrypt"
          ],
          [
           "X11"
          ],
          [
           "Scrypt"
          ],
          [
           "Scrypt"
          ],
          [
           "X11"
          ],
          [
           "Scrypt"
          ],
          [
           "Scrypt"
          ],
          [
           "Scrypt"
          ],
          [
           "Scrypt"
          ],
          [
           "Quark"
          ],
          [
           "QuBit"
          ],
          [
           "X11"
          ],
          [
           "X13"
          ],
          [
           "PoS"
          ],
          [
           "Scrypt"
          ],
          [
           "SHA-256"
          ],
          [
           "X11"
          ],
          [
           "X11"
          ],
          [
           "Scrypt"
          ],
          [
           "Scrypt"
          ],
          [
           "Scrypt"
          ],
          [
           "Scrypt"
          ],
          [
           "X13"
          ],
          [
           "Scrypt"
          ],
          [
           "Scrypt"
          ],
          [
           "X11"
          ],
          [
           "Blake2S"
          ],
          [
           "X11"
          ],
          [
           "Scrypt"
          ],
          [
           "PoS"
          ],
          [
           "X11"
          ],
          [
           "PoS"
          ],
          [
           "X11"
          ],
          [
           "Scrypt"
          ],
          [
           "Scrypt"
          ],
          [
           "Scrypt"
          ],
          [
           "SHA-256"
          ],
          [
           "X11"
          ],
          [
           "Scrypt"
          ],
          [
           "PoS"
          ],
          [
           "Scrypt"
          ],
          [
           "X11"
          ],
          [
           "X15"
          ],
          [
           "SHA-256"
          ],
          [
           "POS 3.0"
          ],
          [
           "536"
          ],
          [
           "NIST5"
          ],
          [
           "NIST5"
          ],
          [
           "Skein"
          ],
          [
           "X13"
          ],
          [
           "X11"
          ],
          [
           "Scrypt"
          ],
          [
           "X13"
          ],
          [
           "SkunkHash v2 Raptor"
          ],
          [
           "Skein"
          ],
          [
           "X11"
          ],
          [
           "Scrypt"
          ],
          [
           "VeChainThor Authority"
          ],
          [
           "PoS"
          ],
          [
           "Scrypt"
          ],
          [
           "Scrypt"
          ],
          [
           "SHA-512"
          ],
          [
           "Ouroboros"
          ],
          [
           "X11"
          ],
          [
           "NeoScrypt"
          ],
          [
           "Scrypt"
          ],
          [
           "Lyra2REv2"
          ],
          [
           "Scrypt"
          ],
          [
           "SHA-256"
          ],
          [
           "NIST5"
          ],
          [
           "PHI1612"
          ],
          [
           "Scrypt"
          ],
          [
           "Quark"
          ],
          [
           "POS 2.0"
          ],
          [
           "Scrypt"
          ],
          [
           "SkunkHash"
          ],
          [
           "X11"
          ],
          [
           "Quark"
          ],
          [
           "SHA-256"
          ],
          [
           "Quark"
          ],
          [
           "X11"
          ],
          [
           "DPoS"
          ],
          [
           "NIST5"
          ],
          [
           "X13"
          ],
          [
           "Scrypt"
          ],
          [
           "NIST5"
          ],
          [
           "Quark"
          ],
          [
           "Scrypt"
          ],
          [
           "Scrypt"
          ],
          [
           "X11"
          ],
          [
           "SHA-256"
          ],
          [
           "Scrypt"
          ],
          [
           "Quark"
          ],
          [
           "Scrypt"
          ],
          [
           "Scrypt"
          ],
          [
           "X11"
          ],
          [
           "Scrypt"
          ],
          [
           "Scrypt"
          ],
          [
           "POS 3.0"
          ],
          [
           "Scrypt"
          ],
          [
           "Scrypt"
          ],
          [
           "X13"
          ],
          [
           "SHA-256 + Hive"
          ],
          [
           "C11"
          ],
          [
           "Proof-of-Authority"
          ],
          [
           "X11"
          ],
          [
           "XEVAN"
          ],
          [
           "Scrypt"
          ],
          [
           "VBFT"
          ],
          [
           "NIST5"
          ],
          [
           "Scrypt"
          ],
          [
           "Scrypt"
          ],
          [
           "Scrypt"
          ],
          [
           "Equihash"
          ],
          [
           "Green Protocol"
          ],
          [
           "PoS"
          ],
          [
           "Scrypt"
          ],
          [
           "Scrypt"
          ],
          [
           "Semux BFT consensus"
          ],
          [
           "Scrypt"
          ],
          [
           "Quark"
          ],
          [
           "PoS"
          ],
          [
           "X16R"
          ],
          [
           "Scrypt"
          ],
          [
           "XEVAN"
          ],
          [
           "Scrypt"
          ],
          [
           "Scrypt"
          ],
          [
           "Scrypt"
          ],
          [
           "SHA-256D"
          ],
          [
           "Scrypt"
          ],
          [
           "X15"
          ],
          [
           "Scrypt"
          ],
          [
           "Quark"
          ],
          [
           "SHA-256"
          ],
          [
           "DPoS"
          ],
          [
           "X16R"
          ],
          [
           "Quark"
          ],
          [
           "Quark"
          ],
          [
           "Scrypt"
          ],
          [
           "Zhash"
          ],
          [
           "Lyra2REv2"
          ],
          [
           "Quark"
          ],
          [
           "Scrypt"
          ],
          [
           "Scrypt"
          ],
          [
           "X11"
          ],
          [
           "X11"
          ],
          [
           "Scrypt"
          ],
          [
           "PoS"
          ],
          [
           "Scrypt"
          ],
          [
           "Scrypt"
          ],
          [
           "Keccak"
          ],
          [
           "X11"
          ],
          [
           "Quark"
          ],
          [
           "Scrypt"
          ],
          [
           "SHA-512"
          ],
          [
           "NeoScrypt"
          ],
          [
           "XEVAN"
          ],
          [
           "XEVAN"
          ],
          [
           "X11"
          ],
          [
           "Quark"
          ],
          [
           "Quark"
          ],
          [
           "Scrypt"
          ],
          [
           "Quark"
          ],
          [
           "Quark"
          ],
          [
           "Scrypt"
          ],
          [
           "X11"
          ],
          [
           "Scrypt"
          ],
          [
           "XEVAN"
          ],
          [
           "SHA-256D"
          ],
          [
           "X11"
          ],
          [
           "X11"
          ],
          [
           "DPoS"
          ],
          [
           "X11"
          ],
          [
           "Scrypt"
          ],
          [
           "X11"
          ],
          [
           "QuBit"
          ],
          [
           "Scrypt"
          ],
          [
           "Scrypt"
          ],
          [
           "SHA-256"
          ],
          [
           "Scrypt"
          ],
          [
           "X11"
          ],
          [
           "Scrypt"
          ],
          [
           "SHA-256"
          ],
          [
           "X11"
          ],
          [
           "Scrypt"
          ],
          [
           "SHA-256"
          ],
          [
           "Scrypt"
          ],
          [
           "X11"
          ],
          [
           "Scrypt"
          ],
          [
           "PoS"
          ],
          [
           "X11"
          ],
          [
           "SHA-256"
          ],
          [
           "DPoS"
          ],
          [
           "Scrypt"
          ],
          [
           "Scrypt"
          ],
          [
           "NeoScrypt"
          ],
          [
           "Scrypt"
          ],
          [
           "SHA3-256"
          ],
          [
           "X13"
          ],
          [
           "DPoS"
          ],
          [
           "DPoS"
          ],
          [
           "SHA-256"
          ],
          [
           "PoS"
          ],
          [
           "PoS"
          ],
          [
           "SHA-256"
          ],
          [
           "Scrypt"
          ],
          [
           "Scrypt"
          ]
         ],
         "hovertemplate": "<b>%{hovertext}</b><br><br>Class=%{marker.color}<br>PC 1=%{x}<br>PC 2=%{y}<br>PC 3=%{z}<br>Algorithm=%{customdata[0]}<extra></extra>",
         "hovertext": [
          "42 Coin",
          "404Coin",
          "808",
          "EliteCoin",
          "Dash",
          "Bitshares",
          "BitcoinDark",
          "Bitstake",
          "PayCoin",
          "KoboCoin",
          "Aero Coin",
          "ApexCoin",
          "ArchCoin",
          "Aurora Coin",
          "BlueCoin",
          "EnergyCoin",
          "BitBar",
          "CashCoin",
          "CryptoBullion",
          "CinderCoin",
          "CoolCoin",
          "CasinoCoin",
          "eMark",
          "Diamond",
          "DarkCash",
          "Exclusive Coin",
          "Fuel2Coin",
          "FIBRE",
          "FlutterCoin",
          "GlyphCoin",
          "Halcyon",
          "HoboNickels",
          "HyperStake",
          "IOCoin",
          "JumBucks Coin",
          "JudgeCoin",
          "LibrexCoin",
          "MaxCoin",
          "MintCoin",
          "MazaCoin",
          "Nautilus Coin",
          "NavCoin",
          "OpalCoin",
          "Orbitcoin",
          "PotCoin",
          "PhoenixCoin",
          "Reddcoin",
          "ShieldCoin",
          "SilkCoin",
          "SuperCoin",
          "SyncCoin",
          "TeslaCoin",
          "TittieCoin",
          "TorCoin",
          "UnitaryStatus Dollar",
          "UltraCoin",
          "Utility Coin",
          "VeriCoin",
          "SocialXbotCoin",
          "X11 Coin",
          "Crypti",
          "StealthCoin",
          "XXXCoin",
          "ZCC Coin",
          "BurstCoin",
          "StorjCoin",
          "Neutron",
          "KryptCoin",
          "FairCoin",
          "RubyCoin",
          "Kore",
          "Dnotes",
          "MaieutiCoin",
          "8BIT Coin",
          "Sativa Coin",
          "AeroMe",
          "MasterTraderCoin",
          "Ucoin",
          "MaryJane Coin",
          "CyberCoin",
          "Vtorrent",
          "ViorCoin",
          "IslaCoin",
          "Nexus",
          "Singular",
          "Droidz",
          "CryptoCircuits",
          "Squall Coin",
          "Milllionaire Coin",
          "Diggits",
          "MapCoin",
          "Paycon",
          "Emercoin",
          "BlitzCoin",
          "EverGreenCoin",
          "Decred",
          "EDRCoin",
          "Hitcoin",
          "DubaiCoin",
          "BiosCrypto",
          "PWR Coin",
          "TrumpCoin",
          "BillaryCoin",
          "EthereumScrypt",
          "GPU Coin",
          "Universal Currency",
          "EuropeCoin",
          "ZeitCoin",
          "SwingCoin",
          "SafeExchangeCoin",
          "Nebuchadnezzar",
          "GIZMOcoin",
          "SecretCoin",
          "Ratecoin",
          "Digital Bullion Gold",
          "Revenu",
          "Clockcoin",
          "VIP Tokens",
          "OrlyCoin",
          "BitSend",
          "16BitCoin",
          "ChessCoin",
          "ReeCoin",
          "Let it Ride",
          "PutinCoin",
          "iBankCoin",
          "Frankywillcoin",
          "MudraCoin",
          "Lutetium Coin",
          "GoldBlocks",
          "WayCoin",
          "CarterCoin",
          "BitTokens",
          "MustangCoin",
          "ZoneCoin",
          "RootCoin",
          "PROUD Money",
          "BitCurrency",
          "Swiscoin",
          "BuzzCoin",
          "Opair",
          "PesoBit",
          "Halloween Coin",
          "CoffeeCoin",
          "RoyalCoin",
          "GanjaCoin V2",
          "TeamUP",
          "LanaCoin",
          "ARK",
          "InsaneCoin",
          "LuckChain",
          "EmberCoin",
          "XenixCoin",
          "FreeCoin",
          "NPCcoin",
          "PLNCoin",
          "Icobid",
          "AquariusCoin",
          "Creatio",
          "Eternity",
          "Eurocoin",
          "BitcoinFast",
          "Stakenet",
          "BitConnect Coin",
          "MoneyCoin",
          "Enigma",
          "Russiacoin",
          "PandaCoin",
          "GameUnits",
          "GAKHcoin",
          "Allsafe",
          "LiteCreed",
          "NeptuneClassic",
          "GoldenBird",
          "Ride My Car",
          "Klingon Empire Darsek",
          "Internet of People",
          "KushCoin",
          "Eryllium",
          "Printerium",
          "Impeach",
          "Zilbercoin",
          "FirstCoin",
          "FindCoin",
          "OpenChat",
          "RenosCoin",
          "VirtacoinPlus",
          "TajCoin",
          "Impact",
          "Universe",
          "Atmos",
          "HappyCoin",
          "MacronCoin",
          "Condensate",
          "Independent Money System",
          "ArgusCoin",
          "LomoCoin",
          "ProCurrency",
          "GoldReserve",
          "GrowthCoin",
          "Phreak",
          "Degas Coin",
          "ZSEcoin",
          "HTML5 Coin",
          "Ultimate Secure Cash",
          "QTUM",
          "Espers",
          "Denarius",
          "Virta Unique Coin",
          "Bitcoin Planet",
          "BritCoin",
          "Octanox",
          "Linda",
          "DeepOnion",
          "Signatum",
          "Cream",
          "Monoeci",
          "Draftcoin",
          "Vechain",
          "Stakecoin",
          "CoinonatX",
          "Ethereum Dark",
          "Obsidian",
          "Cardano",
          "Regalcoin",
          "TrezarCoin",
          "TerraNovaCoin",
          "Rupee",
          "WomenCoin",
          "Theresa May Coin",
          "NamoCoin",
          "LUXCoin",
          "Xios",
          "Bitcloud 2.0",
          "KekCoin",
          "BlackholeCoin",
          "AltCommunity Coin",
          "Pure",
          "Rupaya",
          "Infinity Economics",
          "Castle",
          "Magnet",
          "Lamden Tau",
          "Electra",
          "Bitcoin Diamond",
          "Cash & Back Coin",
          "Bulwark",
          "Kalkulus",
          "GermanCoin",
          "LiteCoin Ultra",
          "PhantomX",
          "HTML Coin",
          "Fantasy Cash",
          "Digiwage",
          "Trollcoin",
          "Litecoin Plus",
          "Monkey Project",
          "OP Coin",
          "Valorbit",
          "TokenPay",
          "My Big Coin",
          "Unified Society USDEX",
          "Tokyo Coin",
          "LitecoinCash",
          "Stipend",
          "Poa Network",
          "Pushi",
          "Ellerium",
          "Velox",
          "Ontology",
          "Bitspace",
          "Briacoin",
          "Ignition",
          "MedicCoin",
          "Zelcash",
          "Bitcoin Green",
          "Deviant Coin",
          "Abjcoin",
          "Profit Hunters Coin",
          "Semux",
          "BitBlocks",
          "Carebit",
          "Zealium",
          "Proton",
          "iDealCash",
          "Bitcoin Incognito",
          "HollyWoodCoin",
          "Swisscoin",
          "Xt3ch",
          "TheVig",
          "EmaratCoin",
          "Dekado",
          "Lynx",
          "Poseidon Quark",
          "BitcoinWSpectrum",
          "Muse",
          "Trivechain",
          "Dystem",
          "Giant",
          "Peony Coin",
          "SafeCoin",
          "Absolute Coin",
          "Vitae",
          "TPCash",
          "MUSDcoin",
          "ARENON",
          "EUNO",
          "MMOCoin",
          "Ketan",
          "Safe Trade Coin",
          "Mont Blanc",
          "XDNA",
          "PAXEX",
          "Apollon",
          "ThunderStake",
          "Kcash",
          "Traid",
          "Bettex coin",
          "BitMoney",
          "Junson Ming Chan Coin",
          "Zenad",
          "HerbCoin",
          "Oduwa",
          "Galilel",
          "Crypto Sports",
          "Credit",
          "Dash Platinum",
          "Nasdacoin",
          "Beetle Coin",
          "Titan Coin",
          "Award",
          "Insane Coin",
          "ALAX",
          "The Freedom Coin",
          "LiteDoge",
          "TruckCoin",
          "Ascension Coin",
          "OrangeCoin",
          "BitstarCoin",
          "NeosCoin",
          "HyperCoin",
          "PinkCoin",
          "AudioCoin",
          "IncaKoin",
          "Piggy Coin",
          "Genstake",
          "ParkByte",
          "XiaoMiCoin",
          "CapriCoin",
          " ClubCoin",
          "Radium",
          "Creditbit ",
          "OKCash",
          "Lisk",
          "HiCoin",
          "WhiteCoin",
          "FriendshipCoin",
          "The Hempcoin",
          "Fiii",
          "Triangles Coin",
          "EOS",
          "Oxycoin",
          "TigerCash",
          "Particl",
          "Nxt",
          "ZEPHYR",
          "Gapcoin",
          "BitcoinPlus"
         ],
         "legendgroup": "0",
         "marker": {
          "color": [
           0,
           0,
           0,
           0,
           0,
           0,
           0,
           0,
           0,
           0,
           0,
           0,
           0,
           0,
           0,
           0,
           0,
           0,
           0,
           0,
           0,
           0,
           0,
           0,
           0,
           0,
           0,
           0,
           0,
           0,
           0,
           0,
           0,
           0,
           0,
           0,
           0,
           0,
           0,
           0,
           0,
           0,
           0,
           0,
           0,
           0,
           0,
           0,
           0,
           0,
           0,
           0,
           0,
           0,
           0,
           0,
           0,
           0,
           0,
           0,
           0,
           0,
           0,
           0,
           0,
           0,
           0,
           0,
           0,
           0,
           0,
           0,
           0,
           0,
           0,
           0,
           0,
           0,
           0,
           0,
           0,
           0,
           0,
           0,
           0,
           0,
           0,
           0,
           0,
           0,
           0,
           0,
           0,
           0,
           0,
           0,
           0,
           0,
           0,
           0,
           0,
           0,
           0,
           0,
           0,
           0,
           0,
           0,
           0,
           0,
           0,
           0,
           0,
           0,
           0,
           0,
           0,
           0,
           0,
           0,
           0,
           0,
           0,
           0,
           0,
           0,
           0,
           0,
           0,
           0,
           0,
           0,
           0,
           0,
           0,
           0,
           0,
           0,
           0,
           0,
           0,
           0,
           0,
           0,
           0,
           0,
           0,
           0,
           0,
           0,
           0,
           0,
           0,
           0,
           0,
           0,
           0,
           0,
           0,
           0,
           0,
           0,
           0,
           0,
           0,
           0,
           0,
           0,
           0,
           0,
           0,
           0,
           0,
           0,
           0,
           0,
           0,
           0,
           0,
           0,
           0,
           0,
           0,
           0,
           0,
           0,
           0,
           0,
           0,
           0,
           0,
           0,
           0,
           0,
           0,
           0,
           0,
           0,
           0,
           0,
           0,
           0,
           0,
           0,
           0,
           0,
           0,
           0,
           0,
           0,
           0,
           0,
           0,
           0,
           0,
           0,
           0,
           0,
           0,
           0,
           0,
           0,
           0,
           0,
           0,
           0,
           0,
           0,
           0,
           0,
           0,
           0,
           0,
           0,
           0,
           0,
           0,
           0,
           0,
           0,
           0,
           0,
           0,
           0,
           0,
           0,
           0,
           0,
           0,
           0,
           0,
           0,
           0,
           0,
           0,
           0,
           0,
           0,
           0,
           0,
           0,
           0,
           0,
           0,
           0,
           0,
           0,
           0,
           0,
           0,
           0,
           0,
           0,
           0,
           0,
           0,
           0,
           0,
           0,
           0,
           0,
           0,
           0,
           0,
           0,
           0,
           0,
           0,
           0,
           0,
           0,
           0,
           0,
           0,
           0,
           0,
           0,
           0,
           0,
           0,
           0,
           0,
           0,
           0,
           0,
           0,
           0,
           0,
           0,
           0,
           0,
           0,
           0,
           0,
           0,
           0,
           0,
           0,
           0,
           0,
           0,
           0,
           0,
           0,
           0,
           0,
           0,
           0,
           0,
           0,
           0,
           0,
           0,
           0,
           0,
           0,
           0,
           0,
           0,
           0,
           0,
           0,
           0,
           0,
           0,
           0,
           0,
           0,
           0,
           0,
           0,
           0,
           0,
           0,
           0,
           0,
           0,
           0,
           0,
           0,
           0,
           0,
           0,
           0,
           0,
           0,
           0,
           0
          ],
          "coloraxis": "coloraxis",
          "symbol": "circle"
         },
         "mode": "markers",
         "name": "0",
         "scene": "scene",
         "showlegend": true,
         "type": "scatter3d",
         "x": [
          -0.2290253373553048,
          -0.21471173950196343,
          -0.13310409968276343,
          0.2766874467767723,
          -0.24255226816333106,
          0.08721443531244685,
          -0.13308661631269378,
          -0.24267477775531168,
          0.029844871551953207,
          -0.1279406615529106,
          0.042298746783154026,
          -0.12048750757647601,
          -0.06623908360981424,
          -0.2287793350539158,
          -0.22040580262838164,
          -0.2273559890729786,
          -0.22902476033519648,
          -0.22902533806179035,
          -0.22901124229403627,
          -0.18807968172370707,
          -0.06623908385083073,
          0.3467971840494038,
          -0.13310409968276843,
          -0.23375535516566542,
          -0.2426747777622888,
          0.0791030024790776,
          -0.07988852367735884,
          -0.1555606965382169,
          -0.18321515111741085,
          -0.2426747777717454,
          -0.1282871454448069,
          -0.22781443089764505,
          -0.057119371695912094,
          -0.24243534288656013,
          -0.2426747777610579,
          -0.12048750762145215,
          -0.24267477775444704,
          -0.4808878960354955,
          0.22261335334105453,
          -0.11121239432663918,
          -0.06601960165216589,
          -0.119591035049384,
          -0.12028191123628658,
          -0.2190705284791869,
          -0.22600471902801297,
          -0.22802207947251063,
          0.16864079637584037,
          -0.12828714544769027,
          -0.22902533792791857,
          -0.07920067315197393,
          -0.24267476178554317,
          -0.024204692855423402,
          0.035235887878035776,
          -0.2426553546988355,
          -0.21411803316344286,
          -0.22834389677626046,
          -0.12048750755917749,
          -0.19057514067987155,
          -0.22902533793080157,
          -0.24258048963318116,
          -0.02393692544411009,
          -0.120038590648294,
          -0.22902533806918954,
          -0.22701785087924406,
          -0.3134079816337577,
          0.14258523260986936,
          -0.1325734134782939,
          -0.06623908361153495,
          -0.23307860541936662,
          -0.0658703255185556,
          -0.12046007282545762,
          -0.06387000769443822,
          0.029682154679739017,
          -0.22900542663855492,
          -0.12039123892207129,
          -0.12048750759377433,
          -0.24267477778071153,
          -0.07985203610420698,
          -0.1282871454448069,
          -0.22902533792503524,
          -0.2288679197444362,
          -0.22902533792503524,
          -0.24265424433275984,
          -0.8384640014463257,
          -0.22902533792503524,
          -0.23631551217611932,
          0.13406687523125688,
          -0.1996490174963984,
          -0.2426747777515637,
          -0.06488258226241791,
          -0.07988852339547683,
          -0.12017493441405981,
          -0.13251999576535467,
          0.04229874679222938,
          -0.12810360330789386,
          -0.04272826841979314,
          -0.13305432031802958,
          -0.09350962461750015,
          -0.1330345245566609,
          0.047757281179511404,
          -0.018968460473947124,
          -0.053143442660010656,
          -0.22890326995112076,
          -0.2290253379371446,
          -0.06569001248216265,
          -0.13310410028821526,
          -0.2425336040786794,
          0.4352760352432685,
          -0.13304472461653202,
          -0.16667265577388068,
          0.07929725745055666,
          -0.242674777751852,
          -0.24267477781210853,
          -0.24084953805379128,
          0.07902595714728965,
          -0.13308788300928753,
          -0.13287806977841118,
          -0.15442869075366292,
          -0.12828714554859794,
          -0.24234395828207705,
          -0.1555606965825469,
          -0.22902533814030548,
          -0.22902533893411336,
          0.10784077038375435,
          -0.21799573320315535,
          -0.22896393839589527,
          -0.22766883662493057,
          0.04236657130614001,
          -0.07097630984736321,
          -0.24246365371125425,
          -0.07988852367735884,
          -0.22843979749136636,
          -0.13309602273947022,
          -0.24266585691274042,
          -0.2289903135215178,
          -0.22899902329993693,
          -0.2426748065823669,
          -0.06393847564255668,
          -0.15641956359796597,
          0.07807936522361521,
          0.08003022674232377,
          -0.22857059848084751,
          -0.23908441458531285,
          0.08104330304648946,
          0.042332661017899745,
          -0.1650384576619898,
          0.07926766702933634,
          -0.17281404055930372,
          7.079342850216626,
          -0.24242595728835167,
          -0.22902534080811576,
          1.1301095946301853,
          -0.2426225073237355,
          0.07970420784058826,
          -0.18749359244073108,
          -0.2287935173406961,
          -0.22902533850165158,
          -0.2289921094895764,
          0.07929725745055666,
          -0.2425924453037626,
          -0.132935668988194,
          -0.22875072751793218,
          -0.28391326774195985,
          -0.2288750278307107,
          -0.22887728554740436,
          -0.24266372674092382,
          -0.22891169235987893,
          0.3924366557297984,
          -0.22897822689295508,
          -0.22898035920414156,
          0.2106862093112614,
          -0.16443248901090735,
          -0.2426747784723338,
          -0.12048750885656363,
          0.07902595690222793,
          -0.22870024871472652,
          -0.13306983344867157,
          -0.24259801203841674,
          -0.2426747780398719,
          -0.22886497605459918,
          -0.22902115753524083,
          -0.066199438416244,
          -0.23553886301776286,
          0.04249577660253648,
          -0.21546032492398878,
          -0.06575005988792314,
          -0.24249622513944402,
          -0.31163874623644167,
          -0.24117407510024388,
          -0.06623908388542771,
          0.08053351626525566,
          -0.24238284096496004,
          0.08447124371809726,
          -0.24102438540900506,
          -0.22895250831120093,
          -0.22900976097419135,
          -0.22901855830017379,
          0.031045843076727534,
          -0.24244184779730474,
          -0.062235572039515255,
          0.07918046570030832,
          -0.22873560625483344,
          -0.24267478378729246,
          0.42325284721099404,
          0.029822458595022337,
          0.10867380041292507,
          0.34599743283656786,
          -0.1555041117021596,
          -0.15470688663523252,
          -0.2741289119775742,
          -0.12019900563986471,
          -0.24267477777435636,
          -0.10633085016313783,
          -0.12019020291569134,
          0.1223967399041939,
          -0.2735791566037549,
          -0.24250427553302234,
          -0.06598591568771624,
          7.4963910356447885,
          0.07908021707647456,
          -0.22876028324256037,
          -0.2289683648704307,
          0.05036413022935678,
          0.8393641268440525,
          -0.24257626323034176,
          -0.2166367245354828,
          -0.22900986388312997,
          -0.015179987815070482,
          0.4283281035728708,
          -0.13185542940692976,
          -0.1479566510127567,
          -0.1494445766646367,
          -0.22899617743371406,
          0.04817388333186383,
          0.11431193320355987,
          -0.22880337978495016,
          -0.23772044279178042,
          -0.2426747777621933,
          0.21054353538400422,
          0.1517672715535129,
          4.285874255605141,
          -0.24215661362104995,
          7.081783039271436,
          0.22967414063839572,
          -0.1179978662017164,
          -0.2275199340707255,
          0.007405255938124241,
          0.21077354076279733,
          -0.16240090290961157,
          -0.2289111290312782,
          -0.24206198896379175,
          -0.1331043591599968,
          -0.2290253379382976,
          0.21091385584709701,
          -0.2210081075553075,
          -0.22899136454110733,
          -0.07982873900621,
          -0.22902534369119595,
          -0.4949425605140946,
          0.10759464747722249,
          -0.15411664542302653,
          -0.22583964526824726,
          0.04542275307259362,
          0.40328770614624165,
          -0.2712660639445056,
          0.2893046629589919,
          -0.2426453712145951,
          -0.17258886390105993,
          -0.06589222628569368,
          0.1605707810231603,
          -0.15537366421353768,
          -0.22901386684331265,
          -0.22900930200844585,
          -0.06261318777909357,
          -0.24891899756302582,
          0.047468586230170765,
          0.07932271318497669,
          -0.22889130883991146,
          -0.22902533821334345,
          7.558745085214341,
          -0.22902533936657563,
          0.049652850507360964,
          0.07917619295758169,
          -0.03018914941190419,
          -0.20997793350108734,
          -0.12942533061653136,
          -0.06571402515224521,
          -0.09066220531436146,
          -0.06613558261797332,
          -0.18704269605732038,
          -0.22873234278146604,
          0.034909914263013674,
          1.7178423506515768,
          0.21058037990346612,
          0.030466361537535146,
          3.002791181983515,
          -0.19253427878190751,
          0.21063960830302453,
          0.04783757919560227,
          -0.06622499731345179,
          -0.20116403151174866,
          -0.1781109454668188,
          0.21143955721112656,
          -0.22895203814142423,
          -0.22902533821334345,
          -0.0796271323392048,
          -0.2422573670830796,
          -0.06477726573208534,
          0.07915247927335695,
          -0.0662390859843103,
          -0.06623908376433832,
          -0.24725509401648846,
          -0.07982741817777146,
          0.047757280516952105,
          -0.21464709588294353,
          -0.024704675284474082,
          -0.2191142169058383,
          -0.009716225727824835,
          -0.09214733796495313,
          0.15356436535031018,
          0.3258444361229564,
          0.04823629144255271,
          -0.2288248802933211,
          0.04800504635055084,
          0.21056977982064407,
          0.18912569221044478,
          -0.07987881551414391,
          -0.22874662418573624,
          -0.16989595355855633,
          -0.17533443319273614,
          -0.24246560323599994,
          -0.24235225655864487,
          7.091440100589903,
          -0.0798885234611278,
          -0.021224492251738905,
          -0.23938425616112455,
          -0.1648425286925106,
          -0.22897735700571684,
          -0.2287462170980399,
          0.02974173567208076,
          -0.22889469054414593,
          -0.2367556353457967,
          -0.2157217158636888,
          0.11024855496626929,
          -0.23597039814938503,
          -0.22821143701523386,
          -0.13310409975484547,
          -0.22354077966527935,
          -0.23994326805119381,
          -0.22761970599017917,
          0.0790777924237687,
          -0.3099750708721083,
          -0.13209111797829645,
          7.0795030537131876,
          0.06941436547935798,
          -0.22560687930879908,
          -0.2190990183123822,
          -0.2290253387899596,
          -0.7261129133880619,
          -0.12048559790706286,
          7.091718790254789,
          7.093100221090833,
          0.043247167680791336,
          0.07915188307404286,
          -0.007877183777459162,
          4.132142900767218,
          -0.22882279876755077,
          -0.066237342807662
         ],
         "y": [
          1.241870239861198,
          1.2404324113956888,
          0.8222690507722947,
          1.954255106489515,
          1.4580889377868456,
          1.3229739349369218,
          0.8222672948097285,
          1.4581012439028118,
          0.34739939922394625,
          2.1042662593309394,
          1.519294924076315,
          1.994148230471636,
          0.7670169337264225,
          1.2418455285547874,
          1.2410043868650662,
          1.2417025498109142,
          1.2418701819046036,
          1.2418702405445121,
          1.2418688239913083,
          0.5366233683388132,
          0.7670169348298155,
          0.4408368816555486,
          0.8222690507722998,
          1.1166755876574943,
          1.4581012439347534,
          1.3070795880954098,
          0.9832479387970312,
          1.7854740672964717,
          0.4295482682093965,
          1.4581012439780465,
          2.10430105995301,
          1.2417486029440292,
          0.980960721422247,
          1.4580771923615499,
          1.4581012439291174,
          1.99414823067754,
          1.458101243898852,
          2.138712224167167,
          0.7380010114376857,
          0.8200700075428502,
          0.7669948862329699,
          1.9940581775725215,
          1.9941275777472804,
          0.699336249090653,
          1.2415668169065808,
          1.2417694614588315,
          1.2019237202098572,
          2.1043010599662093,
          1.2418702399316366,
          0.9831788412663128,
          1.4581012422818411,
          0.06166069574969241,
          1.4706955987612647,
          1.4580992929223815,
          1.240372785953141,
          1.2418017888068882,
          1.9941482303924423,
          0.3829877950989443,
          1.2418702399448351,
          1.458091772488369,
          0.06163379657822065,
          1.9941031356089503,
          1.2418702405783861,
          1.2416685959253848,
          0.7193337107498271,
          1.2555120105848707,
          0.8222157429444222,
          0.7670169337343,
          1.1166076064611292,
          0.7669798908774167,
          1.9941454746623621,
          0.7667789605952431,
          0.34741574436380673,
          1.241868239781817,
          1.9941385601053807,
          1.9941482305508296,
          1.4581012440190948,
          0.9832442724997941,
          2.10430105995301,
          1.2418702399184367,
          1.2418544271417404,
          1.2418702399184367,
          1.4580991812543442,
          2.133482799463963,
          1.2418702399184367,
          2.1912875396000753,
          1.240582095409328,
          0.869145413719912,
          1.458101243885653,
          0.7668806709824257,
          0.9832479375065528,
          1.9941168323136422,
          0.8222103890381987,
          1.5192949240347673,
          2.104282623043369,
          1.1139939233571936,
          0.822264050599382,
          1.4431175882056533,
          0.8222620619190797,
          1.6070467381804514,
          1.7717530486264348,
          -0.006280699788006793,
          1.2418579784390371,
          1.2418702399738726,
          0.7669617808528479,
          0.8222690535440851,
          1.4580870676078388,
          0.7166398115439678,
          0.8222630869204545,
          0.4924156734779533,
          1.3070600749744639,
          1.4581012438869725,
          1.4581012441628318,
          1.457917895135912,
          1.3070873276779473,
          0.8222674246436804,
          0.8222463523021476,
          1.7853603557463535,
          2.1043010604281736,
          1.4580680140686149,
          1.7854740674994192,
          1.241870240903961,
          1.2418702445380791,
          1.2206547305758713,
          1.240762315413022,
          1.2418640727603636,
          1.2417339773909455,
          1.5192881134313485,
          0.9823526926715144,
          1.4580800366134499,
          0.9832479387970312,
          1.2418114221353,
          0.8222682396950146,
          1.458100347804664,
          1.2418667219039552,
          1.2418675965510506,
          1.4581013758754302,
          0.7667858319106369,
          0.47620536829850907,
          2.157169252825494,
          1.3069864471431794,
          1.2418245602474698,
          1.4577406026336452,
          1.3068846807527237,
          1.5192915172517696,
          2.197059593011699,
          1.3070630510309824,
          2.1823719376280697,
          0.425778812360937,
          1.458076249658909,
          1.2418702531174146,
          1.8685227543524663,
          1.458095993245194,
          1.3070191962162163,
          2.183846527391579,
          1.2418469534806624,
          1.2418702425582324,
          1.2418669025843634,
          1.3070600749744639,
          1.4580929741677975,
          0.822252131762086,
          1.241842655068524,
          0.8478690574046887,
          1.2418551412693795,
          1.2418553761005955,
          1.4581001338496,
          1.2418588258070107,
          0.7209422719786899,
          1.2418655076697687,
          1.2418657217405393,
          1.1321790997816288,
          1.1290882109454863,
          1.4581012471853976,
          1.994148236331982,
          1.30708732879986,
          1.241837590379998,
          0.8222656089177597,
          1.458093532705875,
          1.4581012452055513,
          1.241854131441016,
          1.241869820271372,
          0.7670129517696294,
          0.4508540512737051,
          1.519275132054178,
          1.2405076146435219,
          0.7669678103499643,
          1.4580833091372243,
          2.152767931628252,
          1.4579504961146736,
          0.7670169349882034,
          1.3069358909685052,
          1.4580719194241714,
          1.3065403405143063,
          1.4579354644597884,
          1.2418629242823833,
          1.2418686755454647,
          1.2418695717981776,
          0.34727972678658287,
          1.4580778460278492,
          0.7666147969663978,
          1.3070718071157923,
          1.2418411370307485,
          1.4581012715177128,
          2.0488987028982386,
          0.3474016530809733,
          1.220571051564202,
          2.0072598661959025,
          1.7854683833346225,
          1.7853883015790912,
          1.474844190680148,
          1.994119250067986,
          1.4581012439899996,
          1.2295459289703579,
          1.994118365669852,
          1.2379747007477109,
          1.4747889664305045,
          1.4580841166504193,
          0.7669915024126401,
          1.1747291262704846,
          1.3070818777391233,
          1.2418436151609415,
          1.241864516892282,
          1.3266755914183341,
          1.2066113236937215,
          1.4580913482135895,
          0.6990917727454857,
          1.2418686857168146,
          0.3166482330989079,
          1.175837828302528,
          0.822143620130565,
          1.784710238116388,
          1.9477482023281913,
          1.2418673109480396,
          1.6070048918134088,
          1.322515372844021,
          1.24184794388029,
          0.7481966449228403,
          1.458101243934316,
          1.132193432495361,
          0.33515211690317354,
          0.6583146797204079,
          1.4580491949113359,
          0.4255336943419319,
          1.7467766885582938,
          1.9938981426406441,
          1.241719021191246,
          1.3106027101299265,
          1.1321703271918082,
          1.2351783006356896,
          1.2418587692967542,
          1.458039688423431,
          0.8222702386802909,
          1.2418702399791526,
          1.1321562334950221,
          1.2410649014621462,
          1.241866827261942,
          0.9832419322631727,
          1.2418702663163923,
          2.4592610513660076,
          1.2206794541041093,
          0.4542702885398877,
          1.2415502324233951,
          1.5189811203674033,
          2.637829971540542,
          1.1398151109916763,
          2.7371186711607756,
          1.4580982902510164,
          1.5307348559524077,
          0.7669820924629155,
          1.2411745052824898,
          1.785455280086996,
          1.241869087659414,
          1.241868629136591,
          0.7666527100116812,
          0.2260682050792217,
          1.2030304137455519,
          1.3070575187625484,
          1.2418567767617334,
          1.2418702412383347,
          0.3329033543471322,
          1.241870246517926,
          1.6068563260032274,
          1.3070722369685448,
          0.4941054542851178,
          1.2399569484499084,
          0.9417651856510114,
          0.7669641904653103,
          1.227971462114306,
          0.7670065371590958,
          2.1838011446906904,
          1.2418408089359028,
          1.6294064883212755,
          0.24446064830232694,
          1.1321897387976434,
          0.3473369701929606,
          0.8997802105974952,
          0.9689144491117909,
          1.1321837810424533,
          1.6070386718574416,
          0.7670157364224033,
          2.1645967172215297,
          0.7915160756688072,
          1.1321034252703335,
          1.2418628896882284,
          1.2418702412383347,
          0.9832216808274601,
          1.4580593146254623,
          0.7668700937491316,
          1.3070746207433819,
          0.767016944597059,
          0.767016934433846,
          0.7898230568305027,
          0.9832418006026187,
          1.6070467412137022,
          1.2404261432894759,
          1.5401192601339786,
          0.6993406409026873,
          1.0558728719532255,
          0.9350828579519816,
          0.9597970332721607,
          1.0883740153147003,
          1.606998620883811,
          1.2418501037382612,
          1.6070218495581603,
          1.1321907953829702,
          1.1998669287708752,
          0.9832469625520629,
          1.2418422435373133,
          1.5304643523112873,
          2.1826250847796036,
          1.4580802372243646,
          1.458068846243336,
          0.4245636257587613,
          0.983247937807108,
          1.2209965969688512,
          1.4577707030771052,
          1.129129399400071,
          1.2418654227015544,
          1.2418422022603999,
          0.347409759580885,
          1.2418571160747764,
          1.4575066582481888,
          1.2405339946311171,
          0.7978236937222816,
          1.457427785737738,
          1.2417884818079876,
          0.8222690511022744,
          1.2413193080128213,
          1.4578268598512187,
          1.2417290428750711,
          1.3070821206222876,
          0.896588876107887,
          0.8221672956790144,
          0.4257627199851381,
          0.7533903474701431,
          1.2415268514007265,
          0.6993391116909892,
          1.2418702438781306,
          2.9538061605004966,
          1.9941480385648425,
          0.4245356178022181,
          0.4243968497519417,
          0.3460531190888652,
          1.307074678033532,
          1.5933904024479681,
          -0.12918825862463074,
          1.2418498976002355,
          0.7670167586598143
         ],
         "z": [
          -0.36850059039151833,
          -0.36899191184699187,
          -0.2223317489977087,
          -0.4413273198080907,
          -0.3603428805533502,
          -0.08821752068769531,
          -0.2223323492111283,
          -0.3603386752834017,
          -0.006396121145007769,
          -0.43024245755106694,
          -0.21175164318878936,
          -0.4276928564026411,
          -0.15255937722002755,
          -0.368509034575822,
          -0.36879645894287827,
          -0.36855789135655553,
          -0.3685006101999976,
          -0.3685005905626279,
          -0.3685010742135589,
          -0.21785338690258282,
          -0.15255937755605184,
          -0.3451522483962697,
          -0.22233174899771288,
          -0.3021834405541667,
          -0.3603386752931292,
          0.015082496886613166,
          -0.14439746246226381,
          -0.3689354930269914,
          -0.3170847194036252,
          -0.36033867530631336,
          -0.4302305629285149,
          -0.36854215567442805,
          -0.14517902117463297,
          -0.3603468940544671,
          -0.36033867529141317,
          -0.42769285646534694,
          -0.36033867528219626,
          0.04342584999671804,
          -0.16247433831734903,
          -0.22308319942249294,
          -0.15256691101425135,
          -0.4277236281117095,
          -0.4276999135443852,
          -0.16148642506218494,
          -0.36860427590436956,
          -0.36853502797368937,
          -0.38215061984653387,
          -0.43023056293253475,
          -0.3685005903759842,
          -0.14442107276084137,
          -0.36033867582622003,
          -0.0019495448206535361,
          -0.18566120476916048,
          -0.36033934202245615,
          -0.36901229542381714,
          -0.3685239814901518,
          -0.4276928563785236,
          -0.25300244463569954,
          -0.36850059038000366,
          -0.3603419117735475,
          -0.0019587356190669085,
          -0.42770826560887193,
          -0.36850059057294365,
          -0.3685695021871471,
          -0.4787112292272902,
          0.08874745127097543,
          -0.22234996526779197,
          -0.15255937722242652,
          -0.30220667020842534,
          -0.15257203490323298,
          -0.4276937981347989,
          -0.15264069857309467,
          -0.006390535779849814,
          -0.3685012738338532,
          -0.42769616087442763,
          -0.4276928564267587,
          -0.36033867531881436,
          -0.1443987145815203,
          -0.4302305629285149,
          -0.36850059037196414,
          -0.36850599388857236,
          -0.36850059037196414,
          -0.3603393800949755,
          0.784533483694697,
          -0.36850059037196414,
          -0.3539791726121685,
          0.1534864003955334,
          -0.08945710253835477,
          -0.3603386752781765,
          -0.1526059399486395,
          -0.14439746206926474,
          -0.42770358576723977,
          -0.222351802688001,
          -0.21175164317613654,
          -0.4302368631850207,
          -0.2822816709416321,
          -0.22233345778246738,
          -0.3654589308015649,
          -0.22233413723155343,
          -0.3658217651763235,
          -0.37362406941414233,
          0.1074672640412525,
          -0.36850478057094277,
          -0.3685005903888469,
          -0.15257822512183714,
          -0.22233174984182563,
          -0.3603435226955128,
          -0.16977446716549288,
          -0.2223337872324193,
          -0.3275270602335763,
          0.015075828934244076,
          -0.3603386752785781,
          -0.36033867536258757,
          -0.3604013275795901,
          0.01508514143285965,
          -0.2223323065580186,
          -0.22233950971565886,
          -0.36897434989050637,
          -0.43023056307322044,
          -0.3603500313449238,
          -0.3689354930887964,
          -0.3685005906720934,
          -0.3685005917788186,
          0.018283416946293273,
          -0.3688791936579196,
          -0.36850269811491654,
          -0.36854715316651016,
          -0.2117539720841985,
          -0.14470337962047267,
          -0.3603459223908036,
          -0.14439746246226381,
          -0.3685206896232994,
          -0.22233202632811286,
          -0.3603389815014523,
          -0.3685017926833834,
          -0.3685014936306964,
          -0.3603387154740125,
          -0.15263834632749887,
          -0.08937333445232519,
          -0.3700914894058359,
          0.015050669283936221,
          -0.3685161994628098,
          -0.3604619219303951,
          0.015015895224660597,
          -0.21175280728825402,
          -0.35145610889775675,
          0.015076843478514785,
          -0.36147943383644193,
          -0.3803397529916565,
          -0.36034721625136445,
          -0.36850059439154814,
          -0.47062004384909534,
          -0.36034046949480686,
          0.015061860095880838,
          -0.36097555098773726,
          -0.36850854785352294,
          -0.36850059117588135,
          -0.3685017311226399,
          0.015075828934244076,
          -0.3603415016154243,
          -0.2223375305227241,
          -0.3685100166063742,
          -0.3675618254226325,
          -0.36850574993396756,
          -0.36850567500150416,
          -0.3603390546285836,
          -0.36850449188890133,
          -0.1683037166230715,
          -0.36850220752819807,
          -0.36850213429598383,
          -0.14988544926422365,
          -0.30046121980059076,
          -0.3603386762830721,
          -0.42769285818733627,
          0.015085141091195402,
          -0.3685117512323522,
          -0.22233292528470083,
          -0.36034131032671785,
          -0.3603386756801349,
          -0.36850609493175807,
          -0.36850073395564314,
          -0.15256073821415864,
          0.06335741459747544,
          -0.21175840633740645,
          -0.3689662183174244,
          -0.1525761632049541,
          -0.3603448045710393,
          -0.6129196880966284,
          -0.3603901878758428,
          -0.15255937760428714,
          0.015033393545155139,
          -0.36034869652257917,
          0.014898228476655815,
          -0.3603953276332061,
          -0.36850309036135526,
          -0.3685011251740535,
          -0.3685008272035112,
          -0.006437653753128041,
          -0.36034667084525934,
          -0.15269680732777363,
          0.015079837810831486,
          -0.36851053594556604,
          -0.3603386836931745,
          -0.44916273720573235,
          -0.006395352584977763,
          0.018254822624613025,
          -0.5207569186926719,
          -0.3689374353599424,
          -0.3689648008428974,
          -0.28763579801512873,
          -0.427702759431604,
          -0.3603386753099539,
          -0.37271232760621914,
          -0.42770306154247406,
          0.08712736993302274,
          -0.2876546685610695,
          -0.36034452786575905,
          -0.15256806730183958,
          6.224316839957135,
          0.01508327874984366,
          -0.36850968866559225,
          -0.36850254600933513,
          -0.08695260659392905,
          -0.0050446844810706016,
          -0.36034205693485566,
          -0.16156996786769287,
          -0.36850112158867643,
          0.060212801933042355,
          -0.3910645806714935,
          -0.22237461045454743,
          -0.36919650949518185,
          -0.4008508823213321,
          -0.3685015914025412,
          -0.36583606593180984,
          0.20024111466320763,
          -0.368508209223844,
          -0.28418869665087715,
          -0.36033867529299596,
          -0.14988055217876423,
          -0.010581187284327142,
          -0.3308163358562709,
          -0.3603564620366861,
          -0.38042351488090476,
          -0.3821589374233981,
          -0.4277783150558374,
          -0.3685522647519265,
          -0.1530004481214569,
          -0.14988844696750694,
          -0.37078770338853057,
          -0.3685045112500645,
          -0.3603597096740769,
          -0.22233211076023598,
          -0.3685005903904548,
          -0.1498932637438223,
          -0.3687757883217959,
          -0.3685017565367526,
          -0.1443995142666951,
          -0.3685005984111315,
          -0.7392417377162405,
          0.018291865236353618,
          -0.6180122364522814,
          -0.3686099413447588,
          -0.211858879065903,
          1.7748801347439291,
          -0.25287841284195667,
          0.5112414118480557,
          -0.36033968477083067,
          -0.19355716845794776,
          -0.15257128366242245,
          0.09826589773375478,
          -0.3689419131804632,
          -0.36850098413322163,
          -0.368501140831016,
          -0.15268383935730798,
          -0.09980589809243973,
          -0.2872977374145509,
          0.01507495487717485,
          -0.36850519109085594,
          -0.3685005907739226,
          -0.3526078302323518,
          -0.3685005923817562,
          -0.3658868319986088,
          0.015079984268296131,
          -0.03479853467137562,
          -0.3691544203014914,
          0.077319675334964,
          -0.1525774000751848,
          -0.3732499954156581,
          -0.15256293004151694,
          -0.3609909997462047,
          -0.36851064787894433,
          -0.21430345111881252,
          -0.32218354538921645,
          -0.14988181924797597,
          -0.006417454368098966,
          -0.19936205930228454,
          -0.2507548898139022,
          -0.14988384969298968,
          -0.3658245213719358,
          -0.15255993019059358,
          -0.3237116862311733,
          -0.15572344441107405,
          -0.1499113085450734,
          -0.3685031105312812,
          -0.3685005907739226,
          -0.1444064346262505,
          -0.360353003251636,
          -0.15260955563443282,
          0.015080797713409737,
          -0.15255938053054405,
          -0.1525593774354645,
          -0.23234846744795817,
          -0.14439955992995931,
          -0.36582176610006195,
          -0.3689942027046496,
          -0.15289166741621446,
          -0.16148492646397053,
          0.022381079646521685,
          0.24174000175361282,
          -0.15241081431072512,
          -0.3650769010561791,
          -0.36583820751078083,
          -0.3685074712369395,
          -0.3658302697979267,
          -0.1498814527744265,
          -0.38285407914496344,
          -0.1443977953676504,
          -0.3685101576647358,
          -0.19364960536170023,
          -0.36139291015461766,
          -0.3603458569965456,
          -0.3603497460547502,
          -0.38075499895552956,
          -0.14439746216079496,
          -0.37563357140011183,
          -0.3604516235853669,
          -0.30044714472008077,
          -0.3685022381575506,
          -0.3685101715156621,
          -0.006392581004781309,
          -0.3685050748891162,
          -0.36054185397567395,
          -0.36895728510797055,
          -0.23068491496618848,
          -0.36056880957700416,
          -0.36852852786781065,
          -0.2223317490982026,
          -0.36868885140443813,
          -0.36043243616291837,
          -0.3685488398398854,
          0.015083362193533276,
          -0.35958124357738364,
          -0.22236652038229976,
          -0.3803452521766536,
          -0.1572157705720024,
          -0.3686179313979817,
          -0.16148544737095094,
          -0.36850059157783943,
          6.701057387344514,
          -0.42769292192849584,
          -0.3807645609574326,
          -0.3808119790551867,
          -0.006856163725301811,
          0.015080819007494507,
          0.2845343866144134,
          -0.18825757544657373,
          -0.3685075436291881,
          -0.15255943691023308
         ]
        },
        {
         "customdata": [
          [
           "SHA-256"
          ],
          [
           "Ethash"
          ],
          [
           "Scrypt"
          ],
          [
           "CryptoNight-V7"
          ],
          [
           "Ethash"
          ],
          [
           "Equihash"
          ],
          [
           "Multiple"
          ],
          [
           "Scrypt"
          ],
          [
           "X11"
          ],
          [
           "SHA-256"
          ],
          [
           "Scrypt"
          ],
          [
           "SHA-256"
          ],
          [
           "Multiple"
          ],
          [
           "Scrypt"
          ],
          [
           "SHA-256"
          ],
          [
           "Scrypt"
          ],
          [
           "Scrypt"
          ],
          [
           "Quark"
          ],
          [
           "Groestl"
          ],
          [
           "Scrypt"
          ],
          [
           "X11"
          ],
          [
           "Scrypt"
          ],
          [
           "Scrypt"
          ],
          [
           "Scrypt"
          ],
          [
           "X11"
          ],
          [
           "Multiple"
          ],
          [
           "Scrypt"
          ],
          [
           "SHA-256"
          ],
          [
           "Scrypt"
          ],
          [
           "Scrypt"
          ],
          [
           "Scrypt"
          ],
          [
           "Scrypt"
          ],
          [
           "Scrypt"
          ],
          [
           "Scrypt"
          ],
          [
           "SHA-256"
          ],
          [
           "Scrypt"
          ],
          [
           "NeoScrypt"
          ],
          [
           "Scrypt"
          ],
          [
           "Scrypt"
          ],
          [
           "Scrypt"
          ],
          [
           "Multiple"
          ],
          [
           "Scrypt"
          ],
          [
           "SHA-256"
          ],
          [
           "Scrypt"
          ],
          [
           "Scrypt"
          ],
          [
           "Scrypt"
          ],
          [
           "Scrypt"
          ],
          [
           "Scrypt"
          ],
          [
           "HybridScryptHash256"
          ],
          [
           "Scrypt"
          ],
          [
           "SHA-256"
          ],
          [
           "Scrypt"
          ],
          [
           "SHA-256"
          ],
          [
           "Scrypt"
          ],
          [
           "Scrypt"
          ],
          [
           "Scrypt"
          ],
          [
           "Scrypt"
          ],
          [
           "Scrypt"
          ],
          [
           "Scrypt-n"
          ],
          [
           "Scrypt"
          ],
          [
           "SHA-256"
          ],
          [
           "SHA-256"
          ],
          [
           "SHA-256"
          ],
          [
           "SHA-256"
          ],
          [
           "SHA-256"
          ],
          [
           "SHA-256"
          ],
          [
           "X11"
          ],
          [
           "Scrypt"
          ],
          [
           "X11"
          ],
          [
           "Lyra2REv2"
          ],
          [
           "Scrypt"
          ],
          [
           "SHA-256"
          ],
          [
           "CryptoNight"
          ],
          [
           "CryptoNight"
          ],
          [
           "Scrypt"
          ],
          [
           "SHA-256"
          ],
          [
           "Scrypt"
          ],
          [
           "Scrypt"
          ],
          [
           "Scrypt"
          ],
          [
           "Scrypt"
          ],
          [
           "Scrypt"
          ],
          [
           "Momentum"
          ],
          [
           "Stanford Folding"
          ],
          [
           "Multiple"
          ],
          [
           "QuBit"
          ],
          [
           "Scrypt"
          ],
          [
           "Scrypt"
          ],
          [
           "SHA-256"
          ],
          [
           "M7 POW"
          ],
          [
           "Scrypt"
          ],
          [
           "X11"
          ],
          [
           "Scrypt"
          ],
          [
           "SHA-256"
          ],
          [
           "Scrypt"
          ],
          [
           "X11"
          ],
          [
           "X11"
          ],
          [
           "Lyra2RE"
          ],
          [
           "SHA-256"
          ],
          [
           "X11"
          ],
          [
           "Scrypt"
          ],
          [
           "Scrypt"
          ],
          [
           "Ethash"
          ],
          [
           "Blake2b"
          ],
          [
           "X11"
          ],
          [
           "SHA-256"
          ],
          [
           "Scrypt"
          ],
          [
           "Scrypt"
          ],
          [
           "1GB AES Pattern Search"
          ],
          [
           "Scrypt"
          ],
          [
           "CryptoNight"
          ],
          [
           "SHA-256"
          ],
          [
           "SHA-256"
          ],
          [
           "X11"
          ],
          [
           "Scrypt-n"
          ],
          [
           "X11"
          ],
          [
           "Scrypt"
          ],
          [
           "Dagger"
          ],
          [
           "Scrypt"
          ],
          [
           "CryptoNight-Lite"
          ],
          [
           "X11GOST"
          ],
          [
           "SHA-256"
          ],
          [
           "Scrypt"
          ],
          [
           "X11"
          ],
          [
           "SHA-256"
          ],
          [
           "Scrypt"
          ],
          [
           "X11"
          ],
          [
           "Equihash"
          ],
          [
           "CryptoNight"
          ],
          [
           "SHA-256"
          ],
          [
           "Multiple"
          ],
          [
           "Scrypt"
          ],
          [
           "SHA-256"
          ],
          [
           "Scrypt"
          ],
          [
           "Scrypt"
          ],
          [
           "Scrypt-n"
          ],
          [
           "Lyra2Z"
          ],
          [
           "SHA-256"
          ],
          [
           "Quark"
          ],
          [
           "Ethash"
          ],
          [
           "SHA-256"
          ],
          [
           "Equihash"
          ],
          [
           "Scrypt"
          ],
          [
           "Equihash"
          ],
          [
           "X11"
          ],
          [
           "X11"
          ],
          [
           "CryptoNight"
          ],
          [
           "Scrypt"
          ],
          [
           "CryptoNight"
          ],
          [
           "Lyra2RE"
          ],
          [
           "X11"
          ],
          [
           "X11"
          ],
          [
           "Scrypt"
          ],
          [
           "CryptoNight-V7"
          ],
          [
           "Keccak"
          ],
          [
           "Scrypt"
          ],
          [
           "X11"
          ],
          [
           "Equihash"
          ],
          [
           "Scrypt"
          ],
          [
           "Lyra2RE"
          ],
          [
           "Ethash"
          ],
          [
           "X11"
          ],
          [
           "Dagger-Hashimoto"
          ],
          [
           "Scrypt"
          ],
          [
           "NIST5"
          ],
          [
           "Scrypt"
          ],
          [
           "Scrypt"
          ],
          [
           "Scrypt"
          ],
          [
           "SHA-256"
          ],
          [
           "Scrypt"
          ],
          [
           "CryptoNight-V7"
          ],
          [
           "Argon2d"
          ],
          [
           "Blake2b"
          ],
          [
           "Cloverhash"
          ],
          [
           "CryptoNight"
          ],
          [
           "X11"
          ],
          [
           "Scrypt"
          ],
          [
           "Scrypt"
          ],
          [
           "X11"
          ],
          [
           "X11"
          ],
          [
           "CryptoNight"
          ],
          [
           "Time Travel"
          ],
          [
           "Scrypt"
          ],
          [
           "Keccak"
          ],
          [
           "X11"
          ],
          [
           "SHA-256"
          ],
          [
           "Scrypt"
          ],
          [
           "Scrypt"
          ],
          [
           "Scrypt"
          ],
          [
           "Scrypt"
          ],
          [
           "Scrypt"
          ],
          [
           "Scrypt"
          ],
          [
           "Scrypt"
          ],
          [
           "Scrypt"
          ],
          [
           "CryptoNight"
          ],
          [
           "Equihash"
          ],
          [
           "X11"
          ],
          [
           "NeoScrypt"
          ],
          [
           "Equihash"
          ],
          [
           "Dagger"
          ],
          [
           "Scrypt"
          ],
          [
           "X11"
          ],
          [
           "NeoScrypt"
          ],
          [
           "Scrypt"
          ],
          [
           "Ethash"
          ],
          [
           "Scrypt"
          ],
          [
           "NeoScrypt"
          ],
          [
           "Multiple"
          ],
          [
           "CryptoNight"
          ],
          [
           "CryptoNight"
          ],
          [
           "Ethash"
          ],
          [
           "X11"
          ],
          [
           "SHA-256"
          ],
          [
           "CryptoNight-V7"
          ],
          [
           "Scrypt"
          ],
          [
           "BLAKE256"
          ],
          [
           "X11"
          ],
          [
           "NeoScrypt"
          ],
          [
           "NeoScrypt"
          ],
          [
           "Scrypt"
          ],
          [
           "X11"
          ],
          [
           "SHA-256"
          ],
          [
           "C11"
          ],
          [
           "Ethash"
          ],
          [
           "CryptoNight"
          ],
          [
           "SkunkHash"
          ],
          [
           "CryptoNight"
          ],
          [
           "Equihash"
          ],
          [
           "Skein"
          ],
          [
           "Scrypt"
          ],
          [
           "Dagger"
          ],
          [
           "Lyra2REv2"
          ],
          [
           "Scrypt"
          ],
          [
           "Scrypt"
          ],
          [
           "Scrypt"
          ],
          [
           "NeoScrypt"
          ],
          [
           "Equihash"
          ],
          [
           "X11"
          ],
          [
           "Ethash"
          ],
          [
           "X11"
          ],
          [
           "CryptoNight"
          ],
          [
           "NeoScrypt"
          ],
          [
           "Scrypt"
          ],
          [
           "IMesh"
          ],
          [
           "Equihash"
          ],
          [
           "Equihash"
          ],
          [
           "Equihash"
          ],
          [
           "Lyra2Z"
          ],
          [
           "X11"
          ],
          [
           "CryptoNight"
          ],
          [
           "NIST5"
          ],
          [
           "Lyra2RE"
          ],
          [
           "Tribus"
          ],
          [
           "Lyra2Z"
          ],
          [
           "CryptoNight"
          ],
          [
           "CryptoNight Heavy"
          ],
          [
           "CryptoNight"
          ],
          [
           "Jump Consistent Hash"
          ],
          [
           "CryptoNight"
          ],
          [
           "X16R"
          ],
          [
           "HMQ1725"
          ],
          [
           "X11"
          ],
          [
           "Scrypt"
          ],
          [
           "CryptoNight-V7"
          ],
          [
           "Cryptonight-GPU"
          ],
          [
           "XEVAN"
          ],
          [
           "CryptoNight Heavy"
          ],
          [
           "Lyra2REv2"
          ],
          [
           "SHA-256"
          ],
          [
           "X11"
          ],
          [
           "X16R"
          ],
          [
           "Equihash"
          ],
          [
           "Quark"
          ],
          [
           "CryptoNight Heavy X"
          ],
          [
           "Lyra2Z"
          ],
          [
           "Ethash"
          ],
          [
           "SHA-256"
          ],
          [
           "Ethash"
          ],
          [
           "CryptoNight"
          ],
          [
           "SkunkHash"
          ],
          [
           "Argon2"
          ],
          [
           "Blake"
          ],
          [
           "Blake"
          ],
          [
           "SHA-256"
          ],
          [
           "Equihash"
          ],
          [
           "Exosis"
          ],
          [
           "Scrypt"
          ],
          [
           "Equihash"
          ],
          [
           "Equihash"
          ],
          [
           "QuBit"
          ],
          [
           "Equihash1927"
          ],
          [
           "SHA-256"
          ],
          [
           "SHA-256"
          ],
          [
           "X13"
          ],
          [
           "SHA-256"
          ],
          [
           "X11"
          ],
          [
           "Scrypt"
          ],
          [
           "NeoScrypt"
          ],
          [
           "Blake"
          ],
          [
           "CryptoNight"
          ],
          [
           "Scrypt"
          ],
          [
           "SHA-256"
          ],
          [
           "CryptoNight"
          ],
          [
           "Scrypt"
          ],
          [
           "Groestl"
          ],
          [
           "Scrypt"
          ],
          [
           "Scrypt"
          ],
          [
           "Scrypt"
          ],
          [
           "Multiple"
          ],
          [
           "Equihash+Scrypt"
          ],
          [
           "Ethash"
          ],
          [
           "Ethash"
          ],
          [
           "CryptoNight"
          ],
          [
           "Equihash"
          ]
         ],
         "hovertemplate": "<b>%{hovertext}</b><br><br>Class=%{marker.color}<br>PC 1=%{x}<br>PC 2=%{y}<br>PC 3=%{z}<br>Algorithm=%{customdata[0]}<extra></extra>",
         "hovertext": [
          "Bitcoin",
          "Ethereum",
          "Litecoin",
          "Monero",
          "Ethereum Classic",
          "ZCash",
          "DigiByte",
          "ProsperCoin",
          "Spreadcoin",
          "ACoin",
          "Argentum",
          "BetaCoin",
          "MyriadCoin",
          "MoonCoin",
          "ZetaCoin",
          "SexCoin",
          "Quatloo",
          "QuarkCoin",
          "Riecoin",
          "Digitalcoin ",
          "LimeCoinX",
          "BitMark",
          "Catcoin",
          "CannaCoin",
          "CryptCoin",
          "Verge",
          "DarkShibe",
          "DevCoin",
          "EarthCoin",
          "E-Gulden",
          "Elacoin",
          "Einsteinium",
          "Emerald",
          "Flappy Coin",
          "FireRoosterCoin",
          "Franko",
          "FeatherCoin",
          "GrandCoin",
          "GlobalCoin",
          "GoldCoin",
          "HunterCoin",
          "Infinite Coin",
          "IXcoin",
          "KrugerCoin",
          "LuckyCoin",
          "Litebar ",
          "LitecoinDark",
          "MegaCoin",
          "MediterraneanCoin",
          "MinCoin",
          "NoirBits",
          "NobleCoin",
          "Namecoin",
          "NyanCoin",
          "RipOffCoin",
          "RonPaulCoin",
          "StableCoin",
          "SmartCoin",
          "SpainCoin",
          "SecureCoin",
          "SysCoin",
          "TigerCoin",
          "TerraCoin",
          "Umbrella",
          "UnbreakableCoin",
          "Unobtanium",
          "UroCoin",
          "ViaCoin",
          "VootCoin",
          "Vertcoin",
          "WorldCoin",
          "JouleCoin",
          "ByteCoin",
          "DigitalNote ",
          "MonaCoin",
          "Sling Coin",
          "Gulden",
          "PesetaCoin",
          "Wild Beast Coin",
          "Flo",
          "ArtByte",
          "BitCredit",
          "Folding Coin",
          "Unitus",
          "CypherPunkCoin",
          "OmniCron",
          "GreenCoin",
          "Unattanium",
          "Cryptonite",
          "Gridmaster",
          "ConSpiracy Coin ",
          "MasterCoin",
          "SoonCoin",
          "1Credit",
          "Quicksilver coin",
          "MarsCoin ",
          "Crypto",
          "Anarchists Prime",
          "BowsCoin",
          "Song Coin",
          "BitZeny",
          "Expanse",
          "Siacoin",
          "MindCoin",
          "I0coin",
          "DogeCoinDark",
          "Revolution VR",
          "HOdlcoin",
          "Gamecredits",
          "Dashcoin",
          "CarpeDiemCoin",
          "Phalanx",
          "SunShotCoin",
          "HempCoin",
          "Adzcoin",
          "VirtaCoin",
          "SoilCoin",
          "YoCoin",
          "AEON",
          "SibCoin",
          "Anti Bitcoin",
          "Francs",
          "BolivarCoin",
          "Clinton",
          "Omni",
          "PizzaCoin",
          "Komodo",
          "Karbo",
          "ZayedCoin",
          "Circuits of Value",
          "DopeCoin",
          "DollarCoin",
          "Shilling",
          "GBR Coin",
          "FujiCoin",
          "ZCoin",
          "LeaCoin",
          "Zurcoin",
          "Elementrem",
          "CashOut",
          "ZClassic",
          "KiloCoin",
          "Hush",
          "ArtexCoin",
          "Kurrent",
          "Cannabis Industry Coin",
          "OsmiumCoin",
          "Bikercoins",
          "HexxCoin",
          "MarxCoin",
          "PacCoin",
          "Solarflarecoin",
          "Citadel",
          "CreativeChain",
          "BeaverCoin",
          "VaultCoin",
          "Zero",
          "Canada eCoin",
          "Zoin",
          "Musicoin",
          "BnrtxCoin",
          "DubaiCoin",
          "EB3coin",
          "Coinonat",
          "Bitcoin Scrypt",
          "BenjiRolls",
          "ParallelCoin",
          "ILCoin",
          "EquiTrader",
          "Quantum Resistant Ledger",
          "Dynamic",
          "Nano",
          "ChanCoin",
          "Dinastycoin",
          "DigitalPrice",
          "Unify",
          "SocialCoin",
          "ArcticCoin",
          "DAS",
          "LeviarCoin",
          "Bitcore",
          "gCn Coin",
          "SmartCash",
          "Onix",
          "Bitcoin Cash",
          "CampusCoin",
          "Sojourn Coin",
          "NewYorkCoin",
          "LiteBitcoin",
          "FrazCoin",
          "Kronecoin",
          "AdCoin",
          "Linx",
          "Sumokoin",
          "BitcoinZ",
          "Elements",
          "VIVO Coin",
          "Bitcoin Gold",
          "Pirl",
          "eBoost",
          "Pura",
          "Innova",
          "Bitdeal",
          "Ellaism",
          "Sakuracoin",
          "GoByte",
          "SHIELD",
          "UltraNote",
          "BitCoal",
          "DaxxCoin",
          "AC3",
          "CHIPS",
          "Lethean",
          "PopularCoin",
          "Photon",
          "Sucre",
          "SparksPay",
          "GunCoin",
          "IrishCoin",
          "Pioneer Coin",
          "UnitedBitcoin",
          "Interzone",
          "1717 Masonic Commemorative Token",
          "TurtleCoin",
          "MUNcoin",
          "Niobio Cash",
          "Bitcoin Private",
          "Skeincoin",
          "ShareChain",
          "Travelflex",
          "KREDS",
          "BitFlip",
          "LottoCoin",
          "LeafCoin",
          "Cerberus",
          "Bitcoin Hush",
          "Crypto Improvement Fund",
          "Callisto Network",
          "Curium",
          "BitTube",
          "Dinero",
          "Poseidon",
          "Aidos Kuneen",
          "Snowgem",
          "Bitrolium",
          "Bitcoin Interest",
          "Alpenschillling",
          "FuturoCoin",
          "Monero Classic",
          "Jumpcoin",
          "Infinex",
          "KEYCO",
          "GINcoin",
          "PlatinCoin",
          "Loki",
          "Newton Coin",
          "MassGrid",
          "PluraCoin",
          "Motion",
          "PlusOneCoin",
          "Axe",
          "HexCoin",
          "Webchain",
          "Ryo",
          "Urals Coin",
          "Qwertycoin",
          "NIX",
          "Project Pai",
          "Azart",
          "Xchange",
          "CrypticCoin",
          "ZestCoin",
          "X-CASH",
          "Actinium",
          "ETHER-1",
          "Bitcoin SV",
          "Bitcoiin2Gen",
          "FREDEnergy",
          "C25 Coin",
          "Aquachain",
          "Universal Molecule",
          "Lithium",
          "Smart Bitcoin",
          "PirateCash",
          "Exosis",
          "Block-Logic",
          "Beam",
          "Bithereum",
          "SLICE",
          "Vidulum",
          "BlockStamp",
          "BLAST",
          "Bitcoin Rhodium",
          "GlobalToken",
          "Boolberry",
          "SolarCoin",
          "UFO Coin",
          "BlakeCoin",
          "FantomCoin ",
          "Crypto Escudo",
          "Crown Coin",
          "Quazar Coin",
          "SmileyCoin",
          "Groestlcoin",
          "Bata",
          "Pakcoin",
          "Dotcoin",
          "JoinCoin",
          "Vollar",
          "Reality Clash",
          "iOlite",
          "Beldex",
          "Horizen"
         ],
         "legendgroup": "2",
         "marker": {
          "color": [
           2,
           2,
           2,
           2,
           2,
           2,
           2,
           2,
           2,
           2,
           2,
           2,
           2,
           2,
           2,
           2,
           2,
           2,
           2,
           2,
           2,
           2,
           2,
           2,
           2,
           2,
           2,
           2,
           2,
           2,
           2,
           2,
           2,
           2,
           2,
           2,
           2,
           2,
           2,
           2,
           2,
           2,
           2,
           2,
           2,
           2,
           2,
           2,
           2,
           2,
           2,
           2,
           2,
           2,
           2,
           2,
           2,
           2,
           2,
           2,
           2,
           2,
           2,
           2,
           2,
           2,
           2,
           2,
           2,
           2,
           2,
           2,
           2,
           2,
           2,
           2,
           2,
           2,
           2,
           2,
           2,
           2,
           2,
           2,
           2,
           2,
           2,
           2,
           2,
           2,
           2,
           2,
           2,
           2,
           2,
           2,
           2,
           2,
           2,
           2,
           2,
           2,
           2,
           2,
           2,
           2,
           2,
           2,
           2,
           2,
           2,
           2,
           2,
           2,
           2,
           2,
           2,
           2,
           2,
           2,
           2,
           2,
           2,
           2,
           2,
           2,
           2,
           2,
           2,
           2,
           2,
           2,
           2,
           2,
           2,
           2,
           2,
           2,
           2,
           2,
           2,
           2,
           2,
           2,
           2,
           2,
           2,
           2,
           2,
           2,
           2,
           2,
           2,
           2,
           2,
           2,
           2,
           2,
           2,
           2,
           2,
           2,
           2,
           2,
           2,
           2,
           2,
           2,
           2,
           2,
           2,
           2,
           2,
           2,
           2,
           2,
           2,
           2,
           2,
           2,
           2,
           2,
           2,
           2,
           2,
           2,
           2,
           2,
           2,
           2,
           2,
           2,
           2,
           2,
           2,
           2,
           2,
           2,
           2,
           2,
           2,
           2,
           2,
           2,
           2,
           2,
           2,
           2,
           2,
           2,
           2,
           2,
           2,
           2,
           2,
           2,
           2,
           2,
           2,
           2,
           2,
           2,
           2,
           2,
           2,
           2,
           2,
           2,
           2,
           2,
           2,
           2,
           2,
           2,
           2,
           2,
           2,
           2,
           2,
           2,
           2,
           2,
           2,
           2,
           2,
           2,
           2,
           2,
           2,
           2,
           2,
           2,
           2,
           2,
           2,
           2,
           2,
           2,
           2,
           2,
           2,
           2,
           2,
           2,
           2,
           2,
           2,
           2,
           2,
           2,
           2,
           2,
           2,
           2,
           2,
           2,
           2,
           2,
           2,
           2,
           2,
           2,
           2,
           2,
           2,
           2,
           2,
           2,
           2,
           2,
           2,
           2,
           2,
           2,
           2,
           2,
           2,
           2,
           2,
           2,
           2,
           2,
           2,
           2,
           2,
           2,
           2,
           2,
           2,
           2,
           2,
           2,
           2
          ],
          "coloraxis": "coloraxis",
          "symbol": "diamond"
         },
         "mode": "markers",
         "name": "2",
         "scene": "scene",
         "showlegend": true,
         "type": "scatter3d",
         "x": [
          -0.18087045597246446,
          -0.2911779640762994,
          -0.2761797484733112,
          -0.3033404302172837,
          -0.29110097670114365,
          -0.29682838438560194,
          -0.08136373675701025,
          -0.2769566294115894,
          -0.29053307013322743,
          -0.18111363833016514,
          -0.27686930494324746,
          -0.18111363841781059,
          -0.21318803008628584,
          -0.2770359824769391,
          -0.17880481356451394,
          -0.275285791237677,
          -0.2769350682528949,
          0.003268638947725417,
          -0.28113759212230416,
          -0.27658122203858615,
          -0.2906843164548922,
          -0.2770348766473346,
          -0.27693693780177486,
          -0.27697106840532104,
          -0.2906165322489891,
          -0.020004931213908853,
          -0.2770348765737123,
          0.07355397632359413,
          -0.10694297530885617,
          -0.27675122565121263,
          -0.2770348767840503,
          -0.27406587667953364,
          -0.2767704024440898,
          -0.27703516487585095,
          -0.18111363833305485,
          -0.27701937542045874,
          -0.2642931562296247,
          -0.26504170011585465,
          -0.27614402527329385,
          -0.27646977655427846,
          -0.23608922015890904,
          0.9518976909572667,
          -0.18082756103193945,
          -0.2749804875578981,
          -0.2767727147993141,
          -0.2770198961246984,
          -0.27703487680424105,
          -0.276517344202991,
          -0.32190409820761845,
          -0.27695614246515055,
          -0.18111363846970632,
          -0.24493919279342707,
          -0.18091373888602208,
          -0.27249454160630476,
          -0.27703487660241616,
          -0.2770198987154002,
          -0.2767063979638528,
          -0.27668769726465586,
          -0.33661376412655813,
          -0.2770348766283641,
          -0.1734719717548843,
          -0.18052306107754743,
          -0.18080251943559278,
          -0.18111363833312014,
          -0.18108273541526212,
          -0.18111091295462964,
          -0.2906679392150204,
          -0.27672083441414,
          -0.29068431639434744,
          -0.22560716899814873,
          -0.27541240727853206,
          -0.1805819476282538,
          2.3567887645873316,
          -0.04639221837182559,
          -0.2761098150230486,
          -0.18111363832843527,
          -0.27140496004166675,
          -0.2751694478810503,
          -0.2770324088379671,
          -0.27496932304159083,
          -0.2662840990658874,
          -0.37028168349692836,
          -0.31175076559548043,
          -0.23520595706192177,
          -0.21276572214316225,
          -0.2768973267136038,
          -0.2144955613737143,
          -0.18111363832555202,
          -0.32265894713262583,
          -0.27703487680999817,
          -0.290684316489489,
          -0.2770264733406955,
          -0.18094458274783895,
          -0.2770339452004622,
          -0.290684316489489,
          -0.29024723031523075,
          -0.30506117341128103,
          -0.18091359247829736,
          -0.2904691232472216,
          -0.27659312836218686,
          -0.27600916539501913,
          -0.2924963337034756,
          0.3600209318339294,
          -0.2904690709057572,
          -0.180828807278896,
          -0.27703492413864444,
          -0.2741862238375995,
          -0.2755758740727154,
          -0.27608754900421245,
          -0.14008016023416348,
          0.11378936386150125,
          -0.18111363836879835,
          -0.2906843228812781,
          -0.33661377839780593,
          -0.29007239437492804,
          -0.277034937112506,
          -0.3112507525309762,
          -0.27702624342845583,
          -0.22811647398260787,
          -0.2972785887793625,
          -0.18111363844664144,
          -0.27694574351524515,
          -0.2904990986204451,
          -0.18111363833253277,
          -0.27702651444268467,
          -0.2906656250004324,
          -0.297724985225474,
          -0.1399740487856521,
          -0.18102894056484398,
          -0.2225242076133894,
          -0.275449869770631,
          -0.180990105636161,
          -0.2768840445296931,
          -0.2770348768200888,
          -0.3366137640112352,
          -0.33052113917964004,
          -0.18111364409171282,
          -0.00025225776832956743,
          -0.292283223790277,
          -0.1811136386138603,
          -0.2968523877659911,
          -0.27437212030398567,
          -0.29692853566090716,
          -0.279506744747367,
          -0.28985190238861835,
          -0.14006689168906286,
          -0.2770227490987541,
          -0.13995323120570763,
          -0.3052221437533896,
          -0.2906843166845006,
          -0.28340043433907747,
          -0.2770348766254809,
          -0.30342496555063764,
          -0.29532801466013614,
          -0.2769926180532535,
          -0.2902721389446801,
          -0.2968346433042793,
          -0.27568049943639755,
          -0.3049960202463416,
          -0.29263870357902,
          -0.29068431699979425,
          -0.3170662083969664,
          -0.2761654241366509,
          -0.20343291394951785,
          -0.2770348766283641,
          -0.2767598310632368,
          -0.2770348765707025,
          -0.16323837976448438,
          -0.27684939679995363,
          -0.3026372896350631,
          -0.23108622940531628,
          -0.08715047204878362,
          -0.28827890293581554,
          -0.11553471541054008,
          -0.29020765592862846,
          -0.27678889954519076,
          -0.2769647758340896,
          -0.29033105148094474,
          -0.29064873695858523,
          -0.1398880552540235,
          -0.3247945397734975,
          1.9348095343914613,
          -0.2649287040383057,
          -0.2890229355855604,
          -0.18086952792669228,
          -0.2770348794797305,
          -0.2770283249045456,
          1.6628528700142398,
          -0.2770348794508996,
          -0.2769032411416108,
          -0.2767981164220918,
          -0.2765920234306924,
          -0.2765775116453798,
          -0.13995879894719915,
          -0.22623379341910096,
          -0.2540200415034005,
          -0.2670672434836012,
          -0.29669518535949074,
          -0.31086706734326763,
          -0.27567851089761464,
          -0.2883075114929397,
          -0.2670372744616816,
          -0.2770348774327436,
          -0.2924656627537954,
          -0.2770348768708311,
          -0.26704463957836716,
          -0.22955453915331328,
          0.12147780850611377,
          -0.1400191176455402,
          -0.28557282582870375,
          -0.2895948273563338,
          -0.18111363838609684,
          -0.2975882004542215,
          -0.22326043807440718,
          0.31728820375421873,
          -0.2906269494498218,
          -0.26701730454185124,
          -0.26305699226915225,
          -0.27641789846558334,
          -0.29056931084062293,
          -0.1808400862733729,
          -0.31926657852654716,
          -0.0818209606235337,
          0.5807596654933741,
          -0.2856646206230801,
          -0.1382633650969391,
          -0.29692853566090716,
          -0.32223075165967374,
          -0.14138474655735458,
          -0.30987223216604887,
          -0.21756824253760357,
          -0.27686604513890933,
          -0.0804640888386452,
          -0.277034937112506,
          -0.26712375491290274,
          -0.29692853566090716,
          -0.28781806201335,
          -0.2892798541494809,
          -0.2906843164577751,
          -0.13899429598293447,
          -0.2671237551103939,
          -0.276979664135907,
          -0.252716325143391,
          -0.2969285358428179,
          -0.29596059762325366,
          -0.2969285356646554,
          -0.33025292949904933,
          -0.2902529293565182,
          -0.13986289121945525,
          -0.20328442922316606,
          -0.30517844351473583,
          -0.3108886135288974,
          -0.33052903238061837,
          -0.14007901837999068,
          0.27386978910988213,
          0.42008012929023814,
          -0.2949650172903974,
          -0.13248258822321501,
          -0.24093445247997702,
          -0.2533676747063946,
          -0.2906165859141724,
          -0.2770156595745578,
          -0.3033624233915593,
          -0.36546937797974477,
          -0.2204040586525142,
          1.6240489640156321,
          -0.2263013416369318,
          -0.15262711102335447,
          -0.2906162759559246,
          -0.2409123703700015,
          -0.2394792026889649,
          -0.00025225748953572975,
          -0.33397547667238014,
          -0.3304388462586587,
          -0.29263870230691247,
          -0.18086956963911585,
          -0.29263870255582,
          -0.1147535544636353,
          -0.2857299814377354,
          -0.30909472204875643,
          -0.2639178265226944,
          -0.2637242746780033,
          -0.18111363838609637,
          -0.08594994182893578,
          -0.2510522736149884,
          -0.2765562391648576,
          -0.296444434582371,
          -0.29658736485747356,
          -0.2126767290712036,
          -0.3415454740377132,
          -0.18111363862827554,
          -0.1804042717855712,
          -0.16848117117166406,
          -0.1799658607644045,
          -0.2906843164475402,
          -0.2762814182542148,
          -0.21524185341484506,
          -0.26362242058289376,
          -0.1400801602340287,
          -0.26645130891243396,
          -0.18080182038847034,
          -0.14008016023416348,
          0.12427226435942998,
          -0.2808154282273162,
          -0.2769663385809269,
          -0.2760896063476373,
          -0.2770348791337608,
          -0.23604400889923927,
          -0.24314927567788866,
          -0.2923065229874829,
          -0.2926387051505919,
          -0.12678342914677948,
          -0.29682955801382077
         ],
         "y": [
          -1.4705750622121365,
          -2.1324460634624485,
          -1.051035343674365,
          -2.233091361102145,
          -2.1324537943184945,
          -2.066761542855116,
          -1.7717385940337436,
          -1.0509573049287493,
          -0.8347336339101159,
          -1.4705506342098116,
          -1.0509660763265356,
          -1.4705506338085617,
          -1.7584967719659068,
          -1.0509443767972761,
          -1.4707825590397068,
          -1.0511251416859904,
          -1.050959469779162,
          -0.6861266264082114,
          -1.176207110281132,
          -1.05099501515165,
          -0.8347184408403978,
          -1.0509494447207643,
          -1.0509592829983196,
          -1.0509558545985662,
          -0.8347252499656524,
          -1.7779022910208182,
          -1.050949445057814,
          -1.4961323375852729,
          -1.0680354114168793,
          -1.050977938230543,
          -1.050949444094869,
          -1.0512476843948633,
          -1.0509760117335687,
          -1.0509481251870245,
          -1.470550634196581,
          -1.0509510020672828,
          -1.5937633835262726,
          -1.052154170167764,
          -1.0510389323364626,
          -1.0510062098077582,
          -1.7561963176147433,
          -1.1743975078918614,
          -1.4705793711120863,
          -1.0511558099759073,
          -1.050975779606837,
          -1.0509509498889091,
          -1.0509494440024343,
          -1.0510014319134817,
          -2.2514605363877096,
          -1.050957353985693,
          -1.4705506335709815,
          -1.0541733400801432,
          -1.4705707143393578,
          -1.0514055283022217,
          -1.0509494449264047,
          -1.0509509493749978,
          -1.0509824383233186,
          -1.0509843194199164,
          -2.258413294719072,
          -1.050949444807614,
          -1.4713182465551629,
          -1.47060995852913,
          -1.4705818863295763,
          -1.470550634196282,
          -1.4705537374698507,
          -1.470550907997767,
          -0.8347200862446327,
          -1.0509809910775887,
          -0.8347184411175765,
          -1.5013551726654144,
          -1.0511124226010604,
          -1.470604043259443,
          -2.5586150116414133,
          -2.317211953725149,
          -1.0510423683850096,
          -1.4705506342177306,
          -1.0515149620539148,
          -1.0511368297354111,
          -1.0509496929402657,
          -1.0511569328393402,
          -1.0520293736346575,
          -2.2302391859991273,
          -2.247074953885729,
          -1.7562850440595674,
          -1.1636989591853968,
          -1.0509632622549794,
          -1.057231540630042,
          -1.470550634230929,
          -2.2425855626838946,
          -1.050949443976078,
          -0.8347184406820103,
          -1.0509502892011726,
          -1.4705676159992493,
          -1.0509483509812736,
          -0.8347184406820103,
          -0.8347623470395508,
          -2.207371469188137,
          -1.4705707286234555,
          -0.8347400575157189,
          -1.050993817040533,
          -1.051052477011932,
          -2.1323136298440324,
          -2.2417736962386465,
          -0.8347400628380919,
          -1.4705792459235818,
          -1.0509492273016607,
          -1.0512355963925248,
          -2.163763214619694,
          -1.051044605332805,
          -2.3078009034702314,
          -1.5001740709579403,
          -1.4705506340329453,
          -0.8347184114198767,
          -2.2584132293841326,
          -0.8347799090719147,
          -1.0509491679062608,
          -2.2614155034894186,
          -1.0509503101310986,
          -2.2413429937654743,
          -2.1910876181914043,
          -1.4705506336765726,
          -1.0509583984561306,
          -0.8347370463657404,
          -1.470550634198972,
          -1.0509502850724182,
          -0.8347203183903201,
          -1.6115358780600708,
          -2.3078115627295093,
          -1.4705591421990336,
          -1.7575589408042187,
          -1.0511086602481605,
          -1.4705630432493824,
          -1.050964596138542,
          -1.0509494439298817,
          -2.2584132952470313,
          -2.2409780085011843,
          -1.4705506078329744,
          -0.6857729454262007,
          -2.1323350371273677,
          -1.470550632911032,
          -2.06675913165782,
          -1.0512167962626473,
          -2.066751482418615,
          -0.8358412486205751,
          -0.8348020561633469,
          -2.307802236294541,
          -1.0509506632831909,
          -2.3078136537118477,
          -2.2073553000502866,
          -0.8347184397892313,
          -0.8354488336536314,
          -1.0509494448208128,
          -2.2330828669363427,
          -1.502990264538536,
          -1.0509536900108507,
          -0.8347598324244525,
          -2.0667609141833183,
          -1.0510854942344305,
          -2.2073780145584685,
          -2.1322993227933895,
          -0.8347184383457913,
          -2.186510835339473,
          -1.0510367320353613,
          -0.5073594113399159,
          -1.050949444807614,
          -1.050977073608757,
          -1.0509494450715933,
          -1.472346214675861,
          -1.0509680760441404,
          -2.23316199190943,
          -2.252994025822208,
          -2.1968542487312597,
          -2.2189084944133675,
          -2.3102665268620504,
          -0.8347663215169471,
          -1.05097415381952,
          -1.0509564859039082,
          -0.8347539266532845,
          -0.8347220149134921,
          -2.3078202004185924,
          -2.1557422880719423,
          -1.2731319545070439,
          -1.5060438853486051,
          -0.8348853166156855,
          -1.470575155436564,
          -1.0509494317538246,
          -1.050949967666791,
          -1.2458158352980482,
          -1.050949431885815,
          -1.0509626679217945,
          -1.0509732271265302,
          -1.0509939294566881,
          -1.0509953872004283,
          -2.3078130935940577,
          -2.0738526684953733,
          -0.8384014324831741,
          -1.5934847237780112,
          -2.066774923017676,
          -2.2614540439588735,
          -1.051085693987934,
          -0.8349571923686437,
          -1.5934877340059805,
          -1.0509494411250988,
          -2.13231670741833,
          -1.05094944369758,
          -1.5934869943326968,
          -1.7568527340618274,
          -2.334073933505355,
          -2.3078070354218547,
          -2.1330089839879682,
          -0.8348278758118742,
          -1.470550633953751,
          -2.2336691735151812,
          -1.0563511522298685,
          -1.2198117942977729,
          -0.8347242035095351,
          -1.5934897403422863,
          -1.5938875570523487,
          -1.0510114211929984,
          -0.834729993405159,
          -1.470578112932224,
          -1.1530054804529193,
          -0.31433515497553444,
          -2.3801980886946192,
          -1.5446296055813686,
          -2.307983400812345,
          -2.066751482418615,
          -0.8179662235331451,
          -1.06457569783394,
          -2.261553978272216,
          -1.5021626890487276,
          -1.0509664040915467,
          -1.0706952159072614,
          -1.0509491679062608,
          -1.5934790470109175,
          -2.066751482418615,
          -0.8350063568097513,
          -2.1326366492593007,
          -0.8347184408271991,
          -2.307909968474899,
          -1.5934790461067876,
          -1.0509549910352856,
          -2.242046845538225,
          -2.066751481585812,
          -2.0668487134901485,
          -2.066751482401456,
          -2.241004947212183,
          -0.834761773692218,
          -2.3078227286659656,
          -0.5073743273396388,
          -2.2073596896342087,
          -2.284809493787762,
          -2.2409772157508723,
          -2.3078010106647397,
          -2.2823850815366784,
          -2.364067976837903,
          -2.2483662642570836,
          -2.3085640851821645,
          -1.3238659964411699,
          -2.128622374012071,
          -0.8347252445361278,
          -1.0509513751926238,
          -2.2330891292434996,
          -2.191309919019082,
          -0.762104349425762,
          -2.4180114478274506,
          -1.501285440179382,
          -1.4734121473082513,
          -0.8347252756205414,
          -1.3238682136362778,
          -2.072522308260139,
          -0.6857729467025417,
          -2.265479552816532,
          -2.240986274214912,
          -2.132299328617202,
          -1.4705751512464509,
          -2.132299327477685,
          -2.3103449178691746,
          -1.544623040065871,
          -2.203414237985448,
          -1.824249227780468,
          -1.824268671560168,
          -1.4705506339537544,
          -0.24880346552225463,
          -2.2840348895924047,
          -1.0509975238140765,
          -2.0668001084148924,
          -2.0667857537188263,
          -1.1637078974625963,
          -2.2297298075265544,
          -1.4705506328450368,
          -1.4706218909799316,
          -0.29867304926865584,
          -1.470665929078957,
          -0.8347184408740553,
          -1.0510238653759707,
          -1.5986906575786457,
          -1.8242788130091447,
          -2.3078009034708487,
          -1.0520125770033772,
          -1.470581956550541,
          -2.3078009034702314,
          -1.091261067198545,
          -1.1762394721481972,
          -1.050956329825885,
          -1.0510443974025914,
          -1.050949433337702,
          -1.7562008597005716,
          -2.1696315301305695,
          -2.1323326966891383,
          -2.132299315598605,
          -2.3091365742531282,
          -2.0667614249613395
         ],
         "z": [
          0.1135561381182767,
          0.1883469619390597,
          -0.03263370876755598,
          0.15851835393776234,
          0.18834431845551794,
          0.2360868994616281,
          0.11273175513055556,
          -0.03260704179752151,
          -0.024447632419482397,
          0.11356448551785796,
          -0.03261003941760946,
          0.11356448539566255,
          0.1172567484667216,
          -0.03260589941103589,
          0.1134852336056225,
          -0.032664394846754485,
          -0.03260778221721782,
          -0.03004638759211812,
          0.033691261289618954,
          -0.032619927899095305,
          -0.02444244084058548,
          -0.032604355960822694,
          -0.03260771771893205,
          -0.03260654614162782,
          -0.02444476754486137,
          0.11062561092591837,
          -0.03260435585817836,
          0.10482284388003657,
          -0.03844287559225502,
          -0.03261409235360734,
          -0.03260435615143121,
          -0.032706269046715704,
          -0.03261343414877277,
          -0.032604757808321456,
          0.11356448551382879,
          -0.03260488797855502,
          0.17431414639809112,
          -0.033016031687117385,
          -0.032634934921261946,
          -0.0326237534035885,
          0.11804284790882927,
          -0.07478827021251493,
          0.11355466573440284,
          -0.03267487456610816,
          -0.03261335472694638,
          -0.03260487006448454,
          -0.032604356179581115,
          -0.03262212050280182,
          0.33824933606066454,
          -0.03260705846682492,
          0.11356448532330998,
          -0.03370611322589089,
          0.11355762381945653,
          -0.032760205827227294,
          -0.03260435589819741,
          -0.03260487005648714,
          -0.032615632022839035,
          -0.032616273112128086,
          0.18713407041047975,
          -0.03260435593437378,
          0.11330217898294927,
          0.1135442135595846,
          0.11355380608633969,
          0.11356448551373785,
          0.11356342444157581,
          0.1135643919739472,
          -0.02444300290859609,
          -0.03261513555171169,
          -0.02444244075617411,
          0.18015517026003416,
          -0.03266004877027401,
          0.11354623486936868,
          0.12576971460465114,
          0.20826046290958075,
          -0.032636109344738644,
          0.11356448552026965,
          -0.032797611627629314,
          -0.032668388028890674,
          -0.03260444056647832,
          -0.03267525735786412,
          -0.03297338417529434,
          0.3559457421694879,
          0.24816634037738572,
          0.11801252976634782,
          0.03544612597293036,
          -0.03260907731081602,
          -0.034751080954638,
          0.11356448552428917,
          0.1411857807509405,
          -0.03260435618760749,
          -0.024442440888820405,
          -0.032604644296230875,
          0.11355868254582696,
          -0.03260476672573619,
          -0.024442440888820405,
          -0.024457444024986494,
          0.27797651905719,
          0.11355761865903685,
          -0.024449827422881695,
          -0.032619519877873274,
          -0.03263956477520162,
          0.18839221536907516,
          0.26237248920733236,
          -0.024449829198928057,
          0.11355470851226677,
          -0.032604422173091785,
          -0.03270213771850897,
          0.2936378857157528,
          -0.03263687354665719,
          0.21147637546882578,
          0.10344174751762136,
          0.11356448546399547,
          -0.024442449800237145,
          0.18713405051354065,
          -0.024463445539977615,
          -0.03260444026121764,
          0.257374653633185,
          -0.032604652878860385,
          0.21579798514547197,
          0.2978564344797646,
          0.11356448535546683,
          -0.03260741545561145,
          -0.024448798524161104,
          0.11356448551455692,
          -0.03260464288537803,
          -0.02444308244778677,
          0.4168095367953064,
          0.21147273319094295,
          0.11356157820386123,
          0.11757721932827483,
          -0.03265876258766025,
          0.11356024517760321,
          -0.0326095333361064,
          -0.03260435620167608,
          0.1871340705712627,
          0.33831099478551635,
          0.113564477485122,
          -0.029925531079631393,
          0.18838490025829324,
          0.11356448512233087,
          0.23608772338607492,
          -0.03269579707769709,
          0.23609033718926384,
          -0.024826116880888184,
          -0.024471014597778864,
          0.21147592001084772,
          -0.0326047721407685,
          0.21147201855843523,
          0.27798204465038634,
          -0.024442441160704972,
          -0.024692874415954393,
          -0.03260435593035433,
          0.15852125488078483,
          0.1035499437171995,
          -0.03260580640212837,
          -0.02445659301018245,
          0.23608711431767987,
          -0.03265084573167352,
          0.27797428283642767,
          0.18839710046107538,
          -0.024442441600286607,
          0.031074637155383937,
          -0.03263421658366246,
          -0.03304397230056069,
          -0.03260435593437378,
          -0.03261379702962588,
          -0.0326043558539822,
          0.11295090071106628,
          -0.032610722804555424,
          0.15849421795832125,
          0.3093100270134226,
          0.27772180301449867,
          0.1562062421809478,
          0.2106338363089385,
          -0.024458802705623298,
          -0.03261279917689155,
          -0.032606762391114694,
          -0.02445456694528788,
          -0.024443662110620587,
          0.21146978125160606,
          0.19760151280848715,
          -0.10852751439881733,
          0.10250645660354715,
          -0.0244994727652874,
          0.11355610626277805,
          -0.032604359909742114,
          -0.03260462398283769,
          -0.09919168284162118,
          -0.0326043598695459,
          -0.032608874364487075,
          -0.03261248307092635,
          -0.03261955735100533,
          -0.032620055473123764,
          0.21147220940998426,
          0.23366362897450793,
          -0.02570096225903367,
          0.1744093691882607,
          0.23608232735835902,
          0.25736148298440314,
          -0.03265091398896468,
          -0.024524026859171842,
          0.1744083404169429,
          -0.03260435705583765,
          0.1883911614944114,
          -0.032604356272420656,
          0.17440859328152003,
          0.11781854014710741,
          0.20249795649376745,
          0.21147428018506287,
          0.18815452241818104,
          -0.02447984011455994,
          0.11356448543987792,
          0.15832090251810435,
          -0.034450202896344574,
          0.039608557129722326,
          -0.02444440997820392,
          0.17440765504128883,
          0.17427171396132948,
          -0.03262553410321012,
          -0.024446388456851174,
          0.11355509567114118,
          0.0830175119109253,
          0.06844132758406463,
          0.18672917726671442,
          0.051705294290581266,
          0.2114140120309464,
          0.23609033718926384,
          0.04826360511424643,
          -0.0372606353045642,
          0.2573273351500758,
          0.17987922710652796,
          -0.03261015121269089,
          -0.0393517928629966,
          -0.03260444026121764,
          0.17441130894434986,
          0.23609033718926384,
          -0.024540828001932868,
          0.18828178187982242,
          -0.024442440844604996,
          0.21143909875514483,
          0.1744113086690085,
          -0.032606251122533784,
          0.2352907558857855,
          0.23609033693564432,
          0.23605711217497083,
          0.23609033718403843,
          0.33830178724677373,
          -0.02445724867933891,
          0.21146891763391748,
          -0.03304906897861003,
          0.2779805445573236,
          -0.041934157717640134,
          0.3383112657672993,
          0.21147633387912507,
          0.17449724315970183,
          0.19224791941208935,
          0.15547169840306937,
          0.21121558210340324,
          0.08515475364237458,
          0.07102318691276567,
          -0.024444765715140683,
          -0.032605015571034734,
          0.15851910165372343,
          0.1655105305413511,
          0.1423323945240694,
          0.12815111050173614,
          0.18017899760443715,
          0.11258666683882308,
          -0.02444477637104055,
          0.08515399534527303,
          0.23411833747982252,
          -0.02992553069093773,
          0.16916115335911522,
          0.3383081697943323,
          0.1883971022346447,
          0.11355610769457175,
          0.18839710188761888,
          0.21060699764481297,
          0.051707537866703374,
          0.31026281193915867,
          0.22742155008553844,
          0.2274149066796495,
          0.11356448543987878,
          0.116129040836713,
          0.2916383608238943,
          -0.032620785740846474,
          0.23607371925416154,
          0.23607862634111162,
          0.03544307084268127,
          0.03810815077051204,
          0.11356448510223294,
          0.11354013600552604,
          -0.09179716678115077,
          0.11352508696519656,
          -0.02444244083033549,
          -0.032630622600121235,
          0.1726304281421039,
          0.22741138177620843,
          0.21147637546901368,
          -0.03296764463869094,
          0.11355378209130218,
          0.21147637546882578,
          -0.046379570080771156,
          0.033680202814489184,
          -0.03260670846098343,
          -0.03263680333124064,
          -0.03260435942739182,
          0.11804129617793771,
          0.1740082284637612,
          0.18838570001847982,
          0.188397098269994,
          0.21101995482174526,
          0.23608693974682785
         ]
        },
        {
         "customdata": [
          [
           "Proof-of-BibleHash"
          ],
          [
           "ECC 256K1"
          ],
          [
           "Leased POS"
          ]
         ],
         "hovertemplate": "<b>%{hovertext}</b><br><br>Class=%{marker.color}<br>PC 1=%{x}<br>PC 2=%{y}<br>PC 3=%{z}<br>Algorithm=%{customdata[0]}<extra></extra>",
         "hovertext": [
          "BiblePay",
          "Acute Angle Cloud",
          "Waves"
         ],
         "legendgroup": "3",
         "marker": {
          "color": [
           3,
           3,
           3
          ],
          "coloraxis": "coloraxis",
          "symbol": "square"
         },
         "mode": "markers",
         "name": "3",
         "scene": "scene",
         "showlegend": true,
         "type": "scatter3d",
         "x": [
          0.07825000633228453,
          0.30167842886246926,
          0.1123409970326238
         ],
         "y": [
          2.7142452860775577,
          2.3970605674067196,
          2.6403335837305226
         ],
         "z": [
          17.966605533657546,
          27.905615030910255,
          11.921658213398455
         ]
        },
        {
         "customdata": [
          [
           "TRC10"
          ]
         ],
         "hovertemplate": "<b>%{hovertext}</b><br><br>Class=%{marker.color}<br>PC 1=%{x}<br>PC 2=%{y}<br>PC 3=%{z}<br>Algorithm=%{customdata[0]}<extra></extra>",
         "hovertext": [
          "BitTorrent"
         ],
         "legendgroup": "1",
         "marker": {
          "color": [
           1
          ],
          "coloraxis": "coloraxis",
          "symbol": "x"
         },
         "mode": "markers",
         "name": "1",
         "scene": "scene",
         "showlegend": true,
         "type": "scatter3d",
         "x": [
          31.816729569345046
         ],
         "y": [
          -2.2540681849057025
         ],
         "z": [
          -1.2553319275880772
         ]
        }
       ],
       "layout": {
        "coloraxis": {
         "colorbar": {
          "title": {
           "text": "Class"
          }
         },
         "colorscale": [
          [
           0,
           "#0d0887"
          ],
          [
           0.1111111111111111,
           "#46039f"
          ],
          [
           0.2222222222222222,
           "#7201a8"
          ],
          [
           0.3333333333333333,
           "#9c179e"
          ],
          [
           0.4444444444444444,
           "#bd3786"
          ],
          [
           0.5555555555555556,
           "#d8576b"
          ],
          [
           0.6666666666666666,
           "#ed7953"
          ],
          [
           0.7777777777777778,
           "#fb9f3a"
          ],
          [
           0.8888888888888888,
           "#fdca26"
          ],
          [
           1,
           "#f0f921"
          ]
         ]
        },
        "legend": {
         "title": {
          "text": "Class"
         },
         "tracegroupgap": 0,
         "x": 0,
         "y": 1
        },
        "margin": {
         "t": 60
        },
        "scene": {
         "domain": {
          "x": [
           0,
           1
          ],
          "y": [
           0,
           1
          ]
         },
         "xaxis": {
          "title": {
           "text": "PC 1"
          }
         },
         "yaxis": {
          "title": {
           "text": "PC 2"
          }
         },
         "zaxis": {
          "title": {
           "text": "PC 3"
          }
         }
        },
        "template": {
         "data": {
          "bar": [
           {
            "error_x": {
             "color": "#2a3f5f"
            },
            "error_y": {
             "color": "#2a3f5f"
            },
            "marker": {
             "line": {
              "color": "#E5ECF6",
              "width": 0.5
             },
             "pattern": {
              "fillmode": "overlay",
              "size": 10,
              "solidity": 0.2
             }
            },
            "type": "bar"
           }
          ],
          "barpolar": [
           {
            "marker": {
             "line": {
              "color": "#E5ECF6",
              "width": 0.5
             },
             "pattern": {
              "fillmode": "overlay",
              "size": 10,
              "solidity": 0.2
             }
            },
            "type": "barpolar"
           }
          ],
          "carpet": [
           {
            "aaxis": {
             "endlinecolor": "#2a3f5f",
             "gridcolor": "white",
             "linecolor": "white",
             "minorgridcolor": "white",
             "startlinecolor": "#2a3f5f"
            },
            "baxis": {
             "endlinecolor": "#2a3f5f",
             "gridcolor": "white",
             "linecolor": "white",
             "minorgridcolor": "white",
             "startlinecolor": "#2a3f5f"
            },
            "type": "carpet"
           }
          ],
          "choropleth": [
           {
            "colorbar": {
             "outlinewidth": 0,
             "ticks": ""
            },
            "type": "choropleth"
           }
          ],
          "contour": [
           {
            "colorbar": {
             "outlinewidth": 0,
             "ticks": ""
            },
            "colorscale": [
             [
              0,
              "#0d0887"
             ],
             [
              0.1111111111111111,
              "#46039f"
             ],
             [
              0.2222222222222222,
              "#7201a8"
             ],
             [
              0.3333333333333333,
              "#9c179e"
             ],
             [
              0.4444444444444444,
              "#bd3786"
             ],
             [
              0.5555555555555556,
              "#d8576b"
             ],
             [
              0.6666666666666666,
              "#ed7953"
             ],
             [
              0.7777777777777778,
              "#fb9f3a"
             ],
             [
              0.8888888888888888,
              "#fdca26"
             ],
             [
              1,
              "#f0f921"
             ]
            ],
            "type": "contour"
           }
          ],
          "contourcarpet": [
           {
            "colorbar": {
             "outlinewidth": 0,
             "ticks": ""
            },
            "type": "contourcarpet"
           }
          ],
          "heatmap": [
           {
            "colorbar": {
             "outlinewidth": 0,
             "ticks": ""
            },
            "colorscale": [
             [
              0,
              "#0d0887"
             ],
             [
              0.1111111111111111,
              "#46039f"
             ],
             [
              0.2222222222222222,
              "#7201a8"
             ],
             [
              0.3333333333333333,
              "#9c179e"
             ],
             [
              0.4444444444444444,
              "#bd3786"
             ],
             [
              0.5555555555555556,
              "#d8576b"
             ],
             [
              0.6666666666666666,
              "#ed7953"
             ],
             [
              0.7777777777777778,
              "#fb9f3a"
             ],
             [
              0.8888888888888888,
              "#fdca26"
             ],
             [
              1,
              "#f0f921"
             ]
            ],
            "type": "heatmap"
           }
          ],
          "heatmapgl": [
           {
            "colorbar": {
             "outlinewidth": 0,
             "ticks": ""
            },
            "colorscale": [
             [
              0,
              "#0d0887"
             ],
             [
              0.1111111111111111,
              "#46039f"
             ],
             [
              0.2222222222222222,
              "#7201a8"
             ],
             [
              0.3333333333333333,
              "#9c179e"
             ],
             [
              0.4444444444444444,
              "#bd3786"
             ],
             [
              0.5555555555555556,
              "#d8576b"
             ],
             [
              0.6666666666666666,
              "#ed7953"
             ],
             [
              0.7777777777777778,
              "#fb9f3a"
             ],
             [
              0.8888888888888888,
              "#fdca26"
             ],
             [
              1,
              "#f0f921"
             ]
            ],
            "type": "heatmapgl"
           }
          ],
          "histogram": [
           {
            "marker": {
             "pattern": {
              "fillmode": "overlay",
              "size": 10,
              "solidity": 0.2
             }
            },
            "type": "histogram"
           }
          ],
          "histogram2d": [
           {
            "colorbar": {
             "outlinewidth": 0,
             "ticks": ""
            },
            "colorscale": [
             [
              0,
              "#0d0887"
             ],
             [
              0.1111111111111111,
              "#46039f"
             ],
             [
              0.2222222222222222,
              "#7201a8"
             ],
             [
              0.3333333333333333,
              "#9c179e"
             ],
             [
              0.4444444444444444,
              "#bd3786"
             ],
             [
              0.5555555555555556,
              "#d8576b"
             ],
             [
              0.6666666666666666,
              "#ed7953"
             ],
             [
              0.7777777777777778,
              "#fb9f3a"
             ],
             [
              0.8888888888888888,
              "#fdca26"
             ],
             [
              1,
              "#f0f921"
             ]
            ],
            "type": "histogram2d"
           }
          ],
          "histogram2dcontour": [
           {
            "colorbar": {
             "outlinewidth": 0,
             "ticks": ""
            },
            "colorscale": [
             [
              0,
              "#0d0887"
             ],
             [
              0.1111111111111111,
              "#46039f"
             ],
             [
              0.2222222222222222,
              "#7201a8"
             ],
             [
              0.3333333333333333,
              "#9c179e"
             ],
             [
              0.4444444444444444,
              "#bd3786"
             ],
             [
              0.5555555555555556,
              "#d8576b"
             ],
             [
              0.6666666666666666,
              "#ed7953"
             ],
             [
              0.7777777777777778,
              "#fb9f3a"
             ],
             [
              0.8888888888888888,
              "#fdca26"
             ],
             [
              1,
              "#f0f921"
             ]
            ],
            "type": "histogram2dcontour"
           }
          ],
          "mesh3d": [
           {
            "colorbar": {
             "outlinewidth": 0,
             "ticks": ""
            },
            "type": "mesh3d"
           }
          ],
          "parcoords": [
           {
            "line": {
             "colorbar": {
              "outlinewidth": 0,
              "ticks": ""
             }
            },
            "type": "parcoords"
           }
          ],
          "pie": [
           {
            "automargin": true,
            "type": "pie"
           }
          ],
          "scatter": [
           {
            "fillpattern": {
             "fillmode": "overlay",
             "size": 10,
             "solidity": 0.2
            },
            "type": "scatter"
           }
          ],
          "scatter3d": [
           {
            "line": {
             "colorbar": {
              "outlinewidth": 0,
              "ticks": ""
             }
            },
            "marker": {
             "colorbar": {
              "outlinewidth": 0,
              "ticks": ""
             }
            },
            "type": "scatter3d"
           }
          ],
          "scattercarpet": [
           {
            "marker": {
             "colorbar": {
              "outlinewidth": 0,
              "ticks": ""
             }
            },
            "type": "scattercarpet"
           }
          ],
          "scattergeo": [
           {
            "marker": {
             "colorbar": {
              "outlinewidth": 0,
              "ticks": ""
             }
            },
            "type": "scattergeo"
           }
          ],
          "scattergl": [
           {
            "marker": {
             "colorbar": {
              "outlinewidth": 0,
              "ticks": ""
             }
            },
            "type": "scattergl"
           }
          ],
          "scattermapbox": [
           {
            "marker": {
             "colorbar": {
              "outlinewidth": 0,
              "ticks": ""
             }
            },
            "type": "scattermapbox"
           }
          ],
          "scatterpolar": [
           {
            "marker": {
             "colorbar": {
              "outlinewidth": 0,
              "ticks": ""
             }
            },
            "type": "scatterpolar"
           }
          ],
          "scatterpolargl": [
           {
            "marker": {
             "colorbar": {
              "outlinewidth": 0,
              "ticks": ""
             }
            },
            "type": "scatterpolargl"
           }
          ],
          "scatterternary": [
           {
            "marker": {
             "colorbar": {
              "outlinewidth": 0,
              "ticks": ""
             }
            },
            "type": "scatterternary"
           }
          ],
          "surface": [
           {
            "colorbar": {
             "outlinewidth": 0,
             "ticks": ""
            },
            "colorscale": [
             [
              0,
              "#0d0887"
             ],
             [
              0.1111111111111111,
              "#46039f"
             ],
             [
              0.2222222222222222,
              "#7201a8"
             ],
             [
              0.3333333333333333,
              "#9c179e"
             ],
             [
              0.4444444444444444,
              "#bd3786"
             ],
             [
              0.5555555555555556,
              "#d8576b"
             ],
             [
              0.6666666666666666,
              "#ed7953"
             ],
             [
              0.7777777777777778,
              "#fb9f3a"
             ],
             [
              0.8888888888888888,
              "#fdca26"
             ],
             [
              1,
              "#f0f921"
             ]
            ],
            "type": "surface"
           }
          ],
          "table": [
           {
            "cells": {
             "fill": {
              "color": "#EBF0F8"
             },
             "line": {
              "color": "white"
             }
            },
            "header": {
             "fill": {
              "color": "#C8D4E3"
             },
             "line": {
              "color": "white"
             }
            },
            "type": "table"
           }
          ]
         },
         "layout": {
          "annotationdefaults": {
           "arrowcolor": "#2a3f5f",
           "arrowhead": 0,
           "arrowwidth": 1
          },
          "autotypenumbers": "strict",
          "coloraxis": {
           "colorbar": {
            "outlinewidth": 0,
            "ticks": ""
           }
          },
          "colorscale": {
           "diverging": [
            [
             0,
             "#8e0152"
            ],
            [
             0.1,
             "#c51b7d"
            ],
            [
             0.2,
             "#de77ae"
            ],
            [
             0.3,
             "#f1b6da"
            ],
            [
             0.4,
             "#fde0ef"
            ],
            [
             0.5,
             "#f7f7f7"
            ],
            [
             0.6,
             "#e6f5d0"
            ],
            [
             0.7,
             "#b8e186"
            ],
            [
             0.8,
             "#7fbc41"
            ],
            [
             0.9,
             "#4d9221"
            ],
            [
             1,
             "#276419"
            ]
           ],
           "sequential": [
            [
             0,
             "#0d0887"
            ],
            [
             0.1111111111111111,
             "#46039f"
            ],
            [
             0.2222222222222222,
             "#7201a8"
            ],
            [
             0.3333333333333333,
             "#9c179e"
            ],
            [
             0.4444444444444444,
             "#bd3786"
            ],
            [
             0.5555555555555556,
             "#d8576b"
            ],
            [
             0.6666666666666666,
             "#ed7953"
            ],
            [
             0.7777777777777778,
             "#fb9f3a"
            ],
            [
             0.8888888888888888,
             "#fdca26"
            ],
            [
             1,
             "#f0f921"
            ]
           ],
           "sequentialminus": [
            [
             0,
             "#0d0887"
            ],
            [
             0.1111111111111111,
             "#46039f"
            ],
            [
             0.2222222222222222,
             "#7201a8"
            ],
            [
             0.3333333333333333,
             "#9c179e"
            ],
            [
             0.4444444444444444,
             "#bd3786"
            ],
            [
             0.5555555555555556,
             "#d8576b"
            ],
            [
             0.6666666666666666,
             "#ed7953"
            ],
            [
             0.7777777777777778,
             "#fb9f3a"
            ],
            [
             0.8888888888888888,
             "#fdca26"
            ],
            [
             1,
             "#f0f921"
            ]
           ]
          },
          "colorway": [
           "#636efa",
           "#EF553B",
           "#00cc96",
           "#ab63fa",
           "#FFA15A",
           "#19d3f3",
           "#FF6692",
           "#B6E880",
           "#FF97FF",
           "#FECB52"
          ],
          "font": {
           "color": "#2a3f5f"
          },
          "geo": {
           "bgcolor": "white",
           "lakecolor": "white",
           "landcolor": "#E5ECF6",
           "showlakes": true,
           "showland": true,
           "subunitcolor": "white"
          },
          "hoverlabel": {
           "align": "left"
          },
          "hovermode": "closest",
          "mapbox": {
           "style": "light"
          },
          "paper_bgcolor": "white",
          "plot_bgcolor": "#E5ECF6",
          "polar": {
           "angularaxis": {
            "gridcolor": "white",
            "linecolor": "white",
            "ticks": ""
           },
           "bgcolor": "#E5ECF6",
           "radialaxis": {
            "gridcolor": "white",
            "linecolor": "white",
            "ticks": ""
           }
          },
          "scene": {
           "xaxis": {
            "backgroundcolor": "#E5ECF6",
            "gridcolor": "white",
            "gridwidth": 2,
            "linecolor": "white",
            "showbackground": true,
            "ticks": "",
            "zerolinecolor": "white"
           },
           "yaxis": {
            "backgroundcolor": "#E5ECF6",
            "gridcolor": "white",
            "gridwidth": 2,
            "linecolor": "white",
            "showbackground": true,
            "ticks": "",
            "zerolinecolor": "white"
           },
           "zaxis": {
            "backgroundcolor": "#E5ECF6",
            "gridcolor": "white",
            "gridwidth": 2,
            "linecolor": "white",
            "showbackground": true,
            "ticks": "",
            "zerolinecolor": "white"
           }
          },
          "shapedefaults": {
           "line": {
            "color": "#2a3f5f"
           }
          },
          "ternary": {
           "aaxis": {
            "gridcolor": "white",
            "linecolor": "white",
            "ticks": ""
           },
           "baxis": {
            "gridcolor": "white",
            "linecolor": "white",
            "ticks": ""
           },
           "bgcolor": "#E5ECF6",
           "caxis": {
            "gridcolor": "white",
            "linecolor": "white",
            "ticks": ""
           }
          },
          "title": {
           "x": 0.05
          },
          "xaxis": {
           "automargin": true,
           "gridcolor": "white",
           "linecolor": "white",
           "ticks": "",
           "title": {
            "standoff": 15
           },
           "zerolinecolor": "white",
           "zerolinewidth": 2
          },
          "yaxis": {
           "automargin": true,
           "gridcolor": "white",
           "linecolor": "white",
           "ticks": "",
           "title": {
            "standoff": 15
           },
           "zerolinecolor": "white",
           "zerolinewidth": 2
          }
         }
        }
       }
      },
      "text/html": [
       "<div>                            <div id=\"96225760-3d4f-4589-b371-ec88edee6175\" class=\"plotly-graph-div\" style=\"height:525px; width:100%;\"></div>            <script type=\"text/javascript\">                require([\"plotly\"], function(Plotly) {                    window.PLOTLYENV=window.PLOTLYENV || {};                                    if (document.getElementById(\"96225760-3d4f-4589-b371-ec88edee6175\")) {                    Plotly.newPlot(                        \"96225760-3d4f-4589-b371-ec88edee6175\",                        [{\"customdata\":[[\"Scrypt\"],[\"Scrypt\"],[\"SHA-256\"],[\"X13\"],[\"X11\"],[\"SHA-512\"],[\"SHA-256\"],[\"X11\"],[\"SHA-256\"],[\"X15\"],[\"X13\"],[\"X13\"],[\"Scrypt\"],[\"Scrypt\"],[\"Scrypt\"],[\"Scrypt\"],[\"Scrypt\"],[\"Scrypt\"],[\"Scrypt\"],[\"Multiple\"],[\"Scrypt\"],[\"Scrypt\"],[\"SHA-256\"],[\"Groestl\"],[\"X11\"],[\"PoS\"],[\"X11\"],[\"NIST5\"],[\"Scrypt\"],[\"X11\"],[\"X15\"],[\"Scrypt\"],[\"X11\"],[\"X11\"],[\"X11\"],[\"X13\"],[\"X11\"],[\"SHA3\"],[\"Scrypt\"],[\"SHA-256\"],[\"Scrypt\"],[\"X13\"],[\"X13\"],[\"NeoScrypt\"],[\"Scrypt\"],[\"Scrypt\"],[\"Scrypt\"],[\"X15\"],[\"Scrypt\"],[\"X11\"],[\"X11\"],[\"Multiple\"],[\"PHI1612\"],[\"X11\"],[\"Scrypt\"],[\"Scrypt\"],[\"X13\"],[\"Scrypt\"],[\"Scrypt\"],[\"X11\"],[\"Multiple\"],[\"X13\"],[\"Scrypt\"],[\"Scrypt\"],[\"Shabal256\"],[\"Counterparty\"],[\"SHA-256\"],[\"Scrypt\"],[\"Groestl\"],[\"Scrypt\"],[\"X13\"],[\"Scrypt\"],[\"SHA-256\"],[\"Scrypt\"],[\"X13\"],[\"X13\"],[\"X11\"],[\"X11\"],[\"X15\"],[\"Scrypt\"],[\"Scrypt\"],[\"Scrypt\"],[\"X11\"],[\"SHA3\"],[\"Scrypt\"],[\"QUAIT\"],[\"vDPOS\"],[\"X11\"],[\"X11\"],[\"Scrypt\"],[\"X11\"],[\"X13\"],[\"SHA-256\"],[\"X13\"],[\"X15\"],[\"BLAKE256\"],[\"SHA-256\"],[\"X11\"],[\"SHA-256\"],[\"Quark\"],[\"NIST5\"],[\"Blake\"],[\"Scrypt\"],[\"Scrypt\"],[\"Scrypt\"],[\"SHA-256\"],[\"X11\"],[\"Scrypt\"],[\"SHA-256\"],[\"Scrypt\"],[\"PoS\"],[\"X11\"],[\"X11\"],[\"X11\"],[\"PoS\"],[\"SHA-256\"],[\"SHA-256\"],[\"NIST5\"],[\"X15\"],[\"X11\"],[\"NIST5\"],[\"Scrypt\"],[\"Scrypt\"],[\"POS 3.0\"],[\"Scrypt\"],[\"Scrypt\"],[\"Scrypt\"],[\"X13\"],[\"X11\"],[\"X11\"],[\"X11\"],[\"Scrypt\"],[\"SHA-256\"],[\"X11\"],[\"Scrypt\"],[\"Scrypt\"],[\"X11\"],[\"Scrypt\"],[\"Scrypt\"],[\"SHA-256D\"],[\"PoS\"],[\"Scrypt\"],[\"X11\"],[\"PoS\"],[\"X13\"],[\"X14\"],[\"PoS\"],[\"SHA-256D\"],[\"DPoS\"],[\"X11\"],[\"Scrypt\"],[\"X13\"],[\"X11\"],[\"PoS\"],[\"SHA-256D\"],[\"Scrypt\"],[\"Scrypt\"],[\"Scrypt\"],[\"PoS\"],[\"X11\"],[\"SHA-256\"],[\"Scrypt\"],[\"X11\"],[\"Scrypt\"],[\"Scrypt\"],[\"X11\"],[\"Scrypt\"],[\"Scrypt\"],[\"Scrypt\"],[\"Scrypt\"],[\"Quark\"],[\"QuBit\"],[\"X11\"],[\"X13\"],[\"PoS\"],[\"Scrypt\"],[\"SHA-256\"],[\"X11\"],[\"X11\"],[\"Scrypt\"],[\"Scrypt\"],[\"Scrypt\"],[\"Scrypt\"],[\"X13\"],[\"Scrypt\"],[\"Scrypt\"],[\"X11\"],[\"Blake2S\"],[\"X11\"],[\"Scrypt\"],[\"PoS\"],[\"X11\"],[\"PoS\"],[\"X11\"],[\"Scrypt\"],[\"Scrypt\"],[\"Scrypt\"],[\"SHA-256\"],[\"X11\"],[\"Scrypt\"],[\"PoS\"],[\"Scrypt\"],[\"X11\"],[\"X15\"],[\"SHA-256\"],[\"POS 3.0\"],[\"536\"],[\"NIST5\"],[\"NIST5\"],[\"Skein\"],[\"X13\"],[\"X11\"],[\"Scrypt\"],[\"X13\"],[\"SkunkHash v2 Raptor\"],[\"Skein\"],[\"X11\"],[\"Scrypt\"],[\"VeChainThor Authority\"],[\"PoS\"],[\"Scrypt\"],[\"Scrypt\"],[\"SHA-512\"],[\"Ouroboros\"],[\"X11\"],[\"NeoScrypt\"],[\"Scrypt\"],[\"Lyra2REv2\"],[\"Scrypt\"],[\"SHA-256\"],[\"NIST5\"],[\"PHI1612\"],[\"Scrypt\"],[\"Quark\"],[\"POS 2.0\"],[\"Scrypt\"],[\"SkunkHash\"],[\"X11\"],[\"Quark\"],[\"SHA-256\"],[\"Quark\"],[\"X11\"],[\"DPoS\"],[\"NIST5\"],[\"X13\"],[\"Scrypt\"],[\"NIST5\"],[\"Quark\"],[\"Scrypt\"],[\"Scrypt\"],[\"X11\"],[\"SHA-256\"],[\"Scrypt\"],[\"Quark\"],[\"Scrypt\"],[\"Scrypt\"],[\"X11\"],[\"Scrypt\"],[\"Scrypt\"],[\"POS 3.0\"],[\"Scrypt\"],[\"Scrypt\"],[\"X13\"],[\"SHA-256 + Hive\"],[\"C11\"],[\"Proof-of-Authority\"],[\"X11\"],[\"XEVAN\"],[\"Scrypt\"],[\"VBFT\"],[\"NIST5\"],[\"Scrypt\"],[\"Scrypt\"],[\"Scrypt\"],[\"Equihash\"],[\"Green Protocol\"],[\"PoS\"],[\"Scrypt\"],[\"Scrypt\"],[\"Semux BFT consensus\"],[\"Scrypt\"],[\"Quark\"],[\"PoS\"],[\"X16R\"],[\"Scrypt\"],[\"XEVAN\"],[\"Scrypt\"],[\"Scrypt\"],[\"Scrypt\"],[\"SHA-256D\"],[\"Scrypt\"],[\"X15\"],[\"Scrypt\"],[\"Quark\"],[\"SHA-256\"],[\"DPoS\"],[\"X16R\"],[\"Quark\"],[\"Quark\"],[\"Scrypt\"],[\"Zhash\"],[\"Lyra2REv2\"],[\"Quark\"],[\"Scrypt\"],[\"Scrypt\"],[\"X11\"],[\"X11\"],[\"Scrypt\"],[\"PoS\"],[\"Scrypt\"],[\"Scrypt\"],[\"Keccak\"],[\"X11\"],[\"Quark\"],[\"Scrypt\"],[\"SHA-512\"],[\"NeoScrypt\"],[\"XEVAN\"],[\"XEVAN\"],[\"X11\"],[\"Quark\"],[\"Quark\"],[\"Scrypt\"],[\"Quark\"],[\"Quark\"],[\"Scrypt\"],[\"X11\"],[\"Scrypt\"],[\"XEVAN\"],[\"SHA-256D\"],[\"X11\"],[\"X11\"],[\"DPoS\"],[\"X11\"],[\"Scrypt\"],[\"X11\"],[\"QuBit\"],[\"Scrypt\"],[\"Scrypt\"],[\"SHA-256\"],[\"Scrypt\"],[\"X11\"],[\"Scrypt\"],[\"SHA-256\"],[\"X11\"],[\"Scrypt\"],[\"SHA-256\"],[\"Scrypt\"],[\"X11\"],[\"Scrypt\"],[\"PoS\"],[\"X11\"],[\"SHA-256\"],[\"DPoS\"],[\"Scrypt\"],[\"Scrypt\"],[\"NeoScrypt\"],[\"Scrypt\"],[\"SHA3-256\"],[\"X13\"],[\"DPoS\"],[\"DPoS\"],[\"SHA-256\"],[\"PoS\"],[\"PoS\"],[\"SHA-256\"],[\"Scrypt\"],[\"Scrypt\"]],\"hovertemplate\":\"<b>%{hovertext}</b><br><br>Class=%{marker.color}<br>PC 1=%{x}<br>PC 2=%{y}<br>PC 3=%{z}<br>Algorithm=%{customdata[0]}<extra></extra>\",\"hovertext\":[\"42 Coin\",\"404Coin\",\"808\",\"EliteCoin\",\"Dash\",\"Bitshares\",\"BitcoinDark\",\"Bitstake\",\"PayCoin\",\"KoboCoin\",\"Aero Coin\",\"ApexCoin\",\"ArchCoin\",\"Aurora Coin\",\"BlueCoin\",\"EnergyCoin\",\"BitBar\",\"CashCoin\",\"CryptoBullion\",\"CinderCoin\",\"CoolCoin\",\"CasinoCoin\",\"eMark\",\"Diamond\",\"DarkCash\",\"Exclusive Coin\",\"Fuel2Coin\",\"FIBRE\",\"FlutterCoin\",\"GlyphCoin\",\"Halcyon\",\"HoboNickels\",\"HyperStake\",\"IOCoin\",\"JumBucks Coin\",\"JudgeCoin\",\"LibrexCoin\",\"MaxCoin\",\"MintCoin\",\"MazaCoin\",\"Nautilus Coin\",\"NavCoin\",\"OpalCoin\",\"Orbitcoin\",\"PotCoin\",\"PhoenixCoin\",\"Reddcoin\",\"ShieldCoin\",\"SilkCoin\",\"SuperCoin\",\"SyncCoin\",\"TeslaCoin\",\"TittieCoin\",\"TorCoin\",\"UnitaryStatus Dollar\",\"UltraCoin\",\"Utility Coin\",\"VeriCoin\",\"SocialXbotCoin\",\"X11 Coin\",\"Crypti\",\"StealthCoin\",\"XXXCoin\",\"ZCC Coin\",\"BurstCoin\",\"StorjCoin\",\"Neutron\",\"KryptCoin\",\"FairCoin\",\"RubyCoin\",\"Kore\",\"Dnotes\",\"MaieutiCoin\",\"8BIT Coin\",\"Sativa Coin\",\"AeroMe\",\"MasterTraderCoin\",\"Ucoin\",\"MaryJane Coin\",\"CyberCoin\",\"Vtorrent\",\"ViorCoin\",\"IslaCoin\",\"Nexus\",\"Singular\",\"Droidz\",\"CryptoCircuits\",\"Squall Coin\",\"Milllionaire Coin\",\"Diggits\",\"MapCoin\",\"Paycon\",\"Emercoin\",\"BlitzCoin\",\"EverGreenCoin\",\"Decred\",\"EDRCoin\",\"Hitcoin\",\"DubaiCoin\",\"BiosCrypto\",\"PWR Coin\",\"TrumpCoin\",\"BillaryCoin\",\"EthereumScrypt\",\"GPU Coin\",\"Universal Currency\",\"EuropeCoin\",\"ZeitCoin\",\"SwingCoin\",\"SafeExchangeCoin\",\"Nebuchadnezzar\",\"GIZMOcoin\",\"SecretCoin\",\"Ratecoin\",\"Digital Bullion Gold\",\"Revenu\",\"Clockcoin\",\"VIP Tokens\",\"OrlyCoin\",\"BitSend\",\"16BitCoin\",\"ChessCoin\",\"ReeCoin\",\"Let it Ride\",\"PutinCoin\",\"iBankCoin\",\"Frankywillcoin\",\"MudraCoin\",\"Lutetium Coin\",\"GoldBlocks\",\"WayCoin\",\"CarterCoin\",\"BitTokens\",\"MustangCoin\",\"ZoneCoin\",\"RootCoin\",\"PROUD Money\",\"BitCurrency\",\"Swiscoin\",\"BuzzCoin\",\"Opair\",\"PesoBit\",\"Halloween Coin\",\"CoffeeCoin\",\"RoyalCoin\",\"GanjaCoin V2\",\"TeamUP\",\"LanaCoin\",\"ARK\",\"InsaneCoin\",\"LuckChain\",\"EmberCoin\",\"XenixCoin\",\"FreeCoin\",\"NPCcoin\",\"PLNCoin\",\"Icobid\",\"AquariusCoin\",\"Creatio\",\"Eternity\",\"Eurocoin\",\"BitcoinFast\",\"Stakenet\",\"BitConnect Coin\",\"MoneyCoin\",\"Enigma\",\"Russiacoin\",\"PandaCoin\",\"GameUnits\",\"GAKHcoin\",\"Allsafe\",\"LiteCreed\",\"NeptuneClassic\",\"GoldenBird\",\"Ride My Car\",\"Klingon Empire Darsek\",\"Internet of People\",\"KushCoin\",\"Eryllium\",\"Printerium\",\"Impeach\",\"Zilbercoin\",\"FirstCoin\",\"FindCoin\",\"OpenChat\",\"RenosCoin\",\"VirtacoinPlus\",\"TajCoin\",\"Impact\",\"Universe\",\"Atmos\",\"HappyCoin\",\"MacronCoin\",\"Condensate\",\"Independent Money System\",\"ArgusCoin\",\"LomoCoin\",\"ProCurrency\",\"GoldReserve\",\"GrowthCoin\",\"Phreak\",\"Degas Coin\",\"ZSEcoin\",\"HTML5 Coin\",\"Ultimate Secure Cash\",\"QTUM\",\"Espers\",\"Denarius\",\"Virta Unique Coin\",\"Bitcoin Planet\",\"BritCoin\",\"Octanox\",\"Linda\",\"DeepOnion\",\"Signatum\",\"Cream\",\"Monoeci\",\"Draftcoin\",\"Vechain\",\"Stakecoin\",\"CoinonatX\",\"Ethereum Dark\",\"Obsidian\",\"Cardano\",\"Regalcoin\",\"TrezarCoin\",\"TerraNovaCoin\",\"Rupee\",\"WomenCoin\",\"Theresa May Coin\",\"NamoCoin\",\"LUXCoin\",\"Xios\",\"Bitcloud 2.0\",\"KekCoin\",\"BlackholeCoin\",\"AltCommunity Coin\",\"Pure\",\"Rupaya\",\"Infinity Economics\",\"Castle\",\"Magnet\",\"Lamden Tau\",\"Electra\",\"Bitcoin Diamond\",\"Cash & Back Coin\",\"Bulwark\",\"Kalkulus\",\"GermanCoin\",\"LiteCoin Ultra\",\"PhantomX\",\"HTML Coin\",\"Fantasy Cash\",\"Digiwage\",\"Trollcoin\",\"Litecoin Plus\",\"Monkey Project\",\"OP Coin\",\"Valorbit\",\"TokenPay\",\"My Big Coin\",\"Unified Society USDEX\",\"Tokyo Coin\",\"LitecoinCash\",\"Stipend\",\"Poa Network\",\"Pushi\",\"Ellerium\",\"Velox\",\"Ontology\",\"Bitspace\",\"Briacoin\",\"Ignition\",\"MedicCoin\",\"Zelcash\",\"Bitcoin Green\",\"Deviant Coin\",\"Abjcoin\",\"Profit Hunters Coin\",\"Semux\",\"BitBlocks\",\"Carebit\",\"Zealium\",\"Proton\",\"iDealCash\",\"Bitcoin Incognito\",\"HollyWoodCoin\",\"Swisscoin\",\"Xt3ch\",\"TheVig\",\"EmaratCoin\",\"Dekado\",\"Lynx\",\"Poseidon Quark\",\"BitcoinWSpectrum\",\"Muse\",\"Trivechain\",\"Dystem\",\"Giant\",\"Peony Coin\",\"SafeCoin\",\"Absolute Coin\",\"Vitae\",\"TPCash\",\"MUSDcoin\",\"ARENON\",\"EUNO\",\"MMOCoin\",\"Ketan\",\"Safe Trade Coin\",\"Mont Blanc\",\"XDNA\",\"PAXEX\",\"Apollon\",\"ThunderStake\",\"Kcash\",\"Traid\",\"Bettex coin\",\"BitMoney\",\"Junson Ming Chan Coin\",\"Zenad\",\"HerbCoin\",\"Oduwa\",\"Galilel\",\"Crypto Sports\",\"Credit\",\"Dash Platinum\",\"Nasdacoin\",\"Beetle Coin\",\"Titan Coin\",\"Award\",\"Insane Coin\",\"ALAX\",\"The Freedom Coin\",\"LiteDoge\",\"TruckCoin\",\"Ascension Coin\",\"OrangeCoin\",\"BitstarCoin\",\"NeosCoin\",\"HyperCoin\",\"PinkCoin\",\"AudioCoin\",\"IncaKoin\",\"Piggy Coin\",\"Genstake\",\"ParkByte\",\"XiaoMiCoin\",\"CapriCoin\",\" ClubCoin\",\"Radium\",\"Creditbit \",\"OKCash\",\"Lisk\",\"HiCoin\",\"WhiteCoin\",\"FriendshipCoin\",\"The Hempcoin\",\"Fiii\",\"Triangles Coin\",\"EOS\",\"Oxycoin\",\"TigerCash\",\"Particl\",\"Nxt\",\"ZEPHYR\",\"Gapcoin\",\"BitcoinPlus\"],\"legendgroup\":\"0\",\"marker\":{\"color\":[0,0,0,0,0,0,0,0,0,0,0,0,0,0,0,0,0,0,0,0,0,0,0,0,0,0,0,0,0,0,0,0,0,0,0,0,0,0,0,0,0,0,0,0,0,0,0,0,0,0,0,0,0,0,0,0,0,0,0,0,0,0,0,0,0,0,0,0,0,0,0,0,0,0,0,0,0,0,0,0,0,0,0,0,0,0,0,0,0,0,0,0,0,0,0,0,0,0,0,0,0,0,0,0,0,0,0,0,0,0,0,0,0,0,0,0,0,0,0,0,0,0,0,0,0,0,0,0,0,0,0,0,0,0,0,0,0,0,0,0,0,0,0,0,0,0,0,0,0,0,0,0,0,0,0,0,0,0,0,0,0,0,0,0,0,0,0,0,0,0,0,0,0,0,0,0,0,0,0,0,0,0,0,0,0,0,0,0,0,0,0,0,0,0,0,0,0,0,0,0,0,0,0,0,0,0,0,0,0,0,0,0,0,0,0,0,0,0,0,0,0,0,0,0,0,0,0,0,0,0,0,0,0,0,0,0,0,0,0,0,0,0,0,0,0,0,0,0,0,0,0,0,0,0,0,0,0,0,0,0,0,0,0,0,0,0,0,0,0,0,0,0,0,0,0,0,0,0,0,0,0,0,0,0,0,0,0,0,0,0,0,0,0,0,0,0,0,0,0,0,0,0,0,0,0,0,0,0,0,0,0,0,0,0,0,0,0,0,0,0,0,0,0,0,0,0,0,0,0,0,0,0,0,0,0,0,0,0,0,0,0,0,0,0,0,0,0,0,0,0,0,0,0,0,0,0,0,0,0,0,0,0,0,0,0,0,0,0],\"coloraxis\":\"coloraxis\",\"symbol\":\"circle\"},\"mode\":\"markers\",\"name\":\"0\",\"scene\":\"scene\",\"showlegend\":true,\"x\":[-0.2290253373553048,-0.21471173950196343,-0.13310409968276343,0.2766874467767723,-0.24255226816333106,0.08721443531244685,-0.13308661631269378,-0.24267477775531168,0.029844871551953207,-0.1279406615529106,0.042298746783154026,-0.12048750757647601,-0.06623908360981424,-0.2287793350539158,-0.22040580262838164,-0.2273559890729786,-0.22902476033519648,-0.22902533806179035,-0.22901124229403627,-0.18807968172370707,-0.06623908385083073,0.3467971840494038,-0.13310409968276843,-0.23375535516566542,-0.2426747777622888,0.0791030024790776,-0.07988852367735884,-0.1555606965382169,-0.18321515111741085,-0.2426747777717454,-0.1282871454448069,-0.22781443089764505,-0.057119371695912094,-0.24243534288656013,-0.2426747777610579,-0.12048750762145215,-0.24267477775444704,-0.4808878960354955,0.22261335334105453,-0.11121239432663918,-0.06601960165216589,-0.119591035049384,-0.12028191123628658,-0.2190705284791869,-0.22600471902801297,-0.22802207947251063,0.16864079637584037,-0.12828714544769027,-0.22902533792791857,-0.07920067315197393,-0.24267476178554317,-0.024204692855423402,0.035235887878035776,-0.2426553546988355,-0.21411803316344286,-0.22834389677626046,-0.12048750755917749,-0.19057514067987155,-0.22902533793080157,-0.24258048963318116,-0.02393692544411009,-0.120038590648294,-0.22902533806918954,-0.22701785087924406,-0.3134079816337577,0.14258523260986936,-0.1325734134782939,-0.06623908361153495,-0.23307860541936662,-0.0658703255185556,-0.12046007282545762,-0.06387000769443822,0.029682154679739017,-0.22900542663855492,-0.12039123892207129,-0.12048750759377433,-0.24267477778071153,-0.07985203610420698,-0.1282871454448069,-0.22902533792503524,-0.2288679197444362,-0.22902533792503524,-0.24265424433275984,-0.8384640014463257,-0.22902533792503524,-0.23631551217611932,0.13406687523125688,-0.1996490174963984,-0.2426747777515637,-0.06488258226241791,-0.07988852339547683,-0.12017493441405981,-0.13251999576535467,0.04229874679222938,-0.12810360330789386,-0.04272826841979314,-0.13305432031802958,-0.09350962461750015,-0.1330345245566609,0.047757281179511404,-0.018968460473947124,-0.053143442660010656,-0.22890326995112076,-0.2290253379371446,-0.06569001248216265,-0.13310410028821526,-0.2425336040786794,0.4352760352432685,-0.13304472461653202,-0.16667265577388068,0.07929725745055666,-0.242674777751852,-0.24267477781210853,-0.24084953805379128,0.07902595714728965,-0.13308788300928753,-0.13287806977841118,-0.15442869075366292,-0.12828714554859794,-0.24234395828207705,-0.1555606965825469,-0.22902533814030548,-0.22902533893411336,0.10784077038375435,-0.21799573320315535,-0.22896393839589527,-0.22766883662493057,0.04236657130614001,-0.07097630984736321,-0.24246365371125425,-0.07988852367735884,-0.22843979749136636,-0.13309602273947022,-0.24266585691274042,-0.2289903135215178,-0.22899902329993693,-0.2426748065823669,-0.06393847564255668,-0.15641956359796597,0.07807936522361521,0.08003022674232377,-0.22857059848084751,-0.23908441458531285,0.08104330304648946,0.042332661017899745,-0.1650384576619898,0.07926766702933634,-0.17281404055930372,7.079342850216626,-0.24242595728835167,-0.22902534080811576,1.1301095946301853,-0.2426225073237355,0.07970420784058826,-0.18749359244073108,-0.2287935173406961,-0.22902533850165158,-0.2289921094895764,0.07929725745055666,-0.2425924453037626,-0.132935668988194,-0.22875072751793218,-0.28391326774195985,-0.2288750278307107,-0.22887728554740436,-0.24266372674092382,-0.22891169235987893,0.3924366557297984,-0.22897822689295508,-0.22898035920414156,0.2106862093112614,-0.16443248901090735,-0.2426747784723338,-0.12048750885656363,0.07902595690222793,-0.22870024871472652,-0.13306983344867157,-0.24259801203841674,-0.2426747780398719,-0.22886497605459918,-0.22902115753524083,-0.066199438416244,-0.23553886301776286,0.04249577660253648,-0.21546032492398878,-0.06575005988792314,-0.24249622513944402,-0.31163874623644167,-0.24117407510024388,-0.06623908388542771,0.08053351626525566,-0.24238284096496004,0.08447124371809726,-0.24102438540900506,-0.22895250831120093,-0.22900976097419135,-0.22901855830017379,0.031045843076727534,-0.24244184779730474,-0.062235572039515255,0.07918046570030832,-0.22873560625483344,-0.24267478378729246,0.42325284721099404,0.029822458595022337,0.10867380041292507,0.34599743283656786,-0.1555041117021596,-0.15470688663523252,-0.2741289119775742,-0.12019900563986471,-0.24267477777435636,-0.10633085016313783,-0.12019020291569134,0.1223967399041939,-0.2735791566037549,-0.24250427553302234,-0.06598591568771624,7.4963910356447885,0.07908021707647456,-0.22876028324256037,-0.2289683648704307,0.05036413022935678,0.8393641268440525,-0.24257626323034176,-0.2166367245354828,-0.22900986388312997,-0.015179987815070482,0.4283281035728708,-0.13185542940692976,-0.1479566510127567,-0.1494445766646367,-0.22899617743371406,0.04817388333186383,0.11431193320355987,-0.22880337978495016,-0.23772044279178042,-0.2426747777621933,0.21054353538400422,0.1517672715535129,4.285874255605141,-0.24215661362104995,7.081783039271436,0.22967414063839572,-0.1179978662017164,-0.2275199340707255,0.007405255938124241,0.21077354076279733,-0.16240090290961157,-0.2289111290312782,-0.24206198896379175,-0.1331043591599968,-0.2290253379382976,0.21091385584709701,-0.2210081075553075,-0.22899136454110733,-0.07982873900621,-0.22902534369119595,-0.4949425605140946,0.10759464747722249,-0.15411664542302653,-0.22583964526824726,0.04542275307259362,0.40328770614624165,-0.2712660639445056,0.2893046629589919,-0.2426453712145951,-0.17258886390105993,-0.06589222628569368,0.1605707810231603,-0.15537366421353768,-0.22901386684331265,-0.22900930200844585,-0.06261318777909357,-0.24891899756302582,0.047468586230170765,0.07932271318497669,-0.22889130883991146,-0.22902533821334345,7.558745085214341,-0.22902533936657563,0.049652850507360964,0.07917619295758169,-0.03018914941190419,-0.20997793350108734,-0.12942533061653136,-0.06571402515224521,-0.09066220531436146,-0.06613558261797332,-0.18704269605732038,-0.22873234278146604,0.034909914263013674,1.7178423506515768,0.21058037990346612,0.030466361537535146,3.002791181983515,-0.19253427878190751,0.21063960830302453,0.04783757919560227,-0.06622499731345179,-0.20116403151174866,-0.1781109454668188,0.21143955721112656,-0.22895203814142423,-0.22902533821334345,-0.0796271323392048,-0.2422573670830796,-0.06477726573208534,0.07915247927335695,-0.0662390859843103,-0.06623908376433832,-0.24725509401648846,-0.07982741817777146,0.047757280516952105,-0.21464709588294353,-0.024704675284474082,-0.2191142169058383,-0.009716225727824835,-0.09214733796495313,0.15356436535031018,0.3258444361229564,0.04823629144255271,-0.2288248802933211,0.04800504635055084,0.21056977982064407,0.18912569221044478,-0.07987881551414391,-0.22874662418573624,-0.16989595355855633,-0.17533443319273614,-0.24246560323599994,-0.24235225655864487,7.091440100589903,-0.0798885234611278,-0.021224492251738905,-0.23938425616112455,-0.1648425286925106,-0.22897735700571684,-0.2287462170980399,0.02974173567208076,-0.22889469054414593,-0.2367556353457967,-0.2157217158636888,0.11024855496626929,-0.23597039814938503,-0.22821143701523386,-0.13310409975484547,-0.22354077966527935,-0.23994326805119381,-0.22761970599017917,0.0790777924237687,-0.3099750708721083,-0.13209111797829645,7.0795030537131876,0.06941436547935798,-0.22560687930879908,-0.2190990183123822,-0.2290253387899596,-0.7261129133880619,-0.12048559790706286,7.091718790254789,7.093100221090833,0.043247167680791336,0.07915188307404286,-0.007877183777459162,4.132142900767218,-0.22882279876755077,-0.066237342807662],\"y\":[1.241870239861198,1.2404324113956888,0.8222690507722947,1.954255106489515,1.4580889377868456,1.3229739349369218,0.8222672948097285,1.4581012439028118,0.34739939922394625,2.1042662593309394,1.519294924076315,1.994148230471636,0.7670169337264225,1.2418455285547874,1.2410043868650662,1.2417025498109142,1.2418701819046036,1.2418702405445121,1.2418688239913083,0.5366233683388132,0.7670169348298155,0.4408368816555486,0.8222690507722998,1.1166755876574943,1.4581012439347534,1.3070795880954098,0.9832479387970312,1.7854740672964717,0.4295482682093965,1.4581012439780465,2.10430105995301,1.2417486029440292,0.980960721422247,1.4580771923615499,1.4581012439291174,1.99414823067754,1.458101243898852,2.138712224167167,0.7380010114376857,0.8200700075428502,0.7669948862329699,1.9940581775725215,1.9941275777472804,0.699336249090653,1.2415668169065808,1.2417694614588315,1.2019237202098572,2.1043010599662093,1.2418702399316366,0.9831788412663128,1.4581012422818411,0.06166069574969241,1.4706955987612647,1.4580992929223815,1.240372785953141,1.2418017888068882,1.9941482303924423,0.3829877950989443,1.2418702399448351,1.458091772488369,0.06163379657822065,1.9941031356089503,1.2418702405783861,1.2416685959253848,0.7193337107498271,1.2555120105848707,0.8222157429444222,0.7670169337343,1.1166076064611292,0.7669798908774167,1.9941454746623621,0.7667789605952431,0.34741574436380673,1.241868239781817,1.9941385601053807,1.9941482305508296,1.4581012440190948,0.9832442724997941,2.10430105995301,1.2418702399184367,1.2418544271417404,1.2418702399184367,1.4580991812543442,2.133482799463963,1.2418702399184367,2.1912875396000753,1.240582095409328,0.869145413719912,1.458101243885653,0.7668806709824257,0.9832479375065528,1.9941168323136422,0.8222103890381987,1.5192949240347673,2.104282623043369,1.1139939233571936,0.822264050599382,1.4431175882056533,0.8222620619190797,1.6070467381804514,1.7717530486264348,-0.006280699788006793,1.2418579784390371,1.2418702399738726,0.7669617808528479,0.8222690535440851,1.4580870676078388,0.7166398115439678,0.8222630869204545,0.4924156734779533,1.3070600749744639,1.4581012438869725,1.4581012441628318,1.457917895135912,1.3070873276779473,0.8222674246436804,0.8222463523021476,1.7853603557463535,2.1043010604281736,1.4580680140686149,1.7854740674994192,1.241870240903961,1.2418702445380791,1.2206547305758713,1.240762315413022,1.2418640727603636,1.2417339773909455,1.5192881134313485,0.9823526926715144,1.4580800366134499,0.9832479387970312,1.2418114221353,0.8222682396950146,1.458100347804664,1.2418667219039552,1.2418675965510506,1.4581013758754302,0.7667858319106369,0.47620536829850907,2.157169252825494,1.3069864471431794,1.2418245602474698,1.4577406026336452,1.3068846807527237,1.5192915172517696,2.197059593011699,1.3070630510309824,2.1823719376280697,0.425778812360937,1.458076249658909,1.2418702531174146,1.8685227543524663,1.458095993245194,1.3070191962162163,2.183846527391579,1.2418469534806624,1.2418702425582324,1.2418669025843634,1.3070600749744639,1.4580929741677975,0.822252131762086,1.241842655068524,0.8478690574046887,1.2418551412693795,1.2418553761005955,1.4581001338496,1.2418588258070107,0.7209422719786899,1.2418655076697687,1.2418657217405393,1.1321790997816288,1.1290882109454863,1.4581012471853976,1.994148236331982,1.30708732879986,1.241837590379998,0.8222656089177597,1.458093532705875,1.4581012452055513,1.241854131441016,1.241869820271372,0.7670129517696294,0.4508540512737051,1.519275132054178,1.2405076146435219,0.7669678103499643,1.4580833091372243,2.152767931628252,1.4579504961146736,0.7670169349882034,1.3069358909685052,1.4580719194241714,1.3065403405143063,1.4579354644597884,1.2418629242823833,1.2418686755454647,1.2418695717981776,0.34727972678658287,1.4580778460278492,0.7666147969663978,1.3070718071157923,1.2418411370307485,1.4581012715177128,2.0488987028982386,0.3474016530809733,1.220571051564202,2.0072598661959025,1.7854683833346225,1.7853883015790912,1.474844190680148,1.994119250067986,1.4581012439899996,1.2295459289703579,1.994118365669852,1.2379747007477109,1.4747889664305045,1.4580841166504193,0.7669915024126401,1.1747291262704846,1.3070818777391233,1.2418436151609415,1.241864516892282,1.3266755914183341,1.2066113236937215,1.4580913482135895,0.6990917727454857,1.2418686857168146,0.3166482330989079,1.175837828302528,0.822143620130565,1.784710238116388,1.9477482023281913,1.2418673109480396,1.6070048918134088,1.322515372844021,1.24184794388029,0.7481966449228403,1.458101243934316,1.132193432495361,0.33515211690317354,0.6583146797204079,1.4580491949113359,0.4255336943419319,1.7467766885582938,1.9938981426406441,1.241719021191246,1.3106027101299265,1.1321703271918082,1.2351783006356896,1.2418587692967542,1.458039688423431,0.8222702386802909,1.2418702399791526,1.1321562334950221,1.2410649014621462,1.241866827261942,0.9832419322631727,1.2418702663163923,2.4592610513660076,1.2206794541041093,0.4542702885398877,1.2415502324233951,1.5189811203674033,2.637829971540542,1.1398151109916763,2.7371186711607756,1.4580982902510164,1.5307348559524077,0.7669820924629155,1.2411745052824898,1.785455280086996,1.241869087659414,1.241868629136591,0.7666527100116812,0.2260682050792217,1.2030304137455519,1.3070575187625484,1.2418567767617334,1.2418702412383347,0.3329033543471322,1.241870246517926,1.6068563260032274,1.3070722369685448,0.4941054542851178,1.2399569484499084,0.9417651856510114,0.7669641904653103,1.227971462114306,0.7670065371590958,2.1838011446906904,1.2418408089359028,1.6294064883212755,0.24446064830232694,1.1321897387976434,0.3473369701929606,0.8997802105974952,0.9689144491117909,1.1321837810424533,1.6070386718574416,0.7670157364224033,2.1645967172215297,0.7915160756688072,1.1321034252703335,1.2418628896882284,1.2418702412383347,0.9832216808274601,1.4580593146254623,0.7668700937491316,1.3070746207433819,0.767016944597059,0.767016934433846,0.7898230568305027,0.9832418006026187,1.6070467412137022,1.2404261432894759,1.5401192601339786,0.6993406409026873,1.0558728719532255,0.9350828579519816,0.9597970332721607,1.0883740153147003,1.606998620883811,1.2418501037382612,1.6070218495581603,1.1321907953829702,1.1998669287708752,0.9832469625520629,1.2418422435373133,1.5304643523112873,2.1826250847796036,1.4580802372243646,1.458068846243336,0.4245636257587613,0.983247937807108,1.2209965969688512,1.4577707030771052,1.129129399400071,1.2418654227015544,1.2418422022603999,0.347409759580885,1.2418571160747764,1.4575066582481888,1.2405339946311171,0.7978236937222816,1.457427785737738,1.2417884818079876,0.8222690511022744,1.2413193080128213,1.4578268598512187,1.2417290428750711,1.3070821206222876,0.896588876107887,0.8221672956790144,0.4257627199851381,0.7533903474701431,1.2415268514007265,0.6993391116909892,1.2418702438781306,2.9538061605004966,1.9941480385648425,0.4245356178022181,0.4243968497519417,0.3460531190888652,1.307074678033532,1.5933904024479681,-0.12918825862463074,1.2418498976002355,0.7670167586598143],\"z\":[-0.36850059039151833,-0.36899191184699187,-0.2223317489977087,-0.4413273198080907,-0.3603428805533502,-0.08821752068769531,-0.2223323492111283,-0.3603386752834017,-0.006396121145007769,-0.43024245755106694,-0.21175164318878936,-0.4276928564026411,-0.15255937722002755,-0.368509034575822,-0.36879645894287827,-0.36855789135655553,-0.3685006101999976,-0.3685005905626279,-0.3685010742135589,-0.21785338690258282,-0.15255937755605184,-0.3451522483962697,-0.22233174899771288,-0.3021834405541667,-0.3603386752931292,0.015082496886613166,-0.14439746246226381,-0.3689354930269914,-0.3170847194036252,-0.36033867530631336,-0.4302305629285149,-0.36854215567442805,-0.14517902117463297,-0.3603468940544671,-0.36033867529141317,-0.42769285646534694,-0.36033867528219626,0.04342584999671804,-0.16247433831734903,-0.22308319942249294,-0.15256691101425135,-0.4277236281117095,-0.4276999135443852,-0.16148642506218494,-0.36860427590436956,-0.36853502797368937,-0.38215061984653387,-0.43023056293253475,-0.3685005903759842,-0.14442107276084137,-0.36033867582622003,-0.0019495448206535361,-0.18566120476916048,-0.36033934202245615,-0.36901229542381714,-0.3685239814901518,-0.4276928563785236,-0.25300244463569954,-0.36850059038000366,-0.3603419117735475,-0.0019587356190669085,-0.42770826560887193,-0.36850059057294365,-0.3685695021871471,-0.4787112292272902,0.08874745127097543,-0.22234996526779197,-0.15255937722242652,-0.30220667020842534,-0.15257203490323298,-0.4276937981347989,-0.15264069857309467,-0.006390535779849814,-0.3685012738338532,-0.42769616087442763,-0.4276928564267587,-0.36033867531881436,-0.1443987145815203,-0.4302305629285149,-0.36850059037196414,-0.36850599388857236,-0.36850059037196414,-0.3603393800949755,0.784533483694697,-0.36850059037196414,-0.3539791726121685,0.1534864003955334,-0.08945710253835477,-0.3603386752781765,-0.1526059399486395,-0.14439746206926474,-0.42770358576723977,-0.222351802688001,-0.21175164317613654,-0.4302368631850207,-0.2822816709416321,-0.22233345778246738,-0.3654589308015649,-0.22233413723155343,-0.3658217651763235,-0.37362406941414233,0.1074672640412525,-0.36850478057094277,-0.3685005903888469,-0.15257822512183714,-0.22233174984182563,-0.3603435226955128,-0.16977446716549288,-0.2223337872324193,-0.3275270602335763,0.015075828934244076,-0.3603386752785781,-0.36033867536258757,-0.3604013275795901,0.01508514143285965,-0.2223323065580186,-0.22233950971565886,-0.36897434989050637,-0.43023056307322044,-0.3603500313449238,-0.3689354930887964,-0.3685005906720934,-0.3685005917788186,0.018283416946293273,-0.3688791936579196,-0.36850269811491654,-0.36854715316651016,-0.2117539720841985,-0.14470337962047267,-0.3603459223908036,-0.14439746246226381,-0.3685206896232994,-0.22233202632811286,-0.3603389815014523,-0.3685017926833834,-0.3685014936306964,-0.3603387154740125,-0.15263834632749887,-0.08937333445232519,-0.3700914894058359,0.015050669283936221,-0.3685161994628098,-0.3604619219303951,0.015015895224660597,-0.21175280728825402,-0.35145610889775675,0.015076843478514785,-0.36147943383644193,-0.3803397529916565,-0.36034721625136445,-0.36850059439154814,-0.47062004384909534,-0.36034046949480686,0.015061860095880838,-0.36097555098773726,-0.36850854785352294,-0.36850059117588135,-0.3685017311226399,0.015075828934244076,-0.3603415016154243,-0.2223375305227241,-0.3685100166063742,-0.3675618254226325,-0.36850574993396756,-0.36850567500150416,-0.3603390546285836,-0.36850449188890133,-0.1683037166230715,-0.36850220752819807,-0.36850213429598383,-0.14988544926422365,-0.30046121980059076,-0.3603386762830721,-0.42769285818733627,0.015085141091195402,-0.3685117512323522,-0.22233292528470083,-0.36034131032671785,-0.3603386756801349,-0.36850609493175807,-0.36850073395564314,-0.15256073821415864,0.06335741459747544,-0.21175840633740645,-0.3689662183174244,-0.1525761632049541,-0.3603448045710393,-0.6129196880966284,-0.3603901878758428,-0.15255937760428714,0.015033393545155139,-0.36034869652257917,0.014898228476655815,-0.3603953276332061,-0.36850309036135526,-0.3685011251740535,-0.3685008272035112,-0.006437653753128041,-0.36034667084525934,-0.15269680732777363,0.015079837810831486,-0.36851053594556604,-0.3603386836931745,-0.44916273720573235,-0.006395352584977763,0.018254822624613025,-0.5207569186926719,-0.3689374353599424,-0.3689648008428974,-0.28763579801512873,-0.427702759431604,-0.3603386753099539,-0.37271232760621914,-0.42770306154247406,0.08712736993302274,-0.2876546685610695,-0.36034452786575905,-0.15256806730183958,6.224316839957135,0.01508327874984366,-0.36850968866559225,-0.36850254600933513,-0.08695260659392905,-0.0050446844810706016,-0.36034205693485566,-0.16156996786769287,-0.36850112158867643,0.060212801933042355,-0.3910645806714935,-0.22237461045454743,-0.36919650949518185,-0.4008508823213321,-0.3685015914025412,-0.36583606593180984,0.20024111466320763,-0.368508209223844,-0.28418869665087715,-0.36033867529299596,-0.14988055217876423,-0.010581187284327142,-0.3308163358562709,-0.3603564620366861,-0.38042351488090476,-0.3821589374233981,-0.4277783150558374,-0.3685522647519265,-0.1530004481214569,-0.14988844696750694,-0.37078770338853057,-0.3685045112500645,-0.3603597096740769,-0.22233211076023598,-0.3685005903904548,-0.1498932637438223,-0.3687757883217959,-0.3685017565367526,-0.1443995142666951,-0.3685005984111315,-0.7392417377162405,0.018291865236353618,-0.6180122364522814,-0.3686099413447588,-0.211858879065903,1.7748801347439291,-0.25287841284195667,0.5112414118480557,-0.36033968477083067,-0.19355716845794776,-0.15257128366242245,0.09826589773375478,-0.3689419131804632,-0.36850098413322163,-0.368501140831016,-0.15268383935730798,-0.09980589809243973,-0.2872977374145509,0.01507495487717485,-0.36850519109085594,-0.3685005907739226,-0.3526078302323518,-0.3685005923817562,-0.3658868319986088,0.015079984268296131,-0.03479853467137562,-0.3691544203014914,0.077319675334964,-0.1525774000751848,-0.3732499954156581,-0.15256293004151694,-0.3609909997462047,-0.36851064787894433,-0.21430345111881252,-0.32218354538921645,-0.14988181924797597,-0.006417454368098966,-0.19936205930228454,-0.2507548898139022,-0.14988384969298968,-0.3658245213719358,-0.15255993019059358,-0.3237116862311733,-0.15572344441107405,-0.1499113085450734,-0.3685031105312812,-0.3685005907739226,-0.1444064346262505,-0.360353003251636,-0.15260955563443282,0.015080797713409737,-0.15255938053054405,-0.1525593774354645,-0.23234846744795817,-0.14439955992995931,-0.36582176610006195,-0.3689942027046496,-0.15289166741621446,-0.16148492646397053,0.022381079646521685,0.24174000175361282,-0.15241081431072512,-0.3650769010561791,-0.36583820751078083,-0.3685074712369395,-0.3658302697979267,-0.1498814527744265,-0.38285407914496344,-0.1443977953676504,-0.3685101576647358,-0.19364960536170023,-0.36139291015461766,-0.3603458569965456,-0.3603497460547502,-0.38075499895552956,-0.14439746216079496,-0.37563357140011183,-0.3604516235853669,-0.30044714472008077,-0.3685022381575506,-0.3685101715156621,-0.006392581004781309,-0.3685050748891162,-0.36054185397567395,-0.36895728510797055,-0.23068491496618848,-0.36056880957700416,-0.36852852786781065,-0.2223317490982026,-0.36868885140443813,-0.36043243616291837,-0.3685488398398854,0.015083362193533276,-0.35958124357738364,-0.22236652038229976,-0.3803452521766536,-0.1572157705720024,-0.3686179313979817,-0.16148544737095094,-0.36850059157783943,6.701057387344514,-0.42769292192849584,-0.3807645609574326,-0.3808119790551867,-0.006856163725301811,0.015080819007494507,0.2845343866144134,-0.18825757544657373,-0.3685075436291881,-0.15255943691023308],\"type\":\"scatter3d\"},{\"customdata\":[[\"SHA-256\"],[\"Ethash\"],[\"Scrypt\"],[\"CryptoNight-V7\"],[\"Ethash\"],[\"Equihash\"],[\"Multiple\"],[\"Scrypt\"],[\"X11\"],[\"SHA-256\"],[\"Scrypt\"],[\"SHA-256\"],[\"Multiple\"],[\"Scrypt\"],[\"SHA-256\"],[\"Scrypt\"],[\"Scrypt\"],[\"Quark\"],[\"Groestl\"],[\"Scrypt\"],[\"X11\"],[\"Scrypt\"],[\"Scrypt\"],[\"Scrypt\"],[\"X11\"],[\"Multiple\"],[\"Scrypt\"],[\"SHA-256\"],[\"Scrypt\"],[\"Scrypt\"],[\"Scrypt\"],[\"Scrypt\"],[\"Scrypt\"],[\"Scrypt\"],[\"SHA-256\"],[\"Scrypt\"],[\"NeoScrypt\"],[\"Scrypt\"],[\"Scrypt\"],[\"Scrypt\"],[\"Multiple\"],[\"Scrypt\"],[\"SHA-256\"],[\"Scrypt\"],[\"Scrypt\"],[\"Scrypt\"],[\"Scrypt\"],[\"Scrypt\"],[\"HybridScryptHash256\"],[\"Scrypt\"],[\"SHA-256\"],[\"Scrypt\"],[\"SHA-256\"],[\"Scrypt\"],[\"Scrypt\"],[\"Scrypt\"],[\"Scrypt\"],[\"Scrypt\"],[\"Scrypt-n\"],[\"Scrypt\"],[\"SHA-256\"],[\"SHA-256\"],[\"SHA-256\"],[\"SHA-256\"],[\"SHA-256\"],[\"SHA-256\"],[\"X11\"],[\"Scrypt\"],[\"X11\"],[\"Lyra2REv2\"],[\"Scrypt\"],[\"SHA-256\"],[\"CryptoNight\"],[\"CryptoNight\"],[\"Scrypt\"],[\"SHA-256\"],[\"Scrypt\"],[\"Scrypt\"],[\"Scrypt\"],[\"Scrypt\"],[\"Scrypt\"],[\"Momentum\"],[\"Stanford Folding\"],[\"Multiple\"],[\"QuBit\"],[\"Scrypt\"],[\"Scrypt\"],[\"SHA-256\"],[\"M7 POW\"],[\"Scrypt\"],[\"X11\"],[\"Scrypt\"],[\"SHA-256\"],[\"Scrypt\"],[\"X11\"],[\"X11\"],[\"Lyra2RE\"],[\"SHA-256\"],[\"X11\"],[\"Scrypt\"],[\"Scrypt\"],[\"Ethash\"],[\"Blake2b\"],[\"X11\"],[\"SHA-256\"],[\"Scrypt\"],[\"Scrypt\"],[\"1GB AES Pattern Search\"],[\"Scrypt\"],[\"CryptoNight\"],[\"SHA-256\"],[\"SHA-256\"],[\"X11\"],[\"Scrypt-n\"],[\"X11\"],[\"Scrypt\"],[\"Dagger\"],[\"Scrypt\"],[\"CryptoNight-Lite\"],[\"X11GOST\"],[\"SHA-256\"],[\"Scrypt\"],[\"X11\"],[\"SHA-256\"],[\"Scrypt\"],[\"X11\"],[\"Equihash\"],[\"CryptoNight\"],[\"SHA-256\"],[\"Multiple\"],[\"Scrypt\"],[\"SHA-256\"],[\"Scrypt\"],[\"Scrypt\"],[\"Scrypt-n\"],[\"Lyra2Z\"],[\"SHA-256\"],[\"Quark\"],[\"Ethash\"],[\"SHA-256\"],[\"Equihash\"],[\"Scrypt\"],[\"Equihash\"],[\"X11\"],[\"X11\"],[\"CryptoNight\"],[\"Scrypt\"],[\"CryptoNight\"],[\"Lyra2RE\"],[\"X11\"],[\"X11\"],[\"Scrypt\"],[\"CryptoNight-V7\"],[\"Keccak\"],[\"Scrypt\"],[\"X11\"],[\"Equihash\"],[\"Scrypt\"],[\"Lyra2RE\"],[\"Ethash\"],[\"X11\"],[\"Dagger-Hashimoto\"],[\"Scrypt\"],[\"NIST5\"],[\"Scrypt\"],[\"Scrypt\"],[\"Scrypt\"],[\"SHA-256\"],[\"Scrypt\"],[\"CryptoNight-V7\"],[\"Argon2d\"],[\"Blake2b\"],[\"Cloverhash\"],[\"CryptoNight\"],[\"X11\"],[\"Scrypt\"],[\"Scrypt\"],[\"X11\"],[\"X11\"],[\"CryptoNight\"],[\"Time Travel\"],[\"Scrypt\"],[\"Keccak\"],[\"X11\"],[\"SHA-256\"],[\"Scrypt\"],[\"Scrypt\"],[\"Scrypt\"],[\"Scrypt\"],[\"Scrypt\"],[\"Scrypt\"],[\"Scrypt\"],[\"Scrypt\"],[\"CryptoNight\"],[\"Equihash\"],[\"X11\"],[\"NeoScrypt\"],[\"Equihash\"],[\"Dagger\"],[\"Scrypt\"],[\"X11\"],[\"NeoScrypt\"],[\"Scrypt\"],[\"Ethash\"],[\"Scrypt\"],[\"NeoScrypt\"],[\"Multiple\"],[\"CryptoNight\"],[\"CryptoNight\"],[\"Ethash\"],[\"X11\"],[\"SHA-256\"],[\"CryptoNight-V7\"],[\"Scrypt\"],[\"BLAKE256\"],[\"X11\"],[\"NeoScrypt\"],[\"NeoScrypt\"],[\"Scrypt\"],[\"X11\"],[\"SHA-256\"],[\"C11\"],[\"Ethash\"],[\"CryptoNight\"],[\"SkunkHash\"],[\"CryptoNight\"],[\"Equihash\"],[\"Skein\"],[\"Scrypt\"],[\"Dagger\"],[\"Lyra2REv2\"],[\"Scrypt\"],[\"Scrypt\"],[\"Scrypt\"],[\"NeoScrypt\"],[\"Equihash\"],[\"X11\"],[\"Ethash\"],[\"X11\"],[\"CryptoNight\"],[\"NeoScrypt\"],[\"Scrypt\"],[\"IMesh\"],[\"Equihash\"],[\"Equihash\"],[\"Equihash\"],[\"Lyra2Z\"],[\"X11\"],[\"CryptoNight\"],[\"NIST5\"],[\"Lyra2RE\"],[\"Tribus\"],[\"Lyra2Z\"],[\"CryptoNight\"],[\"CryptoNight Heavy\"],[\"CryptoNight\"],[\"Jump Consistent Hash\"],[\"CryptoNight\"],[\"X16R\"],[\"HMQ1725\"],[\"X11\"],[\"Scrypt\"],[\"CryptoNight-V7\"],[\"Cryptonight-GPU\"],[\"XEVAN\"],[\"CryptoNight Heavy\"],[\"Lyra2REv2\"],[\"SHA-256\"],[\"X11\"],[\"X16R\"],[\"Equihash\"],[\"Quark\"],[\"CryptoNight Heavy X\"],[\"Lyra2Z\"],[\"Ethash\"],[\"SHA-256\"],[\"Ethash\"],[\"CryptoNight\"],[\"SkunkHash\"],[\"Argon2\"],[\"Blake\"],[\"Blake\"],[\"SHA-256\"],[\"Equihash\"],[\"Exosis\"],[\"Scrypt\"],[\"Equihash\"],[\"Equihash\"],[\"QuBit\"],[\"Equihash1927\"],[\"SHA-256\"],[\"SHA-256\"],[\"X13\"],[\"SHA-256\"],[\"X11\"],[\"Scrypt\"],[\"NeoScrypt\"],[\"Blake\"],[\"CryptoNight\"],[\"Scrypt\"],[\"SHA-256\"],[\"CryptoNight\"],[\"Scrypt\"],[\"Groestl\"],[\"Scrypt\"],[\"Scrypt\"],[\"Scrypt\"],[\"Multiple\"],[\"Equihash+Scrypt\"],[\"Ethash\"],[\"Ethash\"],[\"CryptoNight\"],[\"Equihash\"]],\"hovertemplate\":\"<b>%{hovertext}</b><br><br>Class=%{marker.color}<br>PC 1=%{x}<br>PC 2=%{y}<br>PC 3=%{z}<br>Algorithm=%{customdata[0]}<extra></extra>\",\"hovertext\":[\"Bitcoin\",\"Ethereum\",\"Litecoin\",\"Monero\",\"Ethereum Classic\",\"ZCash\",\"DigiByte\",\"ProsperCoin\",\"Spreadcoin\",\"ACoin\",\"Argentum\",\"BetaCoin\",\"MyriadCoin\",\"MoonCoin\",\"ZetaCoin\",\"SexCoin\",\"Quatloo\",\"QuarkCoin\",\"Riecoin\",\"Digitalcoin \",\"LimeCoinX\",\"BitMark\",\"Catcoin\",\"CannaCoin\",\"CryptCoin\",\"Verge\",\"DarkShibe\",\"DevCoin\",\"EarthCoin\",\"E-Gulden\",\"Elacoin\",\"Einsteinium\",\"Emerald\",\"Flappy Coin\",\"FireRoosterCoin\",\"Franko\",\"FeatherCoin\",\"GrandCoin\",\"GlobalCoin\",\"GoldCoin\",\"HunterCoin\",\"Infinite Coin\",\"IXcoin\",\"KrugerCoin\",\"LuckyCoin\",\"Litebar \",\"LitecoinDark\",\"MegaCoin\",\"MediterraneanCoin\",\"MinCoin\",\"NoirBits\",\"NobleCoin\",\"Namecoin\",\"NyanCoin\",\"RipOffCoin\",\"RonPaulCoin\",\"StableCoin\",\"SmartCoin\",\"SpainCoin\",\"SecureCoin\",\"SysCoin\",\"TigerCoin\",\"TerraCoin\",\"Umbrella\",\"UnbreakableCoin\",\"Unobtanium\",\"UroCoin\",\"ViaCoin\",\"VootCoin\",\"Vertcoin\",\"WorldCoin\",\"JouleCoin\",\"ByteCoin\",\"DigitalNote \",\"MonaCoin\",\"Sling Coin\",\"Gulden\",\"PesetaCoin\",\"Wild Beast Coin\",\"Flo\",\"ArtByte\",\"BitCredit\",\"Folding Coin\",\"Unitus\",\"CypherPunkCoin\",\"OmniCron\",\"GreenCoin\",\"Unattanium\",\"Cryptonite\",\"Gridmaster\",\"ConSpiracy Coin \",\"MasterCoin\",\"SoonCoin\",\"1Credit\",\"Quicksilver coin\",\"MarsCoin \",\"Crypto\",\"Anarchists Prime\",\"BowsCoin\",\"Song Coin\",\"BitZeny\",\"Expanse\",\"Siacoin\",\"MindCoin\",\"I0coin\",\"DogeCoinDark\",\"Revolution VR\",\"HOdlcoin\",\"Gamecredits\",\"Dashcoin\",\"CarpeDiemCoin\",\"Phalanx\",\"SunShotCoin\",\"HempCoin\",\"Adzcoin\",\"VirtaCoin\",\"SoilCoin\",\"YoCoin\",\"AEON\",\"SibCoin\",\"Anti Bitcoin\",\"Francs\",\"BolivarCoin\",\"Clinton\",\"Omni\",\"PizzaCoin\",\"Komodo\",\"Karbo\",\"ZayedCoin\",\"Circuits of Value\",\"DopeCoin\",\"DollarCoin\",\"Shilling\",\"GBR Coin\",\"FujiCoin\",\"ZCoin\",\"LeaCoin\",\"Zurcoin\",\"Elementrem\",\"CashOut\",\"ZClassic\",\"KiloCoin\",\"Hush\",\"ArtexCoin\",\"Kurrent\",\"Cannabis Industry Coin\",\"OsmiumCoin\",\"Bikercoins\",\"HexxCoin\",\"MarxCoin\",\"PacCoin\",\"Solarflarecoin\",\"Citadel\",\"CreativeChain\",\"BeaverCoin\",\"VaultCoin\",\"Zero\",\"Canada eCoin\",\"Zoin\",\"Musicoin\",\"BnrtxCoin\",\"DubaiCoin\",\"EB3coin\",\"Coinonat\",\"Bitcoin Scrypt\",\"BenjiRolls\",\"ParallelCoin\",\"ILCoin\",\"EquiTrader\",\"Quantum Resistant Ledger\",\"Dynamic\",\"Nano\",\"ChanCoin\",\"Dinastycoin\",\"DigitalPrice\",\"Unify\",\"SocialCoin\",\"ArcticCoin\",\"DAS\",\"LeviarCoin\",\"Bitcore\",\"gCn Coin\",\"SmartCash\",\"Onix\",\"Bitcoin Cash\",\"CampusCoin\",\"Sojourn Coin\",\"NewYorkCoin\",\"LiteBitcoin\",\"FrazCoin\",\"Kronecoin\",\"AdCoin\",\"Linx\",\"Sumokoin\",\"BitcoinZ\",\"Elements\",\"VIVO Coin\",\"Bitcoin Gold\",\"Pirl\",\"eBoost\",\"Pura\",\"Innova\",\"Bitdeal\",\"Ellaism\",\"Sakuracoin\",\"GoByte\",\"SHIELD\",\"UltraNote\",\"BitCoal\",\"DaxxCoin\",\"AC3\",\"CHIPS\",\"Lethean\",\"PopularCoin\",\"Photon\",\"Sucre\",\"SparksPay\",\"GunCoin\",\"IrishCoin\",\"Pioneer Coin\",\"UnitedBitcoin\",\"Interzone\",\"1717 Masonic Commemorative Token\",\"TurtleCoin\",\"MUNcoin\",\"Niobio Cash\",\"Bitcoin Private\",\"Skeincoin\",\"ShareChain\",\"Travelflex\",\"KREDS\",\"BitFlip\",\"LottoCoin\",\"LeafCoin\",\"Cerberus\",\"Bitcoin Hush\",\"Crypto Improvement Fund\",\"Callisto Network\",\"Curium\",\"BitTube\",\"Dinero\",\"Poseidon\",\"Aidos Kuneen\",\"Snowgem\",\"Bitrolium\",\"Bitcoin Interest\",\"Alpenschillling\",\"FuturoCoin\",\"Monero Classic\",\"Jumpcoin\",\"Infinex\",\"KEYCO\",\"GINcoin\",\"PlatinCoin\",\"Loki\",\"Newton Coin\",\"MassGrid\",\"PluraCoin\",\"Motion\",\"PlusOneCoin\",\"Axe\",\"HexCoin\",\"Webchain\",\"Ryo\",\"Urals Coin\",\"Qwertycoin\",\"NIX\",\"Project Pai\",\"Azart\",\"Xchange\",\"CrypticCoin\",\"ZestCoin\",\"X-CASH\",\"Actinium\",\"ETHER-1\",\"Bitcoin SV\",\"Bitcoiin2Gen\",\"FREDEnergy\",\"C25 Coin\",\"Aquachain\",\"Universal Molecule\",\"Lithium\",\"Smart Bitcoin\",\"PirateCash\",\"Exosis\",\"Block-Logic\",\"Beam\",\"Bithereum\",\"SLICE\",\"Vidulum\",\"BlockStamp\",\"BLAST\",\"Bitcoin Rhodium\",\"GlobalToken\",\"Boolberry\",\"SolarCoin\",\"UFO Coin\",\"BlakeCoin\",\"FantomCoin \",\"Crypto Escudo\",\"Crown Coin\",\"Quazar Coin\",\"SmileyCoin\",\"Groestlcoin\",\"Bata\",\"Pakcoin\",\"Dotcoin\",\"JoinCoin\",\"Vollar\",\"Reality Clash\",\"iOlite\",\"Beldex\",\"Horizen\"],\"legendgroup\":\"2\",\"marker\":{\"color\":[2,2,2,2,2,2,2,2,2,2,2,2,2,2,2,2,2,2,2,2,2,2,2,2,2,2,2,2,2,2,2,2,2,2,2,2,2,2,2,2,2,2,2,2,2,2,2,2,2,2,2,2,2,2,2,2,2,2,2,2,2,2,2,2,2,2,2,2,2,2,2,2,2,2,2,2,2,2,2,2,2,2,2,2,2,2,2,2,2,2,2,2,2,2,2,2,2,2,2,2,2,2,2,2,2,2,2,2,2,2,2,2,2,2,2,2,2,2,2,2,2,2,2,2,2,2,2,2,2,2,2,2,2,2,2,2,2,2,2,2,2,2,2,2,2,2,2,2,2,2,2,2,2,2,2,2,2,2,2,2,2,2,2,2,2,2,2,2,2,2,2,2,2,2,2,2,2,2,2,2,2,2,2,2,2,2,2,2,2,2,2,2,2,2,2,2,2,2,2,2,2,2,2,2,2,2,2,2,2,2,2,2,2,2,2,2,2,2,2,2,2,2,2,2,2,2,2,2,2,2,2,2,2,2,2,2,2,2,2,2,2,2,2,2,2,2,2,2,2,2,2,2,2,2,2,2,2,2,2,2,2,2,2,2,2,2,2,2,2,2,2,2,2,2,2,2,2,2,2,2,2,2,2,2,2,2,2,2,2,2,2,2,2,2,2,2,2,2,2,2,2,2,2,2,2,2,2,2,2,2,2,2,2],\"coloraxis\":\"coloraxis\",\"symbol\":\"diamond\"},\"mode\":\"markers\",\"name\":\"2\",\"scene\":\"scene\",\"showlegend\":true,\"x\":[-0.18087045597246446,-0.2911779640762994,-0.2761797484733112,-0.3033404302172837,-0.29110097670114365,-0.29682838438560194,-0.08136373675701025,-0.2769566294115894,-0.29053307013322743,-0.18111363833016514,-0.27686930494324746,-0.18111363841781059,-0.21318803008628584,-0.2770359824769391,-0.17880481356451394,-0.275285791237677,-0.2769350682528949,0.003268638947725417,-0.28113759212230416,-0.27658122203858615,-0.2906843164548922,-0.2770348766473346,-0.27693693780177486,-0.27697106840532104,-0.2906165322489891,-0.020004931213908853,-0.2770348765737123,0.07355397632359413,-0.10694297530885617,-0.27675122565121263,-0.2770348767840503,-0.27406587667953364,-0.2767704024440898,-0.27703516487585095,-0.18111363833305485,-0.27701937542045874,-0.2642931562296247,-0.26504170011585465,-0.27614402527329385,-0.27646977655427846,-0.23608922015890904,0.9518976909572667,-0.18082756103193945,-0.2749804875578981,-0.2767727147993141,-0.2770198961246984,-0.27703487680424105,-0.276517344202991,-0.32190409820761845,-0.27695614246515055,-0.18111363846970632,-0.24493919279342707,-0.18091373888602208,-0.27249454160630476,-0.27703487660241616,-0.2770198987154002,-0.2767063979638528,-0.27668769726465586,-0.33661376412655813,-0.2770348766283641,-0.1734719717548843,-0.18052306107754743,-0.18080251943559278,-0.18111363833312014,-0.18108273541526212,-0.18111091295462964,-0.2906679392150204,-0.27672083441414,-0.29068431639434744,-0.22560716899814873,-0.27541240727853206,-0.1805819476282538,2.3567887645873316,-0.04639221837182559,-0.2761098150230486,-0.18111363832843527,-0.27140496004166675,-0.2751694478810503,-0.2770324088379671,-0.27496932304159083,-0.2662840990658874,-0.37028168349692836,-0.31175076559548043,-0.23520595706192177,-0.21276572214316225,-0.2768973267136038,-0.2144955613737143,-0.18111363832555202,-0.32265894713262583,-0.27703487680999817,-0.290684316489489,-0.2770264733406955,-0.18094458274783895,-0.2770339452004622,-0.290684316489489,-0.29024723031523075,-0.30506117341128103,-0.18091359247829736,-0.2904691232472216,-0.27659312836218686,-0.27600916539501913,-0.2924963337034756,0.3600209318339294,-0.2904690709057572,-0.180828807278896,-0.27703492413864444,-0.2741862238375995,-0.2755758740727154,-0.27608754900421245,-0.14008016023416348,0.11378936386150125,-0.18111363836879835,-0.2906843228812781,-0.33661377839780593,-0.29007239437492804,-0.277034937112506,-0.3112507525309762,-0.27702624342845583,-0.22811647398260787,-0.2972785887793625,-0.18111363844664144,-0.27694574351524515,-0.2904990986204451,-0.18111363833253277,-0.27702651444268467,-0.2906656250004324,-0.297724985225474,-0.1399740487856521,-0.18102894056484398,-0.2225242076133894,-0.275449869770631,-0.180990105636161,-0.2768840445296931,-0.2770348768200888,-0.3366137640112352,-0.33052113917964004,-0.18111364409171282,-0.00025225776832956743,-0.292283223790277,-0.1811136386138603,-0.2968523877659911,-0.27437212030398567,-0.29692853566090716,-0.279506744747367,-0.28985190238861835,-0.14006689168906286,-0.2770227490987541,-0.13995323120570763,-0.3052221437533896,-0.2906843166845006,-0.28340043433907747,-0.2770348766254809,-0.30342496555063764,-0.29532801466013614,-0.2769926180532535,-0.2902721389446801,-0.2968346433042793,-0.27568049943639755,-0.3049960202463416,-0.29263870357902,-0.29068431699979425,-0.3170662083969664,-0.2761654241366509,-0.20343291394951785,-0.2770348766283641,-0.2767598310632368,-0.2770348765707025,-0.16323837976448438,-0.27684939679995363,-0.3026372896350631,-0.23108622940531628,-0.08715047204878362,-0.28827890293581554,-0.11553471541054008,-0.29020765592862846,-0.27678889954519076,-0.2769647758340896,-0.29033105148094474,-0.29064873695858523,-0.1398880552540235,-0.3247945397734975,1.9348095343914613,-0.2649287040383057,-0.2890229355855604,-0.18086952792669228,-0.2770348794797305,-0.2770283249045456,1.6628528700142398,-0.2770348794508996,-0.2769032411416108,-0.2767981164220918,-0.2765920234306924,-0.2765775116453798,-0.13995879894719915,-0.22623379341910096,-0.2540200415034005,-0.2670672434836012,-0.29669518535949074,-0.31086706734326763,-0.27567851089761464,-0.2883075114929397,-0.2670372744616816,-0.2770348774327436,-0.2924656627537954,-0.2770348768708311,-0.26704463957836716,-0.22955453915331328,0.12147780850611377,-0.1400191176455402,-0.28557282582870375,-0.2895948273563338,-0.18111363838609684,-0.2975882004542215,-0.22326043807440718,0.31728820375421873,-0.2906269494498218,-0.26701730454185124,-0.26305699226915225,-0.27641789846558334,-0.29056931084062293,-0.1808400862733729,-0.31926657852654716,-0.0818209606235337,0.5807596654933741,-0.2856646206230801,-0.1382633650969391,-0.29692853566090716,-0.32223075165967374,-0.14138474655735458,-0.30987223216604887,-0.21756824253760357,-0.27686604513890933,-0.0804640888386452,-0.277034937112506,-0.26712375491290274,-0.29692853566090716,-0.28781806201335,-0.2892798541494809,-0.2906843164577751,-0.13899429598293447,-0.2671237551103939,-0.276979664135907,-0.252716325143391,-0.2969285358428179,-0.29596059762325366,-0.2969285356646554,-0.33025292949904933,-0.2902529293565182,-0.13986289121945525,-0.20328442922316606,-0.30517844351473583,-0.3108886135288974,-0.33052903238061837,-0.14007901837999068,0.27386978910988213,0.42008012929023814,-0.2949650172903974,-0.13248258822321501,-0.24093445247997702,-0.2533676747063946,-0.2906165859141724,-0.2770156595745578,-0.3033624233915593,-0.36546937797974477,-0.2204040586525142,1.6240489640156321,-0.2263013416369318,-0.15262711102335447,-0.2906162759559246,-0.2409123703700015,-0.2394792026889649,-0.00025225748953572975,-0.33397547667238014,-0.3304388462586587,-0.29263870230691247,-0.18086956963911585,-0.29263870255582,-0.1147535544636353,-0.2857299814377354,-0.30909472204875643,-0.2639178265226944,-0.2637242746780033,-0.18111363838609637,-0.08594994182893578,-0.2510522736149884,-0.2765562391648576,-0.296444434582371,-0.29658736485747356,-0.2126767290712036,-0.3415454740377132,-0.18111363862827554,-0.1804042717855712,-0.16848117117166406,-0.1799658607644045,-0.2906843164475402,-0.2762814182542148,-0.21524185341484506,-0.26362242058289376,-0.1400801602340287,-0.26645130891243396,-0.18080182038847034,-0.14008016023416348,0.12427226435942998,-0.2808154282273162,-0.2769663385809269,-0.2760896063476373,-0.2770348791337608,-0.23604400889923927,-0.24314927567788866,-0.2923065229874829,-0.2926387051505919,-0.12678342914677948,-0.29682955801382077],\"y\":[-1.4705750622121365,-2.1324460634624485,-1.051035343674365,-2.233091361102145,-2.1324537943184945,-2.066761542855116,-1.7717385940337436,-1.0509573049287493,-0.8347336339101159,-1.4705506342098116,-1.0509660763265356,-1.4705506338085617,-1.7584967719659068,-1.0509443767972761,-1.4707825590397068,-1.0511251416859904,-1.050959469779162,-0.6861266264082114,-1.176207110281132,-1.05099501515165,-0.8347184408403978,-1.0509494447207643,-1.0509592829983196,-1.0509558545985662,-0.8347252499656524,-1.7779022910208182,-1.050949445057814,-1.4961323375852729,-1.0680354114168793,-1.050977938230543,-1.050949444094869,-1.0512476843948633,-1.0509760117335687,-1.0509481251870245,-1.470550634196581,-1.0509510020672828,-1.5937633835262726,-1.052154170167764,-1.0510389323364626,-1.0510062098077582,-1.7561963176147433,-1.1743975078918614,-1.4705793711120863,-1.0511558099759073,-1.050975779606837,-1.0509509498889091,-1.0509494440024343,-1.0510014319134817,-2.2514605363877096,-1.050957353985693,-1.4705506335709815,-1.0541733400801432,-1.4705707143393578,-1.0514055283022217,-1.0509494449264047,-1.0509509493749978,-1.0509824383233186,-1.0509843194199164,-2.258413294719072,-1.050949444807614,-1.4713182465551629,-1.47060995852913,-1.4705818863295763,-1.470550634196282,-1.4705537374698507,-1.470550907997767,-0.8347200862446327,-1.0509809910775887,-0.8347184411175765,-1.5013551726654144,-1.0511124226010604,-1.470604043259443,-2.5586150116414133,-2.317211953725149,-1.0510423683850096,-1.4705506342177306,-1.0515149620539148,-1.0511368297354111,-1.0509496929402657,-1.0511569328393402,-1.0520293736346575,-2.2302391859991273,-2.247074953885729,-1.7562850440595674,-1.1636989591853968,-1.0509632622549794,-1.057231540630042,-1.470550634230929,-2.2425855626838946,-1.050949443976078,-0.8347184406820103,-1.0509502892011726,-1.4705676159992493,-1.0509483509812736,-0.8347184406820103,-0.8347623470395508,-2.207371469188137,-1.4705707286234555,-0.8347400575157189,-1.050993817040533,-1.051052477011932,-2.1323136298440324,-2.2417736962386465,-0.8347400628380919,-1.4705792459235818,-1.0509492273016607,-1.0512355963925248,-2.163763214619694,-1.051044605332805,-2.3078009034702314,-1.5001740709579403,-1.4705506340329453,-0.8347184114198767,-2.2584132293841326,-0.8347799090719147,-1.0509491679062608,-2.2614155034894186,-1.0509503101310986,-2.2413429937654743,-2.1910876181914043,-1.4705506336765726,-1.0509583984561306,-0.8347370463657404,-1.470550634198972,-1.0509502850724182,-0.8347203183903201,-1.6115358780600708,-2.3078115627295093,-1.4705591421990336,-1.7575589408042187,-1.0511086602481605,-1.4705630432493824,-1.050964596138542,-1.0509494439298817,-2.2584132952470313,-2.2409780085011843,-1.4705506078329744,-0.6857729454262007,-2.1323350371273677,-1.470550632911032,-2.06675913165782,-1.0512167962626473,-2.066751482418615,-0.8358412486205751,-0.8348020561633469,-2.307802236294541,-1.0509506632831909,-2.3078136537118477,-2.2073553000502866,-0.8347184397892313,-0.8354488336536314,-1.0509494448208128,-2.2330828669363427,-1.502990264538536,-1.0509536900108507,-0.8347598324244525,-2.0667609141833183,-1.0510854942344305,-2.2073780145584685,-2.1322993227933895,-0.8347184383457913,-2.186510835339473,-1.0510367320353613,-0.5073594113399159,-1.050949444807614,-1.050977073608757,-1.0509494450715933,-1.472346214675861,-1.0509680760441404,-2.23316199190943,-2.252994025822208,-2.1968542487312597,-2.2189084944133675,-2.3102665268620504,-0.8347663215169471,-1.05097415381952,-1.0509564859039082,-0.8347539266532845,-0.8347220149134921,-2.3078202004185924,-2.1557422880719423,-1.2731319545070439,-1.5060438853486051,-0.8348853166156855,-1.470575155436564,-1.0509494317538246,-1.050949967666791,-1.2458158352980482,-1.050949431885815,-1.0509626679217945,-1.0509732271265302,-1.0509939294566881,-1.0509953872004283,-2.3078130935940577,-2.0738526684953733,-0.8384014324831741,-1.5934847237780112,-2.066774923017676,-2.2614540439588735,-1.051085693987934,-0.8349571923686437,-1.5934877340059805,-1.0509494411250988,-2.13231670741833,-1.05094944369758,-1.5934869943326968,-1.7568527340618274,-2.334073933505355,-2.3078070354218547,-2.1330089839879682,-0.8348278758118742,-1.470550633953751,-2.2336691735151812,-1.0563511522298685,-1.2198117942977729,-0.8347242035095351,-1.5934897403422863,-1.5938875570523487,-1.0510114211929984,-0.834729993405159,-1.470578112932224,-1.1530054804529193,-0.31433515497553444,-2.3801980886946192,-1.5446296055813686,-2.307983400812345,-2.066751482418615,-0.8179662235331451,-1.06457569783394,-2.261553978272216,-1.5021626890487276,-1.0509664040915467,-1.0706952159072614,-1.0509491679062608,-1.5934790470109175,-2.066751482418615,-0.8350063568097513,-2.1326366492593007,-0.8347184408271991,-2.307909968474899,-1.5934790461067876,-1.0509549910352856,-2.242046845538225,-2.066751481585812,-2.0668487134901485,-2.066751482401456,-2.241004947212183,-0.834761773692218,-2.3078227286659656,-0.5073743273396388,-2.2073596896342087,-2.284809493787762,-2.2409772157508723,-2.3078010106647397,-2.2823850815366784,-2.364067976837903,-2.2483662642570836,-2.3085640851821645,-1.3238659964411699,-2.128622374012071,-0.8347252445361278,-1.0509513751926238,-2.2330891292434996,-2.191309919019082,-0.762104349425762,-2.4180114478274506,-1.501285440179382,-1.4734121473082513,-0.8347252756205414,-1.3238682136362778,-2.072522308260139,-0.6857729467025417,-2.265479552816532,-2.240986274214912,-2.132299328617202,-1.4705751512464509,-2.132299327477685,-2.3103449178691746,-1.544623040065871,-2.203414237985448,-1.824249227780468,-1.824268671560168,-1.4705506339537544,-0.24880346552225463,-2.2840348895924047,-1.0509975238140765,-2.0668001084148924,-2.0667857537188263,-1.1637078974625963,-2.2297298075265544,-1.4705506328450368,-1.4706218909799316,-0.29867304926865584,-1.470665929078957,-0.8347184408740553,-1.0510238653759707,-1.5986906575786457,-1.8242788130091447,-2.3078009034708487,-1.0520125770033772,-1.470581956550541,-2.3078009034702314,-1.091261067198545,-1.1762394721481972,-1.050956329825885,-1.0510443974025914,-1.050949433337702,-1.7562008597005716,-2.1696315301305695,-2.1323326966891383,-2.132299315598605,-2.3091365742531282,-2.0667614249613395],\"z\":[0.1135561381182767,0.1883469619390597,-0.03263370876755598,0.15851835393776234,0.18834431845551794,0.2360868994616281,0.11273175513055556,-0.03260704179752151,-0.024447632419482397,0.11356448551785796,-0.03261003941760946,0.11356448539566255,0.1172567484667216,-0.03260589941103589,0.1134852336056225,-0.032664394846754485,-0.03260778221721782,-0.03004638759211812,0.033691261289618954,-0.032619927899095305,-0.02444244084058548,-0.032604355960822694,-0.03260771771893205,-0.03260654614162782,-0.02444476754486137,0.11062561092591837,-0.03260435585817836,0.10482284388003657,-0.03844287559225502,-0.03261409235360734,-0.03260435615143121,-0.032706269046715704,-0.03261343414877277,-0.032604757808321456,0.11356448551382879,-0.03260488797855502,0.17431414639809112,-0.033016031687117385,-0.032634934921261946,-0.0326237534035885,0.11804284790882927,-0.07478827021251493,0.11355466573440284,-0.03267487456610816,-0.03261335472694638,-0.03260487006448454,-0.032604356179581115,-0.03262212050280182,0.33824933606066454,-0.03260705846682492,0.11356448532330998,-0.03370611322589089,0.11355762381945653,-0.032760205827227294,-0.03260435589819741,-0.03260487005648714,-0.032615632022839035,-0.032616273112128086,0.18713407041047975,-0.03260435593437378,0.11330217898294927,0.1135442135595846,0.11355380608633969,0.11356448551373785,0.11356342444157581,0.1135643919739472,-0.02444300290859609,-0.03261513555171169,-0.02444244075617411,0.18015517026003416,-0.03266004877027401,0.11354623486936868,0.12576971460465114,0.20826046290958075,-0.032636109344738644,0.11356448552026965,-0.032797611627629314,-0.032668388028890674,-0.03260444056647832,-0.03267525735786412,-0.03297338417529434,0.3559457421694879,0.24816634037738572,0.11801252976634782,0.03544612597293036,-0.03260907731081602,-0.034751080954638,0.11356448552428917,0.1411857807509405,-0.03260435618760749,-0.024442440888820405,-0.032604644296230875,0.11355868254582696,-0.03260476672573619,-0.024442440888820405,-0.024457444024986494,0.27797651905719,0.11355761865903685,-0.024449827422881695,-0.032619519877873274,-0.03263956477520162,0.18839221536907516,0.26237248920733236,-0.024449829198928057,0.11355470851226677,-0.032604422173091785,-0.03270213771850897,0.2936378857157528,-0.03263687354665719,0.21147637546882578,0.10344174751762136,0.11356448546399547,-0.024442449800237145,0.18713405051354065,-0.024463445539977615,-0.03260444026121764,0.257374653633185,-0.032604652878860385,0.21579798514547197,0.2978564344797646,0.11356448535546683,-0.03260741545561145,-0.024448798524161104,0.11356448551455692,-0.03260464288537803,-0.02444308244778677,0.4168095367953064,0.21147273319094295,0.11356157820386123,0.11757721932827483,-0.03265876258766025,0.11356024517760321,-0.0326095333361064,-0.03260435620167608,0.1871340705712627,0.33831099478551635,0.113564477485122,-0.029925531079631393,0.18838490025829324,0.11356448512233087,0.23608772338607492,-0.03269579707769709,0.23609033718926384,-0.024826116880888184,-0.024471014597778864,0.21147592001084772,-0.0326047721407685,0.21147201855843523,0.27798204465038634,-0.024442441160704972,-0.024692874415954393,-0.03260435593035433,0.15852125488078483,0.1035499437171995,-0.03260580640212837,-0.02445659301018245,0.23608711431767987,-0.03265084573167352,0.27797428283642767,0.18839710046107538,-0.024442441600286607,0.031074637155383937,-0.03263421658366246,-0.03304397230056069,-0.03260435593437378,-0.03261379702962588,-0.0326043558539822,0.11295090071106628,-0.032610722804555424,0.15849421795832125,0.3093100270134226,0.27772180301449867,0.1562062421809478,0.2106338363089385,-0.024458802705623298,-0.03261279917689155,-0.032606762391114694,-0.02445456694528788,-0.024443662110620587,0.21146978125160606,0.19760151280848715,-0.10852751439881733,0.10250645660354715,-0.0244994727652874,0.11355610626277805,-0.032604359909742114,-0.03260462398283769,-0.09919168284162118,-0.0326043598695459,-0.032608874364487075,-0.03261248307092635,-0.03261955735100533,-0.032620055473123764,0.21147220940998426,0.23366362897450793,-0.02570096225903367,0.1744093691882607,0.23608232735835902,0.25736148298440314,-0.03265091398896468,-0.024524026859171842,0.1744083404169429,-0.03260435705583765,0.1883911614944114,-0.032604356272420656,0.17440859328152003,0.11781854014710741,0.20249795649376745,0.21147428018506287,0.18815452241818104,-0.02447984011455994,0.11356448543987792,0.15832090251810435,-0.034450202896344574,0.039608557129722326,-0.02444440997820392,0.17440765504128883,0.17427171396132948,-0.03262553410321012,-0.024446388456851174,0.11355509567114118,0.0830175119109253,0.06844132758406463,0.18672917726671442,0.051705294290581266,0.2114140120309464,0.23609033718926384,0.04826360511424643,-0.0372606353045642,0.2573273351500758,0.17987922710652796,-0.03261015121269089,-0.0393517928629966,-0.03260444026121764,0.17441130894434986,0.23609033718926384,-0.024540828001932868,0.18828178187982242,-0.024442440844604996,0.21143909875514483,0.1744113086690085,-0.032606251122533784,0.2352907558857855,0.23609033693564432,0.23605711217497083,0.23609033718403843,0.33830178724677373,-0.02445724867933891,0.21146891763391748,-0.03304906897861003,0.2779805445573236,-0.041934157717640134,0.3383112657672993,0.21147633387912507,0.17449724315970183,0.19224791941208935,0.15547169840306937,0.21121558210340324,0.08515475364237458,0.07102318691276567,-0.024444765715140683,-0.032605015571034734,0.15851910165372343,0.1655105305413511,0.1423323945240694,0.12815111050173614,0.18017899760443715,0.11258666683882308,-0.02444477637104055,0.08515399534527303,0.23411833747982252,-0.02992553069093773,0.16916115335911522,0.3383081697943323,0.1883971022346447,0.11355610769457175,0.18839710188761888,0.21060699764481297,0.051707537866703374,0.31026281193915867,0.22742155008553844,0.2274149066796495,0.11356448543987878,0.116129040836713,0.2916383608238943,-0.032620785740846474,0.23607371925416154,0.23607862634111162,0.03544307084268127,0.03810815077051204,0.11356448510223294,0.11354013600552604,-0.09179716678115077,0.11352508696519656,-0.02444244083033549,-0.032630622600121235,0.1726304281421039,0.22741138177620843,0.21147637546901368,-0.03296764463869094,0.11355378209130218,0.21147637546882578,-0.046379570080771156,0.033680202814489184,-0.03260670846098343,-0.03263680333124064,-0.03260435942739182,0.11804129617793771,0.1740082284637612,0.18838570001847982,0.188397098269994,0.21101995482174526,0.23608693974682785],\"type\":\"scatter3d\"},{\"customdata\":[[\"Proof-of-BibleHash\"],[\"ECC 256K1\"],[\"Leased POS\"]],\"hovertemplate\":\"<b>%{hovertext}</b><br><br>Class=%{marker.color}<br>PC 1=%{x}<br>PC 2=%{y}<br>PC 3=%{z}<br>Algorithm=%{customdata[0]}<extra></extra>\",\"hovertext\":[\"BiblePay\",\"Acute Angle Cloud\",\"Waves\"],\"legendgroup\":\"3\",\"marker\":{\"color\":[3,3,3],\"coloraxis\":\"coloraxis\",\"symbol\":\"square\"},\"mode\":\"markers\",\"name\":\"3\",\"scene\":\"scene\",\"showlegend\":true,\"x\":[0.07825000633228453,0.30167842886246926,0.1123409970326238],\"y\":[2.7142452860775577,2.3970605674067196,2.6403335837305226],\"z\":[17.966605533657546,27.905615030910255,11.921658213398455],\"type\":\"scatter3d\"},{\"customdata\":[[\"TRC10\"]],\"hovertemplate\":\"<b>%{hovertext}</b><br><br>Class=%{marker.color}<br>PC 1=%{x}<br>PC 2=%{y}<br>PC 3=%{z}<br>Algorithm=%{customdata[0]}<extra></extra>\",\"hovertext\":[\"BitTorrent\"],\"legendgroup\":\"1\",\"marker\":{\"color\":[1],\"coloraxis\":\"coloraxis\",\"symbol\":\"x\"},\"mode\":\"markers\",\"name\":\"1\",\"scene\":\"scene\",\"showlegend\":true,\"x\":[31.816729569345046],\"y\":[-2.2540681849057025],\"z\":[-1.2553319275880772],\"type\":\"scatter3d\"}],                        {\"template\":{\"data\":{\"histogram2dcontour\":[{\"type\":\"histogram2dcontour\",\"colorbar\":{\"outlinewidth\":0,\"ticks\":\"\"},\"colorscale\":[[0.0,\"#0d0887\"],[0.1111111111111111,\"#46039f\"],[0.2222222222222222,\"#7201a8\"],[0.3333333333333333,\"#9c179e\"],[0.4444444444444444,\"#bd3786\"],[0.5555555555555556,\"#d8576b\"],[0.6666666666666666,\"#ed7953\"],[0.7777777777777778,\"#fb9f3a\"],[0.8888888888888888,\"#fdca26\"],[1.0,\"#f0f921\"]]}],\"choropleth\":[{\"type\":\"choropleth\",\"colorbar\":{\"outlinewidth\":0,\"ticks\":\"\"}}],\"histogram2d\":[{\"type\":\"histogram2d\",\"colorbar\":{\"outlinewidth\":0,\"ticks\":\"\"},\"colorscale\":[[0.0,\"#0d0887\"],[0.1111111111111111,\"#46039f\"],[0.2222222222222222,\"#7201a8\"],[0.3333333333333333,\"#9c179e\"],[0.4444444444444444,\"#bd3786\"],[0.5555555555555556,\"#d8576b\"],[0.6666666666666666,\"#ed7953\"],[0.7777777777777778,\"#fb9f3a\"],[0.8888888888888888,\"#fdca26\"],[1.0,\"#f0f921\"]]}],\"heatmap\":[{\"type\":\"heatmap\",\"colorbar\":{\"outlinewidth\":0,\"ticks\":\"\"},\"colorscale\":[[0.0,\"#0d0887\"],[0.1111111111111111,\"#46039f\"],[0.2222222222222222,\"#7201a8\"],[0.3333333333333333,\"#9c179e\"],[0.4444444444444444,\"#bd3786\"],[0.5555555555555556,\"#d8576b\"],[0.6666666666666666,\"#ed7953\"],[0.7777777777777778,\"#fb9f3a\"],[0.8888888888888888,\"#fdca26\"],[1.0,\"#f0f921\"]]}],\"heatmapgl\":[{\"type\":\"heatmapgl\",\"colorbar\":{\"outlinewidth\":0,\"ticks\":\"\"},\"colorscale\":[[0.0,\"#0d0887\"],[0.1111111111111111,\"#46039f\"],[0.2222222222222222,\"#7201a8\"],[0.3333333333333333,\"#9c179e\"],[0.4444444444444444,\"#bd3786\"],[0.5555555555555556,\"#d8576b\"],[0.6666666666666666,\"#ed7953\"],[0.7777777777777778,\"#fb9f3a\"],[0.8888888888888888,\"#fdca26\"],[1.0,\"#f0f921\"]]}],\"contourcarpet\":[{\"type\":\"contourcarpet\",\"colorbar\":{\"outlinewidth\":0,\"ticks\":\"\"}}],\"contour\":[{\"type\":\"contour\",\"colorbar\":{\"outlinewidth\":0,\"ticks\":\"\"},\"colorscale\":[[0.0,\"#0d0887\"],[0.1111111111111111,\"#46039f\"],[0.2222222222222222,\"#7201a8\"],[0.3333333333333333,\"#9c179e\"],[0.4444444444444444,\"#bd3786\"],[0.5555555555555556,\"#d8576b\"],[0.6666666666666666,\"#ed7953\"],[0.7777777777777778,\"#fb9f3a\"],[0.8888888888888888,\"#fdca26\"],[1.0,\"#f0f921\"]]}],\"surface\":[{\"type\":\"surface\",\"colorbar\":{\"outlinewidth\":0,\"ticks\":\"\"},\"colorscale\":[[0.0,\"#0d0887\"],[0.1111111111111111,\"#46039f\"],[0.2222222222222222,\"#7201a8\"],[0.3333333333333333,\"#9c179e\"],[0.4444444444444444,\"#bd3786\"],[0.5555555555555556,\"#d8576b\"],[0.6666666666666666,\"#ed7953\"],[0.7777777777777778,\"#fb9f3a\"],[0.8888888888888888,\"#fdca26\"],[1.0,\"#f0f921\"]]}],\"mesh3d\":[{\"type\":\"mesh3d\",\"colorbar\":{\"outlinewidth\":0,\"ticks\":\"\"}}],\"scatter\":[{\"fillpattern\":{\"fillmode\":\"overlay\",\"size\":10,\"solidity\":0.2},\"type\":\"scatter\"}],\"parcoords\":[{\"type\":\"parcoords\",\"line\":{\"colorbar\":{\"outlinewidth\":0,\"ticks\":\"\"}}}],\"scatterpolargl\":[{\"type\":\"scatterpolargl\",\"marker\":{\"colorbar\":{\"outlinewidth\":0,\"ticks\":\"\"}}}],\"bar\":[{\"error_x\":{\"color\":\"#2a3f5f\"},\"error_y\":{\"color\":\"#2a3f5f\"},\"marker\":{\"line\":{\"color\":\"#E5ECF6\",\"width\":0.5},\"pattern\":{\"fillmode\":\"overlay\",\"size\":10,\"solidity\":0.2}},\"type\":\"bar\"}],\"scattergeo\":[{\"type\":\"scattergeo\",\"marker\":{\"colorbar\":{\"outlinewidth\":0,\"ticks\":\"\"}}}],\"scatterpolar\":[{\"type\":\"scatterpolar\",\"marker\":{\"colorbar\":{\"outlinewidth\":0,\"ticks\":\"\"}}}],\"histogram\":[{\"marker\":{\"pattern\":{\"fillmode\":\"overlay\",\"size\":10,\"solidity\":0.2}},\"type\":\"histogram\"}],\"scattergl\":[{\"type\":\"scattergl\",\"marker\":{\"colorbar\":{\"outlinewidth\":0,\"ticks\":\"\"}}}],\"scatter3d\":[{\"type\":\"scatter3d\",\"line\":{\"colorbar\":{\"outlinewidth\":0,\"ticks\":\"\"}},\"marker\":{\"colorbar\":{\"outlinewidth\":0,\"ticks\":\"\"}}}],\"scattermapbox\":[{\"type\":\"scattermapbox\",\"marker\":{\"colorbar\":{\"outlinewidth\":0,\"ticks\":\"\"}}}],\"scatterternary\":[{\"type\":\"scatterternary\",\"marker\":{\"colorbar\":{\"outlinewidth\":0,\"ticks\":\"\"}}}],\"scattercarpet\":[{\"type\":\"scattercarpet\",\"marker\":{\"colorbar\":{\"outlinewidth\":0,\"ticks\":\"\"}}}],\"carpet\":[{\"aaxis\":{\"endlinecolor\":\"#2a3f5f\",\"gridcolor\":\"white\",\"linecolor\":\"white\",\"minorgridcolor\":\"white\",\"startlinecolor\":\"#2a3f5f\"},\"baxis\":{\"endlinecolor\":\"#2a3f5f\",\"gridcolor\":\"white\",\"linecolor\":\"white\",\"minorgridcolor\":\"white\",\"startlinecolor\":\"#2a3f5f\"},\"type\":\"carpet\"}],\"table\":[{\"cells\":{\"fill\":{\"color\":\"#EBF0F8\"},\"line\":{\"color\":\"white\"}},\"header\":{\"fill\":{\"color\":\"#C8D4E3\"},\"line\":{\"color\":\"white\"}},\"type\":\"table\"}],\"barpolar\":[{\"marker\":{\"line\":{\"color\":\"#E5ECF6\",\"width\":0.5},\"pattern\":{\"fillmode\":\"overlay\",\"size\":10,\"solidity\":0.2}},\"type\":\"barpolar\"}],\"pie\":[{\"automargin\":true,\"type\":\"pie\"}]},\"layout\":{\"autotypenumbers\":\"strict\",\"colorway\":[\"#636efa\",\"#EF553B\",\"#00cc96\",\"#ab63fa\",\"#FFA15A\",\"#19d3f3\",\"#FF6692\",\"#B6E880\",\"#FF97FF\",\"#FECB52\"],\"font\":{\"color\":\"#2a3f5f\"},\"hovermode\":\"closest\",\"hoverlabel\":{\"align\":\"left\"},\"paper_bgcolor\":\"white\",\"plot_bgcolor\":\"#E5ECF6\",\"polar\":{\"bgcolor\":\"#E5ECF6\",\"angularaxis\":{\"gridcolor\":\"white\",\"linecolor\":\"white\",\"ticks\":\"\"},\"radialaxis\":{\"gridcolor\":\"white\",\"linecolor\":\"white\",\"ticks\":\"\"}},\"ternary\":{\"bgcolor\":\"#E5ECF6\",\"aaxis\":{\"gridcolor\":\"white\",\"linecolor\":\"white\",\"ticks\":\"\"},\"baxis\":{\"gridcolor\":\"white\",\"linecolor\":\"white\",\"ticks\":\"\"},\"caxis\":{\"gridcolor\":\"white\",\"linecolor\":\"white\",\"ticks\":\"\"}},\"coloraxis\":{\"colorbar\":{\"outlinewidth\":0,\"ticks\":\"\"}},\"colorscale\":{\"sequential\":[[0.0,\"#0d0887\"],[0.1111111111111111,\"#46039f\"],[0.2222222222222222,\"#7201a8\"],[0.3333333333333333,\"#9c179e\"],[0.4444444444444444,\"#bd3786\"],[0.5555555555555556,\"#d8576b\"],[0.6666666666666666,\"#ed7953\"],[0.7777777777777778,\"#fb9f3a\"],[0.8888888888888888,\"#fdca26\"],[1.0,\"#f0f921\"]],\"sequentialminus\":[[0.0,\"#0d0887\"],[0.1111111111111111,\"#46039f\"],[0.2222222222222222,\"#7201a8\"],[0.3333333333333333,\"#9c179e\"],[0.4444444444444444,\"#bd3786\"],[0.5555555555555556,\"#d8576b\"],[0.6666666666666666,\"#ed7953\"],[0.7777777777777778,\"#fb9f3a\"],[0.8888888888888888,\"#fdca26\"],[1.0,\"#f0f921\"]],\"diverging\":[[0,\"#8e0152\"],[0.1,\"#c51b7d\"],[0.2,\"#de77ae\"],[0.3,\"#f1b6da\"],[0.4,\"#fde0ef\"],[0.5,\"#f7f7f7\"],[0.6,\"#e6f5d0\"],[0.7,\"#b8e186\"],[0.8,\"#7fbc41\"],[0.9,\"#4d9221\"],[1,\"#276419\"]]},\"xaxis\":{\"gridcolor\":\"white\",\"linecolor\":\"white\",\"ticks\":\"\",\"title\":{\"standoff\":15},\"zerolinecolor\":\"white\",\"automargin\":true,\"zerolinewidth\":2},\"yaxis\":{\"gridcolor\":\"white\",\"linecolor\":\"white\",\"ticks\":\"\",\"title\":{\"standoff\":15},\"zerolinecolor\":\"white\",\"automargin\":true,\"zerolinewidth\":2},\"scene\":{\"xaxis\":{\"backgroundcolor\":\"#E5ECF6\",\"gridcolor\":\"white\",\"linecolor\":\"white\",\"showbackground\":true,\"ticks\":\"\",\"zerolinecolor\":\"white\",\"gridwidth\":2},\"yaxis\":{\"backgroundcolor\":\"#E5ECF6\",\"gridcolor\":\"white\",\"linecolor\":\"white\",\"showbackground\":true,\"ticks\":\"\",\"zerolinecolor\":\"white\",\"gridwidth\":2},\"zaxis\":{\"backgroundcolor\":\"#E5ECF6\",\"gridcolor\":\"white\",\"linecolor\":\"white\",\"showbackground\":true,\"ticks\":\"\",\"zerolinecolor\":\"white\",\"gridwidth\":2}},\"shapedefaults\":{\"line\":{\"color\":\"#2a3f5f\"}},\"annotationdefaults\":{\"arrowcolor\":\"#2a3f5f\",\"arrowhead\":0,\"arrowwidth\":1},\"geo\":{\"bgcolor\":\"white\",\"landcolor\":\"#E5ECF6\",\"subunitcolor\":\"white\",\"showland\":true,\"showlakes\":true,\"lakecolor\":\"white\"},\"title\":{\"x\":0.05},\"mapbox\":{\"style\":\"light\"}}},\"scene\":{\"domain\":{\"x\":[0.0,1.0],\"y\":[0.0,1.0]},\"xaxis\":{\"title\":{\"text\":\"PC 1\"}},\"yaxis\":{\"title\":{\"text\":\"PC 2\"}},\"zaxis\":{\"title\":{\"text\":\"PC 3\"}}},\"coloraxis\":{\"colorbar\":{\"title\":{\"text\":\"Class\"}},\"colorscale\":[[0.0,\"#0d0887\"],[0.1111111111111111,\"#46039f\"],[0.2222222222222222,\"#7201a8\"],[0.3333333333333333,\"#9c179e\"],[0.4444444444444444,\"#bd3786\"],[0.5555555555555556,\"#d8576b\"],[0.6666666666666666,\"#ed7953\"],[0.7777777777777778,\"#fb9f3a\"],[0.8888888888888888,\"#fdca26\"],[1.0,\"#f0f921\"]]},\"legend\":{\"title\":{\"text\":\"Class\"},\"tracegroupgap\":0,\"x\":0,\"y\":1},\"margin\":{\"t\":60}},                        {\"responsive\": true}                    ).then(function(){\n",
       "                            \n",
       "var gd = document.getElementById('96225760-3d4f-4589-b371-ec88edee6175');\n",
       "var x = new MutationObserver(function (mutations, observer) {{\n",
       "        var display = window.getComputedStyle(gd).display;\n",
       "        if (!display || display === 'none') {{\n",
       "            console.log([gd, 'removed!']);\n",
       "            Plotly.purge(gd);\n",
       "            observer.disconnect();\n",
       "        }}\n",
       "}});\n",
       "\n",
       "// Listen for the removal of the full notebook cells\n",
       "var notebookContainer = gd.closest('#notebook-container');\n",
       "if (notebookContainer) {{\n",
       "    x.observe(notebookContainer, {childList: true});\n",
       "}}\n",
       "\n",
       "// Listen for the clearing of the current output cell\n",
       "var outputEl = gd.closest('.output');\n",
       "if (outputEl) {{\n",
       "    x.observe(outputEl, {childList: true});\n",
       "}}\n",
       "\n",
       "                        })                };                });            </script>        </div>"
      ]
     },
     "metadata": {},
     "output_type": "display_data"
    }
   ],
   "source": [
    "# Creating a 3D-Scatter with the PCA data and the clusters\n",
    "fig = px.scatter_3d(\n",
    "    clustered_df, \n",
    "    x=\"PC 1\", \n",
    "    y=\"PC 2\", \n",
    "    z=\"PC 3\", \n",
    "    color=\"Class\", \n",
    "    symbol=\"Class\", \n",
    "    hover_name=\"CoinName\", \n",
    "    hover_data=[\"Algorithm\"])\n",
    "fig.update_layout(legend=dict(x=0, y=1))\n",
    "fig.show()"
   ]
  },
  {
   "cell_type": "code",
   "execution_count": 104,
   "metadata": {},
   "outputs": [
    {
     "data": {},
     "metadata": {},
     "output_type": "display_data"
    },
    {
     "data": {
      "application/vnd.holoviews_exec.v0+json": "",
      "text/html": [
       "<div id='2136'>\n",
       "  <div class=\"bk-root\" id=\"e6458de2-8029-4cbf-b588-cb5f3f43b7cf\" data-root-id=\"2136\"></div>\n",
       "</div>\n",
       "<script type=\"application/javascript\">(function(root) {\n",
       "  function embed_document(root) {\n",
       "    var docs_json = {\"cce4cd8e-ad28-4736-9b85-503822a67567\":{\"defs\":[{\"extends\":null,\"module\":null,\"name\":\"ReactiveHTML1\",\"overrides\":[],\"properties\":[]},{\"extends\":null,\"module\":null,\"name\":\"FlexBox1\",\"overrides\":[],\"properties\":[{\"default\":\"flex-start\",\"kind\":null,\"name\":\"align_content\"},{\"default\":\"flex-start\",\"kind\":null,\"name\":\"align_items\"},{\"default\":\"row\",\"kind\":null,\"name\":\"flex_direction\"},{\"default\":\"wrap\",\"kind\":null,\"name\":\"flex_wrap\"},{\"default\":\"flex-start\",\"kind\":null,\"name\":\"justify_content\"}]},{\"extends\":null,\"module\":null,\"name\":\"GridStack1\",\"overrides\":[],\"properties\":[{\"default\":\"warn\",\"kind\":null,\"name\":\"mode\"},{\"default\":null,\"kind\":null,\"name\":\"ncols\"},{\"default\":null,\"kind\":null,\"name\":\"nrows\"},{\"default\":true,\"kind\":null,\"name\":\"allow_resize\"},{\"default\":true,\"kind\":null,\"name\":\"allow_drag\"},{\"default\":[],\"kind\":null,\"name\":\"state\"}]},{\"extends\":null,\"module\":null,\"name\":\"click1\",\"overrides\":[],\"properties\":[{\"default\":\"\",\"kind\":null,\"name\":\"terminal_output\"},{\"default\":\"\",\"kind\":null,\"name\":\"debug_name\"},{\"default\":0,\"kind\":null,\"name\":\"clears\"}]},{\"extends\":null,\"module\":null,\"name\":\"NotificationAreaBase1\",\"overrides\":[],\"properties\":[{\"default\":\"bottom-right\",\"kind\":null,\"name\":\"position\"},{\"default\":0,\"kind\":null,\"name\":\"_clear\"}]},{\"extends\":null,\"module\":null,\"name\":\"NotificationArea1\",\"overrides\":[],\"properties\":[{\"default\":[],\"kind\":null,\"name\":\"notifications\"},{\"default\":\"bottom-right\",\"kind\":null,\"name\":\"position\"},{\"default\":0,\"kind\":null,\"name\":\"_clear\"},{\"default\":[{\"background\":\"#ffc107\",\"icon\":{\"className\":\"fas fa-exclamation-triangle\",\"color\":\"white\",\"tagName\":\"i\"},\"type\":\"warning\"},{\"background\":\"#007bff\",\"icon\":{\"className\":\"fas fa-info-circle\",\"color\":\"white\",\"tagName\":\"i\"},\"type\":\"info\"}],\"kind\":null,\"name\":\"types\"}]},{\"extends\":null,\"module\":null,\"name\":\"Notification\",\"overrides\":[],\"properties\":[{\"default\":null,\"kind\":null,\"name\":\"background\"},{\"default\":3000,\"kind\":null,\"name\":\"duration\"},{\"default\":null,\"kind\":null,\"name\":\"icon\"},{\"default\":\"\",\"kind\":null,\"name\":\"message\"},{\"default\":null,\"kind\":null,\"name\":\"notification_type\"},{\"default\":false,\"kind\":null,\"name\":\"_destroyed\"}]},{\"extends\":null,\"module\":null,\"name\":\"TemplateActions1\",\"overrides\":[],\"properties\":[{\"default\":0,\"kind\":null,\"name\":\"open_modal\"},{\"default\":0,\"kind\":null,\"name\":\"close_modal\"}]},{\"extends\":null,\"module\":null,\"name\":\"MaterialTemplateActions1\",\"overrides\":[],\"properties\":[{\"default\":0,\"kind\":null,\"name\":\"open_modal\"},{\"default\":0,\"kind\":null,\"name\":\"close_modal\"}]}],\"roots\":{\"references\":[{\"attributes\":{\"editor\":{\"id\":\"2166\"},\"field\":\"Class\",\"formatter\":{\"id\":\"2165\"},\"title\":\"Class\"},\"id\":\"2167\",\"type\":\"TableColumn\"},{\"attributes\":{},\"id\":\"2145\",\"type\":\"StringFormatter\"},{\"attributes\":{},\"id\":\"2165\",\"type\":\"NumberFormatter\"},{\"attributes\":{\"source\":{\"id\":\"2138\"}},\"id\":\"2172\",\"type\":\"CDSView\"},{\"attributes\":{},\"id\":\"2140\",\"type\":\"StringFormatter\"},{\"attributes\":{},\"id\":\"2150\",\"type\":\"StringFormatter\"},{\"attributes\":{},\"id\":\"2161\",\"type\":\"NumberEditor\"},{\"attributes\":{\"editor\":{\"id\":\"2156\"},\"field\":\"TotalCoinSupply\",\"formatter\":{\"id\":\"2155\"},\"title\":\"TotalCoinSupply\"},\"id\":\"2157\",\"type\":\"TableColumn\"},{\"attributes\":{\"columns\":[{\"id\":\"2142\"},{\"id\":\"2147\"},{\"id\":\"2152\"},{\"id\":\"2157\"},{\"id\":\"2162\"},{\"id\":\"2167\"}],\"height\":300,\"reorderable\":false,\"source\":{\"id\":\"2138\"},\"view\":{\"id\":\"2172\"},\"width\":700},\"id\":\"2170\",\"type\":\"DataTable\"},{\"attributes\":{\"editor\":{\"id\":\"2161\"},\"field\":\"TotalCoinsMined\",\"formatter\":{\"id\":\"2160\"},\"title\":\"TotalCoinsMined\"},\"id\":\"2162\",\"type\":\"TableColumn\"},{\"attributes\":{},\"id\":\"2141\",\"type\":\"StringEditor\"},{\"attributes\":{},\"id\":\"2156\",\"type\":\"NumberEditor\"},{\"attributes\":{\"children\":[{\"id\":\"2137\"},{\"id\":\"2170\"},{\"id\":\"2175\"}],\"margin\":[0,0,0,0],\"name\":\"Row02134\",\"tags\":[\"embedded\"]},\"id\":\"2136\",\"type\":\"Row\"},{\"attributes\":{\"editor\":{\"id\":\"2146\"},\"field\":\"Algorithm\",\"formatter\":{\"id\":\"2145\"},\"title\":\"Algorithm\"},\"id\":\"2147\",\"type\":\"TableColumn\"},{\"attributes\":{\"data\":{\"Algorithm\":[\"Scrypt\",\"Scrypt\",\"SHA-256\",\"X13\",\"SHA-256\",\"Ethash\",\"Scrypt\",\"X11\",\"CryptoNight-V7\",\"Ethash\",\"Equihash\",\"SHA-512\",\"Multiple\",\"SHA-256\",\"X11\",\"SHA-256\",\"Scrypt\",\"X15\",\"X11\",\"SHA-256\",\"X13\",\"X13\",\"Scrypt\",\"Scrypt\",\"Scrypt\",\"SHA-256\",\"Scrypt\",\"Multiple\",\"Scrypt\",\"SHA-256\",\"Scrypt\",\"Scrypt\",\"Scrypt\",\"Quark\",\"Groestl\",\"Scrypt\",\"X11\",\"Scrypt\",\"Scrypt\",\"Scrypt\",\"Scrypt\",\"Scrypt\",\"Scrypt\",\"Multiple\",\"Scrypt\",\"X11\",\"Scrypt\",\"SHA-256\",\"Groestl\",\"Multiple\",\"X11\",\"Scrypt\",\"SHA-256\",\"Scrypt\",\"Scrypt\",\"Scrypt\",\"Scrypt\",\"Scrypt\",\"PoS\",\"Scrypt\",\"X11\",\"NIST5\",\"SHA-256\",\"Scrypt\",\"Scrypt\",\"NeoScrypt\",\"Scrypt\",\"Scrypt\",\"Scrypt\",\"X11\",\"X15\",\"Scrypt\",\"Multiple\",\"X11\",\"Scrypt\",\"X11\",\"SHA-256\",\"X11\",\"X13\",\"Scrypt\",\"Scrypt\",\"Scrypt\",\"Scrypt\",\"X11\",\"SHA3\",\"Scrypt\",\"HybridScryptHash256\",\"Scrypt\",\"Scrypt\",\"SHA-256\",\"Scrypt\",\"X13\",\"SHA-256\",\"Scrypt\",\"SHA-256\",\"Scrypt\",\"X13\",\"NeoScrypt\",\"Scrypt\",\"Scrypt\",\"Scrypt\",\"Scrypt\",\"Scrypt\",\"Scrypt\",\"X15\",\"Scrypt\",\"Scrypt\",\"Scrypt-n\",\"Scrypt\",\"X11\",\"X11\",\"SHA-256\",\"Multiple\",\"SHA-256\",\"PHI1612\",\"X11\",\"SHA-256\",\"SHA-256\",\"SHA-256\",\"SHA-256\",\"X11\",\"Scrypt\",\"Scrypt\",\"X13\",\"Scrypt\",\"X11\",\"Scrypt\",\"Lyra2REv2\",\"Scrypt\",\"Scrypt\",\"X11\",\"Multiple\",\"SHA-256\",\"X13\",\"Scrypt\",\"Scrypt\",\"CryptoNight\",\"CryptoNight\",\"Shabal256\",\"Counterparty\",\"Scrypt\",\"SHA-256\",\"SHA-256\",\"Scrypt\",\"Groestl\",\"Scrypt\",\"Scrypt\",\"Scrypt\",\"X13\",\"Scrypt\",\"Scrypt\",\"Scrypt\",\"SHA-256\",\"Scrypt\",\"X13\",\"X13\",\"Scrypt\",\"X11\",\"Momentum\",\"Stanford Folding\",\"X11\",\"Multiple\",\"QuBit\",\"X15\",\"Scrypt\",\"Scrypt\",\"Scrypt\",\"Scrypt\",\"SHA-256\",\"M7 POW\",\"Scrypt\",\"X11\",\"Scrypt\",\"SHA-256\",\"Scrypt\",\"Scrypt\",\"X11\",\"X11\",\"SHA3\",\"X11\",\"Scrypt\",\"Lyra2RE\",\"SHA-256\",\"QUAIT\",\"X11\",\"vDPOS\",\"X11\",\"X11\",\"Scrypt\",\"Scrypt\",\"Scrypt\",\"Ethash\",\"X11\",\"X13\",\"Blake2b\",\"SHA-256\",\"X13\",\"X15\",\"X11\",\"SHA-256\",\"BLAKE256\",\"Scrypt\",\"Scrypt\",\"1GB AES Pattern Search\",\"SHA-256\",\"X11\",\"Scrypt\",\"CryptoNight\",\"SHA-256\",\"Quark\",\"SHA-256\",\"NIST5\",\"Blake\",\"Scrypt\",\"Scrypt\",\"SHA-256\",\"X11\",\"Scrypt\",\"Scrypt-n\",\"X11\",\"Scrypt\",\"Dagger\",\"Scrypt\",\"SHA-256\",\"CryptoNight-Lite\",\"X11GOST\",\"X11\",\"SHA-256\",\"Scrypt\",\"SHA-256\",\"Scrypt\",\"PoS\",\"Scrypt\",\"X11\",\"X11\",\"X11\",\"X11\",\"PoS\",\"SHA-256\",\"SHA-256\",\"SHA-256\",\"NIST5\",\"X15\",\"X11\",\"NIST5\",\"Scrypt\",\"Scrypt\",\"Scrypt\",\"POS 3.0\",\"Scrypt\",\"Scrypt\",\"Scrypt\",\"X13\",\"X11\",\"X11\",\"Equihash\",\"X11\",\"X11\",\"Scrypt\",\"CryptoNight\",\"SHA-256\",\"SHA-256\",\"X11\",\"Scrypt\",\"Multiple\",\"Scrypt\",\"Scrypt\",\"X11\",\"Scrypt\",\"SHA-256\",\"Scrypt\",\"Scrypt\",\"SHA-256D\",\"PoS\",\"Scrypt\",\"Scrypt\",\"X11\",\"Scrypt-n\",\"Lyra2Z\",\"SHA-256\",\"PoS\",\"X13\",\"Quark\",\"X14\",\"PoS\",\"SHA-256D\",\"Ethash\",\"SHA-256\",\"Equihash\",\"DPoS\",\"X11\",\"Scrypt\",\"Scrypt\",\"Equihash\",\"X11\",\"X13\",\"X11\",\"PoS\",\"SHA-256D\",\"Scrypt\",\"Scrypt\",\"Scrypt\",\"X11\",\"PoS\",\"X11\",\"SHA-256\",\"Scrypt\",\"X11\",\"Scrypt\",\"Scrypt\",\"X11\",\"CryptoNight\",\"Scrypt\",\"Scrypt\",\"Scrypt\",\"Scrypt\",\"Quark\",\"QuBit\",\"Scrypt\",\"CryptoNight\",\"X11\",\"Lyra2RE\",\"X13\",\"PoS\",\"Scrypt\",\"SHA-256\",\"X11\",\"X11\",\"X11\",\"Scrypt\",\"X11\",\"Scrypt\",\"Scrypt\",\"CryptoNight-V7\",\"Scrypt\",\"Scrypt\",\"Keccak\",\"Scrypt\",\"X13\",\"X11\",\"Equihash\",\"Scrypt\",\"Scrypt\",\"Lyra2RE\",\"Ethash\",\"X11\",\"Scrypt\",\"Dagger-Hashimoto\",\"X11\",\"Blake2S\",\"X11\",\"Scrypt\",\"Scrypt\",\"PoS\",\"X11\",\"NIST5\",\"PoS\",\"X11\",\"Scrypt\",\"Scrypt\",\"Scrypt\",\"Scrypt\",\"SHA-256\",\"X11\",\"Scrypt\",\"Scrypt\",\"Scrypt\",\"SHA-256\",\"PoS\",\"Scrypt\",\"X11\",\"X15\",\"SHA-256\",\"Scrypt\",\"POS 3.0\",\"CryptoNight-V7\",\"536\",\"Argon2d\",\"Blake2b\",\"Cloverhash\",\"CryptoNight\",\"NIST5\",\"X11\",\"NIST5\",\"Skein\",\"Scrypt\",\"X13\",\"Scrypt\",\"X11\",\"X11\",\"X11\",\"Scrypt\",\"CryptoNight\",\"X13\",\"Time Travel\",\"Scrypt\",\"Keccak\",\"SkunkHash v2 Raptor\",\"X11\",\"Skein\",\"SHA-256\",\"X11\",\"Scrypt\",\"Scrypt\",\"VeChainThor Authority\",\"Scrypt\",\"PoS\",\"Scrypt\",\"Scrypt\",\"Scrypt\",\"Scrypt\",\"Scrypt\",\"Scrypt\",\"Scrypt\",\"Scrypt\",\"CryptoNight\",\"SHA-512\",\"Ouroboros\",\"X11\",\"Equihash\",\"NeoScrypt\",\"X11\",\"Scrypt\",\"NeoScrypt\",\"Lyra2REv2\",\"Equihash\",\"Scrypt\",\"SHA-256\",\"NIST5\",\"PHI1612\",\"Dagger\",\"Scrypt\",\"Quark\",\"Scrypt\",\"POS 2.0\",\"Scrypt\",\"SkunkHash\",\"X11\",\"Quark\",\"SHA-256\",\"X11\",\"NeoScrypt\",\"Scrypt\",\"Ethash\",\"Scrypt\",\"NeoScrypt\",\"Quark\",\"X11\",\"DPoS\",\"NIST5\",\"X13\",\"Multiple\",\"Scrypt\",\"CryptoNight\",\"CryptoNight\",\"Ethash\",\"NIST5\",\"Quark\",\"X11\",\"SHA-256\",\"CryptoNight-V7\",\"Scrypt\",\"Scrypt\",\"Scrypt\",\"X11\",\"SHA-256\",\"BLAKE256\",\"X11\",\"Scrypt\",\"NeoScrypt\",\"Quark\",\"NeoScrypt\",\"Scrypt\",\"Scrypt\",\"Scrypt\",\"X11\",\"X11\",\"SHA-256\",\"C11\",\"Scrypt\",\"Scrypt\",\"POS 3.0\",\"Ethash\",\"Scrypt\",\"CryptoNight\",\"SkunkHash\",\"Scrypt\",\"CryptoNight\",\"Equihash\",\"Skein\",\"Scrypt\",\"Dagger\",\"Lyra2REv2\",\"X13\",\"Proof-of-BibleHash\",\"SHA-256 + Hive\",\"Scrypt\",\"Scrypt\",\"Scrypt\",\"NeoScrypt\",\"Equihash\",\"X11\",\"C11\",\"Proof-of-Authority\",\"X11\",\"XEVAN\",\"Scrypt\",\"VBFT\",\"Ethash\",\"X11\",\"CryptoNight\",\"NeoScrypt\",\"Scrypt\",\"IMesh\",\"NIST5\",\"Equihash\",\"Scrypt\",\"Scrypt\",\"Equihash\",\"Equihash\",\"Scrypt\",\"Lyra2Z\",\"Equihash\",\"Green Protocol\",\"PoS\",\"Scrypt\",\"Scrypt\",\"Semux BFT consensus\",\"Scrypt\",\"X11\",\"Quark\",\"PoS\",\"CryptoNight\",\"X16R\",\"Scrypt\",\"NIST5\",\"Lyra2RE\",\"XEVAN\",\"Tribus\",\"Scrypt\",\"Lyra2Z\",\"CryptoNight\",\"CryptoNight Heavy\",\"CryptoNight\",\"Scrypt\",\"Scrypt\",\"Jump Consistent Hash\",\"SHA-256D\",\"CryptoNight\",\"Scrypt\",\"X15\",\"Scrypt\",\"Quark\",\"SHA-256\",\"DPoS\",\"X16R\",\"HMQ1725\",\"X11\",\"X16R\",\"Quark\",\"Quark\",\"Scrypt\",\"Zhash\",\"Lyra2REv2\",\"Quark\",\"Scrypt\",\"Scrypt\",\"CryptoNight-V7\",\"Cryptonight-GPU\",\"Scrypt\",\"XEVAN\",\"CryptoNight Heavy\",\"X11\",\"X11\",\"Scrypt\",\"PoS\",\"Lyra2REv2\",\"Scrypt\",\"SHA-256\",\"Scrypt\",\"Keccak\",\"X11\",\"X11\",\"Quark\",\"Scrypt\",\"SHA-512\",\"X16R\",\"ECC 256K1\",\"NeoScrypt\",\"Equihash\",\"XEVAN\",\"Quark\",\"CryptoNight Heavy X\",\"Lyra2Z\",\"Ethash\",\"SHA-256\",\"XEVAN\",\"Ethash\",\"X11\",\"CryptoNight\",\"Quark\",\"SkunkHash\",\"Quark\",\"Argon2\",\"Blake\",\"Blake\",\"SHA-256\",\"Equihash\",\"Exosis\",\"Scrypt\",\"Scrypt\",\"Equihash\",\"Quark\",\"Equihash\",\"Quark\",\"Scrypt\",\"QuBit\",\"X11\",\"Scrypt\",\"Equihash1927\",\"XEVAN\",\"SHA-256D\",\"X11\",\"SHA-256\",\"SHA-256\",\"X13\",\"SHA-256\",\"X11\",\"DPoS\",\"X11\",\"Scrypt\",\"X11\",\"Scrypt\",\"X11\",\"NeoScrypt\",\"QuBit\",\"Scrypt\",\"Blake\",\"Scrypt\",\"SHA-256\",\"Scrypt\",\"X11\",\"CryptoNight\",\"Scrypt\",\"Scrypt\",\"SHA-256\",\"X11\",\"SHA-256\",\"Scrypt\",\"CryptoNight\",\"Scrypt\",\"SHA-256\",\"Scrypt\",\"Groestl\",\"X11\",\"Scrypt\",\"PoS\",\"Scrypt\",\"Scrypt\",\"X11\",\"SHA-256\",\"DPoS\",\"Scrypt\",\"Scrypt\",\"Scrypt\",\"NeoScrypt\",\"Scrypt\",\"SHA3-256\",\"Multiple\",\"X13\",\"Equihash+Scrypt\",\"DPoS\",\"Ethash\",\"DPoS\",\"Ethash\",\"SHA-256\",\"Leased POS\",\"PoS\",\"TRC10\",\"PoS\",\"SHA-256\",\"Scrypt\",\"CryptoNight\",\"Equihash\",\"Scrypt\"],\"Class\":{\"__ndarray__\":\"AAAAAAAAAAAAAAAAAAAAAAIAAAACAAAAAgAAAAAAAAACAAAAAgAAAAIAAAAAAAAAAgAAAAAAAAAAAAAAAAAAAAIAAAAAAAAAAgAAAAIAAAAAAAAAAAAAAAAAAAACAAAAAAAAAAIAAAAAAAAAAgAAAAIAAAACAAAAAgAAAAIAAAAAAAAAAgAAAAIAAAACAAAAAgAAAAAAAAACAAAAAAAAAAIAAAAAAAAAAgAAAAAAAAAAAAAAAgAAAAAAAAAAAAAAAAAAAAIAAAAAAAAAAgAAAAIAAAACAAAAAgAAAAIAAAACAAAAAgAAAAAAAAACAAAAAAAAAAAAAAACAAAAAAAAAAIAAAACAAAAAgAAAAIAAAACAAAAAAAAAAAAAAAAAAAAAgAAAAAAAAACAAAAAAAAAAIAAAAAAAAAAAAAAAIAAAACAAAAAgAAAAIAAAAAAAAAAAAAAAIAAAACAAAAAAAAAAIAAAAAAAAAAAAAAAAAAAACAAAAAgAAAAIAAAACAAAAAAAAAAAAAAAAAAAAAAAAAAAAAAACAAAAAgAAAAIAAAAAAAAAAAAAAAIAAAACAAAAAgAAAAAAAAAAAAAAAgAAAAAAAAACAAAAAAAAAAAAAAACAAAAAgAAAAIAAAACAAAAAgAAAAAAAAAAAAAAAAAAAAIAAAACAAAAAAAAAAIAAAACAAAAAAAAAAAAAAAAAAAAAgAAAAAAAAAAAAAAAAAAAAIAAAACAAAAAAAAAAAAAAACAAAAAAAAAAIAAAAAAAAAAAAAAAIAAAAAAAAAAgAAAAAAAAACAAAAAAAAAAIAAAAAAAAAAAAAAAAAAAAAAAAAAgAAAAAAAAACAAAAAgAAAAAAAAACAAAAAgAAAAAAAAACAAAAAAAAAAAAAAACAAAAAgAAAAIAAAACAAAAAgAAAAIAAAACAAAAAgAAAAAAAAAAAAAAAgAAAAAAAAACAAAAAAAAAAIAAAACAAAAAAAAAAIAAAAAAAAAAAAAAAAAAAACAAAAAgAAAAAAAAACAAAAAAAAAAAAAAACAAAAAAAAAAAAAAAAAAAAAgAAAAIAAAAAAAAAAgAAAAIAAAACAAAAAAAAAAAAAAACAAAAAgAAAAAAAAAAAAAAAgAAAAAAAAAAAAAAAAAAAAAAAAACAAAAAgAAAAAAAAACAAAAAgAAAAIAAAACAAAAAgAAAAAAAAACAAAAAgAAAAAAAAACAAAAAAAAAAAAAAAAAAAAAAAAAAIAAAACAAAAAAAAAAAAAAAAAAAAAAAAAAAAAAACAAAAAAAAAAAAAAAAAAAAAAAAAAAAAAAAAAAAAAAAAAIAAAAAAAAAAAAAAAAAAAAAAAAAAAAAAAIAAAAAAAAAAgAAAAAAAAAAAAAAAAAAAAIAAAAAAAAAAgAAAAAAAAAAAAAAAgAAAAAAAAACAAAAAAAAAAAAAAACAAAAAAAAAAIAAAAAAAAAAAAAAAAAAAACAAAAAAAAAAIAAAACAAAAAgAAAAAAAAAAAAAAAgAAAAAAAAAAAAAAAAAAAAIAAAACAAAAAgAAAAAAAAAAAAAAAAAAAAIAAAACAAAAAgAAAAAAAAAAAAAAAAAAAAAAAAAAAAAAAAAAAAAAAAACAAAAAAAAAAAAAAAAAAAAAAAAAAAAAAAAAAAAAAAAAAAAAAACAAAAAAAAAAAAAAAAAAAAAAAAAAAAAAAAAAAAAgAAAAIAAAAAAAAAAgAAAAAAAAAAAAAAAAAAAAAAAAAAAAAAAAAAAAIAAAAAAAAAAgAAAAAAAAACAAAAAgAAAAAAAAAAAAAAAgAAAAIAAAAAAAAAAgAAAAIAAAAAAAAAAgAAAAIAAAACAAAAAgAAAAAAAAACAAAAAAAAAAAAAAAAAAAAAgAAAAAAAAAAAAAAAAAAAAIAAAAAAAAAAAAAAAAAAAAAAAAAAAAAAAIAAAAAAAAAAAAAAAIAAAACAAAAAAAAAAIAAAAAAAAAAAAAAAAAAAAAAAAAAAAAAAIAAAAAAAAAAgAAAAAAAAACAAAAAgAAAAIAAAACAAAAAAAAAAIAAAAAAAAAAAAAAAIAAAAAAAAAAgAAAAAAAAACAAAAAgAAAAAAAAACAAAAAAAAAAIAAAACAAAAAgAAAAAAAAACAAAAAAAAAAIAAAAAAAAAAgAAAAAAAAAAAAAAAgAAAAAAAAACAAAAAgAAAAIAAAACAAAAAgAAAAIAAAAAAAAAAAAAAAIAAAAAAAAAAAAAAAAAAAACAAAAAAAAAAIAAAAAAAAAAgAAAAAAAAACAAAAAAAAAAAAAAAAAAAAAAAAAAIAAAAAAAAAAAAAAAIAAAAAAAAAAAAAAAAAAAAAAAAAAAAAAAAAAAACAAAAAgAAAAIAAAACAAAAAgAAAAIAAAAAAAAAAAAAAAAAAAAAAAAAAAAAAAIAAAAAAAAAAgAAAAIAAAACAAAAAAAAAAAAAAACAAAAAgAAAAIAAAAAAAAAAAAAAAIAAAAAAAAAAAAAAAIAAAACAAAAAAAAAAIAAAAAAAAAAgAAAAIAAAAAAAAAAAAAAAAAAAACAAAAAgAAAAIAAAAAAAAAAAAAAAAAAAACAAAAAAAAAAIAAAACAAAAAAAAAAIAAAACAAAAAgAAAAIAAAACAAAAAgAAAAAAAAADAAAAAAAAAAIAAAACAAAAAgAAAAIAAAACAAAAAgAAAAAAAAAAAAAAAAAAAAAAAAAAAAAAAAAAAAIAAAACAAAAAgAAAAIAAAACAAAAAgAAAAAAAAACAAAAAAAAAAAAAAACAAAAAgAAAAAAAAACAAAAAAAAAAAAAAAAAAAAAAAAAAAAAAAAAAAAAAAAAAIAAAAAAAAAAAAAAAIAAAAAAAAAAAAAAAIAAAACAAAAAAAAAAIAAAAAAAAAAgAAAAIAAAACAAAAAgAAAAAAAAAAAAAAAgAAAAAAAAACAAAAAAAAAAAAAAAAAAAAAAAAAAAAAAAAAAAAAgAAAAIAAAACAAAAAAAAAAAAAAAAAAAAAAAAAAAAAAAAAAAAAAAAAAIAAAAAAAAAAgAAAAIAAAAAAAAAAgAAAAIAAAAAAAAAAAAAAAAAAAAAAAAAAgAAAAAAAAACAAAAAAAAAAAAAAAAAAAAAgAAAAAAAAAAAAAAAAAAAAIAAAADAAAAAAAAAAIAAAAAAAAAAgAAAAIAAAACAAAAAgAAAAIAAAAAAAAAAgAAAAAAAAACAAAAAAAAAAIAAAAAAAAAAgAAAAIAAAACAAAAAgAAAAIAAAACAAAAAgAAAAAAAAACAAAAAAAAAAIAAAAAAAAAAAAAAAIAAAAAAAAAAAAAAAIAAAAAAAAAAAAAAAAAAAACAAAAAgAAAAIAAAACAAAAAAAAAAAAAAAAAAAAAAAAAAIAAAACAAAAAAAAAAIAAAAAAAAAAAAAAAIAAAAAAAAAAAAAAAAAAAAAAAAAAgAAAAIAAAAAAAAAAAAAAAAAAAACAAAAAAAAAAIAAAACAAAAAAAAAAAAAAACAAAAAAAAAAAAAAAAAAAAAgAAAAIAAAAAAAAAAAAAAAAAAAAAAAAAAAAAAAIAAAAAAAAAAAAAAAAAAAACAAAAAAAAAAIAAAAAAAAAAgAAAAAAAAACAAAAAAAAAAMAAAAAAAAAAQAAAAAAAAAAAAAAAAAAAAIAAAACAAAAAAAAAA==\",\"dtype\":\"int32\",\"order\":\"little\",\"shape\":[685]},\"CoinName\":[\"42 Coin\",\"404Coin\",\"808\",\"EliteCoin\",\"Bitcoin\",\"Ethereum\",\"Litecoin\",\"Dash\",\"Monero\",\"Ethereum Classic\",\"ZCash\",\"Bitshares\",\"DigiByte\",\"BitcoinDark\",\"Bitstake\",\"PayCoin\",\"ProsperCoin\",\"KoboCoin\",\"Spreadcoin\",\"ACoin\",\"Aero Coin\",\"ApexCoin\",\"ArchCoin\",\"Argentum\",\"Aurora Coin\",\"BetaCoin\",\"BlueCoin\",\"MyriadCoin\",\"MoonCoin\",\"ZetaCoin\",\"SexCoin\",\"Quatloo\",\"EnergyCoin\",\"QuarkCoin\",\"Riecoin\",\"Digitalcoin \",\"LimeCoinX\",\"BitBar\",\"BitMark\",\"CashCoin\",\"Catcoin\",\"CryptoBullion\",\"CannaCoin\",\"CinderCoin\",\"CoolCoin\",\"CryptCoin\",\"CasinoCoin\",\"eMark\",\"Diamond\",\"Verge\",\"DarkCash\",\"DarkShibe\",\"DevCoin\",\"EarthCoin\",\"E-Gulden\",\"Elacoin\",\"Einsteinium\",\"Emerald\",\"Exclusive Coin\",\"Flappy Coin\",\"Fuel2Coin\",\"FIBRE\",\"FireRoosterCoin\",\"FlutterCoin\",\"Franko\",\"FeatherCoin\",\"GrandCoin\",\"GlobalCoin\",\"GoldCoin\",\"GlyphCoin\",\"Halcyon\",\"HoboNickels\",\"HunterCoin\",\"HyperStake\",\"Infinite Coin\",\"IOCoin\",\"IXcoin\",\"JumBucks Coin\",\"JudgeCoin\",\"KrugerCoin\",\"LuckyCoin\",\"Litebar \",\"LitecoinDark\",\"LibrexCoin\",\"MaxCoin\",\"MegaCoin\",\"MediterraneanCoin\",\"MintCoin\",\"MinCoin\",\"MazaCoin\",\"Nautilus Coin\",\"NavCoin\",\"NoirBits\",\"NobleCoin\",\"Namecoin\",\"NyanCoin\",\"OpalCoin\",\"Orbitcoin\",\"PotCoin\",\"PhoenixCoin\",\"Reddcoin\",\"RipOffCoin\",\"RonPaulCoin\",\"StableCoin\",\"ShieldCoin\",\"SilkCoin\",\"SmartCoin\",\"SpainCoin\",\"SecureCoin\",\"SuperCoin\",\"SyncCoin\",\"SysCoin\",\"TeslaCoin\",\"TigerCoin\",\"TittieCoin\",\"TorCoin\",\"TerraCoin\",\"Umbrella\",\"UnbreakableCoin\",\"Unobtanium\",\"UroCoin\",\"UnitaryStatus Dollar\",\"UltraCoin\",\"Utility Coin\",\"ViaCoin\",\"VootCoin\",\"VeriCoin\",\"Vertcoin\",\"WorldCoin\",\"SocialXbotCoin\",\"X11 Coin\",\"Crypti\",\"JouleCoin\",\"StealthCoin\",\"XXXCoin\",\"ZCC Coin\",\"ByteCoin\",\"DigitalNote \",\"BurstCoin\",\"StorjCoin\",\"MonaCoin\",\"Neutron\",\"Sling Coin\",\"KryptCoin\",\"FairCoin\",\"Gulden\",\"RubyCoin\",\"PesetaCoin\",\"Kore\",\"Wild Beast Coin\",\"Dnotes\",\"Flo\",\"MaieutiCoin\",\"8BIT Coin\",\"Sativa Coin\",\"AeroMe\",\"ArtByte\",\"MasterTraderCoin\",\"BitCredit\",\"Folding Coin\",\"Ucoin\",\"Unitus\",\"CypherPunkCoin\",\"MaryJane Coin\",\"OmniCron\",\"CyberCoin\",\"Vtorrent\",\"GreenCoin\",\"Unattanium\",\"Cryptonite\",\"Gridmaster\",\"ConSpiracy Coin \",\"MasterCoin\",\"SoonCoin\",\"1Credit\",\"ViorCoin\",\"IslaCoin\",\"Quicksilver coin\",\"Nexus\",\"MarsCoin \",\"Singular\",\"Crypto\",\"Anarchists Prime\",\"Droidz\",\"BowsCoin\",\"CryptoCircuits\",\"Squall Coin\",\"Milllionaire Coin\",\"Song Coin\",\"BitZeny\",\"Diggits\",\"Expanse\",\"MapCoin\",\"Paycon\",\"Siacoin\",\"Emercoin\",\"BlitzCoin\",\"EverGreenCoin\",\"MindCoin\",\"I0coin\",\"Decred\",\"DogeCoinDark\",\"Revolution VR\",\"HOdlcoin\",\"EDRCoin\",\"Hitcoin\",\"Gamecredits\",\"Dashcoin\",\"DubaiCoin\",\"BiosCrypto\",\"CarpeDiemCoin\",\"PWR Coin\",\"TrumpCoin\",\"BillaryCoin\",\"EthereumScrypt\",\"Phalanx\",\"SunShotCoin\",\"GPU Coin\",\"HempCoin\",\"Adzcoin\",\"VirtaCoin\",\"SoilCoin\",\"YoCoin\",\"Universal Currency\",\"AEON\",\"SibCoin\",\"EuropeCoin\",\"Anti Bitcoin\",\"ZeitCoin\",\"SwingCoin\",\"SafeExchangeCoin\",\"Nebuchadnezzar\",\"Francs\",\"BolivarCoin\",\"GIZMOcoin\",\"SecretCoin\",\"Ratecoin\",\"Digital Bullion Gold\",\"Revenu\",\"Clinton\",\"Clockcoin\",\"VIP Tokens\",\"OrlyCoin\",\"BitSend\",\"16BitCoin\",\"ChessCoin\",\"ReeCoin\",\"Omni\",\"Let it Ride\",\"PutinCoin\",\"iBankCoin\",\"Frankywillcoin\",\"MudraCoin\",\"PizzaCoin\",\"Lutetium Coin\",\"Komodo\",\"GoldBlocks\",\"WayCoin\",\"CarterCoin\",\"Karbo\",\"BitTokens\",\"ZayedCoin\",\"MustangCoin\",\"ZoneCoin\",\"Circuits of Value\",\"RootCoin\",\"DopeCoin\",\"PROUD Money\",\"BitCurrency\",\"DollarCoin\",\"Swiscoin\",\"Shilling\",\"BuzzCoin\",\"Opair\",\"PesoBit\",\"GBR Coin\",\"Halloween Coin\",\"FujiCoin\",\"ZCoin\",\"LeaCoin\",\"CoffeeCoin\",\"RoyalCoin\",\"Zurcoin\",\"GanjaCoin V2\",\"TeamUP\",\"LanaCoin\",\"Elementrem\",\"CashOut\",\"ZClassic\",\"ARK\",\"InsaneCoin\",\"LuckChain\",\"KiloCoin\",\"Hush\",\"ArtexCoin\",\"EmberCoin\",\"XenixCoin\",\"FreeCoin\",\"NPCcoin\",\"PLNCoin\",\"Icobid\",\"AquariusCoin\",\"Kurrent\",\"Creatio\",\"Eternity\",\"Eurocoin\",\"BitcoinFast\",\"Stakenet\",\"BitConnect Coin\",\"MoneyCoin\",\"Enigma\",\"Cannabis Industry Coin\",\"Russiacoin\",\"PandaCoin\",\"GameUnits\",\"GAKHcoin\",\"Allsafe\",\"LiteCreed\",\"OsmiumCoin\",\"Bikercoins\",\"NeptuneClassic\",\"HexxCoin\",\"GoldenBird\",\"Ride My Car\",\"Klingon Empire Darsek\",\"Internet of People\",\"KushCoin\",\"Eryllium\",\"MarxCoin\",\"Printerium\",\"PacCoin\",\"Impeach\",\"Solarflarecoin\",\"Citadel\",\"Zilbercoin\",\"FirstCoin\",\"CreativeChain\",\"BeaverCoin\",\"FindCoin\",\"VaultCoin\",\"Zero\",\"OpenChat\",\"Canada eCoin\",\"Zoin\",\"Musicoin\",\"BnrtxCoin\",\"RenosCoin\",\"DubaiCoin\",\"VirtacoinPlus\",\"TajCoin\",\"Impact\",\"EB3coin\",\"Universe\",\"Atmos\",\"HappyCoin\",\"Coinonat\",\"MacronCoin\",\"Condensate\",\"Independent Money System\",\"ArgusCoin\",\"LomoCoin\",\"Bitcoin Scrypt\",\"ProCurrency\",\"GoldReserve\",\"BenjiRolls\",\"ParallelCoin\",\"GrowthCoin\",\"ILCoin\",\"Phreak\",\"Degas Coin\",\"ZSEcoin\",\"HTML5 Coin\",\"Ultimate Secure Cash\",\"EquiTrader\",\"QTUM\",\"Quantum Resistant Ledger\",\"Espers\",\"Dynamic\",\"Nano\",\"ChanCoin\",\"Dinastycoin\",\"Denarius\",\"DigitalPrice\",\"Virta Unique Coin\",\"Bitcoin Planet\",\"Unify\",\"BritCoin\",\"SocialCoin\",\"Octanox\",\"ArcticCoin\",\"DAS\",\"Linda\",\"LeviarCoin\",\"DeepOnion\",\"Bitcore\",\"gCn Coin\",\"SmartCash\",\"Signatum\",\"Onix\",\"Cream\",\"Bitcoin Cash\",\"Monoeci\",\"CampusCoin\",\"Draftcoin\",\"Vechain\",\"Sojourn Coin\",\"Stakecoin\",\"NewYorkCoin\",\"LiteBitcoin\",\"FrazCoin\",\"Kronecoin\",\"AdCoin\",\"Linx\",\"CoinonatX\",\"Ethereum Dark\",\"Sumokoin\",\"Obsidian\",\"Cardano\",\"Regalcoin\",\"BitcoinZ\",\"TrezarCoin\",\"Elements\",\"TerraNovaCoin\",\"VIVO Coin\",\"Rupee\",\"Bitcoin Gold\",\"WomenCoin\",\"Theresa May Coin\",\"NamoCoin\",\"LUXCoin\",\"Pirl\",\"Xios\",\"Bitcloud 2.0\",\"eBoost\",\"KekCoin\",\"BlackholeCoin\",\"AltCommunity Coin\",\"Pure\",\"Rupaya\",\"Infinity Economics\",\"Pura\",\"Innova\",\"Bitdeal\",\"Ellaism\",\"Sakuracoin\",\"GoByte\",\"Castle\",\"Magnet\",\"Lamden Tau\",\"Electra\",\"Bitcoin Diamond\",\"SHIELD\",\"Cash & Back Coin\",\"UltraNote\",\"BitCoal\",\"DaxxCoin\",\"Bulwark\",\"Kalkulus\",\"AC3\",\"CHIPS\",\"Lethean\",\"GermanCoin\",\"LiteCoin Ultra\",\"PopularCoin\",\"PhantomX\",\"HTML Coin\",\"Photon\",\"Sucre\",\"Fantasy Cash\",\"SparksPay\",\"Digiwage\",\"GunCoin\",\"IrishCoin\",\"Trollcoin\",\"Litecoin Plus\",\"Monkey Project\",\"Pioneer Coin\",\"UnitedBitcoin\",\"Interzone\",\"OP Coin\",\"Valorbit\",\"TokenPay\",\"1717 Masonic Commemorative Token\",\"My Big Coin\",\"TurtleCoin\",\"MUNcoin\",\"Unified Society USDEX\",\"Niobio Cash\",\"Bitcoin Private\",\"Skeincoin\",\"ShareChain\",\"Travelflex\",\"KREDS\",\"Tokyo Coin\",\"BiblePay\",\"LitecoinCash\",\"BitFlip\",\"LottoCoin\",\"LeafCoin\",\"Cerberus\",\"Bitcoin Hush\",\"Crypto Improvement Fund\",\"Stipend\",\"Poa Network\",\"Pushi\",\"Ellerium\",\"Velox\",\"Ontology\",\"Callisto Network\",\"Curium\",\"BitTube\",\"Dinero\",\"Poseidon\",\"Aidos Kuneen\",\"Bitspace\",\"Snowgem\",\"Briacoin\",\"Ignition\",\"Bitrolium\",\"Bitcoin Interest\",\"MedicCoin\",\"Alpenschillling\",\"Zelcash\",\"Bitcoin Green\",\"Deviant Coin\",\"Abjcoin\",\"Profit Hunters Coin\",\"Semux\",\"BitBlocks\",\"FuturoCoin\",\"Carebit\",\"Zealium\",\"Monero Classic\",\"Proton\",\"iDealCash\",\"Jumpcoin\",\"Infinex\",\"Bitcoin Incognito\",\"KEYCO\",\"HollyWoodCoin\",\"GINcoin\",\"PlatinCoin\",\"Loki\",\"Newton Coin\",\"Swisscoin\",\"Xt3ch\",\"MassGrid\",\"TheVig\",\"PluraCoin\",\"EmaratCoin\",\"Dekado\",\"Lynx\",\"Poseidon Quark\",\"BitcoinWSpectrum\",\"Muse\",\"Motion\",\"PlusOneCoin\",\"Axe\",\"Trivechain\",\"Dystem\",\"Giant\",\"Peony Coin\",\"SafeCoin\",\"Absolute Coin\",\"Vitae\",\"HexCoin\",\"TPCash\",\"Webchain\",\"Ryo\",\"MUSDcoin\",\"Urals Coin\",\"Qwertycoin\",\"ARENON\",\"EUNO\",\"MMOCoin\",\"Ketan\",\"NIX\",\"Safe Trade Coin\",\"Project Pai\",\"Mont Blanc\",\"XDNA\",\"PAXEX\",\"Azart\",\"Apollon\",\"ThunderStake\",\"Kcash\",\"Xchange\",\"Acute Angle Cloud\",\"Traid\",\"CrypticCoin\",\"Bettex coin\",\"ZestCoin\",\"X-CASH\",\"Actinium\",\"ETHER-1\",\"Bitcoin SV\",\"BitMoney\",\"Bitcoiin2Gen\",\"Junson Ming Chan Coin\",\"FREDEnergy\",\"Zenad\",\"C25 Coin\",\"HerbCoin\",\"Aquachain\",\"Universal Molecule\",\"Lithium\",\"Smart Bitcoin\",\"PirateCash\",\"Exosis\",\"Block-Logic\",\"Oduwa\",\"Beam\",\"Galilel\",\"Bithereum\",\"Crypto Sports\",\"Credit\",\"SLICE\",\"Dash Platinum\",\"Nasdacoin\",\"Vidulum\",\"Beetle Coin\",\"Titan Coin\",\"Award\",\"BlockStamp\",\"BLAST\",\"Bitcoin Rhodium\",\"GlobalToken\",\"Insane Coin\",\"ALAX\",\"The Freedom Coin\",\"LiteDoge\",\"Boolberry\",\"SolarCoin\",\"TruckCoin\",\"UFO Coin\",\"Ascension Coin\",\"OrangeCoin\",\"BlakeCoin\",\"BitstarCoin\",\"NeosCoin\",\"HyperCoin\",\"PinkCoin\",\"FantomCoin \",\"Crypto Escudo\",\"AudioCoin\",\"IncaKoin\",\"Piggy Coin\",\"Crown Coin\",\"Genstake\",\"Quazar Coin\",\"SmileyCoin\",\"ParkByte\",\"XiaoMiCoin\",\"Groestlcoin\",\"CapriCoin\",\" ClubCoin\",\"Radium\",\"Bata\",\"Pakcoin\",\"Creditbit \",\"OKCash\",\"Lisk\",\"HiCoin\",\"WhiteCoin\",\"Dotcoin\",\"FriendshipCoin\",\"The Hempcoin\",\"Fiii\",\"JoinCoin\",\"Triangles Coin\",\"Vollar\",\"EOS\",\"Reality Clash\",\"Oxycoin\",\"iOlite\",\"TigerCash\",\"Waves\",\"Particl\",\"BitTorrent\",\"Nxt\",\"ZEPHYR\",\"Gapcoin\",\"Beldex\",\"Horizen\",\"BitcoinPlus\"],\"ProofType\":[\"PoW/PoS\",\"PoW/PoS\",\"PoW/PoS\",\"PoW/PoS\",\"PoW\",\"PoW\",\"PoW\",\"PoW/PoS\",\"PoW\",\"PoW\",\"PoW\",\"PoS\",\"PoW\",\"PoW/PoS\",\"PoW/PoS\",\"PoS\",\"PoW\",\"PoW/PoS\",\"PoW\",\"PoW\",\"PoS\",\"PoW/PoS\",\"PoS\",\"PoW\",\"PoW/PoS\",\"PoW\",\"PoW/PoS\",\"PoW\",\"PoW\",\"PoW\",\"PoW\",\"PoW\",\"PoW/PoS\",\"PoW\",\"PoW\",\"PoW\",\"PoW\",\"PoW/PoS\",\"PoW\",\"PoW/PoS\",\"PoW\",\"PoW/PoS\",\"PoW\",\"PoW/PoS\",\"PoS\",\"PoW\",\"PoC\",\"PoW/PoS\",\"PoW/PoS\",\"PoW\",\"PoW/PoS\",\"PoW\",\"PoW\",\"PoW\",\"PoW\",\"PoW\",\"PoW\",\"PoW\",\"PoS\",\"PoW\",\"PoS\",\"PoW/PoS\",\"PoW\",\"PoS/PoW/PoT\",\"PoW\",\"PoW\",\"PoW\",\"PoW\",\"PoW\",\"PoW/PoS\",\"PoW/PoS\",\"PoW/PoS\",\"PoW\",\"PoS\",\"PoW\",\"PoW/PoS\",\"PoW\",\"PoW/PoS\",\"PoW/PoS\",\"PoW\",\"PoW\",\"PoW\",\"PoW\",\"PoW/PoS\",\"PoW/PoS\",\"PoW\",\"PoW\",\"PoS\",\"PoW\",\"PoW/PoS\",\"PoS\",\"PoW/PoS\",\"PoW\",\"PoW\",\"PoW\",\"PoW\",\"PoW/PoS\",\"PoW/PoS\",\"PoW/PoS\",\"PoW/PoS\",\"PoW/PoS\",\"PoW\",\"PoW\",\"PoW\",\"PoW/PoS\",\"PoW/PoS\",\"PoW\",\"PoW\",\"PoW\",\"PoS\",\"PoW/PoS\",\"PoW\",\"PoS\",\"PoW\",\"PoS\",\"PoW/PoS\",\"PoW\",\"PoW\",\"PoW\",\"PoW\",\"PoW\",\"PoW/PoS\",\"PoW/PoS\",\"PoW/PoS\",\"PoW\",\"PoW\",\"PoST\",\"PoW\",\"PoW\",\"PoW/PoS\",\"PoW/PoS\",\"PoS\",\"PoW\",\"PoW/PoS\",\"PoW/PoS\",\"PoW/PoS\",\"PoW\",\"PoW\",\"PoC\",\"PoS\",\"PoW\",\"PoW/PoS\",\"PoW\",\"PoS\",\"PoW/PoS\",\"PoW\",\"PoS\",\"PoW\",\"PoW/PoS\",\"PoW\",\"PoS\",\"PoW\",\"PoS\",\"PoW/PoS\",\"PoW/PoS\",\"PoW/PoS\",\"PoW\",\"PoW/PoS\",\"PoW\",\"PoW\",\"PoS\",\"PoW\",\"PoW\",\"PoW/PoS\",\"PoW\",\"PoW/PoS\",\"PoW/PoS\",\"PoW\",\"PoW\",\"PoW\",\"PoW\",\"PoW\",\"PoW\",\"PoW\",\"PoW\",\"PoW/PoS\",\"PoW/PoS\",\"PoW\",\"PoW/nPoS\",\"PoW\",\"PoW/PoS\",\"PoW\",\"PoW\",\"PoW/PoS\",\"PoW\",\"PoS\",\"PoS/PoW\",\"PoW/PoS\",\"PoW\",\"PoW\",\"PoS\",\"PoW\",\"PoS\",\"PoW/PoS\",\"PoW\",\"PoW/PoS\",\"PoS\",\"PoW/PoS\",\"PoW\",\"PoW\",\"PoW/PoS\",\"PoW\",\"PoW\",\"PoW\",\"PoW/PoS\",\"PoW/PoS\",\"PoW\",\"PoW\",\"PoW/PoS\",\"PoW/PoS\",\"PoW\",\"PoW/PoS\",\"PoS\",\"PoW/PoS\",\"PoW/PoS\",\"PoW\",\"PoW\",\"PoS\",\"PoW\",\"PoW\",\"PoW\",\"PoW\",\"PoW\",\"PoW/PoS\",\"PoW\",\"PoW\",\"PoW/PoS\",\"PoW\",\"PoS\",\"PoW/PoS\",\"PoC\",\"PoS\",\"PoW\",\"PoW\",\"PoW/PoS\",\"PoW/PoS\",\"PoW/PoS\",\"PoS\",\"PoW/PoS\",\"PoW\",\"PoW/PoS\",\"PoW/PoS\",\"PoW/PoS\",\"PoW/PoS\",\"PoW/PoS\",\"PoW/PoS\",\"PoW/PoS\",\"PoW\",\"PoS\",\"PoW/PoS\",\"PoW/PoS\",\"PoW/PoS\",\"PoS\",\"PoW\",\"PoS\",\"dPoW/PoW\",\"PoW/PoS\",\"PoS\",\"PoW/PoS\",\"PoW\",\"PoW/PoS\",\"PoW\",\"PoW/PoS\",\"PoW/PoS\",\"PoW\",\"PoW/PoS\",\"PoW\",\"PoW/PoS\",\"PoS\",\"PoW\",\"PoW/PoW\",\"PoW\",\"PoW/PoS\",\"PoS\",\"PoW/PoS\",\"PoW\",\"PoW/PoS\",\"PoW\",\"PoW\",\"PoW\",\"PoS\",\"PoS\",\"PoW\",\"PoW/PoS\",\"PoS\",\"PoW/PoS\",\"PoW\",\"PoW\",\"PoW\",\"DPoS\",\"PoW/PoS\",\"PoW/PoS\",\"PoW\",\"PoW\",\"PoW\",\"PoW/PoS\",\"PoW/PoS\",\"PoS\",\"PoW/PoS\",\"PoW/PoS\",\"PoW/PoS\",\"PoW/PoS\",\"PoW\",\"PoS\",\"PoW/PoS\",\"PoW/PoS\",\"PoW/PoS\",\"TPoS\",\"PoW/PoS\",\"PoW/PoS\",\"PoW/PoS\",\"PoW\",\"PoW/PoS\",\"PoS\",\"PoW/PoS\",\"PoW/PoS\",\"PoS\",\"PoW/PoS\",\"PoW\",\"PoW\",\"PoW/PoS\",\"PoW\",\"PoW/PoS\",\"PoS\",\"PoW/PoS\",\"PoW/PoS\",\"PoW/PoS\",\"PoW/PoS\",\"PoW\",\"PoW/PoS\",\"PoW\",\"PoW/PoS\",\"PoW\",\"PoW\",\"PoS\",\"PoW/PoS \",\"PoW\",\"PoW\",\"PoS\",\"PoW\",\"PoW\",\"PoW/PoS\",\"PoW\",\"PoW\",\"PoW\",\"PoW\",\"PoS\",\"PoW\",\"PoW/PoS\",\"PoW/PoS\",\"PoW/PoS\",\"PoW\",\"PoS\",\"PoS\",\"PoW/PoS\",\"PoW\",\"PoS\",\"PoW/PoS\",\"PoW/PoS\",\"PoW/PoS\",\"PoW/PoS\",\"PoW\",\"PoS\",\"PoW/PoS\",\"PoW\",\"PoW\",\"PoS\",\"PoW\",\"PoS\",\"PoW/PoS\",\"PoW/PoS\",\"PoW/PoS\",\"PoS\",\"PoW\",\"PoS\",\"PoW\",\"PoW/PoS\",\"PoW\",\"PoW\",\"PoW\",\"PoW\",\"PoW/PoS\",\"PoW\",\"PoW/PoS\",\"PoW/PoS\",\"PoW\",\"PoW/PoS\",\"PoW\",\"PoW/PoS\",\"PoW\",\"PoW\",\"PoW/PoS\",\"PoW\",\"PoW/PoS\",\"PoW\",\"PoW\",\"PoW\",\"PoS\",\"PoW\",\"PoW/PoS\",\"PoW\",\"PoW/PoS\",\"PoW\",\"PoS\",\"Proof of Authority\",\"PoW\",\"PoS\",\"PoW\",\"PoW\",\"PoW\",\"PoW\",\"PoW\",\"PoW\",\"PoW/PoS\",\"PoW/PoS\",\"PoW\",\"PoS\",\"PoS\",\"PoW/PoS\",\"PoW\",\"PoW/PoS\",\"PoW\",\"PoW/PoS\",\"PoW\",\"PoS\",\"PoW\",\"PoW/PoS\",\"PoW/PoS\",\"PoW/PoS\",\"PoW/PoS\",\"PoW\",\"PoW/PoS\",\"PoW/PoS\",\"PoW\",\"PoS\",\"PoW/PoS\",\"PoW/PoS\",\"PoW/PoS\",\"PoS\",\"PoS\",\"PoW\",\"PoW\",\"PoW\",\"PoW\",\"PoW\",\"PoW\",\"DPoS\",\"PoW/PoS\",\"DPoS\",\"PoW/PoS\",\"PoW/PoS\",\"PoW\",\"PoW/PoS\",\"PoW\",\"PoW\",\"PoW\",\"PoS\",\"PoS\",\"PoW\",\"PoW\",\"PoW\",\"PoW/PoS\",\"PoW/PoS\",\"PoW\",\"PoW/PoS\",\"PoW/PoS\",\"PoW\",\"PoW\",\"PoW/PoS\",\"PoW\",\"PoS\",\"PoW\",\"PoW\",\"PoW/PoS\",\"PoW/PoS\",\"PoS\",\"PoW\",\"PoW\",\"PoW\",\"PoW/PoS\",\"PoW/PoS\",\"PoS\",\"PoS\",\"PoW and PoS\",\"PoW\",\"PoW\",\"PoW/PoS\",\"PoW\",\"PoW\",\"PoW\",\"PoW\",\"PoW\",\"PoW\",\"PoS\",\"POBh\",\"PoW + Hive\",\"PoW\",\"PoW\",\"PoW\",\"PoW\",\"PoW\",\"PoW\",\"PoW/PoS\",\"PoA\",\"PoW/PoS\",\"PoW/PoS\",\"PoS\",\"PoS\",\"PoW\",\"PoW\",\"PoW\",\"PoW\",\"PoW\",\"PoW\",\"PoW/PoS\",\"PoW\",\"PoW/PoS\",\"PoW/PoS\",\"PoW\",\"PoW\",\"PoS\",\"PoW\",\"PoW/PoS\",\"PoS\",\"PoS\",\"PoW/PoS\",\"PoW/PoS\",\"DPoS\",\"PoW/PoS\",\"PoW\",\"PoW/PoS\",\"PoS\",\"PoW\",\"PoS\",\"PoW/PoS\",\"PoW\",\"PoW\",\"PoS/PoW\",\"PoW\",\"PoS\",\"PoW\",\"PoW\",\"PoW\",\"PoW\",\"PoW/PoS\",\"PoS\",\"PoW\",\"PoW/PoS\",\"PoW\",\"PoW/PoS\",\"PoS\",\"HPoW\",\"PoS\",\"PoS\",\"PoS\",\"PoW\",\"PoW\",\"PoW\",\"PoW/PoS\",\"PoS\",\"PoW/PoS\",\"PoS\",\"PoW/PoS\",\"PoW/PoS\",\"PoS\",\"PoW\",\"PoW/PoS\",\"PoW\",\"PoW\",\"PoW/PoS\",\"PoW\",\"PoW\",\"PoS\",\"PoW/PoS\",\"PoS\",\"PoS\",\"PoW\",\"PoS\",\"PoW\",\"PoS\",\"PoW/PoS\",\"PoS\",\"PoW\",\"PoW/PoS\",\"PoW/PoS\",\"Zero-Knowledge Proof\",\"PoW\",\"DPOS\",\"PoW/PoS\",\"PoW\",\"PoS\",\"PoW\",\"PoW\",\"PoW\",\"PoW\",\"PoW\",\"Pos\",\"PoW\",\"PoS\",\"PoW\",\"POS / MN\",\"PoW\",\"PoW/PoS\",\"PoW\",\"PoW\",\"PoW\",\"PoW\",\"PoS\",\"PoW\",\"PoW\",\"PoW/PoS\",\"PoW\",\"PoW/PoS\",\"PoW\",\"PoS\",\"PoW/PoS\",\"PoW\",\"PoS\",\"PoW/PoS\",\"PoW\",\"PoW/PoS\",\"PoW/PoS\",\"PoW/PoS\",\"PoW\",\"PoW\",\"PoW\",\"PoW\",\"PoW/PoS\",\"DPoS\",\"PoS\",\"PoW/PoS\",\"PoW\",\"PoW\",\"PoW/PoS\",\"PoW\",\"PoW/PoS\",\"PoW/PoS\",\"PoW\",\"PoW/PoS\",\"PoS\",\"PoW/PoS\",\"PoW/PoS\",\"PoW\",\"PoW\",\"PoW/PoS\",\"PoW/PoS\",\"PoW/PoS\",\"PoW\",\"PoW/PoS\",\"PoW\",\"PoW\",\"PoW/PoS\",\"PoW/PoS\",\"PoW\",\"PoW/PoS\",\"PoW/PoS\",\"PoS\",\"PoW\",\"PoW\",\"Proof of Trust\",\"PoW/PoS\",\"DPoS\",\"PoS\",\"PoW/PoS\",\"PoW\",\"PoW/PoS\",\"PoW/PoS\",\"DPoC\",\"PoW\",\"PoW/PoS\",\"PoW\",\"DPoS\",\"PoW\",\"DPoS\",\"PoW\",\"PoS\",\"LPoS\",\"PoS\",\"DPoS\",\"PoS/LPoS\",\"DPoS\",\"PoW/PoS\",\"PoW\",\"PoW\",\"PoS\"],\"TotalCoinSupply\":{\"__ndarray__\":\"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\",\"dtype\":\"float64\",\"order\":\"little\",\"shape\":[685]},\"TotalCoinsMined\":{\"__ndarray__\":\"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\",\"dtype\":\"float64\",\"order\":\"little\",\"shape\":[685]}},\"selected\":{\"id\":\"2139\"},\"selection_policy\":{\"id\":\"2173\"}},\"id\":\"2138\",\"type\":\"ColumnDataSource\"},{\"attributes\":{\"format\":\"0,0.0[00000]\"},\"id\":\"2160\",\"type\":\"NumberFormatter\"},{\"attributes\":{\"editor\":{\"id\":\"2151\"},\"field\":\"ProofType\",\"formatter\":{\"id\":\"2150\"},\"title\":\"ProofType\"},\"id\":\"2152\",\"type\":\"TableColumn\"},{\"attributes\":{},\"id\":\"2173\",\"type\":\"UnionRenderers\"},{\"attributes\":{},\"id\":\"2166\",\"type\":\"IntEditor\"},{\"attributes\":{\"margin\":[5,5,5,5],\"name\":\"HSpacer02139\",\"sizing_mode\":\"stretch_width\"},\"id\":\"2175\",\"type\":\"Spacer\"},{\"attributes\":{},\"id\":\"2139\",\"type\":\"Selection\"},{\"attributes\":{\"editor\":{\"id\":\"2141\"},\"field\":\"CoinName\",\"formatter\":{\"id\":\"2140\"},\"title\":\"CoinName\"},\"id\":\"2142\",\"type\":\"TableColumn\"},{\"attributes\":{\"format\":\"0,0.0[00000]\"},\"id\":\"2155\",\"type\":\"NumberFormatter\"},{\"attributes\":{\"margin\":[5,5,5,5],\"name\":\"HSpacer02138\",\"sizing_mode\":\"stretch_width\"},\"id\":\"2137\",\"type\":\"Spacer\"},{\"attributes\":{},\"id\":\"2151\",\"type\":\"StringEditor\"},{\"attributes\":{},\"id\":\"2146\",\"type\":\"StringEditor\"}],\"root_ids\":[\"2136\"]},\"title\":\"Bokeh Application\",\"version\":\"2.4.3\"}};\n",
       "    var render_items = [{\"docid\":\"cce4cd8e-ad28-4736-9b85-503822a67567\",\"root_ids\":[\"2136\"],\"roots\":{\"2136\":\"e6458de2-8029-4cbf-b588-cb5f3f43b7cf\"}}];\n",
       "    root.Bokeh.embed.embed_items_notebook(docs_json, render_items);\n",
       "  }\n",
       "  if (root.Bokeh !== undefined && root.Bokeh.Panel !== undefined) {\n",
       "    embed_document(root);\n",
       "  } else {\n",
       "    var attempts = 0;\n",
       "    var timer = setInterval(function(root) {\n",
       "      if (root.Bokeh !== undefined && root.Bokeh.Panel !== undefined) {\n",
       "        clearInterval(timer);\n",
       "        embed_document(root);\n",
       "      } else if (document.readyState == \"complete\") {\n",
       "        attempts++;\n",
       "        if (attempts > 200) {\n",
       "          clearInterval(timer);\n",
       "          console.log(\"Bokeh: ERROR: Unable to run BokehJS code because BokehJS library is missing\");\n",
       "        }\n",
       "      }\n",
       "    }, 25, root)\n",
       "  }\n",
       "})(window);</script>"
      ],
      "text/plain": [
       ":Table   [CoinName,Algorithm,ProofType,TotalCoinSupply,TotalCoinsMined,Class]"
      ]
     },
     "execution_count": 104,
     "metadata": {
      "application/vnd.holoviews_exec.v0+json": {
       "id": "2136"
      }
     },
     "output_type": "execute_result"
    }
   ],
   "source": [
    "# Create a table with tradable cryptocurrencies.\n",
    "crypto_trade = clustered_df.hvplot.table(columns=['CoinName', 'Algorithm', \n",
    "                         'ProofType', 'TotalCoinSupply','TotalCoinsMined','Class'], \n",
    "                          sortable=True, selectable=True)\n",
    "crypto_trade"
   ]
  },
  {
   "cell_type": "code",
   "execution_count": 105,
   "metadata": {},
   "outputs": [
    {
     "name": "stdout",
     "output_type": "stream",
     "text": [
      "There are 685 tradable cryptocurrencies.\n"
     ]
    }
   ],
   "source": [
    "# Print the total number of tradable cryptocurrencies.\n",
    "print(f\"There are {clustered_df['CoinName'].count()} tradable cryptocurrencies.\")"
   ]
  },
  {
   "cell_type": "code",
   "execution_count": 106,
   "metadata": {
    "scrolled": true
   },
   "outputs": [
    {
     "data": {
      "text/plain": [
       "array([[4.55364914e-16, 5.94230127e-03],\n",
       "       [5.76795558e-09, 7.00182308e-03],\n",
       "       [0.00000000e+00, 5.94230122e-03],\n",
       "       ...,\n",
       "       [1.51812440e-08, 6.92655266e-03],\n",
       "       [2.27682457e-10, 5.94962775e-03],\n",
       "       [1.08420218e-11, 5.94243008e-03]])"
      ]
     },
     "execution_count": 106,
     "metadata": {},
     "output_type": "execute_result"
    }
   ],
   "source": [
    "# Scaling data to create the scatter plot with tradable cryptocurrencies.\n",
    "tc_scaled = MinMaxScaler().fit_transform(clustered_df[[\"TotalCoinSupply\", \"TotalCoinsMined\"]])\n",
    "tc_scaled"
   ]
  },
  {
   "cell_type": "code",
   "execution_count": 107,
   "metadata": {},
   "outputs": [
    {
     "data": {
      "text/html": [
       "<div>\n",
       "<style scoped>\n",
       "    .dataframe tbody tr th:only-of-type {\n",
       "        vertical-align: middle;\n",
       "    }\n",
       "\n",
       "    .dataframe tbody tr th {\n",
       "        vertical-align: top;\n",
       "    }\n",
       "\n",
       "    .dataframe thead th {\n",
       "        text-align: right;\n",
       "    }\n",
       "</style>\n",
       "<table border=\"1\" class=\"dataframe\">\n",
       "  <thead>\n",
       "    <tr style=\"text-align: right;\">\n",
       "      <th></th>\n",
       "      <th>TotalCoinSupply</th>\n",
       "      <th>TotalCoinsMined</th>\n",
       "      <th>CoinName</th>\n",
       "      <th>Class</th>\n",
       "    </tr>\n",
       "  </thead>\n",
       "  <tbody>\n",
       "    <tr>\n",
       "      <th>42</th>\n",
       "      <td>4.553649e-16</td>\n",
       "      <td>0.005942</td>\n",
       "      <td>42 Coin</td>\n",
       "      <td>0</td>\n",
       "    </tr>\n",
       "    <tr>\n",
       "      <th>404</th>\n",
       "      <td>5.767956e-09</td>\n",
       "      <td>0.007002</td>\n",
       "      <td>404Coin</td>\n",
       "      <td>0</td>\n",
       "    </tr>\n",
       "    <tr>\n",
       "      <th>808</th>\n",
       "      <td>0.000000e+00</td>\n",
       "      <td>0.005942</td>\n",
       "      <td>808</td>\n",
       "      <td>0</td>\n",
       "    </tr>\n",
       "    <tr>\n",
       "      <th>1337</th>\n",
       "      <td>3.406122e-06</td>\n",
       "      <td>0.035342</td>\n",
       "      <td>EliteCoin</td>\n",
       "      <td>0</td>\n",
       "    </tr>\n",
       "    <tr>\n",
       "      <th>BTC</th>\n",
       "      <td>2.276825e-10</td>\n",
       "      <td>0.005960</td>\n",
       "      <td>Bitcoin</td>\n",
       "      <td>2</td>\n",
       "    </tr>\n",
       "    <tr>\n",
       "      <th>ETH</th>\n",
       "      <td>0.000000e+00</td>\n",
       "      <td>0.006050</td>\n",
       "      <td>Ethereum</td>\n",
       "      <td>2</td>\n",
       "    </tr>\n",
       "    <tr>\n",
       "      <th>LTC</th>\n",
       "      <td>9.107298e-10</td>\n",
       "      <td>0.006006</td>\n",
       "      <td>Litecoin</td>\n",
       "      <td>2</td>\n",
       "    </tr>\n",
       "    <tr>\n",
       "      <th>DASH</th>\n",
       "      <td>2.385245e-10</td>\n",
       "      <td>0.005951</td>\n",
       "      <td>Dash</td>\n",
       "      <td>0</td>\n",
       "    </tr>\n",
       "    <tr>\n",
       "      <th>XMR</th>\n",
       "      <td>0.000000e+00</td>\n",
       "      <td>0.005960</td>\n",
       "      <td>Monero</td>\n",
       "      <td>2</td>\n",
       "    </tr>\n",
       "    <tr>\n",
       "      <th>ETC</th>\n",
       "      <td>2.276825e-09</td>\n",
       "      <td>0.006056</td>\n",
       "      <td>Ethereum Classic</td>\n",
       "      <td>2</td>\n",
       "    </tr>\n",
       "  </tbody>\n",
       "</table>\n",
       "</div>"
      ],
      "text/plain": [
       "      TotalCoinSupply  TotalCoinsMined          CoinName  Class\n",
       "42       4.553649e-16         0.005942           42 Coin      0\n",
       "404      5.767956e-09         0.007002           404Coin      0\n",
       "808      0.000000e+00         0.005942               808      0\n",
       "1337     3.406122e-06         0.035342         EliteCoin      0\n",
       "BTC      2.276825e-10         0.005960           Bitcoin      2\n",
       "ETH      0.000000e+00         0.006050          Ethereum      2\n",
       "LTC      9.107298e-10         0.006006          Litecoin      2\n",
       "DASH     2.385245e-10         0.005951              Dash      0\n",
       "XMR      0.000000e+00         0.005960            Monero      2\n",
       "ETC      2.276825e-09         0.006056  Ethereum Classic      2"
      ]
     },
     "execution_count": 107,
     "metadata": {},
     "output_type": "execute_result"
    }
   ],
   "source": [
    "# Create a new DataFrame that has the scaled data with the clustered_df DataFrame index.\n",
    "plot_df = pd.DataFrame(data = tc_scaled, columns=['TotalCoinSupply', 'TotalCoinsMined'], index=clustered_df.index)\n",
    "\n",
    "# Add the \"CoinName\" column from the clustered_df DataFrame to the new DataFrame.\n",
    "plot_df = pd.concat([plot_df, clustered_df['CoinName']], axis=1)\n",
    "\n",
    "# Add the \"Class\" column from the clustered_df DataFrame to the new DataFrame. \n",
    "plot_df = pd.concat([plot_df, clustered_df['Class']], axis=1)\n",
    "\n",
    "plot_df.head(10)"
   ]
  },
  {
   "cell_type": "code",
   "execution_count": 108,
   "metadata": {},
   "outputs": [
    {
     "data": {},
     "metadata": {},
     "output_type": "display_data"
    },
    {
     "data": {
      "application/vnd.holoviews_exec.v0+json": "",
      "text/html": [
       "<div id='2187'>\n",
       "  <div class=\"bk-root\" id=\"d7e6f954-3fa8-4f48-92f5-399b83dbfda2\" data-root-id=\"2187\"></div>\n",
       "</div>\n",
       "<script type=\"application/javascript\">(function(root) {\n",
       "  function embed_document(root) {\n",
       "    var docs_json = {\"a144e693-2b08-474f-8d95-ce3733aa943c\":{\"defs\":[{\"extends\":null,\"module\":null,\"name\":\"ReactiveHTML1\",\"overrides\":[],\"properties\":[]},{\"extends\":null,\"module\":null,\"name\":\"FlexBox1\",\"overrides\":[],\"properties\":[{\"default\":\"flex-start\",\"kind\":null,\"name\":\"align_content\"},{\"default\":\"flex-start\",\"kind\":null,\"name\":\"align_items\"},{\"default\":\"row\",\"kind\":null,\"name\":\"flex_direction\"},{\"default\":\"wrap\",\"kind\":null,\"name\":\"flex_wrap\"},{\"default\":\"flex-start\",\"kind\":null,\"name\":\"justify_content\"}]},{\"extends\":null,\"module\":null,\"name\":\"GridStack1\",\"overrides\":[],\"properties\":[{\"default\":\"warn\",\"kind\":null,\"name\":\"mode\"},{\"default\":null,\"kind\":null,\"name\":\"ncols\"},{\"default\":null,\"kind\":null,\"name\":\"nrows\"},{\"default\":true,\"kind\":null,\"name\":\"allow_resize\"},{\"default\":true,\"kind\":null,\"name\":\"allow_drag\"},{\"default\":[],\"kind\":null,\"name\":\"state\"}]},{\"extends\":null,\"module\":null,\"name\":\"click1\",\"overrides\":[],\"properties\":[{\"default\":\"\",\"kind\":null,\"name\":\"terminal_output\"},{\"default\":\"\",\"kind\":null,\"name\":\"debug_name\"},{\"default\":0,\"kind\":null,\"name\":\"clears\"}]},{\"extends\":null,\"module\":null,\"name\":\"NotificationAreaBase1\",\"overrides\":[],\"properties\":[{\"default\":\"bottom-right\",\"kind\":null,\"name\":\"position\"},{\"default\":0,\"kind\":null,\"name\":\"_clear\"}]},{\"extends\":null,\"module\":null,\"name\":\"NotificationArea1\",\"overrides\":[],\"properties\":[{\"default\":[],\"kind\":null,\"name\":\"notifications\"},{\"default\":\"bottom-right\",\"kind\":null,\"name\":\"position\"},{\"default\":0,\"kind\":null,\"name\":\"_clear\"},{\"default\":[{\"background\":\"#ffc107\",\"icon\":{\"className\":\"fas fa-exclamation-triangle\",\"color\":\"white\",\"tagName\":\"i\"},\"type\":\"warning\"},{\"background\":\"#007bff\",\"icon\":{\"className\":\"fas fa-info-circle\",\"color\":\"white\",\"tagName\":\"i\"},\"type\":\"info\"}],\"kind\":null,\"name\":\"types\"}]},{\"extends\":null,\"module\":null,\"name\":\"Notification\",\"overrides\":[],\"properties\":[{\"default\":null,\"kind\":null,\"name\":\"background\"},{\"default\":3000,\"kind\":null,\"name\":\"duration\"},{\"default\":null,\"kind\":null,\"name\":\"icon\"},{\"default\":\"\",\"kind\":null,\"name\":\"message\"},{\"default\":null,\"kind\":null,\"name\":\"notification_type\"},{\"default\":false,\"kind\":null,\"name\":\"_destroyed\"}]},{\"extends\":null,\"module\":null,\"name\":\"TemplateActions1\",\"overrides\":[],\"properties\":[{\"default\":0,\"kind\":null,\"name\":\"open_modal\"},{\"default\":0,\"kind\":null,\"name\":\"close_modal\"}]},{\"extends\":null,\"module\":null,\"name\":\"MaterialTemplateActions1\",\"overrides\":[],\"properties\":[{\"default\":0,\"kind\":null,\"name\":\"open_modal\"},{\"default\":0,\"kind\":null,\"name\":\"close_modal\"}]}],\"roots\":{\"references\":[{\"attributes\":{\"fill_color\":{\"value\":\"#30a2da\"},\"hatch_color\":{\"value\":\"#30a2da\"},\"line_color\":{\"value\":\"#30a2da\"},\"size\":{\"value\":5.477225575051661},\"x\":{\"field\":\"TotalCoinsMined\"},\"y\":{\"field\":\"TotalCoinSupply\"}},\"id\":\"2234\",\"type\":\"Scatter\"},{\"attributes\":{\"coordinates\":null,\"group\":null,\"text_color\":\"black\",\"text_font_size\":\"12pt\"},\"id\":\"2196\",\"type\":\"Title\"},{\"attributes\":{\"fill_alpha\":{\"value\":0.2},\"fill_color\":{\"value\":\"#e5ae38\"},\"hatch_alpha\":{\"value\":0.2},\"hatch_color\":{\"value\":\"#e5ae38\"},\"line_alpha\":{\"value\":0.2},\"line_color\":{\"value\":\"#e5ae38\"},\"size\":{\"value\":5.477225575051661},\"x\":{\"field\":\"TotalCoinsMined\"},\"y\":{\"field\":\"TotalCoinSupply\"}},\"id\":\"2279\",\"type\":\"Scatter\"},{\"attributes\":{\"below\":[{\"id\":\"2204\"}],\"center\":[{\"id\":\"2207\"},{\"id\":\"2211\"}],\"height\":300,\"left\":[{\"id\":\"2208\"}],\"margin\":[5,5,5,5],\"min_border_bottom\":10,\"min_border_left\":10,\"min_border_right\":10,\"min_border_top\":10,\"renderers\":[{\"id\":\"2237\"},{\"id\":\"2258\"},{\"id\":\"2280\"},{\"id\":\"2304\"}],\"right\":[{\"id\":\"2249\"}],\"sizing_mode\":\"fixed\",\"title\":{\"id\":\"2196\"},\"toolbar\":{\"id\":\"2218\"},\"width\":700,\"x_range\":{\"id\":\"2189\"},\"x_scale\":{\"id\":\"2200\"},\"y_range\":{\"id\":\"2190\"},\"y_scale\":{\"id\":\"2202\"}},\"id\":\"2195\",\"subtype\":\"Figure\",\"type\":\"Plot\"},{\"attributes\":{\"fill_alpha\":{\"value\":0.1},\"fill_color\":{\"value\":\"#fc4f30\"},\"hatch_alpha\":{\"value\":0.1},\"hatch_color\":{\"value\":\"#fc4f30\"},\"line_alpha\":{\"value\":0.1},\"line_color\":{\"value\":\"#fc4f30\"},\"size\":{\"value\":5.477225575051661},\"x\":{\"field\":\"TotalCoinsMined\"},\"y\":{\"field\":\"TotalCoinSupply\"}},\"id\":\"2256\",\"type\":\"Scatter\"},{\"attributes\":{\"fill_color\":{\"value\":\"#e5ae38\"},\"hatch_color\":{\"value\":\"#e5ae38\"},\"line_color\":{\"value\":\"#e5ae38\"},\"size\":{\"value\":5.477225575051661},\"x\":{\"field\":\"TotalCoinsMined\"},\"y\":{\"field\":\"TotalCoinSupply\"}},\"id\":\"2277\",\"type\":\"Scatter\"},{\"attributes\":{\"coordinates\":null,\"data_source\":{\"id\":\"2298\"},\"glyph\":{\"id\":\"2301\"},\"group\":null,\"hover_glyph\":null,\"muted_glyph\":{\"id\":\"2303\"},\"nonselection_glyph\":{\"id\":\"2302\"},\"selection_glyph\":{\"id\":\"2323\"},\"view\":{\"id\":\"2305\"}},\"id\":\"2304\",\"type\":\"GlyphRenderer\"},{\"attributes\":{\"data\":{\"Class\":[1],\"TotalCoinSupply\":{\"__ndarray__\":\"H1DO9o6C5j4=\",\"dtype\":\"float64\",\"order\":\"little\",\"shape\":[1]},\"TotalCoinsMined\":{\"__ndarray__\":\"AAAAAAAA8D8=\",\"dtype\":\"float64\",\"order\":\"little\",\"shape\":[1]}},\"selected\":{\"id\":\"2253\"},\"selection_policy\":{\"id\":\"2269\"}},\"id\":\"2252\",\"type\":\"ColumnDataSource\"},{\"attributes\":{},\"id\":\"2232\",\"type\":\"Selection\"},{\"attributes\":{\"children\":[{\"id\":\"2188\"},{\"id\":\"2195\"},{\"id\":\"2340\"}],\"margin\":[0,0,0,0],\"name\":\"Row02305\",\"tags\":[\"embedded\"]},\"id\":\"2187\",\"type\":\"Row\"},{\"attributes\":{\"margin\":[5,5,5,5],\"name\":\"HSpacer02309\",\"sizing_mode\":\"stretch_width\"},\"id\":\"2188\",\"type\":\"Spacer\"},{\"attributes\":{\"end\":1.042857142857143,\"reset_end\":1.042857142857143,\"reset_start\":-0.04285714285714286,\"start\":-0.04285714285714286,\"tags\":[[[\"TotalCoinsMined\",\"TotalCoinsMined\",null]]]},\"id\":\"2189\",\"type\":\"Range1d\"},{\"attributes\":{},\"id\":\"2229\",\"type\":\"BasicTickFormatter\"},{\"attributes\":{},\"id\":\"2205\",\"type\":\"BasicTicker\"},{\"attributes\":{},\"id\":\"2200\",\"type\":\"LinearScale\"},{\"attributes\":{},\"id\":\"2209\",\"type\":\"BasicTicker\"},{\"attributes\":{\"axis\":{\"id\":\"2204\"},\"coordinates\":null,\"grid_line_color\":null,\"group\":null,\"ticker\":null},\"id\":\"2207\",\"type\":\"Grid\"},{\"attributes\":{\"margin\":[5,5,5,5],\"name\":\"HSpacer02310\",\"sizing_mode\":\"stretch_width\"},\"id\":\"2340\",\"type\":\"Spacer\"},{\"attributes\":{\"fill_alpha\":{\"value\":0.2},\"fill_color\":{\"value\":\"#30a2da\"},\"hatch_alpha\":{\"value\":0.2},\"hatch_color\":{\"value\":\"#30a2da\"},\"line_alpha\":{\"value\":0.2},\"line_color\":{\"value\":\"#30a2da\"},\"size\":{\"value\":5.477225575051661},\"x\":{\"field\":\"TotalCoinsMined\"},\"y\":{\"field\":\"TotalCoinSupply\"}},\"id\":\"2236\",\"type\":\"Scatter\"},{\"attributes\":{\"source\":{\"id\":\"2274\"}},\"id\":\"2281\",\"type\":\"CDSView\"},{\"attributes\":{},\"id\":\"2319\",\"type\":\"UnionRenderers\"},{\"attributes\":{},\"id\":\"2253\",\"type\":\"Selection\"},{\"attributes\":{},\"id\":\"2202\",\"type\":\"LinearScale\"},{\"attributes\":{\"angle\":{\"value\":0.0},\"fill_alpha\":{\"value\":1.0},\"fill_color\":{\"value\":\"#fc4f30\"},\"hatch_alpha\":{\"value\":1.0},\"hatch_color\":{\"value\":\"#fc4f30\"},\"hatch_scale\":{\"value\":12.0},\"hatch_weight\":{\"value\":1.0},\"line_alpha\":{\"value\":1.0},\"line_cap\":{\"value\":\"butt\"},\"line_color\":{\"value\":\"#fc4f30\"},\"line_dash\":{\"value\":[]},\"line_dash_offset\":{\"value\":0},\"line_join\":{\"value\":\"bevel\"},\"line_width\":{\"value\":1},\"marker\":{\"value\":\"circle\"},\"size\":{\"value\":5.477225575051661},\"x\":{\"field\":\"TotalCoinsMined\"},\"y\":{\"field\":\"TotalCoinSupply\"}},\"id\":\"2273\",\"type\":\"Scatter\"},{\"attributes\":{\"axis_label\":\"TotalCoinSupply\",\"coordinates\":null,\"formatter\":{\"id\":\"2229\"},\"group\":null,\"major_label_policy\":{\"id\":\"2230\"},\"ticker\":{\"id\":\"2209\"}},\"id\":\"2208\",\"type\":\"LinearAxis\"},{\"attributes\":{\"axis_label\":\"TotalCoinsMined\",\"coordinates\":null,\"formatter\":{\"id\":\"2226\"},\"group\":null,\"major_label_policy\":{\"id\":\"2227\"},\"ticker\":{\"id\":\"2205\"}},\"id\":\"2204\",\"type\":\"LinearAxis\"},{\"attributes\":{},\"id\":\"2293\",\"type\":\"UnionRenderers\"},{\"attributes\":{\"angle\":{\"value\":0.0},\"fill_alpha\":{\"value\":1.0},\"fill_color\":{\"value\":\"#6d904f\"},\"hatch_alpha\":{\"value\":1.0},\"hatch_color\":{\"value\":\"#6d904f\"},\"hatch_scale\":{\"value\":12.0},\"hatch_weight\":{\"value\":1.0},\"line_alpha\":{\"value\":1.0},\"line_cap\":{\"value\":\"butt\"},\"line_color\":{\"value\":\"#6d904f\"},\"line_dash\":{\"value\":[]},\"line_dash_offset\":{\"value\":0},\"line_join\":{\"value\":\"bevel\"},\"line_width\":{\"value\":1},\"marker\":{\"value\":\"circle\"},\"size\":{\"value\":5.477225575051661},\"x\":{\"field\":\"TotalCoinsMined\"},\"y\":{\"field\":\"TotalCoinSupply\"}},\"id\":\"2323\",\"type\":\"Scatter\"},{\"attributes\":{\"axis\":{\"id\":\"2208\"},\"coordinates\":null,\"dimension\":1,\"grid_line_color\":null,\"group\":null,\"ticker\":null},\"id\":\"2211\",\"type\":\"Grid\"},{\"attributes\":{\"label\":{\"value\":\"2\"},\"renderers\":[{\"id\":\"2280\"}]},\"id\":\"2296\",\"type\":\"LegendItem\"},{\"attributes\":{\"label\":{\"value\":\"3\"},\"renderers\":[{\"id\":\"2304\"}]},\"id\":\"2322\",\"type\":\"LegendItem\"},{\"attributes\":{\"angle\":{\"value\":0.0},\"fill_alpha\":{\"value\":1.0},\"fill_color\":{\"value\":\"#e5ae38\"},\"hatch_alpha\":{\"value\":1.0},\"hatch_color\":{\"value\":\"#e5ae38\"},\"hatch_scale\":{\"value\":12.0},\"hatch_weight\":{\"value\":1.0},\"line_alpha\":{\"value\":1.0},\"line_cap\":{\"value\":\"butt\"},\"line_color\":{\"value\":\"#e5ae38\"},\"line_dash\":{\"value\":[]},\"line_dash_offset\":{\"value\":0},\"line_join\":{\"value\":\"bevel\"},\"line_width\":{\"value\":1},\"marker\":{\"value\":\"circle\"},\"size\":{\"value\":5.477225575051661},\"x\":{\"field\":\"TotalCoinsMined\"},\"y\":{\"field\":\"TotalCoinSupply\"}},\"id\":\"2297\",\"type\":\"Scatter\"},{\"attributes\":{\"fill_color\":{\"value\":\"#6d904f\"},\"hatch_color\":{\"value\":\"#6d904f\"},\"line_color\":{\"value\":\"#6d904f\"},\"size\":{\"value\":5.477225575051661},\"x\":{\"field\":\"TotalCoinsMined\"},\"y\":{\"field\":\"TotalCoinSupply\"}},\"id\":\"2301\",\"type\":\"Scatter\"},{\"attributes\":{\"fill_alpha\":{\"value\":0.1},\"fill_color\":{\"value\":\"#6d904f\"},\"hatch_alpha\":{\"value\":0.1},\"hatch_color\":{\"value\":\"#6d904f\"},\"line_alpha\":{\"value\":0.1},\"line_color\":{\"value\":\"#6d904f\"},\"size\":{\"value\":5.477225575051661},\"x\":{\"field\":\"TotalCoinsMined\"},\"y\":{\"field\":\"TotalCoinSupply\"}},\"id\":\"2302\",\"type\":\"Scatter\"},{\"attributes\":{\"coordinates\":null,\"data_source\":{\"id\":\"2252\"},\"glyph\":{\"id\":\"2255\"},\"group\":null,\"hover_glyph\":null,\"muted_glyph\":{\"id\":\"2257\"},\"nonselection_glyph\":{\"id\":\"2256\"},\"selection_glyph\":{\"id\":\"2273\"},\"view\":{\"id\":\"2259\"}},\"id\":\"2258\",\"type\":\"GlyphRenderer\"},{\"attributes\":{},\"id\":\"2246\",\"type\":\"UnionRenderers\"},{\"attributes\":{\"coordinates\":null,\"data_source\":{\"id\":\"2231\"},\"glyph\":{\"id\":\"2234\"},\"group\":null,\"hover_glyph\":null,\"muted_glyph\":{\"id\":\"2236\"},\"nonselection_glyph\":{\"id\":\"2235\"},\"selection_glyph\":{\"id\":\"2251\"},\"view\":{\"id\":\"2238\"}},\"id\":\"2237\",\"type\":\"GlyphRenderer\"},{\"attributes\":{\"click_policy\":\"mute\",\"coordinates\":null,\"group\":null,\"items\":[{\"id\":\"2250\"},{\"id\":\"2272\"},{\"id\":\"2296\"},{\"id\":\"2322\"}],\"location\":[0,0],\"title\":\"Class\"},\"id\":\"2249\",\"type\":\"Legend\"},{\"attributes\":{\"fill_alpha\":{\"value\":0.1},\"fill_color\":{\"value\":\"#e5ae38\"},\"hatch_alpha\":{\"value\":0.1},\"hatch_color\":{\"value\":\"#e5ae38\"},\"line_alpha\":{\"value\":0.1},\"line_color\":{\"value\":\"#e5ae38\"},\"size\":{\"value\":5.477225575051661},\"x\":{\"field\":\"TotalCoinsMined\"},\"y\":{\"field\":\"TotalCoinSupply\"}},\"id\":\"2278\",\"type\":\"Scatter\"},{\"attributes\":{},\"id\":\"2269\",\"type\":\"UnionRenderers\"},{\"attributes\":{},\"id\":\"2230\",\"type\":\"AllLabels\"},{\"attributes\":{\"end\":1.1,\"reset_end\":1.1,\"reset_start\":-0.1,\"start\":-0.1,\"tags\":[[[\"TotalCoinSupply\",\"TotalCoinSupply\",null]]]},\"id\":\"2190\",\"type\":\"Range1d\"},{\"attributes\":{\"label\":{\"value\":\"0\"},\"renderers\":[{\"id\":\"2237\"}]},\"id\":\"2250\",\"type\":\"LegendItem\"},{\"attributes\":{\"source\":{\"id\":\"2298\"}},\"id\":\"2305\",\"type\":\"CDSView\"},{\"attributes\":{\"label\":{\"value\":\"1\"},\"renderers\":[{\"id\":\"2258\"}]},\"id\":\"2272\",\"type\":\"LegendItem\"},{\"attributes\":{\"source\":{\"id\":\"2231\"}},\"id\":\"2238\",\"type\":\"CDSView\"},{\"attributes\":{\"data\":{\"Class\":[3,3,3],\"TotalCoinSupply\":{\"__ndarray__\":\"UnQHlppEbj6OlI/pdkhHPguqPyFfoBI+\",\"dtype\":\"float64\",\"order\":\"little\",\"shape\":[3]},\"TotalCoinsMined\":{\"__ndarray__\":\"eHs1s8Ogfz//4pYZ13N8P7kL9DY+wHg/\",\"dtype\":\"float64\",\"order\":\"little\",\"shape\":[3]}},\"selected\":{\"id\":\"2299\"},\"selection_policy\":{\"id\":\"2319\"}},\"id\":\"2298\",\"type\":\"ColumnDataSource\"},{\"attributes\":{\"callback\":null,\"renderers\":[{\"id\":\"2237\"},{\"id\":\"2258\"},{\"id\":\"2280\"},{\"id\":\"2304\"}],\"tags\":[\"hv_created\"],\"tooltips\":[[\"Class\",\"@{Class}\"],[\"TotalCoinsMined\",\"@{TotalCoinsMined}\"],[\"TotalCoinSupply\",\"@{TotalCoinSupply}\"]]},\"id\":\"2191\",\"type\":\"HoverTool\"},{\"attributes\":{},\"id\":\"2212\",\"type\":\"SaveTool\"},{\"attributes\":{\"angle\":{\"value\":0.0},\"fill_alpha\":{\"value\":1.0},\"fill_color\":{\"value\":\"#30a2da\"},\"hatch_alpha\":{\"value\":1.0},\"hatch_color\":{\"value\":\"#30a2da\"},\"hatch_scale\":{\"value\":12.0},\"hatch_weight\":{\"value\":1.0},\"line_alpha\":{\"value\":1.0},\"line_cap\":{\"value\":\"butt\"},\"line_color\":{\"value\":\"#30a2da\"},\"line_dash\":{\"value\":[]},\"line_dash_offset\":{\"value\":0},\"line_join\":{\"value\":\"bevel\"},\"line_width\":{\"value\":1},\"marker\":{\"value\":\"circle\"},\"size\":{\"value\":5.477225575051661},\"x\":{\"field\":\"TotalCoinsMined\"},\"y\":{\"field\":\"TotalCoinSupply\"}},\"id\":\"2251\",\"type\":\"Scatter\"},{\"attributes\":{},\"id\":\"2213\",\"type\":\"PanTool\"},{\"attributes\":{\"source\":{\"id\":\"2252\"}},\"id\":\"2259\",\"type\":\"CDSView\"},{\"attributes\":{},\"id\":\"2216\",\"type\":\"ResetTool\"},{\"attributes\":{},\"id\":\"2214\",\"type\":\"WheelZoomTool\"},{\"attributes\":{\"fill_alpha\":{\"value\":0.2},\"fill_color\":{\"value\":\"#fc4f30\"},\"hatch_alpha\":{\"value\":0.2},\"hatch_color\":{\"value\":\"#fc4f30\"},\"line_alpha\":{\"value\":0.2},\"line_color\":{\"value\":\"#fc4f30\"},\"size\":{\"value\":5.477225575051661},\"x\":{\"field\":\"TotalCoinsMined\"},\"y\":{\"field\":\"TotalCoinSupply\"}},\"id\":\"2257\",\"type\":\"Scatter\"},{\"attributes\":{\"overlay\":{\"id\":\"2217\"}},\"id\":\"2215\",\"type\":\"BoxZoomTool\"},{\"attributes\":{\"fill_color\":{\"value\":\"#fc4f30\"},\"hatch_color\":{\"value\":\"#fc4f30\"},\"line_color\":{\"value\":\"#fc4f30\"},\"size\":{\"value\":5.477225575051661},\"x\":{\"field\":\"TotalCoinsMined\"},\"y\":{\"field\":\"TotalCoinSupply\"}},\"id\":\"2255\",\"type\":\"Scatter\"},{\"attributes\":{},\"id\":\"2299\",\"type\":\"Selection\"},{\"attributes\":{\"tools\":[{\"id\":\"2191\"},{\"id\":\"2212\"},{\"id\":\"2213\"},{\"id\":\"2214\"},{\"id\":\"2215\"},{\"id\":\"2216\"}]},\"id\":\"2218\",\"type\":\"Toolbar\"},{\"attributes\":{\"fill_alpha\":{\"value\":0.1},\"fill_color\":{\"value\":\"#30a2da\"},\"hatch_alpha\":{\"value\":0.1},\"hatch_color\":{\"value\":\"#30a2da\"},\"line_alpha\":{\"value\":0.1},\"line_color\":{\"value\":\"#30a2da\"},\"size\":{\"value\":5.477225575051661},\"x\":{\"field\":\"TotalCoinsMined\"},\"y\":{\"field\":\"TotalCoinSupply\"}},\"id\":\"2235\",\"type\":\"Scatter\"},{\"attributes\":{\"fill_alpha\":{\"value\":0.2},\"fill_color\":{\"value\":\"#6d904f\"},\"hatch_alpha\":{\"value\":0.2},\"hatch_color\":{\"value\":\"#6d904f\"},\"line_alpha\":{\"value\":0.2},\"line_color\":{\"value\":\"#6d904f\"},\"size\":{\"value\":5.477225575051661},\"x\":{\"field\":\"TotalCoinsMined\"},\"y\":{\"field\":\"TotalCoinSupply\"}},\"id\":\"2303\",\"type\":\"Scatter\"},{\"attributes\":{\"coordinates\":null,\"data_source\":{\"id\":\"2274\"},\"glyph\":{\"id\":\"2277\"},\"group\":null,\"hover_glyph\":null,\"muted_glyph\":{\"id\":\"2279\"},\"nonselection_glyph\":{\"id\":\"2278\"},\"selection_glyph\":{\"id\":\"2297\"},\"view\":{\"id\":\"2281\"}},\"id\":\"2280\",\"type\":\"GlyphRenderer\"},{\"attributes\":{\"bottom_units\":\"screen\",\"coordinates\":null,\"fill_alpha\":0.5,\"fill_color\":\"lightgrey\",\"group\":null,\"left_units\":\"screen\",\"level\":\"overlay\",\"line_alpha\":1.0,\"line_color\":\"black\",\"line_dash\":[4,4],\"line_width\":2,\"right_units\":\"screen\",\"syncable\":false,\"top_units\":\"screen\"},\"id\":\"2217\",\"type\":\"BoxAnnotation\"},{\"attributes\":{\"data\":{\"Class\":[2,2,2,2,2,2,2,2,2,2,2,2,2,2,2,2,2,2,2,2,2,2,2,2,2,2,2,2,2,2,2,2,2,2,2,2,2,2,2,2,2,2,2,2,2,2,2,2,2,2,2,2,2,2,2,2,2,2,2,2,2,2,2,2,2,2,2,2,2,2,2,2,2,2,2,2,2,2,2,2,2,2,2,2,2,2,2,2,2,2,2,2,2,2,2,2,2,2,2,2,2,2,2,2,2,2,2,2,2,2,2,2,2,2,2,2,2,2,2,2,2,2,2,2,2,2,2,2,2,2,2,2,2,2,2,2,2,2,2,2,2,2,2,2,2,2,2,2,2,2,2,2,2,2,2,2,2,2,2,2,2,2,2,2,2,2,2,2,2,2,2,2,2,2,2,2,2,2,2,2,2,2,2,2,2,2,2,2,2,2,2,2,2,2,2,2,2,2,2,2,2,2,2,2,2,2,2,2,2,2,2,2,2,2,2,2,2,2,2,2,2,2,2,2,2,2,2,2,2,2,2,2,2,2,2,2,2,2,2,2,2,2,2,2,2,2,2,2,2,2,2,2,2,2,2,2,2,2,2,2,2,2,2,2,2,2,2,2,2,2,2,2,2,2,2,2,2,2,2,2,2,2,2,2,2,2,2,2,2,2,2,2,2,2,2,2,2,2,2,2,2,2,2,2,2,2,2,2,2,2,2,2,2],\"TotalCoinSupply\":{\"__ndarray__\":\"MQkZQt1K7z0AAAAAAAAAADEJGULdSg8+AAAAAAAAAAC/pU9Jyo4jPjEJGULdSu89+nKMEhyPjj4xCRlC3UrvPXh2/wFlze09D1ZHAdASsz2TK5kBhNcHPpMrmQGE1/c9jpSP6XZIVz5qrysvWXbRPpjGng58oB8+jpSP6XZIJz4Lqj8hX6ASPgvJil3wACc+MQkZQt1KDz5f8DO9d/EBPjEJGULdSu89UadgsXeM9D0xCRlC3UrvPfIHUCGDlOM9BlHMgXTS6j3UcE3WNxeIPggqolGtXbg9+nKMEhyPjj5YJRFVJKWDPjEJGULdSu89EH/fsY7wCz4lKn/1m+srPpMrmQGE1/c9Dyx45pwwsj4RahTS7AW/PcNVH14fvuA9MQkZQt1KLz7k0lcgv4lQPqmHv2G4Ewo+J+PNCuPpCj4xCRlC3Ur/PfPT6irkerA+MQkZQt1K7z1JOqgBILgoPnh2/wFlze09nTAUgd8XsD0RRQxCb4wOPjEJGULdSv89C6o/IV+gIj54dv8BZc3dPQuqPyFfoAI+RZv2eu/ThT4xCRlC3UrvPV2iGsa0Yi8+ruAyAaPh4T0xCRlC3UrvPY6Uj+l2SCc+D1ZHAdASAz4Lqj8hX6ACPjEJGULdSu89ytNieeSsRD6XjywhaYMBPjEJGULdSv89MQkZQt1Kvz14dv8BZc0NPpMrmQGE14c9AAAAAAAAAABSFybh5iLxPQAAAAAAAAAAMQkZQt1KDz5JOqgBILgoPqOyH9GIwwA+jgnVoffGwD6xefOjlBp9PvIHUCGDlBM+kyuZAYTXpz2/pU9Jyo5TPmTgExzn/R4+UKYZAgVUvz14dv8BZc0dPo6Uj+l2SEc+v6VPScqOIz6OlI/pdkhHPgAAAAAAAAAAAAAAAAAAAADY3FiFQBjEPbF586OUGn0+AAAAAAAAAAAmnW+ZoGtVPjEJGULdSg8+8PSlIUCW+D2j8frB/ImdPTEJGULdSu89xjLfdxW8sD7w9KUhQJb4PfD0pSFAlvg9w5ukNCOCCD72s1cB9AYEPjEJGULdSu898gdQIYOUIz6OlI/pdkgnPoFZsFZHMek9AAAAAAAAAACTK5kBhNfnPTEJGULdSu89MhHcoLoCiD6/pU9Jyo4jPs0BDNeDiA4+MQkZQt1KDz67vdfZ33zrPfYWrMlqeI8+2ph/wQta5j0fh8HGhTFaPrF586OUGm0+MQkZQt1KDz76cowSHI+OPtqYf8ELWvY9rSialp1bHz62i9YBC2vrPa7gMgGj4fE9MQkZQt1K/z14dv8BZc3tPQuqPyFfoPI91Fjvmf/cvD3edvgBAGWdPQuqPyFfoPI9C6o/IV+gIj54dv8BZc3dPcz18YH6A909EH/fsY7wSz4Lqj8hX6AiPv0bIJZgtN892ph/wQta9j3KtBc9U0wQPnh2/wFlzd094kMjwnPj7z2OlI/pdkhXPuXGkvEleBc+NRTPVk+G8z0Lqj8hX6ASPjEJGULdSu89sXnzo5QafT4xCRlC3UrvPY6Uj+l2SDc+z2pskfE7JT4xCRlC3UrvPbimFfmrLcA9C6o/IV+g8j11dv/PZM3dPci1QaHjvhI+Dyx45pwwsj54dv8BZc3tPX2wJ2W+OiE+Jp1vmaBrFT72s1cB9AbEPY6Uj+l2SEc+TL6yQfxU6T0Lqj8hX6ASPjEJGULdSu89cIm7u88uNT6/pU9Jyo4jPnvRyOlFnro9jpSP6XZIZz4gfTRZq/kBPjEJGULdSu89Hi/Gifp2+j2TK5kBhNenPbF586OUGl0+BlHMgXTSCj6/pU9Jyo4TPgAAAAAAAAAAaeGPwPawLz7amH/BC1r2PY6Uj+l2SFc+C6o/IV+gEj7h9+wBhLnsPRB/37GO8As+2ph/wQtaBj4TVeMhxynsPcQ8WWHXHQQ+MQkZQt1K7z0PLHjmnDDCPrF586OUGm0+z4m3zYKcST4xCRlC3UrvPXuTk7MRhEc++nKMEhyPfj4AAAAAAAAAAI6Uj+l2SEc+eHb/AWXN7T0xCRlC3UoPPguqPyFfoBI+C6o/IV+gEj5fJRxwjY4QPvpyjBIcj44+TJ9nBWv0VD7EPFlh1x30PTEJGULdSu89H6irLUkdHT4Lqj8hX6ASPsq0Fz1TTDA+o7If0YjDAD4Qf9+xjvArPqmHv2G4Eyo+lPdP/Y6TEz7nnJZhXrH3PSxyDyrQuz4+TLEy7j3srj4Lqj8hX6DiPbF586OUGn0+z4m3zYKcOT4xCRlC3UrvPYRfv8RfRUc+sXnao5QabT509Dic816wPiBZ+sEZge09MQkZQt1K7z2OlI/pdkg3PpMrmQGE1wc+Uhcm4eYi8T05tQPytwzuPVIXJuHmIvE9hAZLSdhJsz0SNxYgxLzmPpyDqMFlvOg9MQkZQt1KLz4xCRlC3UrvPUy+skH8VOk9sXnzo5QafT4Lqj8hX6ASPs+Jt82CnEk+eHb/AWXN/T0QsQtmIsmKPvpyjBIcj44+5caS8SV49z0xCRlC3UrvPY6Uj+l2SDc+s6jEneDqcj71TRnBKmTwPY6Uj+l2SEc+C6o/IV+gEj4xCRlC3UrvPQuqPyFfoPI9UKYZAgVUDz6ph79huBMKPvcjHTFjnfA9EH/fsY7wKz4Lqj8hX6ASPraL1gELa+s9MQkZQt1K7z3yB1Ahg5TzPQZRzIF00uo9MQkZQt1K3z0sf49GkPA7PhB/37GO8Bs+xjLfdxW8wD4xCRlC3UofPo6Uj+l2SEc+wEUaC5ty8D0xCRlC3UrvPTEJGULdSu89hqaajD548D38oV0MaF9UPojoGYQsbRA+v6VPScqOIz6T7vXiBsfAPsq0Fz1TTCA+Lo+j23xyWD4Lqj8hX6DyPQuqPyFfoBI+7Zl793Aedj6ApXYRiNT1PQ8seOacMLI+MQkZQt1KDz4TfV12QV3kPTEJGULdSu89C6o/IV+gEj57k5OzEYR3Pgf+N0HuLdI9MQkZQt1K/z3yB9Alg5QTPv2WQgEDzPI9pgcZNsZK7z2/pU9Jyo4TPjEJGULdSu892ph/wQtaFj7vCaTpo3koPg3tinkJA/c9C6o/IV+gEj4Lqj8hX6ASPr+lT0nKjhM+kyuZAYTXBz70oK0BsQi5PTEJGULdSh8+DNPX0R1+6z2nPZoiI9ixPo6Uj+l2SGc+/KFdDGhfdD62i9YBC2vrPY6Uj+l2SEc+MQkZQt1K/z27vdfZ33zrPQ8seOacMKI+v6VPScqOEz54dv8BZc3NPfvkItk38yA+X6BjO9C4RD5Nax4BdrDAPS6Po9t8clg+5h05ZbQ+8j2OlI/pdkhHPizAmxP9TFA+MQkZQt1K7z0=\",\"dtype\":\"float64\",\"order\":\"little\",\"shape\":[313]},\"TotalCoinsMined\":{\"__ndarray__\":\"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\",\"dtype\":\"float64\",\"order\":\"little\",\"shape\":[313]}},\"selected\":{\"id\":\"2275\"},\"selection_policy\":{\"id\":\"2293\"}},\"id\":\"2274\",\"type\":\"ColumnDataSource\"},{\"attributes\":{\"data\":{\"Class\":[0,0,0,0,0,0,0,0,0,0,0,0,0,0,0,0,0,0,0,0,0,0,0,0,0,0,0,0,0,0,0,0,0,0,0,0,0,0,0,0,0,0,0,0,0,0,0,0,0,0,0,0,0,0,0,0,0,0,0,0,0,0,0,0,0,0,0,0,0,0,0,0,0,0,0,0,0,0,0,0,0,0,0,0,0,0,0,0,0,0,0,0,0,0,0,0,0,0,0,0,0,0,0,0,0,0,0,0,0,0,0,0,0,0,0,0,0,0,0,0,0,0,0,0,0,0,0,0,0,0,0,0,0,0,0,0,0,0,0,0,0,0,0,0,0,0,0,0,0,0,0,0,0,0,0,0,0,0,0,0,0,0,0,0,0,0,0,0,0,0,0,0,0,0,0,0,0,0,0,0,0,0,0,0,0,0,0,0,0,0,0,0,0,0,0,0,0,0,0,0,0,0,0,0,0,0,0,0,0,0,0,0,0,0,0,0,0,0,0,0,0,0,0,0,0,0,0,0,0,0,0,0,0,0,0,0,0,0,0,0,0,0,0,0,0,0,0,0,0,0,0,0,0,0,0,0,0,0,0,0,0,0,0,0,0,0,0,0,0,0,0,0,0,0,0,0,0,0,0,0,0,0,0,0,0,0,0,0,0,0,0,0,0,0,0,0,0,0,0,0,0,0,0,0,0,0,0,0,0,0,0,0,0,0,0,0,0,0,0,0,0,0,0,0,0,0,0,0,0,0,0,0,0,0,0,0,0,0,0,0,0,0,0,0,0,0,0,0,0,0,0,0,0,0,0,0,0,0,0,0,0,0,0,0,0,0,0,0],\"TotalCoinSupply\":{\"__ndarray__\":\"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\",\"dtype\":\"float64\",\"order\":\"little\",\"shape\":[368]},\"TotalCoinsMined\":{\"__ndarray__\":\"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\",\"dtype\":\"float64\",\"order\":\"little\",\"shape\":[368]}},\"selected\":{\"id\":\"2232\"},\"selection_policy\":{\"id\":\"2246\"}},\"id\":\"2231\",\"type\":\"ColumnDataSource\"},{\"attributes\":{},\"id\":\"2275\",\"type\":\"Selection\"},{\"attributes\":{},\"id\":\"2227\",\"type\":\"AllLabels\"},{\"attributes\":{},\"id\":\"2226\",\"type\":\"BasicTickFormatter\"}],\"root_ids\":[\"2187\"]},\"title\":\"Bokeh Application\",\"version\":\"2.4.3\"}};\n",
       "    var render_items = [{\"docid\":\"a144e693-2b08-474f-8d95-ce3733aa943c\",\"root_ids\":[\"2187\"],\"roots\":{\"2187\":\"d7e6f954-3fa8-4f48-92f5-399b83dbfda2\"}}];\n",
       "    root.Bokeh.embed.embed_items_notebook(docs_json, render_items);\n",
       "  }\n",
       "  if (root.Bokeh !== undefined && root.Bokeh.Panel !== undefined) {\n",
       "    embed_document(root);\n",
       "  } else {\n",
       "    var attempts = 0;\n",
       "    var timer = setInterval(function(root) {\n",
       "      if (root.Bokeh !== undefined && root.Bokeh.Panel !== undefined) {\n",
       "        clearInterval(timer);\n",
       "        embed_document(root);\n",
       "      } else if (document.readyState == \"complete\") {\n",
       "        attempts++;\n",
       "        if (attempts > 200) {\n",
       "          clearInterval(timer);\n",
       "          console.log(\"Bokeh: ERROR: Unable to run BokehJS code because BokehJS library is missing\");\n",
       "        }\n",
       "      }\n",
       "    }, 25, root)\n",
       "  }\n",
       "})(window);</script>"
      ],
      "text/plain": [
       ":NdOverlay   [Class]\n",
       "   :Scatter   [TotalCoinsMined]   (TotalCoinSupply)"
      ]
     },
     "execution_count": 108,
     "metadata": {
      "application/vnd.holoviews_exec.v0+json": {
       "id": "2187"
      }
     },
     "output_type": "execute_result"
    }
   ],
   "source": [
    "# Create a hvplot.scatter plot using x=\"TotalCoinsMined\" and y=\"TotalCoinSupply\".\n",
    "plot_df.hvplot.scatter(x='TotalCoinsMined', y='TotalCoinSupply', hover=['CoinName'], by='Class')"
   ]
  },
  {
   "cell_type": "code",
   "execution_count": null,
   "metadata": {},
   "outputs": [],
   "source": []
  }
 ],
 "metadata": {
  "file_extension": ".py",
  "kernelspec": {
   "display_name": "PythonData",
   "language": "python",
   "name": "pythondata"
  },
  "language_info": {
   "codemirror_mode": {
    "name": "ipython",
    "version": 3
   },
   "file_extension": ".py",
   "mimetype": "text/x-python",
   "name": "python",
   "nbconvert_exporter": "python",
   "pygments_lexer": "ipython3",
   "version": "3.7.11"
  },
  "latex_envs": {
   "LaTeX_envs_menu_present": true,
   "autoclose": false,
   "autocomplete": true,
   "bibliofile": "biblio.bib",
   "cite_by": "apalike",
   "current_citInitial": 1,
   "eqLabelWithNumbers": true,
   "eqNumInitial": 1,
   "hotkeys": {
    "equation": "Ctrl-E",
    "itemize": "Ctrl-I"
   },
   "labels_anchors": false,
   "latex_user_defs": false,
   "report_style_numbering": false,
   "user_envs_cfg": false
  },
  "mimetype": "text/x-python",
  "name": "python",
  "npconvert_exporter": "python",
  "pygments_lexer": "ipython3",
  "version": 3
 },
 "nbformat": 4,
 "nbformat_minor": 2
}
